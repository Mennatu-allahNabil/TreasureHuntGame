{
 "cells": [
  {
   "cell_type": "markdown",
   "metadata": {},
   "source": [
    "# **PPO Hyperparameters Tuning**"
   ]
  },
  {
   "cell_type": "markdown",
   "metadata": {},
   "source": [
    "# Import Libraries"
   ]
  },
  {
   "cell_type": "code",
   "execution_count": null,
   "metadata": {},
   "outputs": [
    {
     "data": {
      "text/html": [
       "        <script type=\"text/javascript\">\n",
       "        window.PlotlyConfig = {MathJaxConfig: 'local'};\n",
       "        if (window.MathJax && window.MathJax.Hub && window.MathJax.Hub.Config) {window.MathJax.Hub.Config({SVG: {font: \"STIX-Web\"}});}\n",
       "        if (typeof require !== 'undefined') {\n",
       "        require.undef(\"plotly\");\n",
       "        requirejs.config({\n",
       "            paths: {\n",
       "                'plotly': ['https://cdn.plot.ly/plotly-2.35.2.min']\n",
       "            }\n",
       "        });\n",
       "        require(['plotly'], function(Plotly) {\n",
       "            window._Plotly = Plotly;\n",
       "        });\n",
       "        }\n",
       "        </script>\n",
       "        "
      ]
     },
     "metadata": {},
     "output_type": "display_data"
    }
   ],
   "source": [
    "import gym\n",
    "import time\n",
    "import torch\n",
    "from torch import nn\n",
    "import numpy as np\n",
    "import pandas as pd\n",
    "import cufflinks as cf\n",
    "import plotly.express as px\n",
    "import matplotlib.pyplot as plt\n",
    "import plotly.graph_objects as go\n",
    "from stable_baselines3.common.logger import configure\n",
    "from stable_baselines3.common.vec_env import DummyVecEnv\n",
    "from stable_baselines3.common.env_util import make_vec_env\n",
    "from stable_baselines3 import PPO\n",
    "from stable_baselines3.common.callbacks import BaseCallback\n",
    "from stable_baselines3.common.policies import ActorCriticPolicy\n",
    "from stable_baselines3.common.evaluation import evaluate_policy\n",
    "from stable_baselines3.common.torch_layers import BaseFeaturesExtractor\n",
    "from plotly.offline import download_plotlyjs, init_notebook_mode, plot, iplot"
   ]
  },
  {
   "cell_type": "code",
   "execution_count": 12,
   "metadata": {},
   "outputs": [
    {
     "data": {
      "text/html": [
       "        <script type=\"text/javascript\">\n",
       "        window.PlotlyConfig = {MathJaxConfig: 'local'};\n",
       "        if (window.MathJax && window.MathJax.Hub && window.MathJax.Hub.Config) {window.MathJax.Hub.Config({SVG: {font: \"STIX-Web\"}});}\n",
       "        if (typeof require !== 'undefined') {\n",
       "        require.undef(\"plotly\");\n",
       "        requirejs.config({\n",
       "            paths: {\n",
       "                'plotly': ['https://cdn.plot.ly/plotly-2.35.2.min']\n",
       "            }\n",
       "        });\n",
       "        require(['plotly'], function(Plotly) {\n",
       "            window._Plotly = Plotly;\n",
       "        });\n",
       "        }\n",
       "        </script>\n",
       "        "
      ]
     },
     "metadata": {},
     "output_type": "display_data"
    },
    {
     "data": {
      "text/html": [
       "        <script type=\"text/javascript\">\n",
       "        window.PlotlyConfig = {MathJaxConfig: 'local'};\n",
       "        if (window.MathJax && window.MathJax.Hub && window.MathJax.Hub.Config) {window.MathJax.Hub.Config({SVG: {font: \"STIX-Web\"}});}\n",
       "        if (typeof require !== 'undefined') {\n",
       "        require.undef(\"plotly\");\n",
       "        requirejs.config({\n",
       "            paths: {\n",
       "                'plotly': ['https://cdn.plot.ly/plotly-2.35.2.min']\n",
       "            }\n",
       "        });\n",
       "        require(['plotly'], function(Plotly) {\n",
       "            window._Plotly = Plotly;\n",
       "        });\n",
       "        }\n",
       "        </script>\n",
       "        "
      ]
     },
     "metadata": {},
     "output_type": "display_data"
    }
   ],
   "source": [
    "# For Notebooks\n",
    "init_notebook_mode(connected=True)\n",
    "# For offline use\n",
    "cf.go_offline()"
   ]
  },
  {
   "cell_type": "code",
   "execution_count": 7,
   "metadata": {},
   "outputs": [],
   "source": [
    "# Environment\n",
    "from treasure_env import *"
   ]
  },
  {
   "cell_type": "markdown",
   "metadata": {},
   "source": [
    "# PPO Training 1"
   ]
  },
  {
   "cell_type": "code",
   "execution_count": 8,
   "metadata": {},
   "outputs": [],
   "source": [
    "env = TreasureHuntEnv(size=9, max_steps=500, lives=3)"
   ]
  },
  {
   "cell_type": "code",
   "execution_count": 9,
   "metadata": {},
   "outputs": [
    {
     "name": "stdout",
     "output_type": "stream",
     "text": [
      "Using cpu device\n",
      "Wrapping the env with a `Monitor` wrapper\n",
      "Wrapping the env in a DummyVecEnv.\n"
     ]
    },
    {
     "name": "stderr",
     "output_type": "stream",
     "text": [
      "d:\\anaconda\\Lib\\site-packages\\stable_baselines3\\common\\vec_env\\patch_gym.py:49: UserWarning:\n",
      "\n",
      "You provided an OpenAI Gym environment. We strongly recommend transitioning to Gymnasium environments. Stable-Baselines3 is automatically wrapping your environments in a compatibility layer, which could potentially cause issues.\n",
      "\n"
     ]
    },
    {
     "name": "stdout",
     "output_type": "stream",
     "text": [
      "Training is done\n"
     ]
    }
   ],
   "source": [
    "logger = configure(\"../Tensorboard logs/ppo_logs/PPO Tuning 1\", [\"csv\", \"tensorboard\"])\n",
    "model = PPO(\n",
    "    \"MultiInputPolicy\",\n",
    "    env,\n",
    "    verbose=2,\n",
    "    tensorboard_log='../Tensorboard logs/ppo_logs/',\n",
    "    learning_rate=0.001,\n",
    "    gamma=0.95,\n",
    "    n_steps=2048,\n",
    "    batch_size=16,\n",
    "    n_epochs=15,\n",
    "    clip_range=0.5,\n",
    "    ent_coef=0.03,\n",
    "    vf_coef=0.5,\n",
    "    normalize_advantage=True,\n",
    "    max_grad_norm=0.5,\n",
    "    seed=420,    \n",
    ")\n",
    "model.set_logger(logger)\n",
    "model.learn(total_timesteps=100000)\n",
    "print(\"Training is done\")"
   ]
  },
  {
   "cell_type": "markdown",
   "metadata": {},
   "source": [
    "# PPO Training 2"
   ]
  },
  {
   "cell_type": "code",
   "execution_count": 10,
   "metadata": {},
   "outputs": [
    {
     "name": "stdout",
     "output_type": "stream",
     "text": [
      "Using cpu device\n",
      "Wrapping the env with a `Monitor` wrapper\n",
      "Wrapping the env in a DummyVecEnv.\n"
     ]
    },
    {
     "name": "stderr",
     "output_type": "stream",
     "text": [
      "d:\\anaconda\\Lib\\site-packages\\stable_baselines3\\common\\vec_env\\patch_gym.py:49: UserWarning:\n",
      "\n",
      "You provided an OpenAI Gym environment. We strongly recommend transitioning to Gymnasium environments. Stable-Baselines3 is automatically wrapping your environments in a compatibility layer, which could potentially cause issues.\n",
      "\n"
     ]
    },
    {
     "name": "stdout",
     "output_type": "stream",
     "text": [
      "Model 2 Training is done\n"
     ]
    }
   ],
   "source": [
    "logger = configure(\"../Tensorboard logs/ppo_logs/PPO Tuning 2\", [\"csv\", \"tensorboard\"])\n",
    "model_2 = PPO(\n",
    "    \"MultiInputPolicy\", \n",
    "    env,\n",
    "    verbose=2,\n",
    "    tensorboard_log='../Tensorboard logs/ppo_logs/',\n",
    "    learning_rate=0.0005,      \n",
    "    gamma=0.98,                \n",
    "    n_steps=1024,              \n",
    "    batch_size=32,             \n",
    "    n_epochs=10,               \n",
    "    clip_range=0.3,            \n",
    "    ent_coef=0.02,             \n",
    "    vf_coef=0.8,               \n",
    "    normalize_advantage=True,\n",
    "    max_grad_norm=0.5,\n",
    "    seed=420,\n",
    ")\n",
    "model_2.set_logger(logger)\n",
    "model_2.learn(total_timesteps=100000)\n",
    "print(\"Model 2 Training is done\")"
   ]
  },
  {
   "cell_type": "markdown",
   "metadata": {},
   "source": [
    "# PPO Training 3"
   ]
  },
  {
   "cell_type": "code",
   "execution_count": 11,
   "metadata": {},
   "outputs": [
    {
     "name": "stdout",
     "output_type": "stream",
     "text": [
      "Using cpu device\n",
      "Wrapping the env with a `Monitor` wrapper\n",
      "Wrapping the env in a DummyVecEnv.\n",
      "Model 3 Training is done\n"
     ]
    }
   ],
   "source": [
    "logger = configure(\"../Tensorboard logs/ppo_logs/PPO Tuning 3\", [\"csv\", \"tensorboard\"])\n",
    "model_3 = PPO(\n",
    "    \"MultiInputPolicy\", \n",
    "    env,\n",
    "    verbose=2,\n",
    "    tensorboard_log='../Tensorboard logs/ppo_logs/',\n",
    "    learning_rate=0.0001,      \n",
    "    gamma=0.99,                \n",
    "    n_steps=512,             \n",
    "    batch_size=64,                 \n",
    "    n_epochs=20,               \n",
    "    clip_range=0.2,            \n",
    "    ent_coef=0.01,             \n",
    "    vf_coef=1.0,               \n",
    "    normalize_advantage=True,\n",
    "    max_grad_norm=0.5,\n",
    "    seed=420,\n",
    ")\n",
    "model_3.set_logger(logger)\n",
    "model_3.learn(total_timesteps=100000)\n",
    "print(\"Model 3 Training is done\")"
   ]
  },
  {
   "cell_type": "markdown",
   "metadata": {},
   "source": [
    "# Results"
   ]
  },
  {
   "cell_type": "code",
   "execution_count": 13,
   "metadata": {},
   "outputs": [],
   "source": [
    "df_1 = pd.read_csv(\"../Tensorboard logs/ppo_logs/PPO Tuning 1/progress.csv\")\n",
    "df_2 = pd.read_csv(\"../Tensorboard logs/ppo_logs/PPO Tuning 2/progress.csv\")\n",
    "df_3 = pd.read_csv(\"../Tensorboard logs/ppo_logs/PPO Tuning 3/progress.csv\")"
   ]
  },
  {
   "cell_type": "code",
   "execution_count": 15,
   "metadata": {},
   "outputs": [
    {
     "data": {
      "application/vnd.plotly.v1+json": {
       "config": {
        "plotlyServerURL": "https://plot.ly"
       },
       "data": [
        {
         "line": {
          "color": "blue"
         },
         "mode": "lines",
         "name": "Model 1",
         "type": "scatter",
         "x": [
          1,
          2,
          3,
          4,
          5,
          6,
          7,
          8,
          9,
          10,
          11,
          12,
          13,
          14,
          15,
          16,
          17,
          18,
          19,
          20,
          21,
          22,
          23,
          24,
          25,
          26,
          27,
          28,
          29,
          30,
          31,
          32,
          33,
          34,
          35,
          36,
          37,
          38,
          39,
          40,
          41,
          42,
          43,
          44,
          45,
          46,
          47,
          48,
          49
         ],
         "y": [
          -565.6,
          -613,
          -532.5925925925926,
          -527.7878787878788,
          -473.6341463414634,
          -435.8723404255319,
          -384.7321428571428,
          -342.46774193548384,
          -350.0151515151515,
          -309.83561643835617,
          -269.8395061728395,
          -269.2613636363636,
          -252.86021505376343,
          -238.44897959183675,
          -194.84,
          -167.98,
          -108.99,
          -88.15,
          -39.38,
          -30.02,
          -18.24,
          -0.09,
          18.54,
          14.93,
          29.38,
          36.34,
          42.48,
          39.67,
          44.65,
          59.6,
          64.6,
          43.09,
          46.04,
          43.27,
          39.08,
          51.25,
          52.83,
          46.32,
          40.85,
          45.87,
          63.48,
          76.34,
          72,
          77.5,
          64.81,
          68.41,
          74.2,
          82.69,
          85.3
         ]
        },
        {
         "line": {
          "color": "green"
         },
         "mode": "lines",
         "name": "Model 2",
         "type": "scatter",
         "x": [
          1,
          2,
          3,
          4,
          5,
          6,
          7,
          8,
          9,
          10,
          11,
          12,
          13,
          14,
          15,
          16,
          17,
          18,
          19,
          20,
          21,
          22,
          23,
          24,
          25,
          26,
          27,
          28,
          29,
          30,
          31,
          32,
          33,
          34,
          35,
          36,
          37,
          38,
          39,
          40,
          41,
          42,
          43,
          44,
          45,
          46,
          47,
          48,
          49,
          50,
          51,
          52,
          53,
          54,
          55,
          56,
          57,
          58,
          59,
          60,
          61,
          62,
          63,
          64,
          65,
          66,
          67,
          68,
          69,
          70,
          71,
          72,
          73,
          74,
          75,
          76,
          77,
          78,
          79,
          80,
          81,
          82,
          83,
          84,
          85,
          86,
          87,
          88,
          89,
          90,
          91,
          92,
          93,
          94,
          95,
          96,
          97,
          98
         ],
         "y": [
          -1090.5,
          -600,
          -572.1818181818181,
          -531.3529411764706,
          -472.5,
          -447,
          -422.03225806451616,
          -363.7435897435897,
          -333.3181818181818,
          -321.75,
          -298.0357142857143,
          -316.6065573770492,
          -324.4153846153846,
          -318.42857142857144,
          -310.88,
          -321.56410256410254,
          -302.2613636363636,
          -305.8888888888889,
          -305.7578947368421,
          -324.3367346938776,
          -309.61,
          -317.86,
          -295.37,
          -270.06,
          -248.5,
          -245.7,
          -245.81,
          -245.55,
          -263.33,
          -270.02,
          -275.95,
          -288.28,
          -286.14,
          -271.45,
          -262.14,
          -258.67,
          -245.5,
          -221.75,
          -225.86,
          -237.16,
          -215.72,
          -219.32,
          -178.24,
          -168.77,
          -172.18,
          -173.8,
          -164.03,
          -149.36,
          -153.18,
          -122.75,
          -96.61,
          -84.51,
          -76.9,
          -68.99,
          -72.89,
          -68.14,
          -72.41,
          -41.31,
          -32.29,
          -45.47,
          -20.25,
          -9.96,
          -6.85,
          -14.55,
          -24.88,
          -18.49,
          -13.27,
          -5.46,
          -2.63,
          0.02,
          9.21,
          -1.73,
          4.21,
          10.11,
          14.25,
          16.91,
          15.78,
          16.49,
          10.7,
          22.72,
          18.35,
          19.38,
          31.01,
          35.29,
          45.55,
          49.25,
          52.06,
          49.49,
          48.55,
          39.35,
          34.67,
          35.25,
          32.49,
          38.08,
          45.5,
          48.7,
          52.55,
          59.4
         ]
        },
        {
         "line": {
          "color": "red"
         },
         "mode": "lines",
         "name": "Model 3",
         "type": "scatter",
         "x": [
          1,
          2,
          3,
          4,
          5,
          6,
          7,
          8,
          9,
          10,
          11,
          12,
          13,
          14,
          15,
          16,
          17,
          18,
          19,
          20,
          21,
          22,
          23,
          24,
          25,
          26,
          27,
          28,
          29,
          30,
          31,
          32,
          33,
          34,
          35,
          36,
          37,
          38,
          39,
          40,
          41,
          42,
          43,
          44,
          45,
          46,
          47,
          48,
          49,
          50,
          51,
          52,
          53,
          54,
          55,
          56,
          57,
          58,
          59,
          60,
          61,
          62,
          63,
          64,
          65,
          66,
          67,
          68,
          69,
          70,
          71,
          72,
          73,
          74,
          75,
          76,
          77,
          78,
          79,
          80,
          81,
          82,
          83,
          84,
          85,
          86,
          87,
          88,
          89,
          90,
          91,
          92,
          93,
          94,
          95,
          96,
          97,
          98,
          99,
          100,
          101,
          102,
          103,
          104,
          105,
          106,
          107,
          108,
          109,
          110,
          111,
          112,
          113,
          114,
          115,
          116,
          117,
          118,
          119,
          120,
          121,
          122,
          123,
          124,
          125,
          126,
          127,
          128,
          129,
          130,
          131,
          132,
          133,
          134,
          135,
          136,
          137,
          138,
          139,
          140,
          141,
          142,
          143,
          144,
          145,
          146,
          147,
          148,
          149,
          150,
          151,
          152,
          153,
          154,
          155,
          156,
          157,
          158,
          159,
          160,
          161,
          162,
          163,
          164,
          165,
          166,
          167,
          168,
          169,
          170,
          171,
          172,
          173,
          174,
          175,
          176,
          177,
          178,
          179,
          180,
          181,
          182,
          183,
          184,
          185,
          186,
          187,
          188,
          189,
          190,
          191,
          192,
          193,
          194,
          195,
          196
         ],
         "y": [
          -1145,
          -781.5,
          -538.6,
          -328.3333333333333,
          -356.8,
          -388.7272727272728,
          -458.2307692307692,
          -483.4285714285714,
          -473.625,
          -405.5,
          -422.8571428571428,
          -425.375,
          -411.4230769230769,
          -404.8148148148149,
          -388.9,
          -372.030303030303,
          -372.6,
          -371.2972972972973,
          -381.7105263157895,
          -375.2,
          -375.2380952380952,
          -356.8478260869565,
          -331.74,
          -349.15686274509807,
          -340.07142857142856,
          -323.4833333333333,
          -302.015625,
          -307.2575757575757,
          -305.88235294117646,
          -301.9714285714286,
          -300.3150684931507,
          -302.4736842105263,
          -303.6455696202532,
          -308.28395061728395,
          -294.9418604651163,
          -288.5681818181818,
          -296.87640449438203,
          -301.4891304347826,
          -291.7708333333333,
          -291.1546391752577,
          -293.4,
          -270.01,
          -267.64,
          -266.22,
          -251.75,
          -235.95,
          -239.17,
          -228.4,
          -226.67,
          -216.98,
          -221.42,
          -218.97,
          -225.41,
          -218.46,
          -218.99,
          -211.94,
          -213.97,
          -212.35,
          -213.4,
          -218.86,
          -213.33,
          -224.12,
          -217.25,
          -220.65,
          -221.39,
          -226.8,
          -226.21,
          -219.93,
          -222.04,
          -218.42,
          -215.54,
          -209.28,
          -211.17,
          -210.42,
          -201.62,
          -198.75,
          -195.95,
          -195.62,
          -183.53,
          -182.7,
          -191.67,
          -187.49,
          -193.15,
          -191.19,
          -198.16,
          -190.23,
          -184.71,
          -183.56,
          -174.57,
          -179.21,
          -177.42,
          -187.24,
          -179.07,
          -177.97,
          -165.8,
          -166.24,
          -160.87,
          -161.87,
          -150.84,
          -148.41,
          -155.36,
          -160.52,
          -155.45,
          -161.15,
          -166.88,
          -172.74,
          -169.52,
          -175.68,
          -176.71,
          -168.39,
          -174.03,
          -175.21,
          -176.65,
          -176.78,
          -179.49,
          -178.78,
          -173.88,
          -158.76,
          -159.55,
          -162.93,
          -170.68,
          -169.81,
          -173.99,
          -180.24,
          -184.84,
          -185.68,
          -190.52,
          -195.92,
          -197.31,
          -193.78,
          -189.36,
          -178.45,
          -173.44,
          -172.15,
          -178.36,
          -181.94,
          -177,
          -171.19,
          -168.17,
          -165.52,
          -157.41,
          -157.4,
          -163.01,
          -158.94,
          -135.38,
          -125.64,
          -112.86,
          -111.47,
          -105.6,
          -96.73,
          -95.14,
          -91.94,
          -95.3,
          -96.31,
          -78.85,
          -81.87,
          -68.86,
          -60.93,
          -55.03,
          -47.25,
          -45.02,
          -48.87,
          -45.02,
          -43.03,
          -43.34,
          -39.39,
          -34.88,
          -38.04,
          -33.63,
          -39.7,
          -41.65,
          -38.94,
          -44.43,
          -40.25,
          -38.41,
          -33.03,
          -30.85,
          -44.86,
          -41.19,
          -43.33,
          -44.67,
          -44.26,
          -52.19,
          -58.96,
          -59.96,
          -59.25,
          -57.71,
          -63.51,
          -62.77,
          -59.82,
          -58.39,
          -62.17,
          -65.88,
          -63.14,
          -60.13,
          -59
         ]
        }
       ],
       "layout": {
        "legend": {
         "title": {
          "text": "Model"
         }
        },
        "template": {
         "data": {
          "bar": [
           {
            "error_x": {
             "color": "#2a3f5f"
            },
            "error_y": {
             "color": "#2a3f5f"
            },
            "marker": {
             "line": {
              "color": "#E5ECF6",
              "width": 0.5
             },
             "pattern": {
              "fillmode": "overlay",
              "size": 10,
              "solidity": 0.2
             }
            },
            "type": "bar"
           }
          ],
          "barpolar": [
           {
            "marker": {
             "line": {
              "color": "#E5ECF6",
              "width": 0.5
             },
             "pattern": {
              "fillmode": "overlay",
              "size": 10,
              "solidity": 0.2
             }
            },
            "type": "barpolar"
           }
          ],
          "carpet": [
           {
            "aaxis": {
             "endlinecolor": "#2a3f5f",
             "gridcolor": "white",
             "linecolor": "white",
             "minorgridcolor": "white",
             "startlinecolor": "#2a3f5f"
            },
            "baxis": {
             "endlinecolor": "#2a3f5f",
             "gridcolor": "white",
             "linecolor": "white",
             "minorgridcolor": "white",
             "startlinecolor": "#2a3f5f"
            },
            "type": "carpet"
           }
          ],
          "choropleth": [
           {
            "colorbar": {
             "outlinewidth": 0,
             "ticks": ""
            },
            "type": "choropleth"
           }
          ],
          "contour": [
           {
            "colorbar": {
             "outlinewidth": 0,
             "ticks": ""
            },
            "colorscale": [
             [
              0,
              "#0d0887"
             ],
             [
              0.1111111111111111,
              "#46039f"
             ],
             [
              0.2222222222222222,
              "#7201a8"
             ],
             [
              0.3333333333333333,
              "#9c179e"
             ],
             [
              0.4444444444444444,
              "#bd3786"
             ],
             [
              0.5555555555555556,
              "#d8576b"
             ],
             [
              0.6666666666666666,
              "#ed7953"
             ],
             [
              0.7777777777777778,
              "#fb9f3a"
             ],
             [
              0.8888888888888888,
              "#fdca26"
             ],
             [
              1,
              "#f0f921"
             ]
            ],
            "type": "contour"
           }
          ],
          "contourcarpet": [
           {
            "colorbar": {
             "outlinewidth": 0,
             "ticks": ""
            },
            "type": "contourcarpet"
           }
          ],
          "heatmap": [
           {
            "colorbar": {
             "outlinewidth": 0,
             "ticks": ""
            },
            "colorscale": [
             [
              0,
              "#0d0887"
             ],
             [
              0.1111111111111111,
              "#46039f"
             ],
             [
              0.2222222222222222,
              "#7201a8"
             ],
             [
              0.3333333333333333,
              "#9c179e"
             ],
             [
              0.4444444444444444,
              "#bd3786"
             ],
             [
              0.5555555555555556,
              "#d8576b"
             ],
             [
              0.6666666666666666,
              "#ed7953"
             ],
             [
              0.7777777777777778,
              "#fb9f3a"
             ],
             [
              0.8888888888888888,
              "#fdca26"
             ],
             [
              1,
              "#f0f921"
             ]
            ],
            "type": "heatmap"
           }
          ],
          "heatmapgl": [
           {
            "colorbar": {
             "outlinewidth": 0,
             "ticks": ""
            },
            "colorscale": [
             [
              0,
              "#0d0887"
             ],
             [
              0.1111111111111111,
              "#46039f"
             ],
             [
              0.2222222222222222,
              "#7201a8"
             ],
             [
              0.3333333333333333,
              "#9c179e"
             ],
             [
              0.4444444444444444,
              "#bd3786"
             ],
             [
              0.5555555555555556,
              "#d8576b"
             ],
             [
              0.6666666666666666,
              "#ed7953"
             ],
             [
              0.7777777777777778,
              "#fb9f3a"
             ],
             [
              0.8888888888888888,
              "#fdca26"
             ],
             [
              1,
              "#f0f921"
             ]
            ],
            "type": "heatmapgl"
           }
          ],
          "histogram": [
           {
            "marker": {
             "pattern": {
              "fillmode": "overlay",
              "size": 10,
              "solidity": 0.2
             }
            },
            "type": "histogram"
           }
          ],
          "histogram2d": [
           {
            "colorbar": {
             "outlinewidth": 0,
             "ticks": ""
            },
            "colorscale": [
             [
              0,
              "#0d0887"
             ],
             [
              0.1111111111111111,
              "#46039f"
             ],
             [
              0.2222222222222222,
              "#7201a8"
             ],
             [
              0.3333333333333333,
              "#9c179e"
             ],
             [
              0.4444444444444444,
              "#bd3786"
             ],
             [
              0.5555555555555556,
              "#d8576b"
             ],
             [
              0.6666666666666666,
              "#ed7953"
             ],
             [
              0.7777777777777778,
              "#fb9f3a"
             ],
             [
              0.8888888888888888,
              "#fdca26"
             ],
             [
              1,
              "#f0f921"
             ]
            ],
            "type": "histogram2d"
           }
          ],
          "histogram2dcontour": [
           {
            "colorbar": {
             "outlinewidth": 0,
             "ticks": ""
            },
            "colorscale": [
             [
              0,
              "#0d0887"
             ],
             [
              0.1111111111111111,
              "#46039f"
             ],
             [
              0.2222222222222222,
              "#7201a8"
             ],
             [
              0.3333333333333333,
              "#9c179e"
             ],
             [
              0.4444444444444444,
              "#bd3786"
             ],
             [
              0.5555555555555556,
              "#d8576b"
             ],
             [
              0.6666666666666666,
              "#ed7953"
             ],
             [
              0.7777777777777778,
              "#fb9f3a"
             ],
             [
              0.8888888888888888,
              "#fdca26"
             ],
             [
              1,
              "#f0f921"
             ]
            ],
            "type": "histogram2dcontour"
           }
          ],
          "mesh3d": [
           {
            "colorbar": {
             "outlinewidth": 0,
             "ticks": ""
            },
            "type": "mesh3d"
           }
          ],
          "parcoords": [
           {
            "line": {
             "colorbar": {
              "outlinewidth": 0,
              "ticks": ""
             }
            },
            "type": "parcoords"
           }
          ],
          "pie": [
           {
            "automargin": true,
            "type": "pie"
           }
          ],
          "scatter": [
           {
            "fillpattern": {
             "fillmode": "overlay",
             "size": 10,
             "solidity": 0.2
            },
            "type": "scatter"
           }
          ],
          "scatter3d": [
           {
            "line": {
             "colorbar": {
              "outlinewidth": 0,
              "ticks": ""
             }
            },
            "marker": {
             "colorbar": {
              "outlinewidth": 0,
              "ticks": ""
             }
            },
            "type": "scatter3d"
           }
          ],
          "scattercarpet": [
           {
            "marker": {
             "colorbar": {
              "outlinewidth": 0,
              "ticks": ""
             }
            },
            "type": "scattercarpet"
           }
          ],
          "scattergeo": [
           {
            "marker": {
             "colorbar": {
              "outlinewidth": 0,
              "ticks": ""
             }
            },
            "type": "scattergeo"
           }
          ],
          "scattergl": [
           {
            "marker": {
             "colorbar": {
              "outlinewidth": 0,
              "ticks": ""
             }
            },
            "type": "scattergl"
           }
          ],
          "scattermapbox": [
           {
            "marker": {
             "colorbar": {
              "outlinewidth": 0,
              "ticks": ""
             }
            },
            "type": "scattermapbox"
           }
          ],
          "scatterpolar": [
           {
            "marker": {
             "colorbar": {
              "outlinewidth": 0,
              "ticks": ""
             }
            },
            "type": "scatterpolar"
           }
          ],
          "scatterpolargl": [
           {
            "marker": {
             "colorbar": {
              "outlinewidth": 0,
              "ticks": ""
             }
            },
            "type": "scatterpolargl"
           }
          ],
          "scatterternary": [
           {
            "marker": {
             "colorbar": {
              "outlinewidth": 0,
              "ticks": ""
             }
            },
            "type": "scatterternary"
           }
          ],
          "surface": [
           {
            "colorbar": {
             "outlinewidth": 0,
             "ticks": ""
            },
            "colorscale": [
             [
              0,
              "#0d0887"
             ],
             [
              0.1111111111111111,
              "#46039f"
             ],
             [
              0.2222222222222222,
              "#7201a8"
             ],
             [
              0.3333333333333333,
              "#9c179e"
             ],
             [
              0.4444444444444444,
              "#bd3786"
             ],
             [
              0.5555555555555556,
              "#d8576b"
             ],
             [
              0.6666666666666666,
              "#ed7953"
             ],
             [
              0.7777777777777778,
              "#fb9f3a"
             ],
             [
              0.8888888888888888,
              "#fdca26"
             ],
             [
              1,
              "#f0f921"
             ]
            ],
            "type": "surface"
           }
          ],
          "table": [
           {
            "cells": {
             "fill": {
              "color": "#EBF0F8"
             },
             "line": {
              "color": "white"
             }
            },
            "header": {
             "fill": {
              "color": "#C8D4E3"
             },
             "line": {
              "color": "white"
             }
            },
            "type": "table"
           }
          ]
         },
         "layout": {
          "annotationdefaults": {
           "arrowcolor": "#2a3f5f",
           "arrowhead": 0,
           "arrowwidth": 1
          },
          "autotypenumbers": "strict",
          "coloraxis": {
           "colorbar": {
            "outlinewidth": 0,
            "ticks": ""
           }
          },
          "colorscale": {
           "diverging": [
            [
             0,
             "#8e0152"
            ],
            [
             0.1,
             "#c51b7d"
            ],
            [
             0.2,
             "#de77ae"
            ],
            [
             0.3,
             "#f1b6da"
            ],
            [
             0.4,
             "#fde0ef"
            ],
            [
             0.5,
             "#f7f7f7"
            ],
            [
             0.6,
             "#e6f5d0"
            ],
            [
             0.7,
             "#b8e186"
            ],
            [
             0.8,
             "#7fbc41"
            ],
            [
             0.9,
             "#4d9221"
            ],
            [
             1,
             "#276419"
            ]
           ],
           "sequential": [
            [
             0,
             "#0d0887"
            ],
            [
             0.1111111111111111,
             "#46039f"
            ],
            [
             0.2222222222222222,
             "#7201a8"
            ],
            [
             0.3333333333333333,
             "#9c179e"
            ],
            [
             0.4444444444444444,
             "#bd3786"
            ],
            [
             0.5555555555555556,
             "#d8576b"
            ],
            [
             0.6666666666666666,
             "#ed7953"
            ],
            [
             0.7777777777777778,
             "#fb9f3a"
            ],
            [
             0.8888888888888888,
             "#fdca26"
            ],
            [
             1,
             "#f0f921"
            ]
           ],
           "sequentialminus": [
            [
             0,
             "#0d0887"
            ],
            [
             0.1111111111111111,
             "#46039f"
            ],
            [
             0.2222222222222222,
             "#7201a8"
            ],
            [
             0.3333333333333333,
             "#9c179e"
            ],
            [
             0.4444444444444444,
             "#bd3786"
            ],
            [
             0.5555555555555556,
             "#d8576b"
            ],
            [
             0.6666666666666666,
             "#ed7953"
            ],
            [
             0.7777777777777778,
             "#fb9f3a"
            ],
            [
             0.8888888888888888,
             "#fdca26"
            ],
            [
             1,
             "#f0f921"
            ]
           ]
          },
          "colorway": [
           "#636efa",
           "#EF553B",
           "#00cc96",
           "#ab63fa",
           "#FFA15A",
           "#19d3f3",
           "#FF6692",
           "#B6E880",
           "#FF97FF",
           "#FECB52"
          ],
          "font": {
           "color": "#2a3f5f"
          },
          "geo": {
           "bgcolor": "white",
           "lakecolor": "white",
           "landcolor": "#E5ECF6",
           "showlakes": true,
           "showland": true,
           "subunitcolor": "white"
          },
          "hoverlabel": {
           "align": "left"
          },
          "hovermode": "closest",
          "mapbox": {
           "style": "light"
          },
          "paper_bgcolor": "white",
          "plot_bgcolor": "#E5ECF6",
          "polar": {
           "angularaxis": {
            "gridcolor": "white",
            "linecolor": "white",
            "ticks": ""
           },
           "bgcolor": "#E5ECF6",
           "radialaxis": {
            "gridcolor": "white",
            "linecolor": "white",
            "ticks": ""
           }
          },
          "scene": {
           "xaxis": {
            "backgroundcolor": "#E5ECF6",
            "gridcolor": "white",
            "gridwidth": 2,
            "linecolor": "white",
            "showbackground": true,
            "ticks": "",
            "zerolinecolor": "white"
           },
           "yaxis": {
            "backgroundcolor": "#E5ECF6",
            "gridcolor": "white",
            "gridwidth": 2,
            "linecolor": "white",
            "showbackground": true,
            "ticks": "",
            "zerolinecolor": "white"
           },
           "zaxis": {
            "backgroundcolor": "#E5ECF6",
            "gridcolor": "white",
            "gridwidth": 2,
            "linecolor": "white",
            "showbackground": true,
            "ticks": "",
            "zerolinecolor": "white"
           }
          },
          "shapedefaults": {
           "line": {
            "color": "#2a3f5f"
           }
          },
          "ternary": {
           "aaxis": {
            "gridcolor": "white",
            "linecolor": "white",
            "ticks": ""
           },
           "baxis": {
            "gridcolor": "white",
            "linecolor": "white",
            "ticks": ""
           },
           "bgcolor": "#E5ECF6",
           "caxis": {
            "gridcolor": "white",
            "linecolor": "white",
            "ticks": ""
           }
          },
          "title": {
           "x": 0.05
          },
          "xaxis": {
           "automargin": true,
           "gridcolor": "white",
           "linecolor": "white",
           "ticks": "",
           "title": {
            "standoff": 15
           },
           "zerolinecolor": "white",
           "zerolinewidth": 2
          },
          "yaxis": {
           "automargin": true,
           "gridcolor": "white",
           "linecolor": "white",
           "ticks": "",
           "title": {
            "standoff": 15
           },
           "zerolinecolor": "white",
           "zerolinewidth": 2
          }
         }
        },
        "title": {
         "text": "Rollout Episode Reward Mean vs Iterations"
        },
        "xaxis": {
         "title": {
          "text": "Iterations"
         }
        },
        "yaxis": {
         "title": {
          "text": "Episode Reward Mean"
         }
        }
       }
      },
      "text/html": [
       "<div>                            <div id=\"916abd04-ebb9-4d5f-a8a9-a1fee55ab2a2\" class=\"plotly-graph-div\" style=\"height:525px; width:100%;\"></div>            <script type=\"text/javascript\">                require([\"plotly\"], function(Plotly) {                    window.PLOTLYENV=window.PLOTLYENV || {};                                    if (document.getElementById(\"916abd04-ebb9-4d5f-a8a9-a1fee55ab2a2\")) {                    Plotly.newPlot(                        \"916abd04-ebb9-4d5f-a8a9-a1fee55ab2a2\",                        [{\"line\":{\"color\":\"blue\"},\"mode\":\"lines\",\"name\":\"Model 1\",\"x\":[1,2,3,4,5,6,7,8,9,10,11,12,13,14,15,16,17,18,19,20,21,22,23,24,25,26,27,28,29,30,31,32,33,34,35,36,37,38,39,40,41,42,43,44,45,46,47,48,49],\"y\":[-565.6,-613.0,-532.5925925925926,-527.7878787878788,-473.6341463414634,-435.8723404255319,-384.7321428571428,-342.46774193548384,-350.0151515151515,-309.83561643835617,-269.8395061728395,-269.2613636363636,-252.86021505376343,-238.44897959183675,-194.84,-167.98,-108.99,-88.15,-39.38,-30.02,-18.24,-0.09,18.54,14.93,29.38,36.34,42.48,39.67,44.65,59.6,64.6,43.09,46.04,43.27,39.08,51.25,52.83,46.32,40.85,45.87,63.48,76.34,72.0,77.5,64.81,68.41,74.2,82.69,85.3],\"type\":\"scatter\"},{\"line\":{\"color\":\"green\"},\"mode\":\"lines\",\"name\":\"Model 2\",\"x\":[1,2,3,4,5,6,7,8,9,10,11,12,13,14,15,16,17,18,19,20,21,22,23,24,25,26,27,28,29,30,31,32,33,34,35,36,37,38,39,40,41,42,43,44,45,46,47,48,49,50,51,52,53,54,55,56,57,58,59,60,61,62,63,64,65,66,67,68,69,70,71,72,73,74,75,76,77,78,79,80,81,82,83,84,85,86,87,88,89,90,91,92,93,94,95,96,97,98],\"y\":[-1090.5,-600.0,-572.1818181818181,-531.3529411764706,-472.5,-447.0,-422.03225806451616,-363.7435897435897,-333.3181818181818,-321.75,-298.0357142857143,-316.6065573770492,-324.4153846153846,-318.42857142857144,-310.88,-321.56410256410254,-302.2613636363636,-305.8888888888889,-305.7578947368421,-324.3367346938776,-309.61,-317.86,-295.37,-270.06,-248.5,-245.7,-245.81,-245.55,-263.33,-270.02,-275.95,-288.28,-286.14,-271.45,-262.14,-258.67,-245.5,-221.75,-225.86,-237.16,-215.72,-219.32,-178.24,-168.77,-172.18,-173.8,-164.03,-149.36,-153.18,-122.75,-96.61,-84.51,-76.9,-68.99,-72.89,-68.14,-72.41,-41.31,-32.29,-45.47,-20.25,-9.96,-6.85,-14.55,-24.88,-18.49,-13.27,-5.46,-2.63,0.02,9.21,-1.73,4.21,10.11,14.25,16.91,15.78,16.49,10.7,22.72,18.35,19.38,31.01,35.29,45.55,49.25,52.06,49.49,48.55,39.35,34.67,35.25,32.49,38.08,45.5,48.7,52.55,59.4],\"type\":\"scatter\"},{\"line\":{\"color\":\"red\"},\"mode\":\"lines\",\"name\":\"Model 3\",\"x\":[1,2,3,4,5,6,7,8,9,10,11,12,13,14,15,16,17,18,19,20,21,22,23,24,25,26,27,28,29,30,31,32,33,34,35,36,37,38,39,40,41,42,43,44,45,46,47,48,49,50,51,52,53,54,55,56,57,58,59,60,61,62,63,64,65,66,67,68,69,70,71,72,73,74,75,76,77,78,79,80,81,82,83,84,85,86,87,88,89,90,91,92,93,94,95,96,97,98,99,100,101,102,103,104,105,106,107,108,109,110,111,112,113,114,115,116,117,118,119,120,121,122,123,124,125,126,127,128,129,130,131,132,133,134,135,136,137,138,139,140,141,142,143,144,145,146,147,148,149,150,151,152,153,154,155,156,157,158,159,160,161,162,163,164,165,166,167,168,169,170,171,172,173,174,175,176,177,178,179,180,181,182,183,184,185,186,187,188,189,190,191,192,193,194,195,196],\"y\":[-1145.0,-781.5,-538.6,-328.3333333333333,-356.8,-388.7272727272728,-458.2307692307692,-483.4285714285714,-473.625,-405.5,-422.8571428571428,-425.375,-411.4230769230769,-404.8148148148149,-388.9,-372.030303030303,-372.6,-371.2972972972973,-381.7105263157895,-375.2,-375.2380952380952,-356.8478260869565,-331.74,-349.15686274509807,-340.07142857142856,-323.4833333333333,-302.015625,-307.2575757575757,-305.88235294117646,-301.9714285714286,-300.3150684931507,-302.4736842105263,-303.6455696202532,-308.28395061728395,-294.9418604651163,-288.5681818181818,-296.87640449438203,-301.4891304347826,-291.7708333333333,-291.1546391752577,-293.4,-270.01,-267.64,-266.22,-251.75,-235.95,-239.17,-228.4,-226.67,-216.98,-221.42,-218.97,-225.41,-218.46,-218.99,-211.94,-213.97,-212.35,-213.4,-218.86,-213.33,-224.12,-217.25,-220.65,-221.39,-226.8,-226.21,-219.93,-222.04,-218.42,-215.54,-209.28,-211.17,-210.42,-201.62,-198.75,-195.95,-195.62,-183.53,-182.7,-191.67,-187.49,-193.15,-191.19,-198.16,-190.23,-184.71,-183.56,-174.57,-179.21,-177.42,-187.24,-179.07,-177.97,-165.8,-166.24,-160.87,-161.87,-150.84,-148.41,-155.36,-160.52,-155.45,-161.15,-166.88,-172.74,-169.52,-175.68,-176.71,-168.39,-174.03,-175.21,-176.65,-176.78,-179.49,-178.78,-173.88,-158.76,-159.55,-162.93,-170.68,-169.81,-173.99,-180.24,-184.84,-185.68,-190.52,-195.92,-197.31,-193.78,-189.36,-178.45,-173.44,-172.15,-178.36,-181.94,-177.0,-171.19,-168.17,-165.52,-157.41,-157.4,-163.01,-158.94,-135.38,-125.64,-112.86,-111.47,-105.6,-96.73,-95.14,-91.94,-95.3,-96.31,-78.85,-81.87,-68.86,-60.93,-55.03,-47.25,-45.02,-48.87,-45.02,-43.03,-43.34,-39.39,-34.88,-38.04,-33.63,-39.7,-41.65,-38.94,-44.43,-40.25,-38.41,-33.03,-30.85,-44.86,-41.19,-43.33,-44.67,-44.26,-52.19,-58.96,-59.96,-59.25,-57.71,-63.51,-62.77,-59.82,-58.39,-62.17,-65.88,-63.14,-60.13,-59.0],\"type\":\"scatter\"}],                        {\"template\":{\"data\":{\"histogram2dcontour\":[{\"type\":\"histogram2dcontour\",\"colorbar\":{\"outlinewidth\":0,\"ticks\":\"\"},\"colorscale\":[[0.0,\"#0d0887\"],[0.1111111111111111,\"#46039f\"],[0.2222222222222222,\"#7201a8\"],[0.3333333333333333,\"#9c179e\"],[0.4444444444444444,\"#bd3786\"],[0.5555555555555556,\"#d8576b\"],[0.6666666666666666,\"#ed7953\"],[0.7777777777777778,\"#fb9f3a\"],[0.8888888888888888,\"#fdca26\"],[1.0,\"#f0f921\"]]}],\"choropleth\":[{\"type\":\"choropleth\",\"colorbar\":{\"outlinewidth\":0,\"ticks\":\"\"}}],\"histogram2d\":[{\"type\":\"histogram2d\",\"colorbar\":{\"outlinewidth\":0,\"ticks\":\"\"},\"colorscale\":[[0.0,\"#0d0887\"],[0.1111111111111111,\"#46039f\"],[0.2222222222222222,\"#7201a8\"],[0.3333333333333333,\"#9c179e\"],[0.4444444444444444,\"#bd3786\"],[0.5555555555555556,\"#d8576b\"],[0.6666666666666666,\"#ed7953\"],[0.7777777777777778,\"#fb9f3a\"],[0.8888888888888888,\"#fdca26\"],[1.0,\"#f0f921\"]]}],\"heatmap\":[{\"type\":\"heatmap\",\"colorbar\":{\"outlinewidth\":0,\"ticks\":\"\"},\"colorscale\":[[0.0,\"#0d0887\"],[0.1111111111111111,\"#46039f\"],[0.2222222222222222,\"#7201a8\"],[0.3333333333333333,\"#9c179e\"],[0.4444444444444444,\"#bd3786\"],[0.5555555555555556,\"#d8576b\"],[0.6666666666666666,\"#ed7953\"],[0.7777777777777778,\"#fb9f3a\"],[0.8888888888888888,\"#fdca26\"],[1.0,\"#f0f921\"]]}],\"heatmapgl\":[{\"type\":\"heatmapgl\",\"colorbar\":{\"outlinewidth\":0,\"ticks\":\"\"},\"colorscale\":[[0.0,\"#0d0887\"],[0.1111111111111111,\"#46039f\"],[0.2222222222222222,\"#7201a8\"],[0.3333333333333333,\"#9c179e\"],[0.4444444444444444,\"#bd3786\"],[0.5555555555555556,\"#d8576b\"],[0.6666666666666666,\"#ed7953\"],[0.7777777777777778,\"#fb9f3a\"],[0.8888888888888888,\"#fdca26\"],[1.0,\"#f0f921\"]]}],\"contourcarpet\":[{\"type\":\"contourcarpet\",\"colorbar\":{\"outlinewidth\":0,\"ticks\":\"\"}}],\"contour\":[{\"type\":\"contour\",\"colorbar\":{\"outlinewidth\":0,\"ticks\":\"\"},\"colorscale\":[[0.0,\"#0d0887\"],[0.1111111111111111,\"#46039f\"],[0.2222222222222222,\"#7201a8\"],[0.3333333333333333,\"#9c179e\"],[0.4444444444444444,\"#bd3786\"],[0.5555555555555556,\"#d8576b\"],[0.6666666666666666,\"#ed7953\"],[0.7777777777777778,\"#fb9f3a\"],[0.8888888888888888,\"#fdca26\"],[1.0,\"#f0f921\"]]}],\"surface\":[{\"type\":\"surface\",\"colorbar\":{\"outlinewidth\":0,\"ticks\":\"\"},\"colorscale\":[[0.0,\"#0d0887\"],[0.1111111111111111,\"#46039f\"],[0.2222222222222222,\"#7201a8\"],[0.3333333333333333,\"#9c179e\"],[0.4444444444444444,\"#bd3786\"],[0.5555555555555556,\"#d8576b\"],[0.6666666666666666,\"#ed7953\"],[0.7777777777777778,\"#fb9f3a\"],[0.8888888888888888,\"#fdca26\"],[1.0,\"#f0f921\"]]}],\"mesh3d\":[{\"type\":\"mesh3d\",\"colorbar\":{\"outlinewidth\":0,\"ticks\":\"\"}}],\"scatter\":[{\"fillpattern\":{\"fillmode\":\"overlay\",\"size\":10,\"solidity\":0.2},\"type\":\"scatter\"}],\"parcoords\":[{\"type\":\"parcoords\",\"line\":{\"colorbar\":{\"outlinewidth\":0,\"ticks\":\"\"}}}],\"scatterpolargl\":[{\"type\":\"scatterpolargl\",\"marker\":{\"colorbar\":{\"outlinewidth\":0,\"ticks\":\"\"}}}],\"bar\":[{\"error_x\":{\"color\":\"#2a3f5f\"},\"error_y\":{\"color\":\"#2a3f5f\"},\"marker\":{\"line\":{\"color\":\"#E5ECF6\",\"width\":0.5},\"pattern\":{\"fillmode\":\"overlay\",\"size\":10,\"solidity\":0.2}},\"type\":\"bar\"}],\"scattergeo\":[{\"type\":\"scattergeo\",\"marker\":{\"colorbar\":{\"outlinewidth\":0,\"ticks\":\"\"}}}],\"scatterpolar\":[{\"type\":\"scatterpolar\",\"marker\":{\"colorbar\":{\"outlinewidth\":0,\"ticks\":\"\"}}}],\"histogram\":[{\"marker\":{\"pattern\":{\"fillmode\":\"overlay\",\"size\":10,\"solidity\":0.2}},\"type\":\"histogram\"}],\"scattergl\":[{\"type\":\"scattergl\",\"marker\":{\"colorbar\":{\"outlinewidth\":0,\"ticks\":\"\"}}}],\"scatter3d\":[{\"type\":\"scatter3d\",\"line\":{\"colorbar\":{\"outlinewidth\":0,\"ticks\":\"\"}},\"marker\":{\"colorbar\":{\"outlinewidth\":0,\"ticks\":\"\"}}}],\"scattermapbox\":[{\"type\":\"scattermapbox\",\"marker\":{\"colorbar\":{\"outlinewidth\":0,\"ticks\":\"\"}}}],\"scatterternary\":[{\"type\":\"scatterternary\",\"marker\":{\"colorbar\":{\"outlinewidth\":0,\"ticks\":\"\"}}}],\"scattercarpet\":[{\"type\":\"scattercarpet\",\"marker\":{\"colorbar\":{\"outlinewidth\":0,\"ticks\":\"\"}}}],\"carpet\":[{\"aaxis\":{\"endlinecolor\":\"#2a3f5f\",\"gridcolor\":\"white\",\"linecolor\":\"white\",\"minorgridcolor\":\"white\",\"startlinecolor\":\"#2a3f5f\"},\"baxis\":{\"endlinecolor\":\"#2a3f5f\",\"gridcolor\":\"white\",\"linecolor\":\"white\",\"minorgridcolor\":\"white\",\"startlinecolor\":\"#2a3f5f\"},\"type\":\"carpet\"}],\"table\":[{\"cells\":{\"fill\":{\"color\":\"#EBF0F8\"},\"line\":{\"color\":\"white\"}},\"header\":{\"fill\":{\"color\":\"#C8D4E3\"},\"line\":{\"color\":\"white\"}},\"type\":\"table\"}],\"barpolar\":[{\"marker\":{\"line\":{\"color\":\"#E5ECF6\",\"width\":0.5},\"pattern\":{\"fillmode\":\"overlay\",\"size\":10,\"solidity\":0.2}},\"type\":\"barpolar\"}],\"pie\":[{\"automargin\":true,\"type\":\"pie\"}]},\"layout\":{\"autotypenumbers\":\"strict\",\"colorway\":[\"#636efa\",\"#EF553B\",\"#00cc96\",\"#ab63fa\",\"#FFA15A\",\"#19d3f3\",\"#FF6692\",\"#B6E880\",\"#FF97FF\",\"#FECB52\"],\"font\":{\"color\":\"#2a3f5f\"},\"hovermode\":\"closest\",\"hoverlabel\":{\"align\":\"left\"},\"paper_bgcolor\":\"white\",\"plot_bgcolor\":\"#E5ECF6\",\"polar\":{\"bgcolor\":\"#E5ECF6\",\"angularaxis\":{\"gridcolor\":\"white\",\"linecolor\":\"white\",\"ticks\":\"\"},\"radialaxis\":{\"gridcolor\":\"white\",\"linecolor\":\"white\",\"ticks\":\"\"}},\"ternary\":{\"bgcolor\":\"#E5ECF6\",\"aaxis\":{\"gridcolor\":\"white\",\"linecolor\":\"white\",\"ticks\":\"\"},\"baxis\":{\"gridcolor\":\"white\",\"linecolor\":\"white\",\"ticks\":\"\"},\"caxis\":{\"gridcolor\":\"white\",\"linecolor\":\"white\",\"ticks\":\"\"}},\"coloraxis\":{\"colorbar\":{\"outlinewidth\":0,\"ticks\":\"\"}},\"colorscale\":{\"sequential\":[[0.0,\"#0d0887\"],[0.1111111111111111,\"#46039f\"],[0.2222222222222222,\"#7201a8\"],[0.3333333333333333,\"#9c179e\"],[0.4444444444444444,\"#bd3786\"],[0.5555555555555556,\"#d8576b\"],[0.6666666666666666,\"#ed7953\"],[0.7777777777777778,\"#fb9f3a\"],[0.8888888888888888,\"#fdca26\"],[1.0,\"#f0f921\"]],\"sequentialminus\":[[0.0,\"#0d0887\"],[0.1111111111111111,\"#46039f\"],[0.2222222222222222,\"#7201a8\"],[0.3333333333333333,\"#9c179e\"],[0.4444444444444444,\"#bd3786\"],[0.5555555555555556,\"#d8576b\"],[0.6666666666666666,\"#ed7953\"],[0.7777777777777778,\"#fb9f3a\"],[0.8888888888888888,\"#fdca26\"],[1.0,\"#f0f921\"]],\"diverging\":[[0,\"#8e0152\"],[0.1,\"#c51b7d\"],[0.2,\"#de77ae\"],[0.3,\"#f1b6da\"],[0.4,\"#fde0ef\"],[0.5,\"#f7f7f7\"],[0.6,\"#e6f5d0\"],[0.7,\"#b8e186\"],[0.8,\"#7fbc41\"],[0.9,\"#4d9221\"],[1,\"#276419\"]]},\"xaxis\":{\"gridcolor\":\"white\",\"linecolor\":\"white\",\"ticks\":\"\",\"title\":{\"standoff\":15},\"zerolinecolor\":\"white\",\"automargin\":true,\"zerolinewidth\":2},\"yaxis\":{\"gridcolor\":\"white\",\"linecolor\":\"white\",\"ticks\":\"\",\"title\":{\"standoff\":15},\"zerolinecolor\":\"white\",\"automargin\":true,\"zerolinewidth\":2},\"scene\":{\"xaxis\":{\"backgroundcolor\":\"#E5ECF6\",\"gridcolor\":\"white\",\"linecolor\":\"white\",\"showbackground\":true,\"ticks\":\"\",\"zerolinecolor\":\"white\",\"gridwidth\":2},\"yaxis\":{\"backgroundcolor\":\"#E5ECF6\",\"gridcolor\":\"white\",\"linecolor\":\"white\",\"showbackground\":true,\"ticks\":\"\",\"zerolinecolor\":\"white\",\"gridwidth\":2},\"zaxis\":{\"backgroundcolor\":\"#E5ECF6\",\"gridcolor\":\"white\",\"linecolor\":\"white\",\"showbackground\":true,\"ticks\":\"\",\"zerolinecolor\":\"white\",\"gridwidth\":2}},\"shapedefaults\":{\"line\":{\"color\":\"#2a3f5f\"}},\"annotationdefaults\":{\"arrowcolor\":\"#2a3f5f\",\"arrowhead\":0,\"arrowwidth\":1},\"geo\":{\"bgcolor\":\"white\",\"landcolor\":\"#E5ECF6\",\"subunitcolor\":\"white\",\"showland\":true,\"showlakes\":true,\"lakecolor\":\"white\"},\"title\":{\"x\":0.05},\"mapbox\":{\"style\":\"light\"}}},\"title\":{\"text\":\"Rollout Episode Reward Mean vs Iterations\"},\"xaxis\":{\"title\":{\"text\":\"Iterations\"}},\"yaxis\":{\"title\":{\"text\":\"Episode Reward Mean\"}},\"legend\":{\"title\":{\"text\":\"Model\"}}},                        {\"responsive\": true}                    ).then(function(){\n",
       "                            \n",
       "var gd = document.getElementById('916abd04-ebb9-4d5f-a8a9-a1fee55ab2a2');\n",
       "var x = new MutationObserver(function (mutations, observer) {{\n",
       "        var display = window.getComputedStyle(gd).display;\n",
       "        if (!display || display === 'none') {{\n",
       "            console.log([gd, 'removed!']);\n",
       "            Plotly.purge(gd);\n",
       "            observer.disconnect();\n",
       "        }}\n",
       "}});\n",
       "\n",
       "// Listen for the removal of the full notebook cells\n",
       "var notebookContainer = gd.closest('#notebook-container');\n",
       "if (notebookContainer) {{\n",
       "    x.observe(notebookContainer, {childList: true});\n",
       "}}\n",
       "\n",
       "// Listen for the clearing of the current output cell\n",
       "var outputEl = gd.closest('.output');\n",
       "if (outputEl) {{\n",
       "    x.observe(outputEl, {childList: true});\n",
       "}}\n",
       "\n",
       "                        })                };                });            </script>        </div>"
      ]
     },
     "metadata": {},
     "output_type": "display_data"
    }
   ],
   "source": [
    "fig = go.Figure()\n",
    "fig.add_trace(go.Scatter(x=df_1['time/iterations'], \n",
    "                         y=df_1['rollout/ep_rew_mean'], \n",
    "                         mode='lines', \n",
    "                         name='Model 1', \n",
    "                         line=dict(color='blue')))\n",
    "fig.add_trace(go.Scatter(x=df_2['time/iterations'], \n",
    "                         y=df_2['rollout/ep_rew_mean'], \n",
    "                         mode='lines', \n",
    "                         name='Model 2', \n",
    "                         line=dict(color='green')))\n",
    "fig.add_trace(go.Scatter(x=df_3['time/iterations'], \n",
    "                         y=df_3['rollout/ep_rew_mean'], \n",
    "                         mode='lines', \n",
    "                         name='Model 3', \n",
    "                         line=dict(color='red')))\n",
    "fig.update_layout(\n",
    "    title='Rollout Episode Reward Mean vs Iterations',\n",
    "    xaxis_title='Iterations',\n",
    "    yaxis_title='Episode Reward Mean',\n",
    "    legend_title='Model',\n",
    ")\n",
    "fig.show()"
   ]
  },
  {
   "cell_type": "code",
   "execution_count": 16,
   "metadata": {},
   "outputs": [
    {
     "data": {
      "application/vnd.plotly.v1+json": {
       "config": {
        "plotlyServerURL": "https://plot.ly"
       },
       "data": [
        {
         "mode": "lines",
         "name": "Model 1",
         "type": "scatter",
         "x": [
          1,
          2,
          3,
          4,
          5,
          6,
          7,
          8,
          9,
          10,
          11,
          12,
          13,
          14,
          15,
          16,
          17,
          18,
          19,
          20,
          21,
          22,
          23,
          24,
          25,
          26,
          27,
          28,
          29,
          30,
          31,
          32,
          33,
          34,
          35,
          36,
          37,
          38,
          39,
          40,
          41,
          42,
          43,
          44,
          45,
          46,
          47,
          48,
          49
         ],
         "y": [
          null,
          570.1626222610473,
          407.1993542869886,
          298.21249058942,
          331.21239071140684,
          308.9852279881636,
          219.4960538685322,
          326.56612852911155,
          146.68610418612758,
          183.66846269170443,
          314.6524754524231,
          241.22055922597647,
          177.8107655391097,
          108.14375174244245,
          200.4041470989585,
          219.39918042172988,
          101.68861609200636,
          180.4643308286865,
          209.14133582065503,
          158.89348273376623,
          133.11275920520225,
          153.124297011892,
          246.2613157187899,
          249.457465446492,
          110.30078250889976,
          165.70820251430075,
          145.50081625804305,
          188.12260550508896,
          134.95802702357372,
          206.43501169035832,
          132.67425105075043,
          136.20909460733336,
          131.04487391660612,
          111.13742632667224,
          184.9434738571445,
          138.5829404771328,
          135.3659350246191,
          100.83043983529012,
          180.45259201079608,
          135.67878164052962,
          129.72656996498506,
          144.3649303170542,
          153.47448490709067,
          94.436702007552,
          226.1170452425877,
          134.9682427716752,
          139.21593370487292,
          99.79203101371724,
          108.56844494615991
         ]
        },
        {
         "mode": "lines",
         "name": "Model 2",
         "type": "scatter",
         "x": [
          1,
          2,
          3,
          4,
          5,
          6,
          7,
          8,
          9,
          10,
          11,
          12,
          13,
          14,
          15,
          16,
          17,
          18,
          19,
          20,
          21,
          22,
          23,
          24,
          25,
          26,
          27,
          28,
          29,
          30,
          31,
          32,
          33,
          34,
          35,
          36,
          37,
          38,
          39,
          40,
          41,
          42,
          43,
          44,
          45,
          46,
          47,
          48,
          49,
          50,
          51,
          52,
          53,
          54,
          55,
          56,
          57,
          58,
          59,
          60,
          61,
          62,
          63,
          64,
          65,
          66,
          67,
          68,
          69,
          70,
          71,
          72,
          73,
          74,
          75,
          76,
          77,
          78,
          79,
          80,
          81,
          82,
          83,
          84,
          85,
          86,
          87,
          88,
          89,
          90,
          91,
          92,
          93,
          94,
          95,
          96,
          97,
          98
         ],
         "y": [
          null,
          1645.5585596084595,
          2544.234871673584,
          889.032532119751,
          2261.6482177734374,
          1263.38175239563,
          1100.4770846366882,
          1117.877230644226,
          600.302595424652,
          554.3446906089782,
          1225.1676626205444,
          1451.6211794853211,
          1262.9188535690307,
          895.3191343307495,
          951.572378540039,
          583.2605602264405,
          828.8275707244873,
          794.7040146350861,
          609.5642754554749,
          600.4365618705749,
          1238.379855632782,
          636.7557017803192,
          1241.4250987052917,
          765.7815653800965,
          1209.5222590446472,
          839.6482666015625,
          536.8612810611725,
          528.9915812015533,
          740.9185577392578,
          609.0034183502197,
          547.0227059841156,
          535.8452910423279,
          628.5122865200043,
          505.6230013847351,
          534.0294878005982,
          751.3150624275207,
          1018.8603119373322,
          474.2684611320496,
          323.61580077409747,
          817.7933767318725,
          775.6918340206146,
          886.484549665451,
          426.8294765949249,
          609.9174254417419,
          552.2109080553055,
          475.3206679582596,
          737.9190569400787,
          455.14526839256285,
          361.3098782539368,
          360.22984371185305,
          381.5234586238861,
          844.8798393249511,
          336.0824721813202,
          326.43871853351595,
          336.2801883935928,
          339.14344894886017,
          234.9601749777794,
          536.1365177869797,
          475.8572271347046,
          239.92339663505555,
          227.48868436813356,
          225.81188938617703,
          253.11631138324736,
          543.3992146730423,
          337.2260949611664,
          261.1010456085205,
          935.2763559818268,
          289.17133221626284,
          247.25096294879916,
          548.5181073665619,
          934.8222324848176,
          662.3278856515884,
          333.1448254466057,
          447.4351664304733,
          302.0053580760956,
          519.4064429283142,
          593.0541347026825,
          287.6594233036041,
          389.4404014110565,
          366.5009526014328,
          526.9450932741165,
          226.0941947221756,
          427.9285374283791,
          490.5404363155365,
          347.6337476968765,
          271.8828249573708,
          181.6974935889244,
          269.9750461101532,
          255.5406231999397,
          187.61369602680207,
          294.5697821736336,
          274.9188243985176,
          318.6259920358658,
          293.30377130508424,
          509.8416894078255,
          217.41215535998344,
          405.0559026241302,
          236.92514513731004
         ]
        },
        {
         "mode": "lines",
         "name": "Model 3",
         "type": "scatter",
         "x": [
          1,
          2,
          3,
          4,
          5,
          6,
          7,
          8,
          9,
          10,
          11,
          12,
          13,
          14,
          15,
          16,
          17,
          18,
          19,
          20,
          21,
          22,
          23,
          24,
          25,
          26,
          27,
          28,
          29,
          30,
          31,
          32,
          33,
          34,
          35,
          36,
          37,
          38,
          39,
          40,
          41,
          42,
          43,
          44,
          45,
          46,
          47,
          48,
          49,
          50,
          51,
          52,
          53,
          54,
          55,
          56,
          57,
          58,
          59,
          60,
          61,
          62,
          63,
          64,
          65,
          66,
          67,
          68,
          69,
          70,
          71,
          72,
          73,
          74,
          75,
          76,
          77,
          78,
          79,
          80,
          81,
          82,
          83,
          84,
          85,
          86,
          87,
          88,
          89,
          90,
          91,
          92,
          93,
          94,
          95,
          96,
          97,
          98,
          99,
          100,
          101,
          102,
          103,
          104,
          105,
          106,
          107,
          108,
          109,
          110,
          111,
          112,
          113,
          114,
          115,
          116,
          117,
          118,
          119,
          120,
          121,
          122,
          123,
          124,
          125,
          126,
          127,
          128,
          129,
          130,
          131,
          132,
          133,
          134,
          135,
          136,
          137,
          138,
          139,
          140,
          141,
          142,
          143,
          144,
          145,
          146,
          147,
          148,
          149,
          150,
          151,
          152,
          153,
          154,
          155,
          156,
          157,
          158,
          159,
          160,
          161,
          162,
          163,
          164,
          165,
          166,
          167,
          168,
          169,
          170,
          171,
          172,
          173,
          174,
          175,
          176,
          177,
          178,
          179,
          180,
          181,
          182,
          183,
          184,
          185,
          186,
          187,
          188,
          189,
          190,
          191,
          192,
          193,
          194,
          195,
          196
         ],
         "y": [
          null,
          2823.821083068848,
          1980.5566886901856,
          2037.1373970031736,
          1484.7065189361572,
          1860.521231842041,
          2002.5361701965328,
          3358.7699211120607,
          2463.8750549316405,
          1246.6776050567628,
          2471.752186584473,
          1999.505569458008,
          1653.4157859802249,
          1564.255726623535,
          1573.0020072937011,
          1026.280571746826,
          1271.6331439971923,
          1635.7028915405274,
          2051.2354995727537,
          2122.823990631104,
          2901.2149993896483,
          1632.5900772094726,
          1225.4743789672852,
          2033.844882965088,
          2375.730453491211,
          2061.149068450928,
          1656.1337432861328,
          722.2276948928833,
          1620.0151496887206,
          797.5645240783691,
          1586.542527770996,
          1242.3665500640868,
          2271.9764053344725,
          2234.3060455322266,
          2080.656555938721,
          1127.8307765960694,
          1572.9654148101806,
          778.1547336578369,
          2103.3215721130373,
          1825.332566833496,
          1626.295613861084,
          1263.1485359191895,
          877.888826751709,
          692.0867420196533,
          1691.59501953125,
          690.4803812026978,
          770.4952217102051,
          1427.1468933105468,
          630.7282356262207,
          1642.2684886932373,
          926.9058460235595,
          1749.401587677002,
          804.494171333313,
          973.9551853179933,
          2080.960921859741,
          1513.139458847046,
          936.3343355178832,
          1213.9772752761842,
          1613.133562850952,
          1053.3151351928711,
          1288.0883590698245,
          1194.4793952941895,
          1037.903277587891,
          2004.3133087158203,
          735.5462921142578,
          1541.4814697265624,
          867.2676219940186,
          891.3154762268066,
          640.3980932235718,
          1153.867709350586,
          2288.201700592041,
          1418.7389934539794,
          1063.8759422302246,
          1196.0469257354737,
          2582.301638793945,
          948.8580307006836,
          1515.9298845291137,
          421.5267475128174,
          790.7805807113648,
          1460.7836917877198,
          806.504356765747,
          1591.3452503204346,
          833.2604686737061,
          1701.1043800354005,
          870.4783695220947,
          1661.3616424560546,
          500.8882814407349,
          1382.0879043579102,
          986.6034805297852,
          533.5390348434448,
          1107.6572261810302,
          2565.752448272705,
          2152.499564361572,
          2189.498867034912,
          617.8434282302857,
          1072.1541343688964,
          2182.880336380005,
          715.937050819397,
          610.4886423110962,
          615.1394613265991,
          1446.7645416259766,
          948.2563724517822,
          1247.2547706604005,
          394.8094479560852,
          2929.124906158447,
          1383.788073348999,
          975.7197610855104,
          3089.004875183105,
          1447.3305870056151,
          2044.8915424346924,
          2530.5326820373534,
          968.9872596740722,
          2164.767589187622,
          572.5395448684692,
          1237.5252647399902,
          634.4731147766113,
          1220.8781497955322,
          767.6345840454102,
          701.5797424316406,
          801.7920072555542,
          1401.4902587890624,
          1541.6588146209715,
          1039.8044414520264,
          2414.0350425720217,
          1052.5513534545898,
          1062.2275173187256,
          795.3581092834472,
          848.2618761062622,
          771.1673444747925,
          630.4217636108399,
          861.881307220459,
          863.6166917800904,
          1868.4364175796509,
          592.082525062561,
          958.878964996338,
          911.200207710266,
          946.4212280273438,
          1022.0121349334715,
          873.6607276916504,
          333.84868602752687,
          521.7485523223877,
          1905.121915435791,
          1614.3071212768557,
          849.1139028549194,
          653.506794166565,
          2167.779941177368,
          1603.4535186767578,
          732.1482913970947,
          705.2148441314697,
          618.5032350540162,
          713.4156749725341,
          591.8756353378296,
          536.3533536911011,
          1213.1105098724363,
          2313.814036941528,
          1667.189073944092,
          770.8707698822021,
          393.1892072677612,
          612.2733171463012,
          634.7146108627319,
          636.2573881149292,
          767.5802803039551,
          1716.4624647140504,
          1432.1081577301024,
          427.5200921058655,
          615.0780204772949,
          388.6343738555908,
          333.92620544433595,
          1061.4770990371703,
          770.1827142715454,
          1254.538335800171,
          2216.13914604187,
          529.9314224243165,
          966.8188991546632,
          893.9828489303588,
          539.6657760620117,
          517.1369173049927,
          563.4482177734375,
          1138.0139526367188,
          738.7141008377075,
          1944.448139572144,
          378.3106838226319,
          1408.1514945983886,
          538.4636722564697,
          476.6749238014221,
          612.4764228820801,
          657.6647601127625,
          1923.3963539123536,
          704.1593664169311,
          1152.6016498565673,
          428.2129543304444,
          621.1655611038208,
          281.05248107910154,
          1954.794638824463,
          636.4743188858032,
          497.4793701171875
         ]
        }
       ],
       "layout": {
        "legend": {
         "title": {
          "text": "Models"
         }
        },
        "template": {
         "data": {
          "bar": [
           {
            "error_x": {
             "color": "#2a3f5f"
            },
            "error_y": {
             "color": "#2a3f5f"
            },
            "marker": {
             "line": {
              "color": "#E5ECF6",
              "width": 0.5
             },
             "pattern": {
              "fillmode": "overlay",
              "size": 10,
              "solidity": 0.2
             }
            },
            "type": "bar"
           }
          ],
          "barpolar": [
           {
            "marker": {
             "line": {
              "color": "#E5ECF6",
              "width": 0.5
             },
             "pattern": {
              "fillmode": "overlay",
              "size": 10,
              "solidity": 0.2
             }
            },
            "type": "barpolar"
           }
          ],
          "carpet": [
           {
            "aaxis": {
             "endlinecolor": "#2a3f5f",
             "gridcolor": "white",
             "linecolor": "white",
             "minorgridcolor": "white",
             "startlinecolor": "#2a3f5f"
            },
            "baxis": {
             "endlinecolor": "#2a3f5f",
             "gridcolor": "white",
             "linecolor": "white",
             "minorgridcolor": "white",
             "startlinecolor": "#2a3f5f"
            },
            "type": "carpet"
           }
          ],
          "choropleth": [
           {
            "colorbar": {
             "outlinewidth": 0,
             "ticks": ""
            },
            "type": "choropleth"
           }
          ],
          "contour": [
           {
            "colorbar": {
             "outlinewidth": 0,
             "ticks": ""
            },
            "colorscale": [
             [
              0,
              "#0d0887"
             ],
             [
              0.1111111111111111,
              "#46039f"
             ],
             [
              0.2222222222222222,
              "#7201a8"
             ],
             [
              0.3333333333333333,
              "#9c179e"
             ],
             [
              0.4444444444444444,
              "#bd3786"
             ],
             [
              0.5555555555555556,
              "#d8576b"
             ],
             [
              0.6666666666666666,
              "#ed7953"
             ],
             [
              0.7777777777777778,
              "#fb9f3a"
             ],
             [
              0.8888888888888888,
              "#fdca26"
             ],
             [
              1,
              "#f0f921"
             ]
            ],
            "type": "contour"
           }
          ],
          "contourcarpet": [
           {
            "colorbar": {
             "outlinewidth": 0,
             "ticks": ""
            },
            "type": "contourcarpet"
           }
          ],
          "heatmap": [
           {
            "colorbar": {
             "outlinewidth": 0,
             "ticks": ""
            },
            "colorscale": [
             [
              0,
              "#0d0887"
             ],
             [
              0.1111111111111111,
              "#46039f"
             ],
             [
              0.2222222222222222,
              "#7201a8"
             ],
             [
              0.3333333333333333,
              "#9c179e"
             ],
             [
              0.4444444444444444,
              "#bd3786"
             ],
             [
              0.5555555555555556,
              "#d8576b"
             ],
             [
              0.6666666666666666,
              "#ed7953"
             ],
             [
              0.7777777777777778,
              "#fb9f3a"
             ],
             [
              0.8888888888888888,
              "#fdca26"
             ],
             [
              1,
              "#f0f921"
             ]
            ],
            "type": "heatmap"
           }
          ],
          "heatmapgl": [
           {
            "colorbar": {
             "outlinewidth": 0,
             "ticks": ""
            },
            "colorscale": [
             [
              0,
              "#0d0887"
             ],
             [
              0.1111111111111111,
              "#46039f"
             ],
             [
              0.2222222222222222,
              "#7201a8"
             ],
             [
              0.3333333333333333,
              "#9c179e"
             ],
             [
              0.4444444444444444,
              "#bd3786"
             ],
             [
              0.5555555555555556,
              "#d8576b"
             ],
             [
              0.6666666666666666,
              "#ed7953"
             ],
             [
              0.7777777777777778,
              "#fb9f3a"
             ],
             [
              0.8888888888888888,
              "#fdca26"
             ],
             [
              1,
              "#f0f921"
             ]
            ],
            "type": "heatmapgl"
           }
          ],
          "histogram": [
           {
            "marker": {
             "pattern": {
              "fillmode": "overlay",
              "size": 10,
              "solidity": 0.2
             }
            },
            "type": "histogram"
           }
          ],
          "histogram2d": [
           {
            "colorbar": {
             "outlinewidth": 0,
             "ticks": ""
            },
            "colorscale": [
             [
              0,
              "#0d0887"
             ],
             [
              0.1111111111111111,
              "#46039f"
             ],
             [
              0.2222222222222222,
              "#7201a8"
             ],
             [
              0.3333333333333333,
              "#9c179e"
             ],
             [
              0.4444444444444444,
              "#bd3786"
             ],
             [
              0.5555555555555556,
              "#d8576b"
             ],
             [
              0.6666666666666666,
              "#ed7953"
             ],
             [
              0.7777777777777778,
              "#fb9f3a"
             ],
             [
              0.8888888888888888,
              "#fdca26"
             ],
             [
              1,
              "#f0f921"
             ]
            ],
            "type": "histogram2d"
           }
          ],
          "histogram2dcontour": [
           {
            "colorbar": {
             "outlinewidth": 0,
             "ticks": ""
            },
            "colorscale": [
             [
              0,
              "#0d0887"
             ],
             [
              0.1111111111111111,
              "#46039f"
             ],
             [
              0.2222222222222222,
              "#7201a8"
             ],
             [
              0.3333333333333333,
              "#9c179e"
             ],
             [
              0.4444444444444444,
              "#bd3786"
             ],
             [
              0.5555555555555556,
              "#d8576b"
             ],
             [
              0.6666666666666666,
              "#ed7953"
             ],
             [
              0.7777777777777778,
              "#fb9f3a"
             ],
             [
              0.8888888888888888,
              "#fdca26"
             ],
             [
              1,
              "#f0f921"
             ]
            ],
            "type": "histogram2dcontour"
           }
          ],
          "mesh3d": [
           {
            "colorbar": {
             "outlinewidth": 0,
             "ticks": ""
            },
            "type": "mesh3d"
           }
          ],
          "parcoords": [
           {
            "line": {
             "colorbar": {
              "outlinewidth": 0,
              "ticks": ""
             }
            },
            "type": "parcoords"
           }
          ],
          "pie": [
           {
            "automargin": true,
            "type": "pie"
           }
          ],
          "scatter": [
           {
            "fillpattern": {
             "fillmode": "overlay",
             "size": 10,
             "solidity": 0.2
            },
            "type": "scatter"
           }
          ],
          "scatter3d": [
           {
            "line": {
             "colorbar": {
              "outlinewidth": 0,
              "ticks": ""
             }
            },
            "marker": {
             "colorbar": {
              "outlinewidth": 0,
              "ticks": ""
             }
            },
            "type": "scatter3d"
           }
          ],
          "scattercarpet": [
           {
            "marker": {
             "colorbar": {
              "outlinewidth": 0,
              "ticks": ""
             }
            },
            "type": "scattercarpet"
           }
          ],
          "scattergeo": [
           {
            "marker": {
             "colorbar": {
              "outlinewidth": 0,
              "ticks": ""
             }
            },
            "type": "scattergeo"
           }
          ],
          "scattergl": [
           {
            "marker": {
             "colorbar": {
              "outlinewidth": 0,
              "ticks": ""
             }
            },
            "type": "scattergl"
           }
          ],
          "scattermapbox": [
           {
            "marker": {
             "colorbar": {
              "outlinewidth": 0,
              "ticks": ""
             }
            },
            "type": "scattermapbox"
           }
          ],
          "scatterpolar": [
           {
            "marker": {
             "colorbar": {
              "outlinewidth": 0,
              "ticks": ""
             }
            },
            "type": "scatterpolar"
           }
          ],
          "scatterpolargl": [
           {
            "marker": {
             "colorbar": {
              "outlinewidth": 0,
              "ticks": ""
             }
            },
            "type": "scatterpolargl"
           }
          ],
          "scatterternary": [
           {
            "marker": {
             "colorbar": {
              "outlinewidth": 0,
              "ticks": ""
             }
            },
            "type": "scatterternary"
           }
          ],
          "surface": [
           {
            "colorbar": {
             "outlinewidth": 0,
             "ticks": ""
            },
            "colorscale": [
             [
              0,
              "#0d0887"
             ],
             [
              0.1111111111111111,
              "#46039f"
             ],
             [
              0.2222222222222222,
              "#7201a8"
             ],
             [
              0.3333333333333333,
              "#9c179e"
             ],
             [
              0.4444444444444444,
              "#bd3786"
             ],
             [
              0.5555555555555556,
              "#d8576b"
             ],
             [
              0.6666666666666666,
              "#ed7953"
             ],
             [
              0.7777777777777778,
              "#fb9f3a"
             ],
             [
              0.8888888888888888,
              "#fdca26"
             ],
             [
              1,
              "#f0f921"
             ]
            ],
            "type": "surface"
           }
          ],
          "table": [
           {
            "cells": {
             "fill": {
              "color": "#EBF0F8"
             },
             "line": {
              "color": "white"
             }
            },
            "header": {
             "fill": {
              "color": "#C8D4E3"
             },
             "line": {
              "color": "white"
             }
            },
            "type": "table"
           }
          ]
         },
         "layout": {
          "annotationdefaults": {
           "arrowcolor": "#2a3f5f",
           "arrowhead": 0,
           "arrowwidth": 1
          },
          "autotypenumbers": "strict",
          "coloraxis": {
           "colorbar": {
            "outlinewidth": 0,
            "ticks": ""
           }
          },
          "colorscale": {
           "diverging": [
            [
             0,
             "#8e0152"
            ],
            [
             0.1,
             "#c51b7d"
            ],
            [
             0.2,
             "#de77ae"
            ],
            [
             0.3,
             "#f1b6da"
            ],
            [
             0.4,
             "#fde0ef"
            ],
            [
             0.5,
             "#f7f7f7"
            ],
            [
             0.6,
             "#e6f5d0"
            ],
            [
             0.7,
             "#b8e186"
            ],
            [
             0.8,
             "#7fbc41"
            ],
            [
             0.9,
             "#4d9221"
            ],
            [
             1,
             "#276419"
            ]
           ],
           "sequential": [
            [
             0,
             "#0d0887"
            ],
            [
             0.1111111111111111,
             "#46039f"
            ],
            [
             0.2222222222222222,
             "#7201a8"
            ],
            [
             0.3333333333333333,
             "#9c179e"
            ],
            [
             0.4444444444444444,
             "#bd3786"
            ],
            [
             0.5555555555555556,
             "#d8576b"
            ],
            [
             0.6666666666666666,
             "#ed7953"
            ],
            [
             0.7777777777777778,
             "#fb9f3a"
            ],
            [
             0.8888888888888888,
             "#fdca26"
            ],
            [
             1,
             "#f0f921"
            ]
           ],
           "sequentialminus": [
            [
             0,
             "#0d0887"
            ],
            [
             0.1111111111111111,
             "#46039f"
            ],
            [
             0.2222222222222222,
             "#7201a8"
            ],
            [
             0.3333333333333333,
             "#9c179e"
            ],
            [
             0.4444444444444444,
             "#bd3786"
            ],
            [
             0.5555555555555556,
             "#d8576b"
            ],
            [
             0.6666666666666666,
             "#ed7953"
            ],
            [
             0.7777777777777778,
             "#fb9f3a"
            ],
            [
             0.8888888888888888,
             "#fdca26"
            ],
            [
             1,
             "#f0f921"
            ]
           ]
          },
          "colorway": [
           "#636efa",
           "#EF553B",
           "#00cc96",
           "#ab63fa",
           "#FFA15A",
           "#19d3f3",
           "#FF6692",
           "#B6E880",
           "#FF97FF",
           "#FECB52"
          ],
          "font": {
           "color": "#2a3f5f"
          },
          "geo": {
           "bgcolor": "white",
           "lakecolor": "white",
           "landcolor": "#E5ECF6",
           "showlakes": true,
           "showland": true,
           "subunitcolor": "white"
          },
          "hoverlabel": {
           "align": "left"
          },
          "hovermode": "closest",
          "mapbox": {
           "style": "light"
          },
          "paper_bgcolor": "white",
          "plot_bgcolor": "#E5ECF6",
          "polar": {
           "angularaxis": {
            "gridcolor": "white",
            "linecolor": "white",
            "ticks": ""
           },
           "bgcolor": "#E5ECF6",
           "radialaxis": {
            "gridcolor": "white",
            "linecolor": "white",
            "ticks": ""
           }
          },
          "scene": {
           "xaxis": {
            "backgroundcolor": "#E5ECF6",
            "gridcolor": "white",
            "gridwidth": 2,
            "linecolor": "white",
            "showbackground": true,
            "ticks": "",
            "zerolinecolor": "white"
           },
           "yaxis": {
            "backgroundcolor": "#E5ECF6",
            "gridcolor": "white",
            "gridwidth": 2,
            "linecolor": "white",
            "showbackground": true,
            "ticks": "",
            "zerolinecolor": "white"
           },
           "zaxis": {
            "backgroundcolor": "#E5ECF6",
            "gridcolor": "white",
            "gridwidth": 2,
            "linecolor": "white",
            "showbackground": true,
            "ticks": "",
            "zerolinecolor": "white"
           }
          },
          "shapedefaults": {
           "line": {
            "color": "#2a3f5f"
           }
          },
          "ternary": {
           "aaxis": {
            "gridcolor": "white",
            "linecolor": "white",
            "ticks": ""
           },
           "baxis": {
            "gridcolor": "white",
            "linecolor": "white",
            "ticks": ""
           },
           "bgcolor": "#E5ECF6",
           "caxis": {
            "gridcolor": "white",
            "linecolor": "white",
            "ticks": ""
           }
          },
          "title": {
           "x": 0.05
          },
          "xaxis": {
           "automargin": true,
           "gridcolor": "white",
           "linecolor": "white",
           "ticks": "",
           "title": {
            "standoff": 15
           },
           "zerolinecolor": "white",
           "zerolinewidth": 2
          },
          "yaxis": {
           "automargin": true,
           "gridcolor": "white",
           "linecolor": "white",
           "ticks": "",
           "title": {
            "standoff": 15
           },
           "zerolinecolor": "white",
           "zerolinewidth": 2
          }
         }
        },
        "title": {
         "text": "Value Loss vs Iterations"
        },
        "xaxis": {
         "title": {
          "text": "Iterations"
         }
        },
        "yaxis": {
         "title": {
          "text": "Value Loss"
         }
        }
       }
      },
      "text/html": [
       "<div>                            <div id=\"60479127-41f5-41a8-98d9-a1d905e6b77a\" class=\"plotly-graph-div\" style=\"height:525px; width:100%;\"></div>            <script type=\"text/javascript\">                require([\"plotly\"], function(Plotly) {                    window.PLOTLYENV=window.PLOTLYENV || {};                                    if (document.getElementById(\"60479127-41f5-41a8-98d9-a1d905e6b77a\")) {                    Plotly.newPlot(                        \"60479127-41f5-41a8-98d9-a1d905e6b77a\",                        [{\"mode\":\"lines\",\"name\":\"Model 1\",\"x\":[1,2,3,4,5,6,7,8,9,10,11,12,13,14,15,16,17,18,19,20,21,22,23,24,25,26,27,28,29,30,31,32,33,34,35,36,37,38,39,40,41,42,43,44,45,46,47,48,49],\"y\":[null,570.1626222610473,407.1993542869886,298.21249058942,331.21239071140684,308.9852279881636,219.4960538685322,326.56612852911155,146.68610418612758,183.66846269170443,314.6524754524231,241.22055922597647,177.8107655391097,108.14375174244245,200.4041470989585,219.39918042172988,101.68861609200636,180.4643308286865,209.14133582065503,158.89348273376623,133.11275920520225,153.124297011892,246.2613157187899,249.457465446492,110.30078250889976,165.70820251430075,145.50081625804305,188.12260550508896,134.95802702357372,206.43501169035832,132.67425105075043,136.20909460733336,131.04487391660612,111.13742632667224,184.9434738571445,138.5829404771328,135.3659350246191,100.83043983529012,180.45259201079608,135.67878164052962,129.72656996498506,144.3649303170542,153.47448490709067,94.436702007552,226.1170452425877,134.9682427716752,139.21593370487292,99.79203101371724,108.56844494615991],\"type\":\"scatter\"},{\"mode\":\"lines\",\"name\":\"Model 2\",\"x\":[1,2,3,4,5,6,7,8,9,10,11,12,13,14,15,16,17,18,19,20,21,22,23,24,25,26,27,28,29,30,31,32,33,34,35,36,37,38,39,40,41,42,43,44,45,46,47,48,49,50,51,52,53,54,55,56,57,58,59,60,61,62,63,64,65,66,67,68,69,70,71,72,73,74,75,76,77,78,79,80,81,82,83,84,85,86,87,88,89,90,91,92,93,94,95,96,97,98],\"y\":[null,1645.5585596084595,2544.234871673584,889.032532119751,2261.6482177734374,1263.38175239563,1100.4770846366882,1117.877230644226,600.302595424652,554.3446906089782,1225.1676626205444,1451.6211794853211,1262.9188535690307,895.3191343307495,951.572378540039,583.2605602264405,828.8275707244873,794.7040146350861,609.5642754554749,600.4365618705749,1238.379855632782,636.7557017803192,1241.4250987052917,765.7815653800965,1209.5222590446472,839.6482666015625,536.8612810611725,528.9915812015533,740.9185577392578,609.0034183502197,547.0227059841156,535.8452910423279,628.5122865200043,505.6230013847351,534.0294878005982,751.3150624275207,1018.8603119373322,474.2684611320496,323.61580077409747,817.7933767318725,775.6918340206146,886.484549665451,426.8294765949249,609.9174254417419,552.2109080553055,475.3206679582596,737.9190569400787,455.14526839256285,361.3098782539368,360.22984371185305,381.5234586238861,844.8798393249511,336.0824721813202,326.43871853351595,336.2801883935928,339.14344894886017,234.9601749777794,536.1365177869797,475.8572271347046,239.92339663505555,227.48868436813356,225.81188938617703,253.11631138324736,543.3992146730423,337.2260949611664,261.1010456085205,935.2763559818268,289.17133221626284,247.25096294879916,548.5181073665619,934.8222324848176,662.3278856515884,333.1448254466057,447.4351664304733,302.0053580760956,519.4064429283142,593.0541347026825,287.6594233036041,389.4404014110565,366.5009526014328,526.9450932741165,226.0941947221756,427.9285374283791,490.5404363155365,347.6337476968765,271.8828249573708,181.6974935889244,269.9750461101532,255.5406231999397,187.61369602680207,294.5697821736336,274.9188243985176,318.6259920358658,293.30377130508424,509.8416894078255,217.41215535998344,405.0559026241302,236.92514513731004],\"type\":\"scatter\"},{\"mode\":\"lines\",\"name\":\"Model 3\",\"x\":[1,2,3,4,5,6,7,8,9,10,11,12,13,14,15,16,17,18,19,20,21,22,23,24,25,26,27,28,29,30,31,32,33,34,35,36,37,38,39,40,41,42,43,44,45,46,47,48,49,50,51,52,53,54,55,56,57,58,59,60,61,62,63,64,65,66,67,68,69,70,71,72,73,74,75,76,77,78,79,80,81,82,83,84,85,86,87,88,89,90,91,92,93,94,95,96,97,98,99,100,101,102,103,104,105,106,107,108,109,110,111,112,113,114,115,116,117,118,119,120,121,122,123,124,125,126,127,128,129,130,131,132,133,134,135,136,137,138,139,140,141,142,143,144,145,146,147,148,149,150,151,152,153,154,155,156,157,158,159,160,161,162,163,164,165,166,167,168,169,170,171,172,173,174,175,176,177,178,179,180,181,182,183,184,185,186,187,188,189,190,191,192,193,194,195,196],\"y\":[null,2823.821083068848,1980.5566886901856,2037.1373970031736,1484.7065189361572,1860.521231842041,2002.5361701965328,3358.7699211120607,2463.8750549316405,1246.6776050567628,2471.752186584473,1999.505569458008,1653.4157859802249,1564.255726623535,1573.0020072937011,1026.280571746826,1271.6331439971923,1635.7028915405274,2051.2354995727537,2122.823990631104,2901.2149993896483,1632.5900772094726,1225.4743789672852,2033.844882965088,2375.730453491211,2061.149068450928,1656.1337432861328,722.2276948928833,1620.0151496887206,797.5645240783691,1586.542527770996,1242.3665500640868,2271.9764053344725,2234.3060455322266,2080.656555938721,1127.8307765960694,1572.9654148101806,778.1547336578369,2103.3215721130373,1825.332566833496,1626.295613861084,1263.1485359191895,877.888826751709,692.0867420196533,1691.59501953125,690.4803812026978,770.4952217102051,1427.1468933105468,630.7282356262207,1642.2684886932373,926.9058460235595,1749.401587677002,804.494171333313,973.9551853179933,2080.960921859741,1513.139458847046,936.3343355178832,1213.9772752761842,1613.133562850952,1053.3151351928711,1288.0883590698245,1194.4793952941895,1037.903277587891,2004.3133087158203,735.5462921142578,1541.4814697265624,867.2676219940186,891.3154762268066,640.3980932235718,1153.867709350586,2288.201700592041,1418.7389934539794,1063.8759422302246,1196.0469257354737,2582.301638793945,948.8580307006836,1515.9298845291137,421.5267475128174,790.7805807113648,1460.7836917877198,806.504356765747,1591.3452503204346,833.2604686737061,1701.1043800354005,870.4783695220947,1661.3616424560546,500.8882814407349,1382.0879043579102,986.6034805297852,533.5390348434448,1107.6572261810302,2565.752448272705,2152.499564361572,2189.498867034912,617.8434282302857,1072.1541343688964,2182.880336380005,715.937050819397,610.4886423110962,615.1394613265991,1446.7645416259766,948.2563724517822,1247.2547706604005,394.8094479560852,2929.124906158447,1383.788073348999,975.7197610855104,3089.004875183105,1447.3305870056151,2044.8915424346924,2530.5326820373534,968.9872596740722,2164.767589187622,572.5395448684692,1237.5252647399902,634.4731147766113,1220.8781497955322,767.6345840454102,701.5797424316406,801.7920072555542,1401.4902587890624,1541.6588146209715,1039.8044414520264,2414.0350425720217,1052.5513534545898,1062.2275173187256,795.3581092834472,848.2618761062622,771.1673444747925,630.4217636108399,861.881307220459,863.6166917800904,1868.4364175796509,592.082525062561,958.878964996338,911.200207710266,946.4212280273438,1022.0121349334715,873.6607276916504,333.84868602752687,521.7485523223877,1905.121915435791,1614.3071212768557,849.1139028549194,653.506794166565,2167.779941177368,1603.4535186767578,732.1482913970947,705.2148441314697,618.5032350540162,713.4156749725341,591.8756353378296,536.3533536911011,1213.1105098724363,2313.814036941528,1667.189073944092,770.8707698822021,393.1892072677612,612.2733171463012,634.7146108627319,636.2573881149292,767.5802803039551,1716.4624647140504,1432.1081577301024,427.5200921058655,615.0780204772949,388.6343738555908,333.92620544433595,1061.4770990371703,770.1827142715454,1254.538335800171,2216.13914604187,529.9314224243165,966.8188991546632,893.9828489303588,539.6657760620117,517.1369173049927,563.4482177734375,1138.0139526367188,738.7141008377075,1944.448139572144,378.3106838226319,1408.1514945983886,538.4636722564697,476.6749238014221,612.4764228820801,657.6647601127625,1923.3963539123536,704.1593664169311,1152.6016498565673,428.2129543304444,621.1655611038208,281.05248107910154,1954.794638824463,636.4743188858032,497.4793701171875],\"type\":\"scatter\"}],                        {\"template\":{\"data\":{\"histogram2dcontour\":[{\"type\":\"histogram2dcontour\",\"colorbar\":{\"outlinewidth\":0,\"ticks\":\"\"},\"colorscale\":[[0.0,\"#0d0887\"],[0.1111111111111111,\"#46039f\"],[0.2222222222222222,\"#7201a8\"],[0.3333333333333333,\"#9c179e\"],[0.4444444444444444,\"#bd3786\"],[0.5555555555555556,\"#d8576b\"],[0.6666666666666666,\"#ed7953\"],[0.7777777777777778,\"#fb9f3a\"],[0.8888888888888888,\"#fdca26\"],[1.0,\"#f0f921\"]]}],\"choropleth\":[{\"type\":\"choropleth\",\"colorbar\":{\"outlinewidth\":0,\"ticks\":\"\"}}],\"histogram2d\":[{\"type\":\"histogram2d\",\"colorbar\":{\"outlinewidth\":0,\"ticks\":\"\"},\"colorscale\":[[0.0,\"#0d0887\"],[0.1111111111111111,\"#46039f\"],[0.2222222222222222,\"#7201a8\"],[0.3333333333333333,\"#9c179e\"],[0.4444444444444444,\"#bd3786\"],[0.5555555555555556,\"#d8576b\"],[0.6666666666666666,\"#ed7953\"],[0.7777777777777778,\"#fb9f3a\"],[0.8888888888888888,\"#fdca26\"],[1.0,\"#f0f921\"]]}],\"heatmap\":[{\"type\":\"heatmap\",\"colorbar\":{\"outlinewidth\":0,\"ticks\":\"\"},\"colorscale\":[[0.0,\"#0d0887\"],[0.1111111111111111,\"#46039f\"],[0.2222222222222222,\"#7201a8\"],[0.3333333333333333,\"#9c179e\"],[0.4444444444444444,\"#bd3786\"],[0.5555555555555556,\"#d8576b\"],[0.6666666666666666,\"#ed7953\"],[0.7777777777777778,\"#fb9f3a\"],[0.8888888888888888,\"#fdca26\"],[1.0,\"#f0f921\"]]}],\"heatmapgl\":[{\"type\":\"heatmapgl\",\"colorbar\":{\"outlinewidth\":0,\"ticks\":\"\"},\"colorscale\":[[0.0,\"#0d0887\"],[0.1111111111111111,\"#46039f\"],[0.2222222222222222,\"#7201a8\"],[0.3333333333333333,\"#9c179e\"],[0.4444444444444444,\"#bd3786\"],[0.5555555555555556,\"#d8576b\"],[0.6666666666666666,\"#ed7953\"],[0.7777777777777778,\"#fb9f3a\"],[0.8888888888888888,\"#fdca26\"],[1.0,\"#f0f921\"]]}],\"contourcarpet\":[{\"type\":\"contourcarpet\",\"colorbar\":{\"outlinewidth\":0,\"ticks\":\"\"}}],\"contour\":[{\"type\":\"contour\",\"colorbar\":{\"outlinewidth\":0,\"ticks\":\"\"},\"colorscale\":[[0.0,\"#0d0887\"],[0.1111111111111111,\"#46039f\"],[0.2222222222222222,\"#7201a8\"],[0.3333333333333333,\"#9c179e\"],[0.4444444444444444,\"#bd3786\"],[0.5555555555555556,\"#d8576b\"],[0.6666666666666666,\"#ed7953\"],[0.7777777777777778,\"#fb9f3a\"],[0.8888888888888888,\"#fdca26\"],[1.0,\"#f0f921\"]]}],\"surface\":[{\"type\":\"surface\",\"colorbar\":{\"outlinewidth\":0,\"ticks\":\"\"},\"colorscale\":[[0.0,\"#0d0887\"],[0.1111111111111111,\"#46039f\"],[0.2222222222222222,\"#7201a8\"],[0.3333333333333333,\"#9c179e\"],[0.4444444444444444,\"#bd3786\"],[0.5555555555555556,\"#d8576b\"],[0.6666666666666666,\"#ed7953\"],[0.7777777777777778,\"#fb9f3a\"],[0.8888888888888888,\"#fdca26\"],[1.0,\"#f0f921\"]]}],\"mesh3d\":[{\"type\":\"mesh3d\",\"colorbar\":{\"outlinewidth\":0,\"ticks\":\"\"}}],\"scatter\":[{\"fillpattern\":{\"fillmode\":\"overlay\",\"size\":10,\"solidity\":0.2},\"type\":\"scatter\"}],\"parcoords\":[{\"type\":\"parcoords\",\"line\":{\"colorbar\":{\"outlinewidth\":0,\"ticks\":\"\"}}}],\"scatterpolargl\":[{\"type\":\"scatterpolargl\",\"marker\":{\"colorbar\":{\"outlinewidth\":0,\"ticks\":\"\"}}}],\"bar\":[{\"error_x\":{\"color\":\"#2a3f5f\"},\"error_y\":{\"color\":\"#2a3f5f\"},\"marker\":{\"line\":{\"color\":\"#E5ECF6\",\"width\":0.5},\"pattern\":{\"fillmode\":\"overlay\",\"size\":10,\"solidity\":0.2}},\"type\":\"bar\"}],\"scattergeo\":[{\"type\":\"scattergeo\",\"marker\":{\"colorbar\":{\"outlinewidth\":0,\"ticks\":\"\"}}}],\"scatterpolar\":[{\"type\":\"scatterpolar\",\"marker\":{\"colorbar\":{\"outlinewidth\":0,\"ticks\":\"\"}}}],\"histogram\":[{\"marker\":{\"pattern\":{\"fillmode\":\"overlay\",\"size\":10,\"solidity\":0.2}},\"type\":\"histogram\"}],\"scattergl\":[{\"type\":\"scattergl\",\"marker\":{\"colorbar\":{\"outlinewidth\":0,\"ticks\":\"\"}}}],\"scatter3d\":[{\"type\":\"scatter3d\",\"line\":{\"colorbar\":{\"outlinewidth\":0,\"ticks\":\"\"}},\"marker\":{\"colorbar\":{\"outlinewidth\":0,\"ticks\":\"\"}}}],\"scattermapbox\":[{\"type\":\"scattermapbox\",\"marker\":{\"colorbar\":{\"outlinewidth\":0,\"ticks\":\"\"}}}],\"scatterternary\":[{\"type\":\"scatterternary\",\"marker\":{\"colorbar\":{\"outlinewidth\":0,\"ticks\":\"\"}}}],\"scattercarpet\":[{\"type\":\"scattercarpet\",\"marker\":{\"colorbar\":{\"outlinewidth\":0,\"ticks\":\"\"}}}],\"carpet\":[{\"aaxis\":{\"endlinecolor\":\"#2a3f5f\",\"gridcolor\":\"white\",\"linecolor\":\"white\",\"minorgridcolor\":\"white\",\"startlinecolor\":\"#2a3f5f\"},\"baxis\":{\"endlinecolor\":\"#2a3f5f\",\"gridcolor\":\"white\",\"linecolor\":\"white\",\"minorgridcolor\":\"white\",\"startlinecolor\":\"#2a3f5f\"},\"type\":\"carpet\"}],\"table\":[{\"cells\":{\"fill\":{\"color\":\"#EBF0F8\"},\"line\":{\"color\":\"white\"}},\"header\":{\"fill\":{\"color\":\"#C8D4E3\"},\"line\":{\"color\":\"white\"}},\"type\":\"table\"}],\"barpolar\":[{\"marker\":{\"line\":{\"color\":\"#E5ECF6\",\"width\":0.5},\"pattern\":{\"fillmode\":\"overlay\",\"size\":10,\"solidity\":0.2}},\"type\":\"barpolar\"}],\"pie\":[{\"automargin\":true,\"type\":\"pie\"}]},\"layout\":{\"autotypenumbers\":\"strict\",\"colorway\":[\"#636efa\",\"#EF553B\",\"#00cc96\",\"#ab63fa\",\"#FFA15A\",\"#19d3f3\",\"#FF6692\",\"#B6E880\",\"#FF97FF\",\"#FECB52\"],\"font\":{\"color\":\"#2a3f5f\"},\"hovermode\":\"closest\",\"hoverlabel\":{\"align\":\"left\"},\"paper_bgcolor\":\"white\",\"plot_bgcolor\":\"#E5ECF6\",\"polar\":{\"bgcolor\":\"#E5ECF6\",\"angularaxis\":{\"gridcolor\":\"white\",\"linecolor\":\"white\",\"ticks\":\"\"},\"radialaxis\":{\"gridcolor\":\"white\",\"linecolor\":\"white\",\"ticks\":\"\"}},\"ternary\":{\"bgcolor\":\"#E5ECF6\",\"aaxis\":{\"gridcolor\":\"white\",\"linecolor\":\"white\",\"ticks\":\"\"},\"baxis\":{\"gridcolor\":\"white\",\"linecolor\":\"white\",\"ticks\":\"\"},\"caxis\":{\"gridcolor\":\"white\",\"linecolor\":\"white\",\"ticks\":\"\"}},\"coloraxis\":{\"colorbar\":{\"outlinewidth\":0,\"ticks\":\"\"}},\"colorscale\":{\"sequential\":[[0.0,\"#0d0887\"],[0.1111111111111111,\"#46039f\"],[0.2222222222222222,\"#7201a8\"],[0.3333333333333333,\"#9c179e\"],[0.4444444444444444,\"#bd3786\"],[0.5555555555555556,\"#d8576b\"],[0.6666666666666666,\"#ed7953\"],[0.7777777777777778,\"#fb9f3a\"],[0.8888888888888888,\"#fdca26\"],[1.0,\"#f0f921\"]],\"sequentialminus\":[[0.0,\"#0d0887\"],[0.1111111111111111,\"#46039f\"],[0.2222222222222222,\"#7201a8\"],[0.3333333333333333,\"#9c179e\"],[0.4444444444444444,\"#bd3786\"],[0.5555555555555556,\"#d8576b\"],[0.6666666666666666,\"#ed7953\"],[0.7777777777777778,\"#fb9f3a\"],[0.8888888888888888,\"#fdca26\"],[1.0,\"#f0f921\"]],\"diverging\":[[0,\"#8e0152\"],[0.1,\"#c51b7d\"],[0.2,\"#de77ae\"],[0.3,\"#f1b6da\"],[0.4,\"#fde0ef\"],[0.5,\"#f7f7f7\"],[0.6,\"#e6f5d0\"],[0.7,\"#b8e186\"],[0.8,\"#7fbc41\"],[0.9,\"#4d9221\"],[1,\"#276419\"]]},\"xaxis\":{\"gridcolor\":\"white\",\"linecolor\":\"white\",\"ticks\":\"\",\"title\":{\"standoff\":15},\"zerolinecolor\":\"white\",\"automargin\":true,\"zerolinewidth\":2},\"yaxis\":{\"gridcolor\":\"white\",\"linecolor\":\"white\",\"ticks\":\"\",\"title\":{\"standoff\":15},\"zerolinecolor\":\"white\",\"automargin\":true,\"zerolinewidth\":2},\"scene\":{\"xaxis\":{\"backgroundcolor\":\"#E5ECF6\",\"gridcolor\":\"white\",\"linecolor\":\"white\",\"showbackground\":true,\"ticks\":\"\",\"zerolinecolor\":\"white\",\"gridwidth\":2},\"yaxis\":{\"backgroundcolor\":\"#E5ECF6\",\"gridcolor\":\"white\",\"linecolor\":\"white\",\"showbackground\":true,\"ticks\":\"\",\"zerolinecolor\":\"white\",\"gridwidth\":2},\"zaxis\":{\"backgroundcolor\":\"#E5ECF6\",\"gridcolor\":\"white\",\"linecolor\":\"white\",\"showbackground\":true,\"ticks\":\"\",\"zerolinecolor\":\"white\",\"gridwidth\":2}},\"shapedefaults\":{\"line\":{\"color\":\"#2a3f5f\"}},\"annotationdefaults\":{\"arrowcolor\":\"#2a3f5f\",\"arrowhead\":0,\"arrowwidth\":1},\"geo\":{\"bgcolor\":\"white\",\"landcolor\":\"#E5ECF6\",\"subunitcolor\":\"white\",\"showland\":true,\"showlakes\":true,\"lakecolor\":\"white\"},\"title\":{\"x\":0.05},\"mapbox\":{\"style\":\"light\"}}},\"title\":{\"text\":\"Value Loss vs Iterations\"},\"xaxis\":{\"title\":{\"text\":\"Iterations\"}},\"yaxis\":{\"title\":{\"text\":\"Value Loss\"}},\"legend\":{\"title\":{\"text\":\"Models\"}}},                        {\"responsive\": true}                    ).then(function(){\n",
       "                            \n",
       "var gd = document.getElementById('60479127-41f5-41a8-98d9-a1d905e6b77a');\n",
       "var x = new MutationObserver(function (mutations, observer) {{\n",
       "        var display = window.getComputedStyle(gd).display;\n",
       "        if (!display || display === 'none') {{\n",
       "            console.log([gd, 'removed!']);\n",
       "            Plotly.purge(gd);\n",
       "            observer.disconnect();\n",
       "        }}\n",
       "}});\n",
       "\n",
       "// Listen for the removal of the full notebook cells\n",
       "var notebookContainer = gd.closest('#notebook-container');\n",
       "if (notebookContainer) {{\n",
       "    x.observe(notebookContainer, {childList: true});\n",
       "}}\n",
       "\n",
       "// Listen for the clearing of the current output cell\n",
       "var outputEl = gd.closest('.output');\n",
       "if (outputEl) {{\n",
       "    x.observe(outputEl, {childList: true});\n",
       "}}\n",
       "\n",
       "                        })                };                });            </script>        </div>"
      ]
     },
     "metadata": {},
     "output_type": "display_data"
    }
   ],
   "source": [
    "fig = go.Figure()\n",
    "fig.add_trace(go.Scatter(\n",
    "    x=df_1['time/iterations'],\n",
    "    y=df_1['train/value_loss'],\n",
    "    mode='lines',\n",
    "    name='Model 1'\n",
    "))\n",
    "fig.add_trace(go.Scatter(\n",
    "    x=df_2['time/iterations'],\n",
    "    y=df_2['train/value_loss'],\n",
    "    mode='lines',\n",
    "    name='Model 2'\n",
    "))\n",
    "fig.add_trace(go.Scatter(\n",
    "    x=df_3['time/iterations'],\n",
    "    y=df_3['train/value_loss'],\n",
    "    mode='lines',\n",
    "    name='Model 3'\n",
    "))\n",
    "fig.update_layout(\n",
    "    title='Value Loss vs Iterations',\n",
    "    xaxis_title='Iterations',\n",
    "    yaxis_title='Value Loss',\n",
    "    legend_title='Models'\n",
    ")\n",
    "fig.show()"
   ]
  },
  {
   "cell_type": "markdown",
   "metadata": {},
   "source": [
    "=> Best Model : 1"
   ]
  },
  {
   "cell_type": "code",
   "execution_count": 17,
   "metadata": {},
   "outputs": [
    {
     "name": "stdout",
     "output_type": "stream",
     "text": [
      "Models are saved\n"
     ]
    }
   ],
   "source": [
    "model.save(\"../Models/PPO Tuning/PPO_Tuning_1\")\n",
    "model_2.save(\"../Models/PPO Tuning/PPO_Tuning_2\")\n",
    "model_3.save(\"../Models/PPO Tuning/PPO_Tuning_3\")\n",
    "print(\"Models are saved\")"
   ]
  },
  {
   "cell_type": "markdown",
   "metadata": {},
   "source": [
    "# Testing Best Model"
   ]
  },
  {
   "cell_type": "code",
   "execution_count": 18,
   "metadata": {},
   "outputs": [
    {
     "name": "stdout",
     "output_type": "stream",
     "text": [
      "Total reward: 148\n"
     ]
    }
   ],
   "source": [
    "model = PPO.load(\"../Models/PPO Tuning/PPO_Tuning_1\")\n",
    "envir = TreasureHuntEnv(size=9, max_steps=200, lives=3, render_mode=\"human\")\n",
    "\n",
    "obs, _ = envir.reset()\n",
    "\n",
    "done = False\n",
    "total_reward = 0\n",
    "\n",
    "while not done:\n",
    "    action, _states = model.predict(obs, deterministic=True) \n",
    "    action = int(action)  \n",
    "    obs, reward, done, _, _ = envir.step(action)  \n",
    "    total_reward += reward\n",
    "    envir.render()  \n",
    "    time.sleep(0.3)\n",
    "env.close()\n",
    "print(f\"Total reward: {total_reward}\")"
   ]
  }
 ],
 "metadata": {
  "kernelspec": {
   "display_name": "base",
   "language": "python",
   "name": "python3"
  },
  "language_info": {
   "codemirror_mode": {
    "name": "ipython",
    "version": 3
   },
   "file_extension": ".py",
   "mimetype": "text/x-python",
   "name": "python",
   "nbconvert_exporter": "python",
   "pygments_lexer": "ipython3",
   "version": "3.12.7"
  }
 },
 "nbformat": 4,
 "nbformat_minor": 2
}
