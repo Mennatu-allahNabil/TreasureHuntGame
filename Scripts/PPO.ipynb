{
 "cells": [
  {
   "cell_type": "markdown",
   "metadata": {},
   "source": [
    "# **PPO**"
   ]
  },
  {
   "cell_type": "markdown",
   "metadata": {},
   "source": [
    "# Import Libraries"
   ]
  },
  {
   "cell_type": "code",
   "execution_count": 1,
   "metadata": {},
   "outputs": [
    {
     "data": {
      "text/html": [
       "        <script type=\"text/javascript\">\n",
       "        window.PlotlyConfig = {MathJaxConfig: 'local'};\n",
       "        if (window.MathJax && window.MathJax.Hub && window.MathJax.Hub.Config) {window.MathJax.Hub.Config({SVG: {font: \"STIX-Web\"}});}\n",
       "        if (typeof require !== 'undefined') {\n",
       "        require.undef(\"plotly\");\n",
       "        requirejs.config({\n",
       "            paths: {\n",
       "                'plotly': ['https://cdn.plot.ly/plotly-2.35.2.min']\n",
       "            }\n",
       "        });\n",
       "        require(['plotly'], function(Plotly) {\n",
       "            window._Plotly = Plotly;\n",
       "        });\n",
       "        }\n",
       "        </script>\n",
       "        "
      ]
     },
     "metadata": {},
     "output_type": "display_data"
    }
   ],
   "source": [
    "import gym\n",
    "import time\n",
    "import torch\n",
    "from torch import nn\n",
    "import numpy as np\n",
    "import pandas as pd\n",
    "import cufflinks as cf\n",
    "import plotly.express as px\n",
    "import matplotlib.pyplot as plt\n",
    "import plotly.graph_objects as go\n",
    "from stable_baselines3.common.logger import configure\n",
    "from stable_baselines3.common.vec_env import DummyVecEnv\n",
    "from stable_baselines3.common.env_util import make_vec_env\n",
    "from stable_baselines3 import PPO\n",
    "from stable_baselines3.common.callbacks import BaseCallback\n",
    "from stable_baselines3.common.policies import ActorCriticPolicy\n",
    "from stable_baselines3.common.evaluation import evaluate_policy\n",
    "from stable_baselines3.common.torch_layers import BaseFeaturesExtractor\n",
    "from plotly.offline import download_plotlyjs, init_notebook_mode, plot, iplot\n",
    "init_notebook_mode(connected=True)"
   ]
  },
  {
   "cell_type": "code",
   "execution_count": 2,
   "metadata": {},
   "outputs": [
    {
     "data": {
      "text/html": [
       "        <script type=\"text/javascript\">\n",
       "        window.PlotlyConfig = {MathJaxConfig: 'local'};\n",
       "        if (window.MathJax && window.MathJax.Hub && window.MathJax.Hub.Config) {window.MathJax.Hub.Config({SVG: {font: \"STIX-Web\"}});}\n",
       "        if (typeof require !== 'undefined') {\n",
       "        require.undef(\"plotly\");\n",
       "        requirejs.config({\n",
       "            paths: {\n",
       "                'plotly': ['https://cdn.plot.ly/plotly-2.35.2.min']\n",
       "            }\n",
       "        });\n",
       "        require(['plotly'], function(Plotly) {\n",
       "            window._Plotly = Plotly;\n",
       "        });\n",
       "        }\n",
       "        </script>\n",
       "        "
      ]
     },
     "metadata": {},
     "output_type": "display_data"
    },
    {
     "data": {
      "text/html": [
       "        <script type=\"text/javascript\">\n",
       "        window.PlotlyConfig = {MathJaxConfig: 'local'};\n",
       "        if (window.MathJax && window.MathJax.Hub && window.MathJax.Hub.Config) {window.MathJax.Hub.Config({SVG: {font: \"STIX-Web\"}});}\n",
       "        if (typeof require !== 'undefined') {\n",
       "        require.undef(\"plotly\");\n",
       "        requirejs.config({\n",
       "            paths: {\n",
       "                'plotly': ['https://cdn.plot.ly/plotly-2.35.2.min']\n",
       "            }\n",
       "        });\n",
       "        require(['plotly'], function(Plotly) {\n",
       "            window._Plotly = Plotly;\n",
       "        });\n",
       "        }\n",
       "        </script>\n",
       "        "
      ]
     },
     "metadata": {},
     "output_type": "display_data"
    }
   ],
   "source": [
    "# For Notebooks\n",
    "init_notebook_mode(connected=True)\n",
    "# For offline use\n",
    "cf.go_offline()"
   ]
  },
  {
   "cell_type": "code",
   "execution_count": 12,
   "metadata": {},
   "outputs": [],
   "source": [
    "# Environment\n",
    "from treasure_env import *"
   ]
  },
  {
   "cell_type": "markdown",
   "metadata": {},
   "source": [
    "# PPO Training"
   ]
  },
  {
   "cell_type": "code",
   "execution_count": 13,
   "metadata": {},
   "outputs": [],
   "source": [
    "env = TreasureHuntEnv(size=9, max_steps=500, lives=3)"
   ]
  },
  {
   "cell_type": "code",
   "execution_count": null,
   "metadata": {},
   "outputs": [
    {
     "name": "stdout",
     "output_type": "stream",
     "text": [
      "Using cpu device\n",
      "Wrapping the env with a `Monitor` wrapper\n",
      "Wrapping the env in a DummyVecEnv.\n"
     ]
    },
    {
     "name": "stderr",
     "output_type": "stream",
     "text": [
      "d:\\anaconda\\Lib\\site-packages\\stable_baselines3\\common\\vec_env\\patch_gym.py:49: UserWarning: You provided an OpenAI Gym environment. We strongly recommend transitioning to Gymnasium environments. Stable-Baselines3 is automatically wrapping your environments in a compatibility layer, which could potentially cause issues.\n",
      "  warnings.warn(\n"
     ]
    },
    {
     "name": "stdout",
     "output_type": "stream",
     "text": [
      "Training is done\n"
     ]
    }
   ],
   "source": [
    "logger = configure(\"../Tensorboard logs/ppo_logs/PPO\", [\"csv\", \"tensorboard\"])\n",
    "model = PPO(\n",
    "    \"MultiInputPolicy\",\n",
    "    env,\n",
    "    verbose=2,\n",
    "    tensorboard_log='../Tensorboard logs/ppo_logs/',\n",
    "    learning_rate=0.0003,\n",
    "    gamma=0.99,\n",
    "    n_steps=2048, \n",
    "    batch_size=16,\n",
    "    n_epochs=15,\n",
    "    clip_range=0.5,\n",
    "    ent_coef=0.03,\n",
    "    vf_coef=0.5,\n",
    "    normalize_advantage=True,\n",
    "    max_grad_norm=0.5,\n",
    "    seed=420,    \n",
    ")\n",
    "model.set_logger(logger)\n",
    "model.learn(total_timesteps=800000)\n",
    "print(\"Training is done\")"
   ]
  },
  {
   "cell_type": "code",
   "execution_count": 6,
   "metadata": {},
   "outputs": [
    {
     "name": "stdout",
     "output_type": "stream",
     "text": [
      "Model is saved\n"
     ]
    }
   ],
   "source": [
    "model.save(\"../Models/PPO/PPO_model_6\")\n",
    "print(\"Model is saved\")"
   ]
  },
  {
   "cell_type": "markdown",
   "metadata": {},
   "source": [
    "# Results"
   ]
  },
  {
   "cell_type": "code",
   "execution_count": 3,
   "metadata": {},
   "outputs": [],
   "source": [
    "df = pd.read_csv(\"../Tensorboard logs/ppo_logs/PPO/progress.csv\")"
   ]
  },
  {
   "cell_type": "code",
   "execution_count": 4,
   "metadata": {},
   "outputs": [
    {
     "data": {
      "application/vnd.plotly.v1+json": {
       "config": {
        "plotlyServerURL": "https://plot.ly"
       },
       "data": [
        {
         "hovertemplate": "Iterations=%{x}<br>Episode Reward Mean=%{y}<extra></extra>",
         "legendgroup": "",
         "line": {
          "color": "#636efa",
          "dash": "solid"
         },
         "marker": {
          "symbol": "circle"
         },
         "mode": "lines",
         "name": "",
         "orientation": "v",
         "showlegend": false,
         "type": "scatter",
         "x": [
          1,
          2,
          3,
          4,
          5,
          6,
          7,
          8,
          9,
          10,
          11,
          12,
          13,
          14,
          15,
          16,
          17,
          18,
          19,
          20,
          21,
          22,
          23,
          24,
          25,
          26,
          27,
          28,
          29,
          30,
          31,
          32,
          33,
          34,
          35,
          36,
          37,
          38,
          39,
          40,
          41,
          42,
          43,
          44,
          45,
          46,
          47,
          48,
          49,
          50,
          51,
          52,
          53,
          54,
          55,
          56,
          57,
          58,
          59,
          60,
          61,
          62,
          63,
          64,
          65,
          66,
          67,
          68,
          69,
          70,
          71,
          72,
          73,
          74,
          75,
          76,
          77,
          78,
          79,
          80,
          81,
          82,
          83,
          84,
          85,
          86,
          87,
          88,
          89,
          90,
          91,
          92,
          93,
          94,
          95,
          96,
          97,
          98,
          99,
          100,
          101,
          102,
          103,
          104,
          105,
          106,
          107,
          108,
          109,
          110,
          111,
          112,
          113,
          114,
          115,
          116,
          117,
          118,
          119,
          120,
          121,
          122,
          123,
          124,
          125,
          126,
          127,
          128,
          129,
          130,
          131,
          132,
          133,
          134,
          135,
          136,
          137,
          138,
          139,
          140,
          141,
          142,
          143,
          144,
          145,
          146,
          147,
          148,
          149,
          150,
          151,
          152,
          153,
          154,
          155,
          156,
          157,
          158,
          159,
          160,
          161,
          162,
          163,
          164,
          165,
          166,
          167,
          168,
          169,
          170,
          171,
          172,
          173,
          174,
          175,
          176,
          177,
          178,
          179,
          180,
          181,
          182,
          183,
          184,
          185,
          186,
          187,
          188,
          189,
          190,
          191,
          192,
          193,
          194,
          195,
          196,
          197,
          198,
          199,
          200,
          201,
          202,
          203,
          204,
          205,
          206,
          207,
          208,
          209,
          210,
          211,
          212,
          213,
          214,
          215,
          216,
          217,
          218,
          219,
          220,
          221,
          222,
          223,
          224,
          225,
          226,
          227,
          228,
          229,
          230,
          231,
          232,
          233,
          234,
          235,
          236,
          237,
          238,
          239,
          240,
          241,
          242,
          243,
          244,
          245,
          246,
          247,
          248,
          249,
          250,
          251,
          252,
          253,
          254,
          255,
          256,
          257,
          258,
          259,
          260,
          261,
          262,
          263,
          264,
          265,
          266,
          267,
          268,
          269,
          270,
          271,
          272,
          273,
          274,
          275,
          276,
          277,
          278,
          279,
          280,
          281,
          282,
          283,
          284,
          285,
          286,
          287,
          288,
          289,
          290,
          291,
          292,
          293,
          294,
          295,
          296,
          297,
          298,
          299,
          300,
          301,
          302,
          303,
          304,
          305,
          306,
          307,
          308,
          309,
          310,
          311,
          312,
          313,
          314,
          315,
          316,
          317,
          318,
          319,
          320,
          321,
          322,
          323,
          324,
          325,
          326,
          327,
          328,
          329,
          330,
          331,
          332,
          333,
          334,
          335,
          336,
          337,
          338,
          339,
          340,
          341,
          342,
          343,
          344,
          345,
          346,
          347,
          348,
          349,
          350,
          351,
          352,
          353,
          354,
          355,
          356,
          357,
          358,
          359,
          360,
          361,
          362,
          363,
          364,
          365,
          366,
          367,
          368,
          369,
          370,
          371,
          372,
          373,
          374,
          375,
          376,
          377,
          378,
          379,
          380,
          381,
          382,
          383,
          384,
          385,
          386,
          387,
          388,
          389,
          390,
          391
         ],
         "xaxis": "x",
         "y": [
          -565.6,
          -977.3076923076924,
          -672.6923076923077,
          -654.65625,
          -749.9722222222222,
          -685.2325581395348,
          -554.3928571428571,
          -558.9516129032259,
          -456,
          -437.7586206896552,
          -395.47474747474746,
          -253.38,
          -219.38,
          -135.31,
          -93.11,
          -65.31,
          -43.03,
          -32.52,
          -16.66,
          -2.78,
          5.63,
          21.1,
          24.37,
          36.57,
          57.39,
          70.33,
          75.68,
          76.14,
          60.69,
          67.18,
          86.36,
          86.66,
          98.38,
          113.62,
          112.06,
          112.29,
          112.79,
          109.61,
          104.34,
          97.11,
          98,
          102.39,
          99.13,
          103.33,
          108.09,
          108.63,
          107.1,
          102.26,
          103.69,
          117.36,
          125.53,
          152.18,
          169.99,
          191.36,
          202.45,
          208.59,
          217.84,
          209.94,
          219.62,
          215.03,
          212.55,
          207.18,
          218.24,
          223.97,
          240.12,
          261.28,
          264.36,
          276.07,
          275.61,
          254.61,
          235.58,
          223.59,
          211.27,
          208.05,
          216.68,
          212.23,
          214.31,
          223.48,
          254.01,
          260.87,
          273.28,
          268.62,
          278.37,
          273.84,
          264.56,
          269.7,
          261.26,
          263.39,
          265.09,
          317.48,
          322.91,
          339.8,
          347.26,
          360.58,
          376.22,
          377.03,
          381.06,
          362.18,
          352.39,
          349.63,
          343.08,
          351.22,
          346.04,
          354.88,
          357.99,
          347.07,
          352.86,
          355.57,
          357.93,
          371.38,
          380.01,
          386.15,
          386.78,
          385.55,
          393.28,
          406.65,
          426.48,
          439.77,
          467.63,
          469.39,
          476.1,
          479.67,
          480.8,
          475.17,
          472.13,
          477.47,
          465.41,
          462.75,
          465.97,
          464.71,
          466.76,
          468.05,
          461.39,
          449.35,
          454,
          453.83,
          459.1,
          451.75,
          453.16,
          439.02,
          430.5,
          439.11,
          442.65,
          438.87,
          435.97,
          448.4,
          456.2,
          468.59,
          475.84,
          485.04,
          488.67,
          499.49,
          493.33,
          489.49,
          485.68,
          494.93,
          489.1,
          485.85,
          487.38,
          482.4,
          501.63,
          503.6,
          509.81,
          516.75,
          515.56,
          509.52,
          515.18,
          524.75,
          527.4,
          527.53,
          527.12,
          523.88,
          518.45,
          525.87,
          517.15,
          525.49,
          525.34,
          520.2,
          526.18,
          533.81,
          539.44,
          535.95,
          528.11,
          511.27,
          510.52,
          502.48,
          494.87,
          494.81,
          495.6,
          492.97,
          489.94,
          488.13,
          488.92,
          488.64,
          487.58,
          491.79,
          492.3,
          487.45,
          489.24,
          487.99,
          494.17,
          487.21,
          492.5,
          497.08,
          496.36,
          507.39,
          516.99,
          515.74,
          513.4,
          522,
          534.76,
          539.15,
          535.22,
          534.6,
          537.96,
          532.61,
          532.85,
          533.96,
          533.03,
          529.53,
          531.68,
          524.08,
          519.53,
          522.2,
          525.03,
          526.82,
          524.76,
          526.12,
          534.63,
          537.58,
          530.55,
          534.11,
          536.27,
          542.47,
          542.23,
          543.46,
          554.47,
          561.76,
          564.94,
          558.45,
          564.7,
          570.69,
          567.13,
          573.84,
          584.13,
          586.73,
          580.15,
          574.09,
          569.23,
          559.98,
          563.99,
          560.8,
          566.53,
          569.36,
          562.59,
          552.55,
          548.35,
          546.15,
          552.14,
          552.76,
          554.96,
          554.46,
          552.69,
          546.11,
          546.39,
          545.77,
          546.58,
          540.31,
          543.64,
          543.65,
          551.87,
          558.88,
          548.04,
          542.14,
          543.61,
          541.33,
          545.62,
          548.99,
          552.33,
          549.54,
          542.49,
          535.93,
          529.22,
          523.21,
          519.78,
          522.46,
          534.95,
          528.94,
          524.58,
          512.44,
          512.1,
          513.37,
          506.71,
          499.03,
          512.72,
          518.12,
          512.36,
          513.85,
          506.85,
          510.39,
          517.9,
          524.22,
          531.29,
          525.61,
          536.64,
          535.75,
          531.34,
          529.68,
          521.5,
          524.03,
          527.33,
          534.56,
          523.7,
          532.17,
          534.58,
          543.59,
          543.35,
          542.28,
          547.48,
          540.21,
          538.62,
          525.07,
          518.6,
          514.72,
          513.46,
          514.65,
          511.69,
          514.81,
          517.83,
          533.53,
          542.66,
          541.96,
          539.34,
          544.5,
          544.87,
          544.35,
          549.33,
          540.3,
          521.12,
          526.81,
          533.93,
          525.53,
          524.43,
          516.41,
          513.75,
          505.78,
          495.56,
          486.36,
          482.48,
          477.42,
          480.49,
          481.18,
          482.67,
          468.78,
          452.28,
          453.15,
          459.65,
          463.06,
          472.74,
          475.11,
          486.02,
          482.28,
          488.9,
          481.78,
          482.5,
          474.75,
          479.22,
          482.48,
          490.04,
          491.13,
          492.05,
          500.17,
          513.17,
          520.27,
          521.76,
          539.4,
          546.7,
          557.07,
          562.92,
          565.43,
          576.26,
          579.63,
          577.51,
          578.05,
          600.34,
          604.14,
          624.28,
          642.86,
          647.52,
          646.28,
          650.98
         ],
         "yaxis": "y"
        }
       ],
       "layout": {
        "legend": {
         "tracegroupgap": 0
        },
        "template": {
         "data": {
          "bar": [
           {
            "error_x": {
             "color": "#2a3f5f"
            },
            "error_y": {
             "color": "#2a3f5f"
            },
            "marker": {
             "line": {
              "color": "#E5ECF6",
              "width": 0.5
             },
             "pattern": {
              "fillmode": "overlay",
              "size": 10,
              "solidity": 0.2
             }
            },
            "type": "bar"
           }
          ],
          "barpolar": [
           {
            "marker": {
             "line": {
              "color": "#E5ECF6",
              "width": 0.5
             },
             "pattern": {
              "fillmode": "overlay",
              "size": 10,
              "solidity": 0.2
             }
            },
            "type": "barpolar"
           }
          ],
          "carpet": [
           {
            "aaxis": {
             "endlinecolor": "#2a3f5f",
             "gridcolor": "white",
             "linecolor": "white",
             "minorgridcolor": "white",
             "startlinecolor": "#2a3f5f"
            },
            "baxis": {
             "endlinecolor": "#2a3f5f",
             "gridcolor": "white",
             "linecolor": "white",
             "minorgridcolor": "white",
             "startlinecolor": "#2a3f5f"
            },
            "type": "carpet"
           }
          ],
          "choropleth": [
           {
            "colorbar": {
             "outlinewidth": 0,
             "ticks": ""
            },
            "type": "choropleth"
           }
          ],
          "contour": [
           {
            "colorbar": {
             "outlinewidth": 0,
             "ticks": ""
            },
            "colorscale": [
             [
              0,
              "#0d0887"
             ],
             [
              0.1111111111111111,
              "#46039f"
             ],
             [
              0.2222222222222222,
              "#7201a8"
             ],
             [
              0.3333333333333333,
              "#9c179e"
             ],
             [
              0.4444444444444444,
              "#bd3786"
             ],
             [
              0.5555555555555556,
              "#d8576b"
             ],
             [
              0.6666666666666666,
              "#ed7953"
             ],
             [
              0.7777777777777778,
              "#fb9f3a"
             ],
             [
              0.8888888888888888,
              "#fdca26"
             ],
             [
              1,
              "#f0f921"
             ]
            ],
            "type": "contour"
           }
          ],
          "contourcarpet": [
           {
            "colorbar": {
             "outlinewidth": 0,
             "ticks": ""
            },
            "type": "contourcarpet"
           }
          ],
          "heatmap": [
           {
            "colorbar": {
             "outlinewidth": 0,
             "ticks": ""
            },
            "colorscale": [
             [
              0,
              "#0d0887"
             ],
             [
              0.1111111111111111,
              "#46039f"
             ],
             [
              0.2222222222222222,
              "#7201a8"
             ],
             [
              0.3333333333333333,
              "#9c179e"
             ],
             [
              0.4444444444444444,
              "#bd3786"
             ],
             [
              0.5555555555555556,
              "#d8576b"
             ],
             [
              0.6666666666666666,
              "#ed7953"
             ],
             [
              0.7777777777777778,
              "#fb9f3a"
             ],
             [
              0.8888888888888888,
              "#fdca26"
             ],
             [
              1,
              "#f0f921"
             ]
            ],
            "type": "heatmap"
           }
          ],
          "heatmapgl": [
           {
            "colorbar": {
             "outlinewidth": 0,
             "ticks": ""
            },
            "colorscale": [
             [
              0,
              "#0d0887"
             ],
             [
              0.1111111111111111,
              "#46039f"
             ],
             [
              0.2222222222222222,
              "#7201a8"
             ],
             [
              0.3333333333333333,
              "#9c179e"
             ],
             [
              0.4444444444444444,
              "#bd3786"
             ],
             [
              0.5555555555555556,
              "#d8576b"
             ],
             [
              0.6666666666666666,
              "#ed7953"
             ],
             [
              0.7777777777777778,
              "#fb9f3a"
             ],
             [
              0.8888888888888888,
              "#fdca26"
             ],
             [
              1,
              "#f0f921"
             ]
            ],
            "type": "heatmapgl"
           }
          ],
          "histogram": [
           {
            "marker": {
             "pattern": {
              "fillmode": "overlay",
              "size": 10,
              "solidity": 0.2
             }
            },
            "type": "histogram"
           }
          ],
          "histogram2d": [
           {
            "colorbar": {
             "outlinewidth": 0,
             "ticks": ""
            },
            "colorscale": [
             [
              0,
              "#0d0887"
             ],
             [
              0.1111111111111111,
              "#46039f"
             ],
             [
              0.2222222222222222,
              "#7201a8"
             ],
             [
              0.3333333333333333,
              "#9c179e"
             ],
             [
              0.4444444444444444,
              "#bd3786"
             ],
             [
              0.5555555555555556,
              "#d8576b"
             ],
             [
              0.6666666666666666,
              "#ed7953"
             ],
             [
              0.7777777777777778,
              "#fb9f3a"
             ],
             [
              0.8888888888888888,
              "#fdca26"
             ],
             [
              1,
              "#f0f921"
             ]
            ],
            "type": "histogram2d"
           }
          ],
          "histogram2dcontour": [
           {
            "colorbar": {
             "outlinewidth": 0,
             "ticks": ""
            },
            "colorscale": [
             [
              0,
              "#0d0887"
             ],
             [
              0.1111111111111111,
              "#46039f"
             ],
             [
              0.2222222222222222,
              "#7201a8"
             ],
             [
              0.3333333333333333,
              "#9c179e"
             ],
             [
              0.4444444444444444,
              "#bd3786"
             ],
             [
              0.5555555555555556,
              "#d8576b"
             ],
             [
              0.6666666666666666,
              "#ed7953"
             ],
             [
              0.7777777777777778,
              "#fb9f3a"
             ],
             [
              0.8888888888888888,
              "#fdca26"
             ],
             [
              1,
              "#f0f921"
             ]
            ],
            "type": "histogram2dcontour"
           }
          ],
          "mesh3d": [
           {
            "colorbar": {
             "outlinewidth": 0,
             "ticks": ""
            },
            "type": "mesh3d"
           }
          ],
          "parcoords": [
           {
            "line": {
             "colorbar": {
              "outlinewidth": 0,
              "ticks": ""
             }
            },
            "type": "parcoords"
           }
          ],
          "pie": [
           {
            "automargin": true,
            "type": "pie"
           }
          ],
          "scatter": [
           {
            "fillpattern": {
             "fillmode": "overlay",
             "size": 10,
             "solidity": 0.2
            },
            "type": "scatter"
           }
          ],
          "scatter3d": [
           {
            "line": {
             "colorbar": {
              "outlinewidth": 0,
              "ticks": ""
             }
            },
            "marker": {
             "colorbar": {
              "outlinewidth": 0,
              "ticks": ""
             }
            },
            "type": "scatter3d"
           }
          ],
          "scattercarpet": [
           {
            "marker": {
             "colorbar": {
              "outlinewidth": 0,
              "ticks": ""
             }
            },
            "type": "scattercarpet"
           }
          ],
          "scattergeo": [
           {
            "marker": {
             "colorbar": {
              "outlinewidth": 0,
              "ticks": ""
             }
            },
            "type": "scattergeo"
           }
          ],
          "scattergl": [
           {
            "marker": {
             "colorbar": {
              "outlinewidth": 0,
              "ticks": ""
             }
            },
            "type": "scattergl"
           }
          ],
          "scattermapbox": [
           {
            "marker": {
             "colorbar": {
              "outlinewidth": 0,
              "ticks": ""
             }
            },
            "type": "scattermapbox"
           }
          ],
          "scatterpolar": [
           {
            "marker": {
             "colorbar": {
              "outlinewidth": 0,
              "ticks": ""
             }
            },
            "type": "scatterpolar"
           }
          ],
          "scatterpolargl": [
           {
            "marker": {
             "colorbar": {
              "outlinewidth": 0,
              "ticks": ""
             }
            },
            "type": "scatterpolargl"
           }
          ],
          "scatterternary": [
           {
            "marker": {
             "colorbar": {
              "outlinewidth": 0,
              "ticks": ""
             }
            },
            "type": "scatterternary"
           }
          ],
          "surface": [
           {
            "colorbar": {
             "outlinewidth": 0,
             "ticks": ""
            },
            "colorscale": [
             [
              0,
              "#0d0887"
             ],
             [
              0.1111111111111111,
              "#46039f"
             ],
             [
              0.2222222222222222,
              "#7201a8"
             ],
             [
              0.3333333333333333,
              "#9c179e"
             ],
             [
              0.4444444444444444,
              "#bd3786"
             ],
             [
              0.5555555555555556,
              "#d8576b"
             ],
             [
              0.6666666666666666,
              "#ed7953"
             ],
             [
              0.7777777777777778,
              "#fb9f3a"
             ],
             [
              0.8888888888888888,
              "#fdca26"
             ],
             [
              1,
              "#f0f921"
             ]
            ],
            "type": "surface"
           }
          ],
          "table": [
           {
            "cells": {
             "fill": {
              "color": "#EBF0F8"
             },
             "line": {
              "color": "white"
             }
            },
            "header": {
             "fill": {
              "color": "#C8D4E3"
             },
             "line": {
              "color": "white"
             }
            },
            "type": "table"
           }
          ]
         },
         "layout": {
          "annotationdefaults": {
           "arrowcolor": "#2a3f5f",
           "arrowhead": 0,
           "arrowwidth": 1
          },
          "autotypenumbers": "strict",
          "coloraxis": {
           "colorbar": {
            "outlinewidth": 0,
            "ticks": ""
           }
          },
          "colorscale": {
           "diverging": [
            [
             0,
             "#8e0152"
            ],
            [
             0.1,
             "#c51b7d"
            ],
            [
             0.2,
             "#de77ae"
            ],
            [
             0.3,
             "#f1b6da"
            ],
            [
             0.4,
             "#fde0ef"
            ],
            [
             0.5,
             "#f7f7f7"
            ],
            [
             0.6,
             "#e6f5d0"
            ],
            [
             0.7,
             "#b8e186"
            ],
            [
             0.8,
             "#7fbc41"
            ],
            [
             0.9,
             "#4d9221"
            ],
            [
             1,
             "#276419"
            ]
           ],
           "sequential": [
            [
             0,
             "#0d0887"
            ],
            [
             0.1111111111111111,
             "#46039f"
            ],
            [
             0.2222222222222222,
             "#7201a8"
            ],
            [
             0.3333333333333333,
             "#9c179e"
            ],
            [
             0.4444444444444444,
             "#bd3786"
            ],
            [
             0.5555555555555556,
             "#d8576b"
            ],
            [
             0.6666666666666666,
             "#ed7953"
            ],
            [
             0.7777777777777778,
             "#fb9f3a"
            ],
            [
             0.8888888888888888,
             "#fdca26"
            ],
            [
             1,
             "#f0f921"
            ]
           ],
           "sequentialminus": [
            [
             0,
             "#0d0887"
            ],
            [
             0.1111111111111111,
             "#46039f"
            ],
            [
             0.2222222222222222,
             "#7201a8"
            ],
            [
             0.3333333333333333,
             "#9c179e"
            ],
            [
             0.4444444444444444,
             "#bd3786"
            ],
            [
             0.5555555555555556,
             "#d8576b"
            ],
            [
             0.6666666666666666,
             "#ed7953"
            ],
            [
             0.7777777777777778,
             "#fb9f3a"
            ],
            [
             0.8888888888888888,
             "#fdca26"
            ],
            [
             1,
             "#f0f921"
            ]
           ]
          },
          "colorway": [
           "#636efa",
           "#EF553B",
           "#00cc96",
           "#ab63fa",
           "#FFA15A",
           "#19d3f3",
           "#FF6692",
           "#B6E880",
           "#FF97FF",
           "#FECB52"
          ],
          "font": {
           "color": "#2a3f5f"
          },
          "geo": {
           "bgcolor": "white",
           "lakecolor": "white",
           "landcolor": "#E5ECF6",
           "showlakes": true,
           "showland": true,
           "subunitcolor": "white"
          },
          "hoverlabel": {
           "align": "left"
          },
          "hovermode": "closest",
          "mapbox": {
           "style": "light"
          },
          "paper_bgcolor": "white",
          "plot_bgcolor": "#E5ECF6",
          "polar": {
           "angularaxis": {
            "gridcolor": "white",
            "linecolor": "white",
            "ticks": ""
           },
           "bgcolor": "#E5ECF6",
           "radialaxis": {
            "gridcolor": "white",
            "linecolor": "white",
            "ticks": ""
           }
          },
          "scene": {
           "xaxis": {
            "backgroundcolor": "#E5ECF6",
            "gridcolor": "white",
            "gridwidth": 2,
            "linecolor": "white",
            "showbackground": true,
            "ticks": "",
            "zerolinecolor": "white"
           },
           "yaxis": {
            "backgroundcolor": "#E5ECF6",
            "gridcolor": "white",
            "gridwidth": 2,
            "linecolor": "white",
            "showbackground": true,
            "ticks": "",
            "zerolinecolor": "white"
           },
           "zaxis": {
            "backgroundcolor": "#E5ECF6",
            "gridcolor": "white",
            "gridwidth": 2,
            "linecolor": "white",
            "showbackground": true,
            "ticks": "",
            "zerolinecolor": "white"
           }
          },
          "shapedefaults": {
           "line": {
            "color": "#2a3f5f"
           }
          },
          "ternary": {
           "aaxis": {
            "gridcolor": "white",
            "linecolor": "white",
            "ticks": ""
           },
           "baxis": {
            "gridcolor": "white",
            "linecolor": "white",
            "ticks": ""
           },
           "bgcolor": "#E5ECF6",
           "caxis": {
            "gridcolor": "white",
            "linecolor": "white",
            "ticks": ""
           }
          },
          "title": {
           "x": 0.05
          },
          "xaxis": {
           "automargin": true,
           "gridcolor": "white",
           "linecolor": "white",
           "ticks": "",
           "title": {
            "standoff": 15
           },
           "zerolinecolor": "white",
           "zerolinewidth": 2
          },
          "yaxis": {
           "automargin": true,
           "gridcolor": "white",
           "linecolor": "white",
           "ticks": "",
           "title": {
            "standoff": 15
           },
           "zerolinecolor": "white",
           "zerolinewidth": 2
          }
         }
        },
        "title": {
         "text": "Rollout Episode Reward Mean vs Iterations"
        },
        "xaxis": {
         "anchor": "y",
         "domain": [
          0,
          1
         ],
         "title": {
          "text": "Iterations"
         }
        },
        "yaxis": {
         "anchor": "x",
         "domain": [
          0,
          1
         ],
         "title": {
          "text": "Episode Reward Mean"
         }
        }
       }
      },
      "text/html": [
       "<div>                            <div id=\"7751339e-ad26-424f-b221-4081b0f5858d\" class=\"plotly-graph-div\" style=\"height:525px; width:100%;\"></div>            <script type=\"text/javascript\">                require([\"plotly\"], function(Plotly) {                    window.PLOTLYENV=window.PLOTLYENV || {};                                    if (document.getElementById(\"7751339e-ad26-424f-b221-4081b0f5858d\")) {                    Plotly.newPlot(                        \"7751339e-ad26-424f-b221-4081b0f5858d\",                        [{\"hovertemplate\":\"Iterations=%{x}\\u003cbr\\u003eEpisode Reward Mean=%{y}\\u003cextra\\u003e\\u003c\\u002fextra\\u003e\",\"legendgroup\":\"\",\"line\":{\"color\":\"#636efa\",\"dash\":\"solid\"},\"marker\":{\"symbol\":\"circle\"},\"mode\":\"lines\",\"name\":\"\",\"orientation\":\"v\",\"showlegend\":false,\"x\":[1,2,3,4,5,6,7,8,9,10,11,12,13,14,15,16,17,18,19,20,21,22,23,24,25,26,27,28,29,30,31,32,33,34,35,36,37,38,39,40,41,42,43,44,45,46,47,48,49,50,51,52,53,54,55,56,57,58,59,60,61,62,63,64,65,66,67,68,69,70,71,72,73,74,75,76,77,78,79,80,81,82,83,84,85,86,87,88,89,90,91,92,93,94,95,96,97,98,99,100,101,102,103,104,105,106,107,108,109,110,111,112,113,114,115,116,117,118,119,120,121,122,123,124,125,126,127,128,129,130,131,132,133,134,135,136,137,138,139,140,141,142,143,144,145,146,147,148,149,150,151,152,153,154,155,156,157,158,159,160,161,162,163,164,165,166,167,168,169,170,171,172,173,174,175,176,177,178,179,180,181,182,183,184,185,186,187,188,189,190,191,192,193,194,195,196,197,198,199,200,201,202,203,204,205,206,207,208,209,210,211,212,213,214,215,216,217,218,219,220,221,222,223,224,225,226,227,228,229,230,231,232,233,234,235,236,237,238,239,240,241,242,243,244,245,246,247,248,249,250,251,252,253,254,255,256,257,258,259,260,261,262,263,264,265,266,267,268,269,270,271,272,273,274,275,276,277,278,279,280,281,282,283,284,285,286,287,288,289,290,291,292,293,294,295,296,297,298,299,300,301,302,303,304,305,306,307,308,309,310,311,312,313,314,315,316,317,318,319,320,321,322,323,324,325,326,327,328,329,330,331,332,333,334,335,336,337,338,339,340,341,342,343,344,345,346,347,348,349,350,351,352,353,354,355,356,357,358,359,360,361,362,363,364,365,366,367,368,369,370,371,372,373,374,375,376,377,378,379,380,381,382,383,384,385,386,387,388,389,390,391],\"xaxis\":\"x\",\"y\":[-565.6,-977.3076923076924,-672.6923076923077,-654.65625,-749.9722222222222,-685.2325581395348,-554.3928571428571,-558.9516129032259,-456.0,-437.7586206896552,-395.47474747474746,-253.38,-219.38,-135.31,-93.11,-65.31,-43.03,-32.52,-16.66,-2.78,5.63,21.1,24.37,36.57,57.39,70.33,75.68,76.14,60.69,67.18,86.36,86.66,98.38,113.62,112.06,112.29,112.79,109.61,104.34,97.11,98.0,102.39,99.13,103.33,108.09,108.63,107.1,102.26,103.69,117.36,125.53,152.18,169.99,191.36,202.45,208.59,217.84,209.94,219.62,215.03,212.55,207.18,218.24,223.97,240.12,261.28,264.36,276.07,275.61,254.61,235.58,223.59,211.27,208.05,216.68,212.23,214.31,223.48,254.01,260.87,273.28,268.62,278.37,273.84,264.56,269.7,261.26,263.39,265.09,317.48,322.91,339.8,347.26,360.58,376.22,377.03,381.06,362.18,352.39,349.63,343.08,351.22,346.04,354.88,357.99,347.07,352.86,355.57,357.93,371.38,380.01,386.15,386.78,385.55,393.28,406.65,426.48,439.77,467.63,469.39,476.1,479.67,480.8,475.17,472.13,477.47,465.41,462.75,465.97,464.71,466.76,468.05,461.39,449.35,454.0,453.83,459.1,451.75,453.16,439.02,430.5,439.11,442.65,438.87,435.97,448.4,456.2,468.59,475.84,485.04,488.67,499.49,493.33,489.49,485.68,494.93,489.1,485.85,487.38,482.4,501.63,503.6,509.81,516.75,515.56,509.52,515.18,524.75,527.4,527.53,527.12,523.88,518.45,525.87,517.15,525.49,525.34,520.2,526.18,533.81,539.44,535.95,528.11,511.27,510.52,502.48,494.87,494.81,495.6,492.97,489.94,488.13,488.92,488.64,487.58,491.79,492.3,487.45,489.24,487.99,494.17,487.21,492.5,497.08,496.36,507.39,516.99,515.74,513.4,522.0,534.76,539.15,535.22,534.6,537.96,532.61,532.85,533.96,533.03,529.53,531.68,524.08,519.53,522.2,525.03,526.82,524.76,526.12,534.63,537.58,530.55,534.11,536.27,542.47,542.23,543.46,554.47,561.76,564.94,558.45,564.7,570.69,567.13,573.84,584.13,586.73,580.15,574.09,569.23,559.98,563.99,560.8,566.53,569.36,562.59,552.55,548.35,546.15,552.14,552.76,554.96,554.46,552.69,546.11,546.39,545.77,546.58,540.31,543.64,543.65,551.87,558.88,548.04,542.14,543.61,541.33,545.62,548.99,552.33,549.54,542.49,535.93,529.22,523.21,519.78,522.46,534.95,528.94,524.58,512.44,512.1,513.37,506.71,499.03,512.72,518.12,512.36,513.85,506.85,510.39,517.9,524.22,531.29,525.61,536.64,535.75,531.34,529.68,521.5,524.03,527.33,534.56,523.7,532.17,534.58,543.59,543.35,542.28,547.48,540.21,538.62,525.07,518.6,514.72,513.46,514.65,511.69,514.81,517.83,533.53,542.66,541.96,539.34,544.5,544.87,544.35,549.33,540.3,521.12,526.81,533.93,525.53,524.43,516.41,513.75,505.78,495.56,486.36,482.48,477.42,480.49,481.18,482.67,468.78,452.28,453.15,459.65,463.06,472.74,475.11,486.02,482.28,488.9,481.78,482.5,474.75,479.22,482.48,490.04,491.13,492.05,500.17,513.17,520.27,521.76,539.4,546.7,557.07,562.92,565.43,576.26,579.63,577.51,578.05,600.34,604.14,624.28,642.86,647.52,646.28,650.98],\"yaxis\":\"y\",\"type\":\"scatter\"}],                        {\"template\":{\"data\":{\"histogram2dcontour\":[{\"type\":\"histogram2dcontour\",\"colorbar\":{\"outlinewidth\":0,\"ticks\":\"\"},\"colorscale\":[[0.0,\"#0d0887\"],[0.1111111111111111,\"#46039f\"],[0.2222222222222222,\"#7201a8\"],[0.3333333333333333,\"#9c179e\"],[0.4444444444444444,\"#bd3786\"],[0.5555555555555556,\"#d8576b\"],[0.6666666666666666,\"#ed7953\"],[0.7777777777777778,\"#fb9f3a\"],[0.8888888888888888,\"#fdca26\"],[1.0,\"#f0f921\"]]}],\"choropleth\":[{\"type\":\"choropleth\",\"colorbar\":{\"outlinewidth\":0,\"ticks\":\"\"}}],\"histogram2d\":[{\"type\":\"histogram2d\",\"colorbar\":{\"outlinewidth\":0,\"ticks\":\"\"},\"colorscale\":[[0.0,\"#0d0887\"],[0.1111111111111111,\"#46039f\"],[0.2222222222222222,\"#7201a8\"],[0.3333333333333333,\"#9c179e\"],[0.4444444444444444,\"#bd3786\"],[0.5555555555555556,\"#d8576b\"],[0.6666666666666666,\"#ed7953\"],[0.7777777777777778,\"#fb9f3a\"],[0.8888888888888888,\"#fdca26\"],[1.0,\"#f0f921\"]]}],\"heatmap\":[{\"type\":\"heatmap\",\"colorbar\":{\"outlinewidth\":0,\"ticks\":\"\"},\"colorscale\":[[0.0,\"#0d0887\"],[0.1111111111111111,\"#46039f\"],[0.2222222222222222,\"#7201a8\"],[0.3333333333333333,\"#9c179e\"],[0.4444444444444444,\"#bd3786\"],[0.5555555555555556,\"#d8576b\"],[0.6666666666666666,\"#ed7953\"],[0.7777777777777778,\"#fb9f3a\"],[0.8888888888888888,\"#fdca26\"],[1.0,\"#f0f921\"]]}],\"heatmapgl\":[{\"type\":\"heatmapgl\",\"colorbar\":{\"outlinewidth\":0,\"ticks\":\"\"},\"colorscale\":[[0.0,\"#0d0887\"],[0.1111111111111111,\"#46039f\"],[0.2222222222222222,\"#7201a8\"],[0.3333333333333333,\"#9c179e\"],[0.4444444444444444,\"#bd3786\"],[0.5555555555555556,\"#d8576b\"],[0.6666666666666666,\"#ed7953\"],[0.7777777777777778,\"#fb9f3a\"],[0.8888888888888888,\"#fdca26\"],[1.0,\"#f0f921\"]]}],\"contourcarpet\":[{\"type\":\"contourcarpet\",\"colorbar\":{\"outlinewidth\":0,\"ticks\":\"\"}}],\"contour\":[{\"type\":\"contour\",\"colorbar\":{\"outlinewidth\":0,\"ticks\":\"\"},\"colorscale\":[[0.0,\"#0d0887\"],[0.1111111111111111,\"#46039f\"],[0.2222222222222222,\"#7201a8\"],[0.3333333333333333,\"#9c179e\"],[0.4444444444444444,\"#bd3786\"],[0.5555555555555556,\"#d8576b\"],[0.6666666666666666,\"#ed7953\"],[0.7777777777777778,\"#fb9f3a\"],[0.8888888888888888,\"#fdca26\"],[1.0,\"#f0f921\"]]}],\"surface\":[{\"type\":\"surface\",\"colorbar\":{\"outlinewidth\":0,\"ticks\":\"\"},\"colorscale\":[[0.0,\"#0d0887\"],[0.1111111111111111,\"#46039f\"],[0.2222222222222222,\"#7201a8\"],[0.3333333333333333,\"#9c179e\"],[0.4444444444444444,\"#bd3786\"],[0.5555555555555556,\"#d8576b\"],[0.6666666666666666,\"#ed7953\"],[0.7777777777777778,\"#fb9f3a\"],[0.8888888888888888,\"#fdca26\"],[1.0,\"#f0f921\"]]}],\"mesh3d\":[{\"type\":\"mesh3d\",\"colorbar\":{\"outlinewidth\":0,\"ticks\":\"\"}}],\"scatter\":[{\"fillpattern\":{\"fillmode\":\"overlay\",\"size\":10,\"solidity\":0.2},\"type\":\"scatter\"}],\"parcoords\":[{\"type\":\"parcoords\",\"line\":{\"colorbar\":{\"outlinewidth\":0,\"ticks\":\"\"}}}],\"scatterpolargl\":[{\"type\":\"scatterpolargl\",\"marker\":{\"colorbar\":{\"outlinewidth\":0,\"ticks\":\"\"}}}],\"bar\":[{\"error_x\":{\"color\":\"#2a3f5f\"},\"error_y\":{\"color\":\"#2a3f5f\"},\"marker\":{\"line\":{\"color\":\"#E5ECF6\",\"width\":0.5},\"pattern\":{\"fillmode\":\"overlay\",\"size\":10,\"solidity\":0.2}},\"type\":\"bar\"}],\"scattergeo\":[{\"type\":\"scattergeo\",\"marker\":{\"colorbar\":{\"outlinewidth\":0,\"ticks\":\"\"}}}],\"scatterpolar\":[{\"type\":\"scatterpolar\",\"marker\":{\"colorbar\":{\"outlinewidth\":0,\"ticks\":\"\"}}}],\"histogram\":[{\"marker\":{\"pattern\":{\"fillmode\":\"overlay\",\"size\":10,\"solidity\":0.2}},\"type\":\"histogram\"}],\"scattergl\":[{\"type\":\"scattergl\",\"marker\":{\"colorbar\":{\"outlinewidth\":0,\"ticks\":\"\"}}}],\"scatter3d\":[{\"type\":\"scatter3d\",\"line\":{\"colorbar\":{\"outlinewidth\":0,\"ticks\":\"\"}},\"marker\":{\"colorbar\":{\"outlinewidth\":0,\"ticks\":\"\"}}}],\"scattermapbox\":[{\"type\":\"scattermapbox\",\"marker\":{\"colorbar\":{\"outlinewidth\":0,\"ticks\":\"\"}}}],\"scatterternary\":[{\"type\":\"scatterternary\",\"marker\":{\"colorbar\":{\"outlinewidth\":0,\"ticks\":\"\"}}}],\"scattercarpet\":[{\"type\":\"scattercarpet\",\"marker\":{\"colorbar\":{\"outlinewidth\":0,\"ticks\":\"\"}}}],\"carpet\":[{\"aaxis\":{\"endlinecolor\":\"#2a3f5f\",\"gridcolor\":\"white\",\"linecolor\":\"white\",\"minorgridcolor\":\"white\",\"startlinecolor\":\"#2a3f5f\"},\"baxis\":{\"endlinecolor\":\"#2a3f5f\",\"gridcolor\":\"white\",\"linecolor\":\"white\",\"minorgridcolor\":\"white\",\"startlinecolor\":\"#2a3f5f\"},\"type\":\"carpet\"}],\"table\":[{\"cells\":{\"fill\":{\"color\":\"#EBF0F8\"},\"line\":{\"color\":\"white\"}},\"header\":{\"fill\":{\"color\":\"#C8D4E3\"},\"line\":{\"color\":\"white\"}},\"type\":\"table\"}],\"barpolar\":[{\"marker\":{\"line\":{\"color\":\"#E5ECF6\",\"width\":0.5},\"pattern\":{\"fillmode\":\"overlay\",\"size\":10,\"solidity\":0.2}},\"type\":\"barpolar\"}],\"pie\":[{\"automargin\":true,\"type\":\"pie\"}]},\"layout\":{\"autotypenumbers\":\"strict\",\"colorway\":[\"#636efa\",\"#EF553B\",\"#00cc96\",\"#ab63fa\",\"#FFA15A\",\"#19d3f3\",\"#FF6692\",\"#B6E880\",\"#FF97FF\",\"#FECB52\"],\"font\":{\"color\":\"#2a3f5f\"},\"hovermode\":\"closest\",\"hoverlabel\":{\"align\":\"left\"},\"paper_bgcolor\":\"white\",\"plot_bgcolor\":\"#E5ECF6\",\"polar\":{\"bgcolor\":\"#E5ECF6\",\"angularaxis\":{\"gridcolor\":\"white\",\"linecolor\":\"white\",\"ticks\":\"\"},\"radialaxis\":{\"gridcolor\":\"white\",\"linecolor\":\"white\",\"ticks\":\"\"}},\"ternary\":{\"bgcolor\":\"#E5ECF6\",\"aaxis\":{\"gridcolor\":\"white\",\"linecolor\":\"white\",\"ticks\":\"\"},\"baxis\":{\"gridcolor\":\"white\",\"linecolor\":\"white\",\"ticks\":\"\"},\"caxis\":{\"gridcolor\":\"white\",\"linecolor\":\"white\",\"ticks\":\"\"}},\"coloraxis\":{\"colorbar\":{\"outlinewidth\":0,\"ticks\":\"\"}},\"colorscale\":{\"sequential\":[[0.0,\"#0d0887\"],[0.1111111111111111,\"#46039f\"],[0.2222222222222222,\"#7201a8\"],[0.3333333333333333,\"#9c179e\"],[0.4444444444444444,\"#bd3786\"],[0.5555555555555556,\"#d8576b\"],[0.6666666666666666,\"#ed7953\"],[0.7777777777777778,\"#fb9f3a\"],[0.8888888888888888,\"#fdca26\"],[1.0,\"#f0f921\"]],\"sequentialminus\":[[0.0,\"#0d0887\"],[0.1111111111111111,\"#46039f\"],[0.2222222222222222,\"#7201a8\"],[0.3333333333333333,\"#9c179e\"],[0.4444444444444444,\"#bd3786\"],[0.5555555555555556,\"#d8576b\"],[0.6666666666666666,\"#ed7953\"],[0.7777777777777778,\"#fb9f3a\"],[0.8888888888888888,\"#fdca26\"],[1.0,\"#f0f921\"]],\"diverging\":[[0,\"#8e0152\"],[0.1,\"#c51b7d\"],[0.2,\"#de77ae\"],[0.3,\"#f1b6da\"],[0.4,\"#fde0ef\"],[0.5,\"#f7f7f7\"],[0.6,\"#e6f5d0\"],[0.7,\"#b8e186\"],[0.8,\"#7fbc41\"],[0.9,\"#4d9221\"],[1,\"#276419\"]]},\"xaxis\":{\"gridcolor\":\"white\",\"linecolor\":\"white\",\"ticks\":\"\",\"title\":{\"standoff\":15},\"zerolinecolor\":\"white\",\"automargin\":true,\"zerolinewidth\":2},\"yaxis\":{\"gridcolor\":\"white\",\"linecolor\":\"white\",\"ticks\":\"\",\"title\":{\"standoff\":15},\"zerolinecolor\":\"white\",\"automargin\":true,\"zerolinewidth\":2},\"scene\":{\"xaxis\":{\"backgroundcolor\":\"#E5ECF6\",\"gridcolor\":\"white\",\"linecolor\":\"white\",\"showbackground\":true,\"ticks\":\"\",\"zerolinecolor\":\"white\",\"gridwidth\":2},\"yaxis\":{\"backgroundcolor\":\"#E5ECF6\",\"gridcolor\":\"white\",\"linecolor\":\"white\",\"showbackground\":true,\"ticks\":\"\",\"zerolinecolor\":\"white\",\"gridwidth\":2},\"zaxis\":{\"backgroundcolor\":\"#E5ECF6\",\"gridcolor\":\"white\",\"linecolor\":\"white\",\"showbackground\":true,\"ticks\":\"\",\"zerolinecolor\":\"white\",\"gridwidth\":2}},\"shapedefaults\":{\"line\":{\"color\":\"#2a3f5f\"}},\"annotationdefaults\":{\"arrowcolor\":\"#2a3f5f\",\"arrowhead\":0,\"arrowwidth\":1},\"geo\":{\"bgcolor\":\"white\",\"landcolor\":\"#E5ECF6\",\"subunitcolor\":\"white\",\"showland\":true,\"showlakes\":true,\"lakecolor\":\"white\"},\"title\":{\"x\":0.05},\"mapbox\":{\"style\":\"light\"}}},\"xaxis\":{\"anchor\":\"y\",\"domain\":[0.0,1.0],\"title\":{\"text\":\"Iterations\"}},\"yaxis\":{\"anchor\":\"x\",\"domain\":[0.0,1.0],\"title\":{\"text\":\"Episode Reward Mean\"}},\"legend\":{\"tracegroupgap\":0},\"title\":{\"text\":\"Rollout Episode Reward Mean vs Iterations\"}},                        {\"responsive\": true}                    ).then(function(){\n",
       "                            \n",
       "var gd = document.getElementById('7751339e-ad26-424f-b221-4081b0f5858d');\n",
       "var x = new MutationObserver(function (mutations, observer) {{\n",
       "        var display = window.getComputedStyle(gd).display;\n",
       "        if (!display || display === 'none') {{\n",
       "            console.log([gd, 'removed!']);\n",
       "            Plotly.purge(gd);\n",
       "            observer.disconnect();\n",
       "        }}\n",
       "}});\n",
       "\n",
       "// Listen for the removal of the full notebook cells\n",
       "var notebookContainer = gd.closest('#notebook-container');\n",
       "if (notebookContainer) {{\n",
       "    x.observe(notebookContainer, {childList: true});\n",
       "}}\n",
       "\n",
       "// Listen for the clearing of the current output cell\n",
       "var outputEl = gd.closest('.output');\n",
       "if (outputEl) {{\n",
       "    x.observe(outputEl, {childList: true});\n",
       "}}\n",
       "\n",
       "                        })                };                });            </script>        </div>"
      ]
     },
     "metadata": {},
     "output_type": "display_data"
    }
   ],
   "source": [
    "fig = px.line(df, x='time/iterations', y='rollout/ep_rew_mean', \n",
    "              title='Rollout Episode Reward Mean vs Iterations',\n",
    "              labels={'time/iterations': 'Iterations', 'rollout/ep_rew_mean': 'Episode Reward Mean'})\n",
    "fig.show()"
   ]
  },
  {
   "cell_type": "code",
   "execution_count": 5,
   "metadata": {},
   "outputs": [
    {
     "data": {
      "application/vnd.plotly.v1+json": {
       "config": {
        "plotlyServerURL": "https://plot.ly"
       },
       "data": [
        {
         "mode": "lines",
         "name": "Value Loss",
         "type": "scatter",
         "x": [
          1,
          2,
          3,
          4,
          5,
          6,
          7,
          8,
          9,
          10,
          11,
          12,
          13,
          14,
          15,
          16,
          17,
          18,
          19,
          20,
          21,
          22,
          23,
          24,
          25,
          26,
          27,
          28,
          29,
          30,
          31,
          32,
          33,
          34,
          35,
          36,
          37,
          38,
          39,
          40,
          41,
          42,
          43,
          44,
          45,
          46,
          47,
          48,
          49,
          50,
          51,
          52,
          53,
          54,
          55,
          56,
          57,
          58,
          59,
          60,
          61,
          62,
          63,
          64,
          65,
          66,
          67,
          68,
          69,
          70,
          71,
          72,
          73,
          74,
          75,
          76,
          77,
          78,
          79,
          80,
          81,
          82,
          83,
          84,
          85,
          86,
          87,
          88,
          89,
          90,
          91,
          92,
          93,
          94,
          95,
          96,
          97,
          98,
          99,
          100,
          101,
          102,
          103,
          104,
          105,
          106,
          107,
          108,
          109,
          110,
          111,
          112,
          113,
          114,
          115,
          116,
          117,
          118,
          119,
          120,
          121,
          122,
          123,
          124,
          125,
          126,
          127,
          128,
          129,
          130,
          131,
          132,
          133,
          134,
          135,
          136,
          137,
          138,
          139,
          140,
          141,
          142,
          143,
          144,
          145,
          146,
          147,
          148,
          149,
          150,
          151,
          152,
          153,
          154,
          155,
          156,
          157,
          158,
          159,
          160,
          161,
          162,
          163,
          164,
          165,
          166,
          167,
          168,
          169,
          170,
          171,
          172,
          173,
          174,
          175,
          176,
          177,
          178,
          179,
          180,
          181,
          182,
          183,
          184,
          185,
          186,
          187,
          188,
          189,
          190,
          191,
          192,
          193,
          194,
          195,
          196,
          197,
          198,
          199,
          200,
          201,
          202,
          203,
          204,
          205,
          206,
          207,
          208,
          209,
          210,
          211,
          212,
          213,
          214,
          215,
          216,
          217,
          218,
          219,
          220,
          221,
          222,
          223,
          224,
          225,
          226,
          227,
          228,
          229,
          230,
          231,
          232,
          233,
          234,
          235,
          236,
          237,
          238,
          239,
          240,
          241,
          242,
          243,
          244,
          245,
          246,
          247,
          248,
          249,
          250,
          251,
          252,
          253,
          254,
          255,
          256,
          257,
          258,
          259,
          260,
          261,
          262,
          263,
          264,
          265,
          266,
          267,
          268,
          269,
          270,
          271,
          272,
          273,
          274,
          275,
          276,
          277,
          278,
          279,
          280,
          281,
          282,
          283,
          284,
          285,
          286,
          287,
          288,
          289,
          290,
          291,
          292,
          293,
          294,
          295,
          296,
          297,
          298,
          299,
          300,
          301,
          302,
          303,
          304,
          305,
          306,
          307,
          308,
          309,
          310,
          311,
          312,
          313,
          314,
          315,
          316,
          317,
          318,
          319,
          320,
          321,
          322,
          323,
          324,
          325,
          326,
          327,
          328,
          329,
          330,
          331,
          332,
          333,
          334,
          335,
          336,
          337,
          338,
          339,
          340,
          341,
          342,
          343,
          344,
          345,
          346,
          347,
          348,
          349,
          350,
          351,
          352,
          353,
          354,
          355,
          356,
          357,
          358,
          359,
          360,
          361,
          362,
          363,
          364,
          365,
          366,
          367,
          368,
          369,
          370,
          371,
          372,
          373,
          374,
          375,
          376,
          377,
          378,
          379,
          380,
          381,
          382,
          383,
          384,
          385,
          386,
          387,
          388,
          389,
          390,
          391
         ],
         "y": [
          null,
          1392.9064169486364,
          2417.3349697271983,
          1449.3595827817917,
          1463.2483403921128,
          1324.8291759729386,
          1512.906170376142,
          928.1784890492758,
          1045.7882777055104,
          1192.879097723961,
          1374.605797302723,
          739.1634866754214,
          801.8061899900437,
          1005.302876464526,
          894.5449770053227,
          468.0668294628461,
          725.8862324615319,
          602.3699350814024,
          396.5967505991459,
          409.8176472345988,
          343.1708752552668,
          809.2043342471122,
          299.38445255557696,
          376.0526660680771,
          283.0018811792135,
          479.73277436296144,
          342.4138837635517,
          203.2437549153964,
          293.8661635816097,
          333.6637993067503,
          274.6741155008475,
          428.9565042515596,
          364.954582887888,
          248.83012100756167,
          363.46687366465727,
          615.4908180356026,
          346.82464008728664,
          364.142192915082,
          378.1288697222869,
          317.5585763454437,
          280.49693421125414,
          367.8949913322925,
          268.91196971933044,
          229.4300095140934,
          414.8607017427683,
          341.93814565936725,
          302.53414508303007,
          349.8838575323423,
          326.3820206135512,
          365.8776847332716,
          423.28731978734334,
          358.1440961400668,
          608.4391957352559,
          367.681242954731,
          436.4705699612697,
          458.686277253429,
          345.65587810675305,
          481.1394896676143,
          317.6835002322992,
          272.61053431232773,
          333.41623506943387,
          521.1283162196477,
          431.7009491423766,
          505.53602905174097,
          452.264519004027,
          357.8311144153277,
          550.7321464677651,
          512.4528739223878,
          645.2217770457268,
          452.2057397902012,
          492.00319989522296,
          379.40162185331184,
          446.0302990972996,
          483.00069318215054,
          424.3808623949687,
          504.9456601123015,
          242.6697542687257,
          209.2674398938815,
          395.8693529913823,
          548.2948125580947,
          245.12706213891505,
          280.28120922048885,
          253.76530403594177,
          236.21263761421045,
          249.34780260821185,
          198.38915764490764,
          443.069995161891,
          198.1178604861101,
          260.17379609843096,
          248.9822531670332,
          210.3055252969265,
          197.50662055710956,
          196.8368023176988,
          146.06943036466836,
          233.44523690541584,
          211.8882803512116,
          246.72400294144947,
          187.6543096115192,
          218.2406799316406,
          224.71246533691885,
          219.24769964714844,
          181.0346609741449,
          223.4171565935016,
          331.13779871662456,
          397.7534961427252,
          277.36514887859425,
          348.1400088523825,
          321.01133883297445,
          327.15970469415186,
          331.54657107989,
          381.9872702439626,
          217.07844937543075,
          214.606449769934,
          425.8308060655991,
          426.60392922659713,
          383.8677298039198,
          194.11011587381364,
          330.6021942406893,
          320.98606669207413,
          474.2670292923848,
          215.6044101834297,
          203.3013407568137,
          332.4183894063036,
          349.8866798122724,
          256.26469819098713,
          232.48125918209556,
          395.6585237234831,
          216.96627396742505,
          264.7412541459004,
          285.47514344900844,
          299.240379220744,
          554.2620175043742,
          215.06461552331845,
          250.53233837336305,
          154.5837288553516,
          336.4390294392904,
          368.7310892537236,
          345.47237650752066,
          194.41563381453355,
          168.99196456919114,
          236.36453239222368,
          208.9003015900652,
          217.71701678931717,
          254.5052642852068,
          266.8642416268587,
          195.949643689394,
          161.02380619645118,
          152.56053364500403,
          228.4333842774232,
          191.7867243528366,
          178.49871701300145,
          212.9707425246636,
          344.51554939448835,
          196.3685321311156,
          238.47435442358253,
          216.30639033416907,
          225.54362416962783,
          209.20727688173451,
          200.87233374118804,
          184.7525426218907,
          196.63224591463805,
          303.5641969750325,
          144.2187199672063,
          180.49575729121764,
          184.33534260590872,
          165.57141221662363,
          169.82201102574666,
          166.50477343897026,
          158.58497038086256,
          248.12546875923871,
          192.18827382524807,
          173.91349407583476,
          119.98504435966412,
          182.0848436097304,
          220.23367737730345,
          157.55955028384923,
          300.8510276635488,
          233.8333167165518,
          155.0719751785199,
          408.68233057608205,
          197.977140412728,
          285.9365662202239,
          257.7507089212537,
          291.73248500724634,
          182.2769427756469,
          129.75938960636657,
          115.26772191797694,
          186.26974838326376,
          167.62696393330893,
          130.0101669078072,
          171.27916707446178,
          209.0380336150527,
          145.86038826455672,
          197.56126644512017,
          130.94643622810642,
          202.69530548850696,
          199.2880418245991,
          181.08310202260813,
          198.12654154549045,
          171.9748132497072,
          175.52532339642443,
          138.3603846867879,
          180.06535778045654,
          203.61138813843328,
          202.83544099777936,
          167.02819046229124,
          145.03435675601165,
          228.28169457217055,
          148.0703877111276,
          193.0477332706253,
          178.31028555730978,
          211.56382721761864,
          200.5667129476865,
          123.29782699594897,
          146.6127426971992,
          200.6323686485489,
          270.0889807154735,
          181.22629008789855,
          162.64412964532772,
          257.75678705672425,
          227.3735361819466,
          176.80435093243918,
          150.26091596210998,
          149.5668441914022,
          196.5396321276824,
          158.68824947079025,
          212.66246627817551,
          172.0769470145305,
          178.32104320476452,
          180.8647895132502,
          185.9916274736325,
          131.42907590866088,
          268.18358242263395,
          175.31321739455063,
          168.79923394074044,
          174.15173853437105,
          151.591512752076,
          141.35727010965348,
          180.895536018908,
          154.7372543156147,
          190.06356453647217,
          130.5673818960786,
          135.45230653882027,
          158.16394458512465,
          153.4411896176636,
          369.3545277178288,
          168.42309295584758,
          142.51237053722144,
          216.4222295800845,
          193.1593583141764,
          170.78537542720636,
          187.21988430718585,
          160.6357688387235,
          171.05171740452448,
          178.92762797027825,
          171.67325919568538,
          261.1098749190569,
          159.38594206372898,
          162.35625412414473,
          153.25003761947156,
          139.91902009894451,
          263.4081615075469,
          125.6231185168028,
          154.48438035796087,
          175.1194138189157,
          182.73866659353175,
          182.32205488185087,
          243.40619467099503,
          137.72306820005178,
          198.20042418738203,
          223.87507123549776,
          261.2670835042993,
          239.3283090263605,
          202.7389762148261,
          210.3492621421814,
          208.07965894987183,
          188.4398513570428,
          174.89266229023536,
          483.7110098332167,
          274.747964870433,
          158.49710098256668,
          153.3511439387997,
          289.2503095937272,
          225.90183372745912,
          176.71556081473827,
          171.7505399569869,
          217.069812651972,
          431.9650185237328,
          139.44516123384238,
          114.29500093559425,
          318.37288791636627,
          221.0312343135476,
          132.41393919065595,
          186.3962832366427,
          155.39366144984962,
          180.02647706692417,
          178.4481536631783,
          161.81096769620976,
          159.52033314754564,
          174.29005589932203,
          174.1730133657654,
          411.8081147784988,
          280.7230580766996,
          183.69848943402368,
          186.74825157821175,
          189.3990446368853,
          165.35068683326244,
          181.01145322273172,
          155.60466714948416,
          146.85668169508378,
          178.5294471765558,
          253.541681839029,
          322.81781484534343,
          183.98277881046133,
          424.6616440931956,
          348.6703288386265,
          270.1687260697285,
          333.71796843111514,
          220.2674034376939,
          281.5261932681004,
          191.3531777843833,
          178.5187235429883,
          166.25620774924755,
          361.18427504003046,
          221.59964379469557,
          151.85890835647783,
          289.5786404803395,
          168.64710572212934,
          164.0804614663124,
          290.1452573964993,
          431.55272487451634,
          186.91562699327864,
          327.1705897023281,
          321.25012248953186,
          309.51940920054915,
          355.1925091693799,
          287.83437253634133,
          264.96171485732,
          468.7894325584173,
          717.166715285182,
          427.4620996028185,
          322.8811344156663,
          484.4080695003271,
          292.7983590438962,
          236.0775562832753,
          315.81976212362446,
          282.85167789657913,
          214.5297609473268,
          222.00420490105947,
          331.48347736845415,
          164.39821737011275,
          476.1150852163633,
          208.2042967538039,
          273.8641953587532,
          208.9364559188485,
          212.76611123283703,
          240.0214571746687,
          252.353043889006,
          158.29865146974723,
          220.38153291543324,
          192.29412638445692,
          319.0473614369829,
          248.55513925055664,
          195.69015429764983,
          153.4994087556998,
          163.9048956895868,
          169.8609173302849,
          176.45179119557142,
          174.04262407198547,
          286.86945765117804,
          223.01141710678735,
          183.5060308208068,
          217.84253379702568,
          281.7698468923569,
          243.8916137923797,
          262.10466517011326,
          308.2988035877545,
          158.3123286475738,
          256.4203503206372,
          226.5807310536504,
          298.203692188859,
          352.95552900632225,
          278.59894832322993,
          419.2379525691271,
          246.27797789971035,
          321.27039231657983,
          429.6461380640666,
          231.38278688093027,
          356.36510875721774,
          357.4330461502076,
          260.8238118285934
         ]
        },
        {
         "mode": "lines",
         "name": "Training Loss",
         "type": "scatter",
         "x": [
          1,
          2,
          3,
          4,
          5,
          6,
          7,
          8,
          9,
          10,
          11,
          12,
          13,
          14,
          15,
          16,
          17,
          18,
          19,
          20,
          21,
          22,
          23,
          24,
          25,
          26,
          27,
          28,
          29,
          30,
          31,
          32,
          33,
          34,
          35,
          36,
          37,
          38,
          39,
          40,
          41,
          42,
          43,
          44,
          45,
          46,
          47,
          48,
          49,
          50,
          51,
          52,
          53,
          54,
          55,
          56,
          57,
          58,
          59,
          60,
          61,
          62,
          63,
          64,
          65,
          66,
          67,
          68,
          69,
          70,
          71,
          72,
          73,
          74,
          75,
          76,
          77,
          78,
          79,
          80,
          81,
          82,
          83,
          84,
          85,
          86,
          87,
          88,
          89,
          90,
          91,
          92,
          93,
          94,
          95,
          96,
          97,
          98,
          99,
          100,
          101,
          102,
          103,
          104,
          105,
          106,
          107,
          108,
          109,
          110,
          111,
          112,
          113,
          114,
          115,
          116,
          117,
          118,
          119,
          120,
          121,
          122,
          123,
          124,
          125,
          126,
          127,
          128,
          129,
          130,
          131,
          132,
          133,
          134,
          135,
          136,
          137,
          138,
          139,
          140,
          141,
          142,
          143,
          144,
          145,
          146,
          147,
          148,
          149,
          150,
          151,
          152,
          153,
          154,
          155,
          156,
          157,
          158,
          159,
          160,
          161,
          162,
          163,
          164,
          165,
          166,
          167,
          168,
          169,
          170,
          171,
          172,
          173,
          174,
          175,
          176,
          177,
          178,
          179,
          180,
          181,
          182,
          183,
          184,
          185,
          186,
          187,
          188,
          189,
          190,
          191,
          192,
          193,
          194,
          195,
          196,
          197,
          198,
          199,
          200,
          201,
          202,
          203,
          204,
          205,
          206,
          207,
          208,
          209,
          210,
          211,
          212,
          213,
          214,
          215,
          216,
          217,
          218,
          219,
          220,
          221,
          222,
          223,
          224,
          225,
          226,
          227,
          228,
          229,
          230,
          231,
          232,
          233,
          234,
          235,
          236,
          237,
          238,
          239,
          240,
          241,
          242,
          243,
          244,
          245,
          246,
          247,
          248,
          249,
          250,
          251,
          252,
          253,
          254,
          255,
          256,
          257,
          258,
          259,
          260,
          261,
          262,
          263,
          264,
          265,
          266,
          267,
          268,
          269,
          270,
          271,
          272,
          273,
          274,
          275,
          276,
          277,
          278,
          279,
          280,
          281,
          282,
          283,
          284,
          285,
          286,
          287,
          288,
          289,
          290,
          291,
          292,
          293,
          294,
          295,
          296,
          297,
          298,
          299,
          300,
          301,
          302,
          303,
          304,
          305,
          306,
          307,
          308,
          309,
          310,
          311,
          312,
          313,
          314,
          315,
          316,
          317,
          318,
          319,
          320,
          321,
          322,
          323,
          324,
          325,
          326,
          327,
          328,
          329,
          330,
          331,
          332,
          333,
          334,
          335,
          336,
          337,
          338,
          339,
          340,
          341,
          342,
          343,
          344,
          345,
          346,
          347,
          348,
          349,
          350,
          351,
          352,
          353,
          354,
          355,
          356,
          357,
          358,
          359,
          360,
          361,
          362,
          363,
          364,
          365,
          366,
          367,
          368,
          369,
          370,
          371,
          372,
          373,
          374,
          375,
          376,
          377,
          378,
          379,
          380,
          381,
          382,
          383,
          384,
          385,
          386,
          387,
          388,
          389,
          390,
          391
         ],
         "y": [
          null,
          296.812255859375,
          1173.0833740234375,
          610.609619140625,
          511.3690490722656,
          347.35400390625,
          91.09539031982422,
          324.9845275878906,
          99.4652862548828,
          243.3468017578125,
          2171.916748046875,
          169.74705505371094,
          390.3718872070313,
          459.17724609375,
          187.70323181152344,
          160.17347717285156,
          256.6866149902344,
          212.8337554931641,
          54.28863143920898,
          86.23379516601562,
          88.90583801269531,
          89.10262298583984,
          81.51251220703125,
          48.94001007080078,
          105.91585540771484,
          250.9604949951172,
          88.78549194335938,
          47.08481979370117,
          82.20076751708984,
          123.18567657470705,
          144.11424255371094,
          143.11936950683594,
          58.194480895996094,
          72.84175872802734,
          184.0267333984375,
          65.12572479248047,
          82.90280151367188,
          89.01380920410156,
          64.80830383300781,
          66.26504516601562,
          191.48013305664065,
          54.69756317138672,
          68.99891662597656,
          69.75733947753906,
          52.71367263793945,
          137.5685577392578,
          36.153804779052734,
          40.35229110717773,
          27.505327224731445,
          40.891334533691406,
          254.06515502929688,
          89.89263153076172,
          984.357421875,
          137.70570373535156,
          238.0194396972656,
          92.04296112060548,
          100.89830017089844,
          108.89311981201172,
          49.45400238037109,
          67.23027038574219,
          72.25778198242188,
          91.4775848388672,
          96.49491119384766,
          26.032695770263672,
          83.11417388916016,
          85.3980484008789,
          204.41046142578125,
          2363.539794921875,
          124.12653350830078,
          115.7814483642578,
          151.9904327392578,
          70.57955932617188,
          135.14892578125,
          88.04959106445312,
          43.55231475830078,
          79.7467041015625,
          35.32744598388672,
          33.58755111694336,
          44.39852142333984,
          33.32575988769531,
          58.02959442138672,
          63.51217269897461,
          14.793793678283691,
          115.9557113647461,
          38.5058822631836,
          37.85871124267578,
          75.5302505493164,
          18.013959884643555,
          27.17144775390625,
          36.80536651611328,
          27.63169479370117,
          59.4777717590332,
          27.418533325195312,
          25.751670837402344,
          35.9427490234375,
          36.56389236450195,
          28.744264602661133,
          9.435853958129885,
          55.37226104736328,
          51.394020080566406,
          48.11712646484375,
          30.562162399291992,
          62.28196334838867,
          47.72997283935547,
          49.68428802490234,
          24.71467399597168,
          48.3794174194336,
          52.45611572265625,
          46.00690078735352,
          113.50634002685548,
          8.980290412902832,
          24.536924362182617,
          58.53001403808594,
          64.5849609375,
          65.65630340576172,
          100.41136169433594,
          23.16565704345703,
          58.83465194702149,
          46.95161056518555,
          52.4322395324707,
          69.44086456298828,
          38.35520553588867,
          50.77570724487305,
          80.35388946533203,
          50.58942794799805,
          34.47842025756836,
          97.8233413696289,
          25.588035583496094,
          120.5475845336914,
          70.74937438964844,
          58.150657653808594,
          37.95227813720703,
          34.301292419433594,
          42.28642272949219,
          37.22676086425781,
          45.95947647094727,
          32.84029006958008,
          62.83586883544922,
          23.333833694458008,
          35.38184356689453,
          17.929555892944336,
          48.34161376953125,
          83.95828247070312,
          63.32862854003906,
          139.07797241210938,
          64.92839813232422,
          23.105335235595703,
          5.481816291809082,
          46.05094146728516,
          24.3034725189209,
          36.30498504638672,
          32.54079055786133,
          18.941505432128903,
          25.16687393188477,
          45.434078216552734,
          51.249305725097656,
          19.65435791015625,
          15.563379287719728,
          41.743446350097656,
          23.098257064819336,
          15.18472385406494,
          18.526042938232425,
          28.18475914001465,
          22.674543380737305,
          19.548583984375,
          51.1345100402832,
          56.64773941040039,
          50.45306396484375,
          24.405126571655277,
          39.26583480834961,
          20.655073165893555,
          53.20113754272461,
          33.4048957824707,
          40.81484603881836,
          40.44522857666016,
          30.16561508178711,
          37.50236892700195,
          124.34490203857422,
          34.370906829833984,
          12.872922897338867,
          50.83534240722656,
          35.30509185791016,
          13.262081146240234,
          81.58383178710938,
          42.25080871582031,
          12.665739059448242,
          16.99620819091797,
          111.17697143554688,
          77.38201904296875,
          4.469945430755615,
          17.841354370117188,
          34.899169921875,
          15.810848236083984,
          42.342041015625,
          25.24621963500977,
          32.05352020263672,
          27.286773681640625,
          28.44328117370605,
          96.985107421875,
          34.6038703918457,
          36.46166610717773,
          12.67087459564209,
          60.81854248046875,
          85.9167709350586,
          25.94932174682617,
          55.152923583984375,
          18.524677276611328,
          69.61109924316406,
          13.535943031311035,
          22.231290817260746,
          19.40750312805176,
          88.54116821289062,
          30.36551284790039,
          40.45307159423828,
          19.751766204833984,
          12.254308700561523,
          25.62025260925293,
          17.58279800415039,
          34.96123504638672,
          78.82162475585938,
          110.31543731689452,
          39.23283767700195,
          8.489809036254883,
          42.11046600341797,
          72.8072280883789,
          30.25190544128418,
          62.11040115356445,
          27.335939407348636,
          75.01652526855469,
          31.78418731689453,
          8.813532829284668,
          6.869370937347412,
          63.245849609375,
          71.57518768310547,
          56.06211853027344,
          25.52057838439941,
          60.71001815795898,
          49.59487915039063,
          23.539663314819336,
          26.99954032897949,
          37.65374374389648,
          40.01417541503906,
          20.08216857910156,
          55.96078109741211,
          37.262149810791016,
          33.06399917602539,
          52.499637603759766,
          25.26361846923828,
          59.78607177734375,
          26.804811477661133,
          89.109375,
          22.87873268127441,
          29.291488647460938,
          51.586692810058594,
          17.295040130615234,
          21.34953117370605,
          74.91492462158203,
          13.817158699035645,
          11.579480171203612,
          28.73346900939941,
          25.652231216430664,
          75.8202896118164,
          14.669787406921388,
          22.360595703125,
          25.838850021362305,
          35.67454147338867,
          27.28114891052246,
          33.04490280151367,
          24.65778923034668,
          18.517114639282227,
          51.14485931396485,
          28.18379020690918,
          70.89894104003906,
          34.68671417236328,
          15.010570526123049,
          42.75614547729492,
          42.91197204589844,
          49.403602600097656,
          33.79360580444336,
          34.989227294921875,
          33.855323791503906,
          14.845982551574709,
          29.394607543945312,
          15.858735084533691,
          50.1489143371582,
          27.270435333251957,
          54.268802642822266,
          25.481599807739254,
          21.174325942993164,
          12.629697799682615,
          15.95643138885498,
          30.93805313110352,
          19.704713821411133,
          12.548866271972656,
          44.03388214111328,
          15.207746505737305,
          9.526719093322754,
          68.09046936035156,
          13.927452087402344,
          13.56917667388916,
          23.82096290588379,
          72.1180648803711,
          24.51020050048828,
          28.8020133972168,
          23.201833724975582,
          66.41374206542969,
          57.2849235534668,
          33.83740234375,
          18.582006454467773,
          25.795854568481445,
          132.5316162109375,
          12.094897270202637,
          18.01888656616211,
          55.28724670410156,
          124.05805206298828,
          19.915658950805664,
          51.48366165161133,
          135.89053344726562,
          440.6950378417969,
          55.073978424072266,
          40.87566757202149,
          20.86849975585937,
          18.350852966308597,
          28.33645820617676,
          16.50490379333496,
          22.81365776062012,
          30.555587768554688,
          42.47129440307617,
          52.64629364013672,
          18.436111450195312,
          39.51369094848633,
          31.891590118408203,
          53.65890884399414,
          83.5205307006836,
          65.96173095703125,
          65.6553955078125,
          150.3147735595703,
          36.748382568359375,
          280.6483459472656,
          48.67056655883789,
          1154.900634765625,
          17.029165267944336,
          60.88523483276367,
          142.04808044433594,
          24.28813934326172,
          117.76657104492188,
          71.59675598144531,
          20.381893157958984,
          36.17317962646485,
          137.8793182373047,
          21.42333602905273,
          56.45712661743164,
          33.21480941772461,
          21.029756546020508,
          39.64933395385742,
          79.29240417480469,
          17.757991790771484,
          32.120052337646484,
          29.345903396606445,
          16.833812713623047,
          74.7319107055664,
          23.284881591796875,
          72.35289764404297,
          66.53985595703125,
          25.13954734802246,
          34.29767608642578,
          32.01277542114258,
          22.744895935058597,
          28.669191360473636,
          20.77412796020508,
          77.73743438720703,
          30.426921844482425,
          125.2198486328125,
          21.721662521362305,
          43.95655822753906,
          18.45897102355957,
          231.603759765625,
          30.641416549682617,
          34.013671875,
          22.003360748291016,
          40.895503997802734,
          227.83750915527344,
          48.53766632080078,
          75.86373901367188,
          76.62373352050781,
          102.32129669189452,
          256.9174499511719,
          28.86146545410156,
          177.0868682861328,
          250.4700469970703,
          29.315200805664062
         ]
        }
       ],
       "layout": {
        "legend": {
         "title": {
          "text": "Loss Types"
         }
        },
        "template": {
         "data": {
          "bar": [
           {
            "error_x": {
             "color": "#2a3f5f"
            },
            "error_y": {
             "color": "#2a3f5f"
            },
            "marker": {
             "line": {
              "color": "#E5ECF6",
              "width": 0.5
             },
             "pattern": {
              "fillmode": "overlay",
              "size": 10,
              "solidity": 0.2
             }
            },
            "type": "bar"
           }
          ],
          "barpolar": [
           {
            "marker": {
             "line": {
              "color": "#E5ECF6",
              "width": 0.5
             },
             "pattern": {
              "fillmode": "overlay",
              "size": 10,
              "solidity": 0.2
             }
            },
            "type": "barpolar"
           }
          ],
          "carpet": [
           {
            "aaxis": {
             "endlinecolor": "#2a3f5f",
             "gridcolor": "white",
             "linecolor": "white",
             "minorgridcolor": "white",
             "startlinecolor": "#2a3f5f"
            },
            "baxis": {
             "endlinecolor": "#2a3f5f",
             "gridcolor": "white",
             "linecolor": "white",
             "minorgridcolor": "white",
             "startlinecolor": "#2a3f5f"
            },
            "type": "carpet"
           }
          ],
          "choropleth": [
           {
            "colorbar": {
             "outlinewidth": 0,
             "ticks": ""
            },
            "type": "choropleth"
           }
          ],
          "contour": [
           {
            "colorbar": {
             "outlinewidth": 0,
             "ticks": ""
            },
            "colorscale": [
             [
              0,
              "#0d0887"
             ],
             [
              0.1111111111111111,
              "#46039f"
             ],
             [
              0.2222222222222222,
              "#7201a8"
             ],
             [
              0.3333333333333333,
              "#9c179e"
             ],
             [
              0.4444444444444444,
              "#bd3786"
             ],
             [
              0.5555555555555556,
              "#d8576b"
             ],
             [
              0.6666666666666666,
              "#ed7953"
             ],
             [
              0.7777777777777778,
              "#fb9f3a"
             ],
             [
              0.8888888888888888,
              "#fdca26"
             ],
             [
              1,
              "#f0f921"
             ]
            ],
            "type": "contour"
           }
          ],
          "contourcarpet": [
           {
            "colorbar": {
             "outlinewidth": 0,
             "ticks": ""
            },
            "type": "contourcarpet"
           }
          ],
          "heatmap": [
           {
            "colorbar": {
             "outlinewidth": 0,
             "ticks": ""
            },
            "colorscale": [
             [
              0,
              "#0d0887"
             ],
             [
              0.1111111111111111,
              "#46039f"
             ],
             [
              0.2222222222222222,
              "#7201a8"
             ],
             [
              0.3333333333333333,
              "#9c179e"
             ],
             [
              0.4444444444444444,
              "#bd3786"
             ],
             [
              0.5555555555555556,
              "#d8576b"
             ],
             [
              0.6666666666666666,
              "#ed7953"
             ],
             [
              0.7777777777777778,
              "#fb9f3a"
             ],
             [
              0.8888888888888888,
              "#fdca26"
             ],
             [
              1,
              "#f0f921"
             ]
            ],
            "type": "heatmap"
           }
          ],
          "heatmapgl": [
           {
            "colorbar": {
             "outlinewidth": 0,
             "ticks": ""
            },
            "colorscale": [
             [
              0,
              "#0d0887"
             ],
             [
              0.1111111111111111,
              "#46039f"
             ],
             [
              0.2222222222222222,
              "#7201a8"
             ],
             [
              0.3333333333333333,
              "#9c179e"
             ],
             [
              0.4444444444444444,
              "#bd3786"
             ],
             [
              0.5555555555555556,
              "#d8576b"
             ],
             [
              0.6666666666666666,
              "#ed7953"
             ],
             [
              0.7777777777777778,
              "#fb9f3a"
             ],
             [
              0.8888888888888888,
              "#fdca26"
             ],
             [
              1,
              "#f0f921"
             ]
            ],
            "type": "heatmapgl"
           }
          ],
          "histogram": [
           {
            "marker": {
             "pattern": {
              "fillmode": "overlay",
              "size": 10,
              "solidity": 0.2
             }
            },
            "type": "histogram"
           }
          ],
          "histogram2d": [
           {
            "colorbar": {
             "outlinewidth": 0,
             "ticks": ""
            },
            "colorscale": [
             [
              0,
              "#0d0887"
             ],
             [
              0.1111111111111111,
              "#46039f"
             ],
             [
              0.2222222222222222,
              "#7201a8"
             ],
             [
              0.3333333333333333,
              "#9c179e"
             ],
             [
              0.4444444444444444,
              "#bd3786"
             ],
             [
              0.5555555555555556,
              "#d8576b"
             ],
             [
              0.6666666666666666,
              "#ed7953"
             ],
             [
              0.7777777777777778,
              "#fb9f3a"
             ],
             [
              0.8888888888888888,
              "#fdca26"
             ],
             [
              1,
              "#f0f921"
             ]
            ],
            "type": "histogram2d"
           }
          ],
          "histogram2dcontour": [
           {
            "colorbar": {
             "outlinewidth": 0,
             "ticks": ""
            },
            "colorscale": [
             [
              0,
              "#0d0887"
             ],
             [
              0.1111111111111111,
              "#46039f"
             ],
             [
              0.2222222222222222,
              "#7201a8"
             ],
             [
              0.3333333333333333,
              "#9c179e"
             ],
             [
              0.4444444444444444,
              "#bd3786"
             ],
             [
              0.5555555555555556,
              "#d8576b"
             ],
             [
              0.6666666666666666,
              "#ed7953"
             ],
             [
              0.7777777777777778,
              "#fb9f3a"
             ],
             [
              0.8888888888888888,
              "#fdca26"
             ],
             [
              1,
              "#f0f921"
             ]
            ],
            "type": "histogram2dcontour"
           }
          ],
          "mesh3d": [
           {
            "colorbar": {
             "outlinewidth": 0,
             "ticks": ""
            },
            "type": "mesh3d"
           }
          ],
          "parcoords": [
           {
            "line": {
             "colorbar": {
              "outlinewidth": 0,
              "ticks": ""
             }
            },
            "type": "parcoords"
           }
          ],
          "pie": [
           {
            "automargin": true,
            "type": "pie"
           }
          ],
          "scatter": [
           {
            "fillpattern": {
             "fillmode": "overlay",
             "size": 10,
             "solidity": 0.2
            },
            "type": "scatter"
           }
          ],
          "scatter3d": [
           {
            "line": {
             "colorbar": {
              "outlinewidth": 0,
              "ticks": ""
             }
            },
            "marker": {
             "colorbar": {
              "outlinewidth": 0,
              "ticks": ""
             }
            },
            "type": "scatter3d"
           }
          ],
          "scattercarpet": [
           {
            "marker": {
             "colorbar": {
              "outlinewidth": 0,
              "ticks": ""
             }
            },
            "type": "scattercarpet"
           }
          ],
          "scattergeo": [
           {
            "marker": {
             "colorbar": {
              "outlinewidth": 0,
              "ticks": ""
             }
            },
            "type": "scattergeo"
           }
          ],
          "scattergl": [
           {
            "marker": {
             "colorbar": {
              "outlinewidth": 0,
              "ticks": ""
             }
            },
            "type": "scattergl"
           }
          ],
          "scattermapbox": [
           {
            "marker": {
             "colorbar": {
              "outlinewidth": 0,
              "ticks": ""
             }
            },
            "type": "scattermapbox"
           }
          ],
          "scatterpolar": [
           {
            "marker": {
             "colorbar": {
              "outlinewidth": 0,
              "ticks": ""
             }
            },
            "type": "scatterpolar"
           }
          ],
          "scatterpolargl": [
           {
            "marker": {
             "colorbar": {
              "outlinewidth": 0,
              "ticks": ""
             }
            },
            "type": "scatterpolargl"
           }
          ],
          "scatterternary": [
           {
            "marker": {
             "colorbar": {
              "outlinewidth": 0,
              "ticks": ""
             }
            },
            "type": "scatterternary"
           }
          ],
          "surface": [
           {
            "colorbar": {
             "outlinewidth": 0,
             "ticks": ""
            },
            "colorscale": [
             [
              0,
              "#0d0887"
             ],
             [
              0.1111111111111111,
              "#46039f"
             ],
             [
              0.2222222222222222,
              "#7201a8"
             ],
             [
              0.3333333333333333,
              "#9c179e"
             ],
             [
              0.4444444444444444,
              "#bd3786"
             ],
             [
              0.5555555555555556,
              "#d8576b"
             ],
             [
              0.6666666666666666,
              "#ed7953"
             ],
             [
              0.7777777777777778,
              "#fb9f3a"
             ],
             [
              0.8888888888888888,
              "#fdca26"
             ],
             [
              1,
              "#f0f921"
             ]
            ],
            "type": "surface"
           }
          ],
          "table": [
           {
            "cells": {
             "fill": {
              "color": "#EBF0F8"
             },
             "line": {
              "color": "white"
             }
            },
            "header": {
             "fill": {
              "color": "#C8D4E3"
             },
             "line": {
              "color": "white"
             }
            },
            "type": "table"
           }
          ]
         },
         "layout": {
          "annotationdefaults": {
           "arrowcolor": "#2a3f5f",
           "arrowhead": 0,
           "arrowwidth": 1
          },
          "autotypenumbers": "strict",
          "coloraxis": {
           "colorbar": {
            "outlinewidth": 0,
            "ticks": ""
           }
          },
          "colorscale": {
           "diverging": [
            [
             0,
             "#8e0152"
            ],
            [
             0.1,
             "#c51b7d"
            ],
            [
             0.2,
             "#de77ae"
            ],
            [
             0.3,
             "#f1b6da"
            ],
            [
             0.4,
             "#fde0ef"
            ],
            [
             0.5,
             "#f7f7f7"
            ],
            [
             0.6,
             "#e6f5d0"
            ],
            [
             0.7,
             "#b8e186"
            ],
            [
             0.8,
             "#7fbc41"
            ],
            [
             0.9,
             "#4d9221"
            ],
            [
             1,
             "#276419"
            ]
           ],
           "sequential": [
            [
             0,
             "#0d0887"
            ],
            [
             0.1111111111111111,
             "#46039f"
            ],
            [
             0.2222222222222222,
             "#7201a8"
            ],
            [
             0.3333333333333333,
             "#9c179e"
            ],
            [
             0.4444444444444444,
             "#bd3786"
            ],
            [
             0.5555555555555556,
             "#d8576b"
            ],
            [
             0.6666666666666666,
             "#ed7953"
            ],
            [
             0.7777777777777778,
             "#fb9f3a"
            ],
            [
             0.8888888888888888,
             "#fdca26"
            ],
            [
             1,
             "#f0f921"
            ]
           ],
           "sequentialminus": [
            [
             0,
             "#0d0887"
            ],
            [
             0.1111111111111111,
             "#46039f"
            ],
            [
             0.2222222222222222,
             "#7201a8"
            ],
            [
             0.3333333333333333,
             "#9c179e"
            ],
            [
             0.4444444444444444,
             "#bd3786"
            ],
            [
             0.5555555555555556,
             "#d8576b"
            ],
            [
             0.6666666666666666,
             "#ed7953"
            ],
            [
             0.7777777777777778,
             "#fb9f3a"
            ],
            [
             0.8888888888888888,
             "#fdca26"
            ],
            [
             1,
             "#f0f921"
            ]
           ]
          },
          "colorway": [
           "#636efa",
           "#EF553B",
           "#00cc96",
           "#ab63fa",
           "#FFA15A",
           "#19d3f3",
           "#FF6692",
           "#B6E880",
           "#FF97FF",
           "#FECB52"
          ],
          "font": {
           "color": "#2a3f5f"
          },
          "geo": {
           "bgcolor": "white",
           "lakecolor": "white",
           "landcolor": "#E5ECF6",
           "showlakes": true,
           "showland": true,
           "subunitcolor": "white"
          },
          "hoverlabel": {
           "align": "left"
          },
          "hovermode": "closest",
          "mapbox": {
           "style": "light"
          },
          "paper_bgcolor": "white",
          "plot_bgcolor": "#E5ECF6",
          "polar": {
           "angularaxis": {
            "gridcolor": "white",
            "linecolor": "white",
            "ticks": ""
           },
           "bgcolor": "#E5ECF6",
           "radialaxis": {
            "gridcolor": "white",
            "linecolor": "white",
            "ticks": ""
           }
          },
          "scene": {
           "xaxis": {
            "backgroundcolor": "#E5ECF6",
            "gridcolor": "white",
            "gridwidth": 2,
            "linecolor": "white",
            "showbackground": true,
            "ticks": "",
            "zerolinecolor": "white"
           },
           "yaxis": {
            "backgroundcolor": "#E5ECF6",
            "gridcolor": "white",
            "gridwidth": 2,
            "linecolor": "white",
            "showbackground": true,
            "ticks": "",
            "zerolinecolor": "white"
           },
           "zaxis": {
            "backgroundcolor": "#E5ECF6",
            "gridcolor": "white",
            "gridwidth": 2,
            "linecolor": "white",
            "showbackground": true,
            "ticks": "",
            "zerolinecolor": "white"
           }
          },
          "shapedefaults": {
           "line": {
            "color": "#2a3f5f"
           }
          },
          "ternary": {
           "aaxis": {
            "gridcolor": "white",
            "linecolor": "white",
            "ticks": ""
           },
           "baxis": {
            "gridcolor": "white",
            "linecolor": "white",
            "ticks": ""
           },
           "bgcolor": "#E5ECF6",
           "caxis": {
            "gridcolor": "white",
            "linecolor": "white",
            "ticks": ""
           }
          },
          "title": {
           "x": 0.05
          },
          "xaxis": {
           "automargin": true,
           "gridcolor": "white",
           "linecolor": "white",
           "ticks": "",
           "title": {
            "standoff": 15
           },
           "zerolinecolor": "white",
           "zerolinewidth": 2
          },
          "yaxis": {
           "automargin": true,
           "gridcolor": "white",
           "linecolor": "white",
           "ticks": "",
           "title": {
            "standoff": 15
           },
           "zerolinecolor": "white",
           "zerolinewidth": 2
          }
         }
        },
        "title": {
         "text": "Training Loss/Value Loss vs Iterations"
        },
        "xaxis": {
         "title": {
          "text": "Iterations"
         }
        },
        "yaxis": {
         "title": {
          "text": "Loss"
         }
        }
       }
      },
      "text/html": [
       "<div>                            <div id=\"54aafe1e-de0d-415d-9f87-104055d05a08\" class=\"plotly-graph-div\" style=\"height:525px; width:100%;\"></div>            <script type=\"text/javascript\">                require([\"plotly\"], function(Plotly) {                    window.PLOTLYENV=window.PLOTLYENV || {};                                    if (document.getElementById(\"54aafe1e-de0d-415d-9f87-104055d05a08\")) {                    Plotly.newPlot(                        \"54aafe1e-de0d-415d-9f87-104055d05a08\",                        [{\"mode\":\"lines\",\"name\":\"Value Loss\",\"x\":[1,2,3,4,5,6,7,8,9,10,11,12,13,14,15,16,17,18,19,20,21,22,23,24,25,26,27,28,29,30,31,32,33,34,35,36,37,38,39,40,41,42,43,44,45,46,47,48,49,50,51,52,53,54,55,56,57,58,59,60,61,62,63,64,65,66,67,68,69,70,71,72,73,74,75,76,77,78,79,80,81,82,83,84,85,86,87,88,89,90,91,92,93,94,95,96,97,98,99,100,101,102,103,104,105,106,107,108,109,110,111,112,113,114,115,116,117,118,119,120,121,122,123,124,125,126,127,128,129,130,131,132,133,134,135,136,137,138,139,140,141,142,143,144,145,146,147,148,149,150,151,152,153,154,155,156,157,158,159,160,161,162,163,164,165,166,167,168,169,170,171,172,173,174,175,176,177,178,179,180,181,182,183,184,185,186,187,188,189,190,191,192,193,194,195,196,197,198,199,200,201,202,203,204,205,206,207,208,209,210,211,212,213,214,215,216,217,218,219,220,221,222,223,224,225,226,227,228,229,230,231,232,233,234,235,236,237,238,239,240,241,242,243,244,245,246,247,248,249,250,251,252,253,254,255,256,257,258,259,260,261,262,263,264,265,266,267,268,269,270,271,272,273,274,275,276,277,278,279,280,281,282,283,284,285,286,287,288,289,290,291,292,293,294,295,296,297,298,299,300,301,302,303,304,305,306,307,308,309,310,311,312,313,314,315,316,317,318,319,320,321,322,323,324,325,326,327,328,329,330,331,332,333,334,335,336,337,338,339,340,341,342,343,344,345,346,347,348,349,350,351,352,353,354,355,356,357,358,359,360,361,362,363,364,365,366,367,368,369,370,371,372,373,374,375,376,377,378,379,380,381,382,383,384,385,386,387,388,389,390,391],\"y\":[null,1392.9064169486364,2417.3349697271983,1449.3595827817917,1463.2483403921128,1324.8291759729386,1512.906170376142,928.1784890492758,1045.7882777055104,1192.879097723961,1374.605797302723,739.1634866754214,801.8061899900437,1005.302876464526,894.5449770053227,468.0668294628461,725.8862324615319,602.3699350814024,396.5967505991459,409.8176472345988,343.1708752552668,809.2043342471122,299.38445255557696,376.0526660680771,283.0018811792135,479.73277436296144,342.4138837635517,203.2437549153964,293.8661635816097,333.6637993067503,274.6741155008475,428.9565042515596,364.954582887888,248.83012100756167,363.46687366465727,615.4908180356026,346.82464008728664,364.142192915082,378.1288697222869,317.5585763454437,280.49693421125414,367.8949913322925,268.91196971933044,229.4300095140934,414.8607017427683,341.93814565936725,302.53414508303007,349.8838575323423,326.3820206135512,365.8776847332716,423.28731978734334,358.1440961400668,608.4391957352559,367.681242954731,436.4705699612697,458.686277253429,345.65587810675305,481.1394896676143,317.6835002322992,272.61053431232773,333.41623506943387,521.1283162196477,431.7009491423766,505.53602905174097,452.264519004027,357.8311144153277,550.7321464677651,512.4528739223878,645.2217770457268,452.2057397902012,492.00319989522296,379.40162185331184,446.0302990972996,483.00069318215054,424.3808623949687,504.9456601123015,242.6697542687257,209.2674398938815,395.8693529913823,548.2948125580947,245.12706213891505,280.28120922048885,253.76530403594177,236.21263761421045,249.34780260821185,198.38915764490764,443.069995161891,198.1178604861101,260.17379609843096,248.9822531670332,210.3055252969265,197.50662055710956,196.8368023176988,146.06943036466836,233.44523690541584,211.8882803512116,246.72400294144947,187.6543096115192,218.2406799316406,224.71246533691885,219.24769964714844,181.0346609741449,223.4171565935016,331.13779871662456,397.7534961427252,277.36514887859425,348.1400088523825,321.01133883297445,327.15970469415186,331.54657107989,381.9872702439626,217.07844937543075,214.606449769934,425.8308060655991,426.60392922659713,383.8677298039198,194.11011587381364,330.6021942406893,320.98606669207413,474.2670292923848,215.6044101834297,203.3013407568137,332.4183894063036,349.8866798122724,256.26469819098713,232.48125918209556,395.6585237234831,216.96627396742505,264.7412541459004,285.47514344900844,299.240379220744,554.2620175043742,215.06461552331845,250.53233837336305,154.5837288553516,336.4390294392904,368.7310892537236,345.47237650752066,194.41563381453355,168.99196456919114,236.36453239222368,208.9003015900652,217.71701678931717,254.5052642852068,266.8642416268587,195.949643689394,161.02380619645118,152.56053364500403,228.4333842774232,191.7867243528366,178.49871701300145,212.9707425246636,344.51554939448835,196.3685321311156,238.47435442358253,216.30639033416907,225.54362416962783,209.20727688173451,200.87233374118804,184.7525426218907,196.63224591463805,303.5641969750325,144.2187199672063,180.49575729121764,184.33534260590872,165.57141221662363,169.82201102574666,166.50477343897026,158.58497038086256,248.12546875923871,192.18827382524807,173.91349407583476,119.98504435966412,182.0848436097304,220.23367737730345,157.55955028384923,300.8510276635488,233.8333167165518,155.0719751785199,408.68233057608205,197.977140412728,285.9365662202239,257.7507089212537,291.73248500724634,182.2769427756469,129.75938960636657,115.26772191797694,186.26974838326376,167.62696393330893,130.0101669078072,171.27916707446178,209.0380336150527,145.86038826455672,197.56126644512017,130.94643622810642,202.69530548850696,199.2880418245991,181.08310202260813,198.12654154549045,171.9748132497072,175.52532339642443,138.3603846867879,180.06535778045654,203.61138813843328,202.83544099777936,167.02819046229124,145.03435675601165,228.28169457217055,148.0703877111276,193.0477332706253,178.31028555730978,211.56382721761864,200.5667129476865,123.29782699594897,146.6127426971992,200.6323686485489,270.0889807154735,181.22629008789855,162.64412964532772,257.75678705672425,227.3735361819466,176.80435093243918,150.26091596210998,149.5668441914022,196.5396321276824,158.68824947079025,212.66246627817551,172.0769470145305,178.32104320476452,180.8647895132502,185.9916274736325,131.42907590866088,268.18358242263395,175.31321739455063,168.79923394074044,174.15173853437105,151.591512752076,141.35727010965348,180.895536018908,154.7372543156147,190.06356453647217,130.5673818960786,135.45230653882027,158.16394458512465,153.4411896176636,369.3545277178288,168.42309295584758,142.51237053722144,216.4222295800845,193.1593583141764,170.78537542720636,187.21988430718585,160.6357688387235,171.05171740452448,178.92762797027825,171.67325919568538,261.1098749190569,159.38594206372898,162.35625412414473,153.25003761947156,139.91902009894451,263.4081615075469,125.6231185168028,154.48438035796087,175.1194138189157,182.73866659353175,182.32205488185087,243.40619467099503,137.72306820005178,198.20042418738203,223.87507123549776,261.2670835042993,239.3283090263605,202.7389762148261,210.3492621421814,208.07965894987183,188.4398513570428,174.89266229023536,483.7110098332167,274.747964870433,158.49710098256668,153.3511439387997,289.2503095937272,225.90183372745912,176.71556081473827,171.7505399569869,217.069812651972,431.9650185237328,139.44516123384238,114.29500093559425,318.37288791636627,221.0312343135476,132.41393919065595,186.3962832366427,155.39366144984962,180.02647706692417,178.4481536631783,161.81096769620976,159.52033314754564,174.29005589932203,174.1730133657654,411.8081147784988,280.7230580766996,183.69848943402368,186.74825157821175,189.3990446368853,165.35068683326244,181.01145322273172,155.60466714948416,146.85668169508378,178.5294471765558,253.541681839029,322.81781484534343,183.98277881046133,424.6616440931956,348.6703288386265,270.1687260697285,333.71796843111514,220.2674034376939,281.5261932681004,191.3531777843833,178.5187235429883,166.25620774924755,361.18427504003046,221.59964379469557,151.85890835647783,289.5786404803395,168.64710572212934,164.0804614663124,290.1452573964993,431.55272487451634,186.91562699327864,327.1705897023281,321.25012248953186,309.51940920054915,355.1925091693799,287.83437253634133,264.96171485732,468.7894325584173,717.166715285182,427.4620996028185,322.8811344156663,484.4080695003271,292.7983590438962,236.0775562832753,315.81976212362446,282.85167789657913,214.5297609473268,222.00420490105947,331.48347736845415,164.39821737011275,476.1150852163633,208.2042967538039,273.8641953587532,208.9364559188485,212.76611123283703,240.0214571746687,252.353043889006,158.29865146974723,220.38153291543324,192.29412638445692,319.0473614369829,248.55513925055664,195.69015429764983,153.4994087556998,163.9048956895868,169.8609173302849,176.45179119557142,174.04262407198547,286.86945765117804,223.01141710678735,183.5060308208068,217.84253379702568,281.7698468923569,243.8916137923797,262.10466517011326,308.2988035877545,158.3123286475738,256.4203503206372,226.5807310536504,298.203692188859,352.95552900632225,278.59894832322993,419.2379525691271,246.27797789971035,321.27039231657983,429.6461380640666,231.38278688093027,356.36510875721774,357.4330461502076,260.8238118285934],\"type\":\"scatter\"},{\"mode\":\"lines\",\"name\":\"Training Loss\",\"x\":[1,2,3,4,5,6,7,8,9,10,11,12,13,14,15,16,17,18,19,20,21,22,23,24,25,26,27,28,29,30,31,32,33,34,35,36,37,38,39,40,41,42,43,44,45,46,47,48,49,50,51,52,53,54,55,56,57,58,59,60,61,62,63,64,65,66,67,68,69,70,71,72,73,74,75,76,77,78,79,80,81,82,83,84,85,86,87,88,89,90,91,92,93,94,95,96,97,98,99,100,101,102,103,104,105,106,107,108,109,110,111,112,113,114,115,116,117,118,119,120,121,122,123,124,125,126,127,128,129,130,131,132,133,134,135,136,137,138,139,140,141,142,143,144,145,146,147,148,149,150,151,152,153,154,155,156,157,158,159,160,161,162,163,164,165,166,167,168,169,170,171,172,173,174,175,176,177,178,179,180,181,182,183,184,185,186,187,188,189,190,191,192,193,194,195,196,197,198,199,200,201,202,203,204,205,206,207,208,209,210,211,212,213,214,215,216,217,218,219,220,221,222,223,224,225,226,227,228,229,230,231,232,233,234,235,236,237,238,239,240,241,242,243,244,245,246,247,248,249,250,251,252,253,254,255,256,257,258,259,260,261,262,263,264,265,266,267,268,269,270,271,272,273,274,275,276,277,278,279,280,281,282,283,284,285,286,287,288,289,290,291,292,293,294,295,296,297,298,299,300,301,302,303,304,305,306,307,308,309,310,311,312,313,314,315,316,317,318,319,320,321,322,323,324,325,326,327,328,329,330,331,332,333,334,335,336,337,338,339,340,341,342,343,344,345,346,347,348,349,350,351,352,353,354,355,356,357,358,359,360,361,362,363,364,365,366,367,368,369,370,371,372,373,374,375,376,377,378,379,380,381,382,383,384,385,386,387,388,389,390,391],\"y\":[null,296.812255859375,1173.0833740234375,610.609619140625,511.3690490722656,347.35400390625,91.09539031982422,324.9845275878906,99.4652862548828,243.3468017578125,2171.916748046875,169.74705505371094,390.3718872070313,459.17724609375,187.70323181152344,160.17347717285156,256.6866149902344,212.8337554931641,54.28863143920898,86.23379516601562,88.90583801269531,89.10262298583984,81.51251220703125,48.94001007080078,105.91585540771484,250.9604949951172,88.78549194335938,47.08481979370117,82.20076751708984,123.18567657470705,144.11424255371094,143.11936950683594,58.194480895996094,72.84175872802734,184.0267333984375,65.12572479248047,82.90280151367188,89.01380920410156,64.80830383300781,66.26504516601562,191.48013305664065,54.69756317138672,68.99891662597656,69.75733947753906,52.71367263793945,137.5685577392578,36.153804779052734,40.35229110717773,27.505327224731445,40.891334533691406,254.06515502929688,89.89263153076172,984.357421875,137.70570373535156,238.0194396972656,92.04296112060548,100.89830017089844,108.89311981201172,49.45400238037109,67.23027038574219,72.25778198242188,91.4775848388672,96.49491119384766,26.032695770263672,83.11417388916016,85.3980484008789,204.41046142578125,2363.539794921875,124.12653350830078,115.7814483642578,151.9904327392578,70.57955932617188,135.14892578125,88.04959106445312,43.55231475830078,79.7467041015625,35.32744598388672,33.58755111694336,44.39852142333984,33.32575988769531,58.02959442138672,63.51217269897461,14.793793678283691,115.9557113647461,38.5058822631836,37.85871124267578,75.5302505493164,18.013959884643555,27.17144775390625,36.80536651611328,27.63169479370117,59.4777717590332,27.418533325195312,25.751670837402344,35.9427490234375,36.56389236450195,28.744264602661133,9.435853958129885,55.37226104736328,51.394020080566406,48.11712646484375,30.562162399291992,62.28196334838867,47.72997283935547,49.68428802490234,24.71467399597168,48.3794174194336,52.45611572265625,46.00690078735352,113.50634002685548,8.980290412902832,24.536924362182617,58.53001403808594,64.5849609375,65.65630340576172,100.41136169433594,23.16565704345703,58.83465194702149,46.95161056518555,52.4322395324707,69.44086456298828,38.35520553588867,50.77570724487305,80.35388946533203,50.58942794799805,34.47842025756836,97.8233413696289,25.588035583496094,120.5475845336914,70.74937438964844,58.150657653808594,37.95227813720703,34.301292419433594,42.28642272949219,37.22676086425781,45.95947647094727,32.84029006958008,62.83586883544922,23.333833694458008,35.38184356689453,17.929555892944336,48.34161376953125,83.95828247070312,63.32862854003906,139.07797241210938,64.92839813232422,23.105335235595703,5.481816291809082,46.05094146728516,24.3034725189209,36.30498504638672,32.54079055786133,18.941505432128903,25.16687393188477,45.434078216552734,51.249305725097656,19.65435791015625,15.563379287719728,41.743446350097656,23.098257064819336,15.18472385406494,18.526042938232425,28.18475914001465,22.674543380737305,19.548583984375,51.1345100402832,56.64773941040039,50.45306396484375,24.405126571655277,39.26583480834961,20.655073165893555,53.20113754272461,33.4048957824707,40.81484603881836,40.44522857666016,30.16561508178711,37.50236892700195,124.34490203857422,34.370906829833984,12.872922897338867,50.83534240722656,35.30509185791016,13.262081146240234,81.58383178710938,42.25080871582031,12.665739059448242,16.99620819091797,111.17697143554688,77.38201904296875,4.469945430755615,17.841354370117188,34.899169921875,15.810848236083984,42.342041015625,25.24621963500977,32.05352020263672,27.286773681640625,28.44328117370605,96.985107421875,34.6038703918457,36.46166610717773,12.67087459564209,60.81854248046875,85.9167709350586,25.94932174682617,55.152923583984375,18.524677276611328,69.61109924316406,13.535943031311035,22.231290817260746,19.40750312805176,88.54116821289062,30.36551284790039,40.45307159423828,19.751766204833984,12.254308700561523,25.62025260925293,17.58279800415039,34.96123504638672,78.82162475585938,110.31543731689452,39.23283767700195,8.489809036254883,42.11046600341797,72.8072280883789,30.25190544128418,62.11040115356445,27.335939407348636,75.01652526855469,31.78418731689453,8.813532829284668,6.869370937347412,63.245849609375,71.57518768310547,56.06211853027344,25.52057838439941,60.71001815795898,49.59487915039063,23.539663314819336,26.99954032897949,37.65374374389648,40.01417541503906,20.08216857910156,55.96078109741211,37.262149810791016,33.06399917602539,52.499637603759766,25.26361846923828,59.78607177734375,26.804811477661133,89.109375,22.87873268127441,29.291488647460938,51.586692810058594,17.295040130615234,21.34953117370605,74.91492462158203,13.817158699035645,11.579480171203612,28.73346900939941,25.652231216430664,75.8202896118164,14.669787406921388,22.360595703125,25.838850021362305,35.67454147338867,27.28114891052246,33.04490280151367,24.65778923034668,18.517114639282227,51.14485931396485,28.18379020690918,70.89894104003906,34.68671417236328,15.010570526123049,42.75614547729492,42.91197204589844,49.403602600097656,33.79360580444336,34.989227294921875,33.855323791503906,14.845982551574709,29.394607543945312,15.858735084533691,50.1489143371582,27.270435333251957,54.268802642822266,25.481599807739254,21.174325942993164,12.629697799682615,15.95643138885498,30.93805313110352,19.704713821411133,12.548866271972656,44.03388214111328,15.207746505737305,9.526719093322754,68.09046936035156,13.927452087402344,13.56917667388916,23.82096290588379,72.1180648803711,24.51020050048828,28.8020133972168,23.201833724975582,66.41374206542969,57.2849235534668,33.83740234375,18.582006454467773,25.795854568481445,132.5316162109375,12.094897270202637,18.01888656616211,55.28724670410156,124.05805206298828,19.915658950805664,51.48366165161133,135.89053344726562,440.6950378417969,55.073978424072266,40.87566757202149,20.86849975585937,18.350852966308597,28.33645820617676,16.50490379333496,22.81365776062012,30.555587768554688,42.47129440307617,52.64629364013672,18.436111450195312,39.51369094848633,31.891590118408203,53.65890884399414,83.5205307006836,65.96173095703125,65.6553955078125,150.3147735595703,36.748382568359375,280.6483459472656,48.67056655883789,1154.900634765625,17.029165267944336,60.88523483276367,142.04808044433594,24.28813934326172,117.76657104492188,71.59675598144531,20.381893157958984,36.17317962646485,137.8793182373047,21.42333602905273,56.45712661743164,33.21480941772461,21.029756546020508,39.64933395385742,79.29240417480469,17.757991790771484,32.120052337646484,29.345903396606445,16.833812713623047,74.7319107055664,23.284881591796875,72.35289764404297,66.53985595703125,25.13954734802246,34.29767608642578,32.01277542114258,22.744895935058597,28.669191360473636,20.77412796020508,77.73743438720703,30.426921844482425,125.2198486328125,21.721662521362305,43.95655822753906,18.45897102355957,231.603759765625,30.641416549682617,34.013671875,22.003360748291016,40.895503997802734,227.83750915527344,48.53766632080078,75.86373901367188,76.62373352050781,102.32129669189452,256.9174499511719,28.86146545410156,177.0868682861328,250.4700469970703,29.315200805664062],\"type\":\"scatter\"}],                        {\"template\":{\"data\":{\"histogram2dcontour\":[{\"type\":\"histogram2dcontour\",\"colorbar\":{\"outlinewidth\":0,\"ticks\":\"\"},\"colorscale\":[[0.0,\"#0d0887\"],[0.1111111111111111,\"#46039f\"],[0.2222222222222222,\"#7201a8\"],[0.3333333333333333,\"#9c179e\"],[0.4444444444444444,\"#bd3786\"],[0.5555555555555556,\"#d8576b\"],[0.6666666666666666,\"#ed7953\"],[0.7777777777777778,\"#fb9f3a\"],[0.8888888888888888,\"#fdca26\"],[1.0,\"#f0f921\"]]}],\"choropleth\":[{\"type\":\"choropleth\",\"colorbar\":{\"outlinewidth\":0,\"ticks\":\"\"}}],\"histogram2d\":[{\"type\":\"histogram2d\",\"colorbar\":{\"outlinewidth\":0,\"ticks\":\"\"},\"colorscale\":[[0.0,\"#0d0887\"],[0.1111111111111111,\"#46039f\"],[0.2222222222222222,\"#7201a8\"],[0.3333333333333333,\"#9c179e\"],[0.4444444444444444,\"#bd3786\"],[0.5555555555555556,\"#d8576b\"],[0.6666666666666666,\"#ed7953\"],[0.7777777777777778,\"#fb9f3a\"],[0.8888888888888888,\"#fdca26\"],[1.0,\"#f0f921\"]]}],\"heatmap\":[{\"type\":\"heatmap\",\"colorbar\":{\"outlinewidth\":0,\"ticks\":\"\"},\"colorscale\":[[0.0,\"#0d0887\"],[0.1111111111111111,\"#46039f\"],[0.2222222222222222,\"#7201a8\"],[0.3333333333333333,\"#9c179e\"],[0.4444444444444444,\"#bd3786\"],[0.5555555555555556,\"#d8576b\"],[0.6666666666666666,\"#ed7953\"],[0.7777777777777778,\"#fb9f3a\"],[0.8888888888888888,\"#fdca26\"],[1.0,\"#f0f921\"]]}],\"heatmapgl\":[{\"type\":\"heatmapgl\",\"colorbar\":{\"outlinewidth\":0,\"ticks\":\"\"},\"colorscale\":[[0.0,\"#0d0887\"],[0.1111111111111111,\"#46039f\"],[0.2222222222222222,\"#7201a8\"],[0.3333333333333333,\"#9c179e\"],[0.4444444444444444,\"#bd3786\"],[0.5555555555555556,\"#d8576b\"],[0.6666666666666666,\"#ed7953\"],[0.7777777777777778,\"#fb9f3a\"],[0.8888888888888888,\"#fdca26\"],[1.0,\"#f0f921\"]]}],\"contourcarpet\":[{\"type\":\"contourcarpet\",\"colorbar\":{\"outlinewidth\":0,\"ticks\":\"\"}}],\"contour\":[{\"type\":\"contour\",\"colorbar\":{\"outlinewidth\":0,\"ticks\":\"\"},\"colorscale\":[[0.0,\"#0d0887\"],[0.1111111111111111,\"#46039f\"],[0.2222222222222222,\"#7201a8\"],[0.3333333333333333,\"#9c179e\"],[0.4444444444444444,\"#bd3786\"],[0.5555555555555556,\"#d8576b\"],[0.6666666666666666,\"#ed7953\"],[0.7777777777777778,\"#fb9f3a\"],[0.8888888888888888,\"#fdca26\"],[1.0,\"#f0f921\"]]}],\"surface\":[{\"type\":\"surface\",\"colorbar\":{\"outlinewidth\":0,\"ticks\":\"\"},\"colorscale\":[[0.0,\"#0d0887\"],[0.1111111111111111,\"#46039f\"],[0.2222222222222222,\"#7201a8\"],[0.3333333333333333,\"#9c179e\"],[0.4444444444444444,\"#bd3786\"],[0.5555555555555556,\"#d8576b\"],[0.6666666666666666,\"#ed7953\"],[0.7777777777777778,\"#fb9f3a\"],[0.8888888888888888,\"#fdca26\"],[1.0,\"#f0f921\"]]}],\"mesh3d\":[{\"type\":\"mesh3d\",\"colorbar\":{\"outlinewidth\":0,\"ticks\":\"\"}}],\"scatter\":[{\"fillpattern\":{\"fillmode\":\"overlay\",\"size\":10,\"solidity\":0.2},\"type\":\"scatter\"}],\"parcoords\":[{\"type\":\"parcoords\",\"line\":{\"colorbar\":{\"outlinewidth\":0,\"ticks\":\"\"}}}],\"scatterpolargl\":[{\"type\":\"scatterpolargl\",\"marker\":{\"colorbar\":{\"outlinewidth\":0,\"ticks\":\"\"}}}],\"bar\":[{\"error_x\":{\"color\":\"#2a3f5f\"},\"error_y\":{\"color\":\"#2a3f5f\"},\"marker\":{\"line\":{\"color\":\"#E5ECF6\",\"width\":0.5},\"pattern\":{\"fillmode\":\"overlay\",\"size\":10,\"solidity\":0.2}},\"type\":\"bar\"}],\"scattergeo\":[{\"type\":\"scattergeo\",\"marker\":{\"colorbar\":{\"outlinewidth\":0,\"ticks\":\"\"}}}],\"scatterpolar\":[{\"type\":\"scatterpolar\",\"marker\":{\"colorbar\":{\"outlinewidth\":0,\"ticks\":\"\"}}}],\"histogram\":[{\"marker\":{\"pattern\":{\"fillmode\":\"overlay\",\"size\":10,\"solidity\":0.2}},\"type\":\"histogram\"}],\"scattergl\":[{\"type\":\"scattergl\",\"marker\":{\"colorbar\":{\"outlinewidth\":0,\"ticks\":\"\"}}}],\"scatter3d\":[{\"type\":\"scatter3d\",\"line\":{\"colorbar\":{\"outlinewidth\":0,\"ticks\":\"\"}},\"marker\":{\"colorbar\":{\"outlinewidth\":0,\"ticks\":\"\"}}}],\"scattermapbox\":[{\"type\":\"scattermapbox\",\"marker\":{\"colorbar\":{\"outlinewidth\":0,\"ticks\":\"\"}}}],\"scatterternary\":[{\"type\":\"scatterternary\",\"marker\":{\"colorbar\":{\"outlinewidth\":0,\"ticks\":\"\"}}}],\"scattercarpet\":[{\"type\":\"scattercarpet\",\"marker\":{\"colorbar\":{\"outlinewidth\":0,\"ticks\":\"\"}}}],\"carpet\":[{\"aaxis\":{\"endlinecolor\":\"#2a3f5f\",\"gridcolor\":\"white\",\"linecolor\":\"white\",\"minorgridcolor\":\"white\",\"startlinecolor\":\"#2a3f5f\"},\"baxis\":{\"endlinecolor\":\"#2a3f5f\",\"gridcolor\":\"white\",\"linecolor\":\"white\",\"minorgridcolor\":\"white\",\"startlinecolor\":\"#2a3f5f\"},\"type\":\"carpet\"}],\"table\":[{\"cells\":{\"fill\":{\"color\":\"#EBF0F8\"},\"line\":{\"color\":\"white\"}},\"header\":{\"fill\":{\"color\":\"#C8D4E3\"},\"line\":{\"color\":\"white\"}},\"type\":\"table\"}],\"barpolar\":[{\"marker\":{\"line\":{\"color\":\"#E5ECF6\",\"width\":0.5},\"pattern\":{\"fillmode\":\"overlay\",\"size\":10,\"solidity\":0.2}},\"type\":\"barpolar\"}],\"pie\":[{\"automargin\":true,\"type\":\"pie\"}]},\"layout\":{\"autotypenumbers\":\"strict\",\"colorway\":[\"#636efa\",\"#EF553B\",\"#00cc96\",\"#ab63fa\",\"#FFA15A\",\"#19d3f3\",\"#FF6692\",\"#B6E880\",\"#FF97FF\",\"#FECB52\"],\"font\":{\"color\":\"#2a3f5f\"},\"hovermode\":\"closest\",\"hoverlabel\":{\"align\":\"left\"},\"paper_bgcolor\":\"white\",\"plot_bgcolor\":\"#E5ECF6\",\"polar\":{\"bgcolor\":\"#E5ECF6\",\"angularaxis\":{\"gridcolor\":\"white\",\"linecolor\":\"white\",\"ticks\":\"\"},\"radialaxis\":{\"gridcolor\":\"white\",\"linecolor\":\"white\",\"ticks\":\"\"}},\"ternary\":{\"bgcolor\":\"#E5ECF6\",\"aaxis\":{\"gridcolor\":\"white\",\"linecolor\":\"white\",\"ticks\":\"\"},\"baxis\":{\"gridcolor\":\"white\",\"linecolor\":\"white\",\"ticks\":\"\"},\"caxis\":{\"gridcolor\":\"white\",\"linecolor\":\"white\",\"ticks\":\"\"}},\"coloraxis\":{\"colorbar\":{\"outlinewidth\":0,\"ticks\":\"\"}},\"colorscale\":{\"sequential\":[[0.0,\"#0d0887\"],[0.1111111111111111,\"#46039f\"],[0.2222222222222222,\"#7201a8\"],[0.3333333333333333,\"#9c179e\"],[0.4444444444444444,\"#bd3786\"],[0.5555555555555556,\"#d8576b\"],[0.6666666666666666,\"#ed7953\"],[0.7777777777777778,\"#fb9f3a\"],[0.8888888888888888,\"#fdca26\"],[1.0,\"#f0f921\"]],\"sequentialminus\":[[0.0,\"#0d0887\"],[0.1111111111111111,\"#46039f\"],[0.2222222222222222,\"#7201a8\"],[0.3333333333333333,\"#9c179e\"],[0.4444444444444444,\"#bd3786\"],[0.5555555555555556,\"#d8576b\"],[0.6666666666666666,\"#ed7953\"],[0.7777777777777778,\"#fb9f3a\"],[0.8888888888888888,\"#fdca26\"],[1.0,\"#f0f921\"]],\"diverging\":[[0,\"#8e0152\"],[0.1,\"#c51b7d\"],[0.2,\"#de77ae\"],[0.3,\"#f1b6da\"],[0.4,\"#fde0ef\"],[0.5,\"#f7f7f7\"],[0.6,\"#e6f5d0\"],[0.7,\"#b8e186\"],[0.8,\"#7fbc41\"],[0.9,\"#4d9221\"],[1,\"#276419\"]]},\"xaxis\":{\"gridcolor\":\"white\",\"linecolor\":\"white\",\"ticks\":\"\",\"title\":{\"standoff\":15},\"zerolinecolor\":\"white\",\"automargin\":true,\"zerolinewidth\":2},\"yaxis\":{\"gridcolor\":\"white\",\"linecolor\":\"white\",\"ticks\":\"\",\"title\":{\"standoff\":15},\"zerolinecolor\":\"white\",\"automargin\":true,\"zerolinewidth\":2},\"scene\":{\"xaxis\":{\"backgroundcolor\":\"#E5ECF6\",\"gridcolor\":\"white\",\"linecolor\":\"white\",\"showbackground\":true,\"ticks\":\"\",\"zerolinecolor\":\"white\",\"gridwidth\":2},\"yaxis\":{\"backgroundcolor\":\"#E5ECF6\",\"gridcolor\":\"white\",\"linecolor\":\"white\",\"showbackground\":true,\"ticks\":\"\",\"zerolinecolor\":\"white\",\"gridwidth\":2},\"zaxis\":{\"backgroundcolor\":\"#E5ECF6\",\"gridcolor\":\"white\",\"linecolor\":\"white\",\"showbackground\":true,\"ticks\":\"\",\"zerolinecolor\":\"white\",\"gridwidth\":2}},\"shapedefaults\":{\"line\":{\"color\":\"#2a3f5f\"}},\"annotationdefaults\":{\"arrowcolor\":\"#2a3f5f\",\"arrowhead\":0,\"arrowwidth\":1},\"geo\":{\"bgcolor\":\"white\",\"landcolor\":\"#E5ECF6\",\"subunitcolor\":\"white\",\"showland\":true,\"showlakes\":true,\"lakecolor\":\"white\"},\"title\":{\"x\":0.05},\"mapbox\":{\"style\":\"light\"}}},\"title\":{\"text\":\"Training Loss\\u002fValue Loss vs Iterations\"},\"xaxis\":{\"title\":{\"text\":\"Iterations\"}},\"yaxis\":{\"title\":{\"text\":\"Loss\"}},\"legend\":{\"title\":{\"text\":\"Loss Types\"}}},                        {\"responsive\": true}                    ).then(function(){\n",
       "                            \n",
       "var gd = document.getElementById('54aafe1e-de0d-415d-9f87-104055d05a08');\n",
       "var x = new MutationObserver(function (mutations, observer) {{\n",
       "        var display = window.getComputedStyle(gd).display;\n",
       "        if (!display || display === 'none') {{\n",
       "            console.log([gd, 'removed!']);\n",
       "            Plotly.purge(gd);\n",
       "            observer.disconnect();\n",
       "        }}\n",
       "}});\n",
       "\n",
       "// Listen for the removal of the full notebook cells\n",
       "var notebookContainer = gd.closest('#notebook-container');\n",
       "if (notebookContainer) {{\n",
       "    x.observe(notebookContainer, {childList: true});\n",
       "}}\n",
       "\n",
       "// Listen for the clearing of the current output cell\n",
       "var outputEl = gd.closest('.output');\n",
       "if (outputEl) {{\n",
       "    x.observe(outputEl, {childList: true});\n",
       "}}\n",
       "\n",
       "                        })                };                });            </script>        </div>"
      ]
     },
     "metadata": {},
     "output_type": "display_data"
    }
   ],
   "source": [
    "fig = go.Figure()\n",
    "fig.add_trace(go.Scatter(\n",
    "    x=df['time/iterations'],\n",
    "    y=df['train/value_loss'],\n",
    "    mode='lines',\n",
    "    name='Value Loss'\n",
    "))\n",
    "fig.add_trace(go.Scatter(\n",
    "    x=df['time/iterations'],\n",
    "    y=df['train/loss'],\n",
    "    mode='lines',\n",
    "    name='Training Loss'\n",
    "))\n",
    "fig.update_layout(\n",
    "    title='Training Loss/Value Loss vs Iterations',\n",
    "    xaxis_title='Iterations',\n",
    "    yaxis_title='Loss',\n",
    "    legend_title='Loss Types'\n",
    ")\n",
    "\n",
    "fig.show()"
   ]
  },
  {
   "cell_type": "code",
   "execution_count": 6,
   "metadata": {},
   "outputs": [
    {
     "data": {
      "application/vnd.plotly.v1+json": {
       "config": {
        "plotlyServerURL": "https://plot.ly"
       },
       "data": [
        {
         "hovertemplate": "Iterations=%{x}<br>Training Entropy Loss=%{y}<extra></extra>",
         "legendgroup": "",
         "line": {
          "color": "#636efa",
          "dash": "solid"
         },
         "marker": {
          "symbol": "circle"
         },
         "mode": "lines",
         "name": "",
         "orientation": "v",
         "showlegend": false,
         "type": "scatter",
         "x": [
          1,
          2,
          3,
          4,
          5,
          6,
          7,
          8,
          9,
          10,
          11,
          12,
          13,
          14,
          15,
          16,
          17,
          18,
          19,
          20,
          21,
          22,
          23,
          24,
          25,
          26,
          27,
          28,
          29,
          30,
          31,
          32,
          33,
          34,
          35,
          36,
          37,
          38,
          39,
          40,
          41,
          42,
          43,
          44,
          45,
          46,
          47,
          48,
          49,
          50,
          51,
          52,
          53,
          54,
          55,
          56,
          57,
          58,
          59,
          60,
          61,
          62,
          63,
          64,
          65,
          66,
          67,
          68,
          69,
          70,
          71,
          72,
          73,
          74,
          75,
          76,
          77,
          78,
          79,
          80,
          81,
          82,
          83,
          84,
          85,
          86,
          87,
          88,
          89,
          90,
          91,
          92,
          93,
          94,
          95,
          96,
          97,
          98,
          99,
          100,
          101,
          102,
          103,
          104,
          105,
          106,
          107,
          108,
          109,
          110,
          111,
          112,
          113,
          114,
          115,
          116,
          117,
          118,
          119,
          120,
          121,
          122,
          123,
          124,
          125,
          126,
          127,
          128,
          129,
          130,
          131,
          132,
          133,
          134,
          135,
          136,
          137,
          138,
          139,
          140,
          141,
          142,
          143,
          144,
          145,
          146,
          147,
          148,
          149,
          150,
          151,
          152,
          153,
          154,
          155,
          156,
          157,
          158,
          159,
          160,
          161,
          162,
          163,
          164,
          165,
          166,
          167,
          168,
          169,
          170,
          171,
          172,
          173,
          174,
          175,
          176,
          177,
          178,
          179,
          180,
          181,
          182,
          183,
          184,
          185,
          186,
          187,
          188,
          189,
          190,
          191,
          192,
          193,
          194,
          195,
          196,
          197,
          198,
          199,
          200,
          201,
          202,
          203,
          204,
          205,
          206,
          207,
          208,
          209,
          210,
          211,
          212,
          213,
          214,
          215,
          216,
          217,
          218,
          219,
          220,
          221,
          222,
          223,
          224,
          225,
          226,
          227,
          228,
          229,
          230,
          231,
          232,
          233,
          234,
          235,
          236,
          237,
          238,
          239,
          240,
          241,
          242,
          243,
          244,
          245,
          246,
          247,
          248,
          249,
          250,
          251,
          252,
          253,
          254,
          255,
          256,
          257,
          258,
          259,
          260,
          261,
          262,
          263,
          264,
          265,
          266,
          267,
          268,
          269,
          270,
          271,
          272,
          273,
          274,
          275,
          276,
          277,
          278,
          279,
          280,
          281,
          282,
          283,
          284,
          285,
          286,
          287,
          288,
          289,
          290,
          291,
          292,
          293,
          294,
          295,
          296,
          297,
          298,
          299,
          300,
          301,
          302,
          303,
          304,
          305,
          306,
          307,
          308,
          309,
          310,
          311,
          312,
          313,
          314,
          315,
          316,
          317,
          318,
          319,
          320,
          321,
          322,
          323,
          324,
          325,
          326,
          327,
          328,
          329,
          330,
          331,
          332,
          333,
          334,
          335,
          336,
          337,
          338,
          339,
          340,
          341,
          342,
          343,
          344,
          345,
          346,
          347,
          348,
          349,
          350,
          351,
          352,
          353,
          354,
          355,
          356,
          357,
          358,
          359,
          360,
          361,
          362,
          363,
          364,
          365,
          366,
          367,
          368,
          369,
          370,
          371,
          372,
          373,
          374,
          375,
          376,
          377,
          378,
          379,
          380,
          381,
          382,
          383,
          384,
          385,
          386,
          387,
          388,
          389,
          390,
          391
         ],
         "xaxis": "x",
         "y": [
          null,
          -1.300995822995901,
          -1.3462928084035717,
          -1.3730539492021003,
          -1.359915111338099,
          -1.361641113149623,
          -1.3501517267897725,
          -1.3262970314050715,
          -1.2615585381165146,
          -1.288352551870048,
          -1.2827375708147883,
          -1.2464853043978412,
          -1.269195584083597,
          -1.2354062853381038,
          -1.1856698700537285,
          -1.2284834102417033,
          -1.2565124827747545,
          -1.261417509553333,
          -1.251235866174102,
          -1.2532202324519557,
          -1.2441338856394093,
          -1.2435805406421423,
          -1.251390338440736,
          -1.248640880982081,
          -1.2261429061492284,
          -1.245747611237069,
          -1.2035921161994338,
          -1.2087745467200874,
          -1.1816678579586248,
          -1.1673433455328146,
          -1.1558957083150745,
          -1.1083600481040776,
          -1.1334768211469055,
          -1.1150951678243777,
          -1.1076128295001884,
          -1.1205639728344976,
          -1.1098551388519506,
          -1.121568644233048,
          -1.1044106293159226,
          -1.0929128788722058,
          -1.06264750668779,
          -1.0461701622853676,
          -1.0557592737178008,
          -1.0152031945064663,
          -1.002208823400239,
          -1.0059303094012042,
          -1.0366592183709145,
          -1.0285338271098832,
          -0.9979777407211562,
          -1.0141519245070716,
          -0.9906839862155418,
          -1.0664064466332397,
          -0.9940155481298764,
          -1.042068003769964,
          -1.0568058291760585,
          -1.023835909149299,
          -1.0585307207889856,
          -1.0734369833332795,
          -1.0543260384351014,
          -1.072532683238387,
          -0.9977970027675231,
          -1.0244678346129754,
          -1.004604281236728,
          -1.006589630867044,
          -1.020429659479608,
          -0.9494839073779684,
          -0.9096102414342264,
          -0.8914694970163206,
          -0.8834650203275184,
          -0.9054038704683384,
          -0.9288120407611132,
          -0.923434157607456,
          -0.9256605161974828,
          -0.93286677080517,
          -0.9378099185414612,
          -0.9546345272722344,
          -0.9704651255471012,
          -0.9436995194293558,
          -0.916165409081926,
          -0.9190624189252656,
          -0.9066593524689476,
          -0.855853084071229,
          -0.8083715540356934,
          -0.7988996379387875,
          -0.8441363037874301,
          -0.8154594300314784,
          -0.8196711451125641,
          -0.8083271328515063,
          -0.8216079833296438,
          -0.8429282833822072,
          -0.8549573734092216,
          -0.8255341088709732,
          -0.8106911225865284,
          -0.7738530726792912,
          -0.7644594199645023,
          -0.7899647667383154,
          -0.8483629247794549,
          -0.8148462283114593,
          -0.8549885094786683,
          -0.8557208034520348,
          -0.8584801215368013,
          -0.8827526770842572,
          -0.8364244343092044,
          -0.8471126969903707,
          -0.7948660600309571,
          -0.7881379053927958,
          -0.8104998461902142,
          -0.7945188118455311,
          -0.7511510280581812,
          -0.7122979611313591,
          -0.7345757161267101,
          -0.6965091894225528,
          -0.7099953039549292,
          -0.6839290132746101,
          -0.6584923352114856,
          -0.6673015992312382,
          -0.6587799452090015,
          -0.6364610298847159,
          -0.6201023698163529,
          -0.6412602838749687,
          -0.6419175693920504,
          -0.6620812653563917,
          -0.6370141873757045,
          -0.6595752142059307,
          -0.6210207313764841,
          -0.6270911629622181,
          -0.6529883871941516,
          -0.6991692777412634,
          -0.677070275383691,
          -0.6263341763056814,
          -0.6165337678355475,
          -0.6662839714592944,
          -0.6542495214535544,
          -0.6446987238091727,
          -0.6618505097304781,
          -0.6535008480151494,
          -0.6542254419066011,
          -0.585729091707617,
          -0.5758769625021766,
          -0.6156043660050879,
          -0.6788581734678397,
          -0.6495305601973087,
          -0.680715432173262,
          -0.6811530701350421,
          -0.6694916103190433,
          -0.6345922972386082,
          -0.6419733235922952,
          -0.6780002379945169,
          -0.6518485037765155,
          -0.665467819555973,
          -0.5597776161196332,
          -0.5664975787512958,
          -0.6148566934745758,
          -0.6792504999320954,
          -0.6879866485483944,
          -0.6646513428383817,
          -0.6049389044443766,
          -0.7594340743807455,
          -0.7285481203037004,
          -0.6614569781192888,
          -0.6189172248666485,
          -0.6424721899287155,
          -0.6016932180461784,
          -0.5491207963166137,
          -0.575217507701988,
          -0.6263754843423764,
          -0.6277505441413571,
          -0.5804926024749875,
          -0.5970391710444043,
          -0.5600940766278655,
          -0.5685104534185181,
          -0.5885558509578307,
          -0.5784891654116412,
          -0.5265592212323099,
          -0.5388675006261716,
          -0.6000338504401346,
          -0.6434426865540445,
          -0.6459210568728546,
          -0.6793843194221457,
          -0.6653864051991453,
          -0.6439246389238785,
          -0.6318064644932747,
          -0.6562663306482136,
          -0.6617589155832927,
          -0.6491626266234864,
          -0.6216092484537512,
          -0.6269159117247909,
          -0.6391891454346478,
          -0.6340368049684912,
          -0.6268751249803851,
          -0.6174898163881153,
          -0.6545087526707599,
          -0.6616558409916858,
          -0.6410158093553037,
          -0.6063201257493347,
          -0.6228258521916966,
          -0.5768497214807818,
          -0.6267048039318373,
          -0.6310601742162059,
          -0.6390389126259833,
          -0.6171657754573971,
          -0.5661644512632241,
          -0.5399872270723184,
          -0.506527497471931,
          -0.4584691222989931,
          -0.4728060942608863,
          -0.4977604139906664,
          -0.5008382260799408,
          -0.4585781204979867,
          -0.4735925492442523,
          -0.4357952383890127,
          -0.4212018391738335,
          -0.481383467768319,
          -0.4995832665590569,
          -0.506370871886611,
          -0.6077411100578805,
          -0.5853693214710802,
          -0.541965116125842,
          -0.5494557585256795,
          -0.5539546297863126,
          -0.5176771333673968,
          -0.4624424312651778,
          -0.4946217006150012,
          -0.4941169104073196,
          -0.4077786516475801,
          -0.4213337861156712,
          -0.4506248771911487,
          -0.4003631190164015,
          -0.3666542444766189,
          -0.3575889831486468,
          -0.3839400700138261,
          -0.4080761006722848,
          -0.4199731527206798,
          -0.4696956595250716,
          -0.4461818916800742,
          -0.441779495566152,
          -0.4280223054888968,
          -0.3984939296729862,
          -0.3490379129963306,
          -0.35925996794831,
          -0.3918325618297482,
          -0.3935968728037551,
          -0.4209991584570768,
          -0.5525331343213717,
          -0.5425326082079361,
          -0.5951165032883485,
          -0.5127381663148601,
          -0.6052172152480731,
          -0.5948275899669776,
          -0.6193353135759632,
          -0.5131423430594926,
          -0.5128152079569797,
          -0.5347764329053462,
          -0.4806250208057463,
          -0.4802102138210709,
          -0.4896522679521392,
          -0.5069858157231162,
          -0.59103194278044,
          -0.5458213432691992,
          -0.5255575579901536,
          -0.4668378469378998,
          -0.4497704351165642,
          -0.4401150334936877,
          -0.474022348341532,
          -0.5534761234962692,
          -0.577395678528895,
          -0.6111961307004095,
          -0.6087313150210927,
          -0.6097602599610885,
          -0.5788030771072954,
          -0.656200896576047,
          -0.5818161063982795,
          -0.5826177857117727,
          -0.6500110828938583,
          -0.5813421691767872,
          -0.5370450738662232,
          -0.5383804730294893,
          -0.5625399850308895,
          -0.5930160329056283,
          -0.6227285403913508,
          -0.5600072534133991,
          -0.5314710244070738,
          -0.5492391884947817,
          -0.5746429830323905,
          -0.634821453023081,
          -0.6219577332182477,
          -0.6078986287893107,
          -0.610924670798704,
          -0.6817660470182697,
          -0.6702756647175799,
          -0.6762307961316159,
          -0.6108684680735071,
          -0.6214846188047279,
          -0.5839339011504004,
          -0.6338766044316192,
          -0.6146765402518213,
          -0.5823057228544106,
          -0.5757649241325756,
          -0.56421411735937,
          -0.5228155088533337,
          -0.5446396647952497,
          -0.5362263026181608,
          -0.4984125590417534,
          -0.5586854253274699,
          -0.5308605981602644,
          -0.5923733178370942,
          -0.5724057704055061,
          -0.5905608353049805,
          -0.5809913209173828,
          -0.59817011950848,
          -0.5848263357921193,
          -0.6238628664519638,
          -0.6337085798693199,
          -0.6929173802801718,
          -0.6258430025695513,
          -0.5838744485750794,
          -0.5870154791201154,
          -0.6237326271211108,
          -0.5862559793982655,
          -0.5969691785983742,
          -0.6463782284098367,
          -0.6759619840420783,
          -0.579998999973759,
          -0.6104085182615866,
          -0.5836076916505893,
          -0.5680604595070083,
          -0.5435366054375966,
          -0.5365058674942702,
          -0.5969801043625921,
          -0.5605568198331942,
          -0.5401254813807707,
          -0.5282030086731538,
          -0.5777025162087133,
          -0.6222862337560703,
          -0.6066971525705109,
          -0.669989234705766,
          -0.7033351972699166,
          -0.7036020825617015,
          -0.7671640225220472,
          -0.6687048773281277,
          -0.6547466795115421,
          -0.638518930816402,
          -0.6799135399516671,
          -0.645543163580199,
          -0.6350838679665078,
          -0.6225547201155375,
          -0.6241179638387014,
          -0.6712716124020517,
          -0.6061835959708939,
          -0.6182356350589544,
          -0.622094601796319,
          -0.606323038895304,
          -0.5338899850845337,
          -0.5385489175096154,
          -0.4964688143925741,
          -0.4909292745326335,
          -0.5030089762605106,
          -0.455164232958729,
          -0.5068103225048011,
          -0.4878617476361493,
          -0.5107635377052551,
          -0.5387404012338569,
          -0.5156180406454951,
          -0.5502270916476846,
          -0.5901334928814321,
          -0.6385567205802848,
          -0.633190524795403,
          -0.6245457765646278,
          -0.6195263953103374,
          -0.6155851141239206,
          -0.5921907976580163,
          -0.6402183380598824,
          -0.5935729557648302,
          -0.5772662923671306,
          -0.613463746321698,
          -0.5951207451056689,
          -0.5437427448574453,
          -0.558891139489909,
          -0.5556996262244259,
          -0.5462387264395754,
          -0.5725213155926515,
          -0.5427296852692962,
          -0.611596953170374,
          -0.5692670373401294,
          -0.6100975697704901,
          -0.6201484901830554,
          -0.6117353086204579,
          -0.5624493012049546,
          -0.5626270881388337,
          -0.5473376696463674,
          -0.5458259775303305
         ],
         "yaxis": "y"
        }
       ],
       "layout": {
        "legend": {
         "tracegroupgap": 0
        },
        "template": {
         "data": {
          "bar": [
           {
            "error_x": {
             "color": "#2a3f5f"
            },
            "error_y": {
             "color": "#2a3f5f"
            },
            "marker": {
             "line": {
              "color": "#E5ECF6",
              "width": 0.5
             },
             "pattern": {
              "fillmode": "overlay",
              "size": 10,
              "solidity": 0.2
             }
            },
            "type": "bar"
           }
          ],
          "barpolar": [
           {
            "marker": {
             "line": {
              "color": "#E5ECF6",
              "width": 0.5
             },
             "pattern": {
              "fillmode": "overlay",
              "size": 10,
              "solidity": 0.2
             }
            },
            "type": "barpolar"
           }
          ],
          "carpet": [
           {
            "aaxis": {
             "endlinecolor": "#2a3f5f",
             "gridcolor": "white",
             "linecolor": "white",
             "minorgridcolor": "white",
             "startlinecolor": "#2a3f5f"
            },
            "baxis": {
             "endlinecolor": "#2a3f5f",
             "gridcolor": "white",
             "linecolor": "white",
             "minorgridcolor": "white",
             "startlinecolor": "#2a3f5f"
            },
            "type": "carpet"
           }
          ],
          "choropleth": [
           {
            "colorbar": {
             "outlinewidth": 0,
             "ticks": ""
            },
            "type": "choropleth"
           }
          ],
          "contour": [
           {
            "colorbar": {
             "outlinewidth": 0,
             "ticks": ""
            },
            "colorscale": [
             [
              0,
              "#0d0887"
             ],
             [
              0.1111111111111111,
              "#46039f"
             ],
             [
              0.2222222222222222,
              "#7201a8"
             ],
             [
              0.3333333333333333,
              "#9c179e"
             ],
             [
              0.4444444444444444,
              "#bd3786"
             ],
             [
              0.5555555555555556,
              "#d8576b"
             ],
             [
              0.6666666666666666,
              "#ed7953"
             ],
             [
              0.7777777777777778,
              "#fb9f3a"
             ],
             [
              0.8888888888888888,
              "#fdca26"
             ],
             [
              1,
              "#f0f921"
             ]
            ],
            "type": "contour"
           }
          ],
          "contourcarpet": [
           {
            "colorbar": {
             "outlinewidth": 0,
             "ticks": ""
            },
            "type": "contourcarpet"
           }
          ],
          "heatmap": [
           {
            "colorbar": {
             "outlinewidth": 0,
             "ticks": ""
            },
            "colorscale": [
             [
              0,
              "#0d0887"
             ],
             [
              0.1111111111111111,
              "#46039f"
             ],
             [
              0.2222222222222222,
              "#7201a8"
             ],
             [
              0.3333333333333333,
              "#9c179e"
             ],
             [
              0.4444444444444444,
              "#bd3786"
             ],
             [
              0.5555555555555556,
              "#d8576b"
             ],
             [
              0.6666666666666666,
              "#ed7953"
             ],
             [
              0.7777777777777778,
              "#fb9f3a"
             ],
             [
              0.8888888888888888,
              "#fdca26"
             ],
             [
              1,
              "#f0f921"
             ]
            ],
            "type": "heatmap"
           }
          ],
          "heatmapgl": [
           {
            "colorbar": {
             "outlinewidth": 0,
             "ticks": ""
            },
            "colorscale": [
             [
              0,
              "#0d0887"
             ],
             [
              0.1111111111111111,
              "#46039f"
             ],
             [
              0.2222222222222222,
              "#7201a8"
             ],
             [
              0.3333333333333333,
              "#9c179e"
             ],
             [
              0.4444444444444444,
              "#bd3786"
             ],
             [
              0.5555555555555556,
              "#d8576b"
             ],
             [
              0.6666666666666666,
              "#ed7953"
             ],
             [
              0.7777777777777778,
              "#fb9f3a"
             ],
             [
              0.8888888888888888,
              "#fdca26"
             ],
             [
              1,
              "#f0f921"
             ]
            ],
            "type": "heatmapgl"
           }
          ],
          "histogram": [
           {
            "marker": {
             "pattern": {
              "fillmode": "overlay",
              "size": 10,
              "solidity": 0.2
             }
            },
            "type": "histogram"
           }
          ],
          "histogram2d": [
           {
            "colorbar": {
             "outlinewidth": 0,
             "ticks": ""
            },
            "colorscale": [
             [
              0,
              "#0d0887"
             ],
             [
              0.1111111111111111,
              "#46039f"
             ],
             [
              0.2222222222222222,
              "#7201a8"
             ],
             [
              0.3333333333333333,
              "#9c179e"
             ],
             [
              0.4444444444444444,
              "#bd3786"
             ],
             [
              0.5555555555555556,
              "#d8576b"
             ],
             [
              0.6666666666666666,
              "#ed7953"
             ],
             [
              0.7777777777777778,
              "#fb9f3a"
             ],
             [
              0.8888888888888888,
              "#fdca26"
             ],
             [
              1,
              "#f0f921"
             ]
            ],
            "type": "histogram2d"
           }
          ],
          "histogram2dcontour": [
           {
            "colorbar": {
             "outlinewidth": 0,
             "ticks": ""
            },
            "colorscale": [
             [
              0,
              "#0d0887"
             ],
             [
              0.1111111111111111,
              "#46039f"
             ],
             [
              0.2222222222222222,
              "#7201a8"
             ],
             [
              0.3333333333333333,
              "#9c179e"
             ],
             [
              0.4444444444444444,
              "#bd3786"
             ],
             [
              0.5555555555555556,
              "#d8576b"
             ],
             [
              0.6666666666666666,
              "#ed7953"
             ],
             [
              0.7777777777777778,
              "#fb9f3a"
             ],
             [
              0.8888888888888888,
              "#fdca26"
             ],
             [
              1,
              "#f0f921"
             ]
            ],
            "type": "histogram2dcontour"
           }
          ],
          "mesh3d": [
           {
            "colorbar": {
             "outlinewidth": 0,
             "ticks": ""
            },
            "type": "mesh3d"
           }
          ],
          "parcoords": [
           {
            "line": {
             "colorbar": {
              "outlinewidth": 0,
              "ticks": ""
             }
            },
            "type": "parcoords"
           }
          ],
          "pie": [
           {
            "automargin": true,
            "type": "pie"
           }
          ],
          "scatter": [
           {
            "fillpattern": {
             "fillmode": "overlay",
             "size": 10,
             "solidity": 0.2
            },
            "type": "scatter"
           }
          ],
          "scatter3d": [
           {
            "line": {
             "colorbar": {
              "outlinewidth": 0,
              "ticks": ""
             }
            },
            "marker": {
             "colorbar": {
              "outlinewidth": 0,
              "ticks": ""
             }
            },
            "type": "scatter3d"
           }
          ],
          "scattercarpet": [
           {
            "marker": {
             "colorbar": {
              "outlinewidth": 0,
              "ticks": ""
             }
            },
            "type": "scattercarpet"
           }
          ],
          "scattergeo": [
           {
            "marker": {
             "colorbar": {
              "outlinewidth": 0,
              "ticks": ""
             }
            },
            "type": "scattergeo"
           }
          ],
          "scattergl": [
           {
            "marker": {
             "colorbar": {
              "outlinewidth": 0,
              "ticks": ""
             }
            },
            "type": "scattergl"
           }
          ],
          "scattermapbox": [
           {
            "marker": {
             "colorbar": {
              "outlinewidth": 0,
              "ticks": ""
             }
            },
            "type": "scattermapbox"
           }
          ],
          "scatterpolar": [
           {
            "marker": {
             "colorbar": {
              "outlinewidth": 0,
              "ticks": ""
             }
            },
            "type": "scatterpolar"
           }
          ],
          "scatterpolargl": [
           {
            "marker": {
             "colorbar": {
              "outlinewidth": 0,
              "ticks": ""
             }
            },
            "type": "scatterpolargl"
           }
          ],
          "scatterternary": [
           {
            "marker": {
             "colorbar": {
              "outlinewidth": 0,
              "ticks": ""
             }
            },
            "type": "scatterternary"
           }
          ],
          "surface": [
           {
            "colorbar": {
             "outlinewidth": 0,
             "ticks": ""
            },
            "colorscale": [
             [
              0,
              "#0d0887"
             ],
             [
              0.1111111111111111,
              "#46039f"
             ],
             [
              0.2222222222222222,
              "#7201a8"
             ],
             [
              0.3333333333333333,
              "#9c179e"
             ],
             [
              0.4444444444444444,
              "#bd3786"
             ],
             [
              0.5555555555555556,
              "#d8576b"
             ],
             [
              0.6666666666666666,
              "#ed7953"
             ],
             [
              0.7777777777777778,
              "#fb9f3a"
             ],
             [
              0.8888888888888888,
              "#fdca26"
             ],
             [
              1,
              "#f0f921"
             ]
            ],
            "type": "surface"
           }
          ],
          "table": [
           {
            "cells": {
             "fill": {
              "color": "#EBF0F8"
             },
             "line": {
              "color": "white"
             }
            },
            "header": {
             "fill": {
              "color": "#C8D4E3"
             },
             "line": {
              "color": "white"
             }
            },
            "type": "table"
           }
          ]
         },
         "layout": {
          "annotationdefaults": {
           "arrowcolor": "#2a3f5f",
           "arrowhead": 0,
           "arrowwidth": 1
          },
          "autotypenumbers": "strict",
          "coloraxis": {
           "colorbar": {
            "outlinewidth": 0,
            "ticks": ""
           }
          },
          "colorscale": {
           "diverging": [
            [
             0,
             "#8e0152"
            ],
            [
             0.1,
             "#c51b7d"
            ],
            [
             0.2,
             "#de77ae"
            ],
            [
             0.3,
             "#f1b6da"
            ],
            [
             0.4,
             "#fde0ef"
            ],
            [
             0.5,
             "#f7f7f7"
            ],
            [
             0.6,
             "#e6f5d0"
            ],
            [
             0.7,
             "#b8e186"
            ],
            [
             0.8,
             "#7fbc41"
            ],
            [
             0.9,
             "#4d9221"
            ],
            [
             1,
             "#276419"
            ]
           ],
           "sequential": [
            [
             0,
             "#0d0887"
            ],
            [
             0.1111111111111111,
             "#46039f"
            ],
            [
             0.2222222222222222,
             "#7201a8"
            ],
            [
             0.3333333333333333,
             "#9c179e"
            ],
            [
             0.4444444444444444,
             "#bd3786"
            ],
            [
             0.5555555555555556,
             "#d8576b"
            ],
            [
             0.6666666666666666,
             "#ed7953"
            ],
            [
             0.7777777777777778,
             "#fb9f3a"
            ],
            [
             0.8888888888888888,
             "#fdca26"
            ],
            [
             1,
             "#f0f921"
            ]
           ],
           "sequentialminus": [
            [
             0,
             "#0d0887"
            ],
            [
             0.1111111111111111,
             "#46039f"
            ],
            [
             0.2222222222222222,
             "#7201a8"
            ],
            [
             0.3333333333333333,
             "#9c179e"
            ],
            [
             0.4444444444444444,
             "#bd3786"
            ],
            [
             0.5555555555555556,
             "#d8576b"
            ],
            [
             0.6666666666666666,
             "#ed7953"
            ],
            [
             0.7777777777777778,
             "#fb9f3a"
            ],
            [
             0.8888888888888888,
             "#fdca26"
            ],
            [
             1,
             "#f0f921"
            ]
           ]
          },
          "colorway": [
           "#636efa",
           "#EF553B",
           "#00cc96",
           "#ab63fa",
           "#FFA15A",
           "#19d3f3",
           "#FF6692",
           "#B6E880",
           "#FF97FF",
           "#FECB52"
          ],
          "font": {
           "color": "#2a3f5f"
          },
          "geo": {
           "bgcolor": "white",
           "lakecolor": "white",
           "landcolor": "#E5ECF6",
           "showlakes": true,
           "showland": true,
           "subunitcolor": "white"
          },
          "hoverlabel": {
           "align": "left"
          },
          "hovermode": "closest",
          "mapbox": {
           "style": "light"
          },
          "paper_bgcolor": "white",
          "plot_bgcolor": "#E5ECF6",
          "polar": {
           "angularaxis": {
            "gridcolor": "white",
            "linecolor": "white",
            "ticks": ""
           },
           "bgcolor": "#E5ECF6",
           "radialaxis": {
            "gridcolor": "white",
            "linecolor": "white",
            "ticks": ""
           }
          },
          "scene": {
           "xaxis": {
            "backgroundcolor": "#E5ECF6",
            "gridcolor": "white",
            "gridwidth": 2,
            "linecolor": "white",
            "showbackground": true,
            "ticks": "",
            "zerolinecolor": "white"
           },
           "yaxis": {
            "backgroundcolor": "#E5ECF6",
            "gridcolor": "white",
            "gridwidth": 2,
            "linecolor": "white",
            "showbackground": true,
            "ticks": "",
            "zerolinecolor": "white"
           },
           "zaxis": {
            "backgroundcolor": "#E5ECF6",
            "gridcolor": "white",
            "gridwidth": 2,
            "linecolor": "white",
            "showbackground": true,
            "ticks": "",
            "zerolinecolor": "white"
           }
          },
          "shapedefaults": {
           "line": {
            "color": "#2a3f5f"
           }
          },
          "ternary": {
           "aaxis": {
            "gridcolor": "white",
            "linecolor": "white",
            "ticks": ""
           },
           "baxis": {
            "gridcolor": "white",
            "linecolor": "white",
            "ticks": ""
           },
           "bgcolor": "#E5ECF6",
           "caxis": {
            "gridcolor": "white",
            "linecolor": "white",
            "ticks": ""
           }
          },
          "title": {
           "x": 0.05
          },
          "xaxis": {
           "automargin": true,
           "gridcolor": "white",
           "linecolor": "white",
           "ticks": "",
           "title": {
            "standoff": 15
           },
           "zerolinecolor": "white",
           "zerolinewidth": 2
          },
          "yaxis": {
           "automargin": true,
           "gridcolor": "white",
           "linecolor": "white",
           "ticks": "",
           "title": {
            "standoff": 15
           },
           "zerolinecolor": "white",
           "zerolinewidth": 2
          }
         }
        },
        "title": {
         "text": "Training Entropy Loss vs Iterations"
        },
        "xaxis": {
         "anchor": "y",
         "domain": [
          0,
          1
         ],
         "title": {
          "text": "Iterations"
         }
        },
        "yaxis": {
         "anchor": "x",
         "domain": [
          0,
          1
         ],
         "title": {
          "text": "Training Entropy Loss"
         }
        }
       }
      },
      "text/html": [
       "<div>                            <div id=\"f4139cbf-78e8-433b-9ab6-f26de1cce908\" class=\"plotly-graph-div\" style=\"height:525px; width:100%;\"></div>            <script type=\"text/javascript\">                require([\"plotly\"], function(Plotly) {                    window.PLOTLYENV=window.PLOTLYENV || {};                                    if (document.getElementById(\"f4139cbf-78e8-433b-9ab6-f26de1cce908\")) {                    Plotly.newPlot(                        \"f4139cbf-78e8-433b-9ab6-f26de1cce908\",                        [{\"hovertemplate\":\"Iterations=%{x}\\u003cbr\\u003eTraining Entropy Loss=%{y}\\u003cextra\\u003e\\u003c\\u002fextra\\u003e\",\"legendgroup\":\"\",\"line\":{\"color\":\"#636efa\",\"dash\":\"solid\"},\"marker\":{\"symbol\":\"circle\"},\"mode\":\"lines\",\"name\":\"\",\"orientation\":\"v\",\"showlegend\":false,\"x\":[1,2,3,4,5,6,7,8,9,10,11,12,13,14,15,16,17,18,19,20,21,22,23,24,25,26,27,28,29,30,31,32,33,34,35,36,37,38,39,40,41,42,43,44,45,46,47,48,49,50,51,52,53,54,55,56,57,58,59,60,61,62,63,64,65,66,67,68,69,70,71,72,73,74,75,76,77,78,79,80,81,82,83,84,85,86,87,88,89,90,91,92,93,94,95,96,97,98,99,100,101,102,103,104,105,106,107,108,109,110,111,112,113,114,115,116,117,118,119,120,121,122,123,124,125,126,127,128,129,130,131,132,133,134,135,136,137,138,139,140,141,142,143,144,145,146,147,148,149,150,151,152,153,154,155,156,157,158,159,160,161,162,163,164,165,166,167,168,169,170,171,172,173,174,175,176,177,178,179,180,181,182,183,184,185,186,187,188,189,190,191,192,193,194,195,196,197,198,199,200,201,202,203,204,205,206,207,208,209,210,211,212,213,214,215,216,217,218,219,220,221,222,223,224,225,226,227,228,229,230,231,232,233,234,235,236,237,238,239,240,241,242,243,244,245,246,247,248,249,250,251,252,253,254,255,256,257,258,259,260,261,262,263,264,265,266,267,268,269,270,271,272,273,274,275,276,277,278,279,280,281,282,283,284,285,286,287,288,289,290,291,292,293,294,295,296,297,298,299,300,301,302,303,304,305,306,307,308,309,310,311,312,313,314,315,316,317,318,319,320,321,322,323,324,325,326,327,328,329,330,331,332,333,334,335,336,337,338,339,340,341,342,343,344,345,346,347,348,349,350,351,352,353,354,355,356,357,358,359,360,361,362,363,364,365,366,367,368,369,370,371,372,373,374,375,376,377,378,379,380,381,382,383,384,385,386,387,388,389,390,391],\"xaxis\":\"x\",\"y\":[null,-1.300995822995901,-1.3462928084035717,-1.3730539492021003,-1.359915111338099,-1.361641113149623,-1.3501517267897725,-1.3262970314050715,-1.2615585381165146,-1.288352551870048,-1.2827375708147883,-1.2464853043978412,-1.269195584083597,-1.2354062853381038,-1.1856698700537285,-1.2284834102417033,-1.2565124827747545,-1.261417509553333,-1.251235866174102,-1.2532202324519557,-1.2441338856394093,-1.2435805406421423,-1.251390338440736,-1.248640880982081,-1.2261429061492284,-1.245747611237069,-1.2035921161994338,-1.2087745467200874,-1.1816678579586248,-1.1673433455328146,-1.1558957083150745,-1.1083600481040776,-1.1334768211469055,-1.1150951678243777,-1.1076128295001884,-1.1205639728344976,-1.1098551388519506,-1.121568644233048,-1.1044106293159226,-1.0929128788722058,-1.06264750668779,-1.0461701622853676,-1.0557592737178008,-1.0152031945064663,-1.002208823400239,-1.0059303094012042,-1.0366592183709145,-1.0285338271098832,-0.9979777407211562,-1.0141519245070716,-0.9906839862155418,-1.0664064466332397,-0.9940155481298764,-1.042068003769964,-1.0568058291760585,-1.023835909149299,-1.0585307207889856,-1.0734369833332795,-1.0543260384351014,-1.072532683238387,-0.9977970027675231,-1.0244678346129754,-1.004604281236728,-1.006589630867044,-1.020429659479608,-0.9494839073779684,-0.9096102414342264,-0.8914694970163206,-0.8834650203275184,-0.9054038704683384,-0.9288120407611132,-0.923434157607456,-0.9256605161974828,-0.93286677080517,-0.9378099185414612,-0.9546345272722344,-0.9704651255471012,-0.9436995194293558,-0.916165409081926,-0.9190624189252656,-0.9066593524689476,-0.855853084071229,-0.8083715540356934,-0.7988996379387875,-0.8441363037874301,-0.8154594300314784,-0.8196711451125641,-0.8083271328515063,-0.8216079833296438,-0.8429282833822072,-0.8549573734092216,-0.8255341088709732,-0.8106911225865284,-0.7738530726792912,-0.7644594199645023,-0.7899647667383154,-0.8483629247794549,-0.8148462283114593,-0.8549885094786683,-0.8557208034520348,-0.8584801215368013,-0.8827526770842572,-0.8364244343092044,-0.8471126969903707,-0.7948660600309571,-0.7881379053927958,-0.8104998461902142,-0.7945188118455311,-0.7511510280581812,-0.7122979611313591,-0.7345757161267101,-0.6965091894225528,-0.7099953039549292,-0.6839290132746101,-0.6584923352114856,-0.6673015992312382,-0.6587799452090015,-0.6364610298847159,-0.6201023698163529,-0.6412602838749687,-0.6419175693920504,-0.6620812653563917,-0.6370141873757045,-0.6595752142059307,-0.6210207313764841,-0.6270911629622181,-0.6529883871941516,-0.6991692777412634,-0.677070275383691,-0.6263341763056814,-0.6165337678355475,-0.6662839714592944,-0.6542495214535544,-0.6446987238091727,-0.6618505097304781,-0.6535008480151494,-0.6542254419066011,-0.585729091707617,-0.5758769625021766,-0.6156043660050879,-0.6788581734678397,-0.6495305601973087,-0.680715432173262,-0.6811530701350421,-0.6694916103190433,-0.6345922972386082,-0.6419733235922952,-0.6780002379945169,-0.6518485037765155,-0.665467819555973,-0.5597776161196332,-0.5664975787512958,-0.6148566934745758,-0.6792504999320954,-0.6879866485483944,-0.6646513428383817,-0.6049389044443766,-0.7594340743807455,-0.7285481203037004,-0.6614569781192888,-0.6189172248666485,-0.6424721899287155,-0.6016932180461784,-0.5491207963166137,-0.575217507701988,-0.6263754843423764,-0.6277505441413571,-0.5804926024749875,-0.5970391710444043,-0.5600940766278655,-0.5685104534185181,-0.5885558509578307,-0.5784891654116412,-0.5265592212323099,-0.5388675006261716,-0.6000338504401346,-0.6434426865540445,-0.6459210568728546,-0.6793843194221457,-0.6653864051991453,-0.6439246389238785,-0.6318064644932747,-0.6562663306482136,-0.6617589155832927,-0.6491626266234864,-0.6216092484537512,-0.6269159117247909,-0.6391891454346478,-0.6340368049684912,-0.6268751249803851,-0.6174898163881153,-0.6545087526707599,-0.6616558409916858,-0.6410158093553037,-0.6063201257493347,-0.6228258521916966,-0.5768497214807818,-0.6267048039318373,-0.6310601742162059,-0.6390389126259833,-0.6171657754573971,-0.5661644512632241,-0.5399872270723184,-0.506527497471931,-0.4584691222989931,-0.4728060942608863,-0.4977604139906664,-0.5008382260799408,-0.4585781204979867,-0.4735925492442523,-0.4357952383890127,-0.4212018391738335,-0.481383467768319,-0.4995832665590569,-0.506370871886611,-0.6077411100578805,-0.5853693214710802,-0.541965116125842,-0.5494557585256795,-0.5539546297863126,-0.5176771333673968,-0.4624424312651778,-0.4946217006150012,-0.4941169104073196,-0.4077786516475801,-0.4213337861156712,-0.4506248771911487,-0.4003631190164015,-0.3666542444766189,-0.3575889831486468,-0.3839400700138261,-0.4080761006722848,-0.4199731527206798,-0.4696956595250716,-0.4461818916800742,-0.441779495566152,-0.4280223054888968,-0.3984939296729862,-0.3490379129963306,-0.35925996794831,-0.3918325618297482,-0.3935968728037551,-0.4209991584570768,-0.5525331343213717,-0.5425326082079361,-0.5951165032883485,-0.5127381663148601,-0.6052172152480731,-0.5948275899669776,-0.6193353135759632,-0.5131423430594926,-0.5128152079569797,-0.5347764329053462,-0.4806250208057463,-0.4802102138210709,-0.4896522679521392,-0.5069858157231162,-0.59103194278044,-0.5458213432691992,-0.5255575579901536,-0.4668378469378998,-0.4497704351165642,-0.4401150334936877,-0.474022348341532,-0.5534761234962692,-0.577395678528895,-0.6111961307004095,-0.6087313150210927,-0.6097602599610885,-0.5788030771072954,-0.656200896576047,-0.5818161063982795,-0.5826177857117727,-0.6500110828938583,-0.5813421691767872,-0.5370450738662232,-0.5383804730294893,-0.5625399850308895,-0.5930160329056283,-0.6227285403913508,-0.5600072534133991,-0.5314710244070738,-0.5492391884947817,-0.5746429830323905,-0.634821453023081,-0.6219577332182477,-0.6078986287893107,-0.610924670798704,-0.6817660470182697,-0.6702756647175799,-0.6762307961316159,-0.6108684680735071,-0.6214846188047279,-0.5839339011504004,-0.6338766044316192,-0.6146765402518213,-0.5823057228544106,-0.5757649241325756,-0.56421411735937,-0.5228155088533337,-0.5446396647952497,-0.5362263026181608,-0.4984125590417534,-0.5586854253274699,-0.5308605981602644,-0.5923733178370942,-0.5724057704055061,-0.5905608353049805,-0.5809913209173828,-0.59817011950848,-0.5848263357921193,-0.6238628664519638,-0.6337085798693199,-0.6929173802801718,-0.6258430025695513,-0.5838744485750794,-0.5870154791201154,-0.6237326271211108,-0.5862559793982655,-0.5969691785983742,-0.6463782284098367,-0.6759619840420783,-0.579998999973759,-0.6104085182615866,-0.5836076916505893,-0.5680604595070083,-0.5435366054375966,-0.5365058674942702,-0.5969801043625921,-0.5605568198331942,-0.5401254813807707,-0.5282030086731538,-0.5777025162087133,-0.6222862337560703,-0.6066971525705109,-0.669989234705766,-0.7033351972699166,-0.7036020825617015,-0.7671640225220472,-0.6687048773281277,-0.6547466795115421,-0.638518930816402,-0.6799135399516671,-0.645543163580199,-0.6350838679665078,-0.6225547201155375,-0.6241179638387014,-0.6712716124020517,-0.6061835959708939,-0.6182356350589544,-0.622094601796319,-0.606323038895304,-0.5338899850845337,-0.5385489175096154,-0.4964688143925741,-0.4909292745326335,-0.5030089762605106,-0.455164232958729,-0.5068103225048011,-0.4878617476361493,-0.5107635377052551,-0.5387404012338569,-0.5156180406454951,-0.5502270916476846,-0.5901334928814321,-0.6385567205802848,-0.633190524795403,-0.6245457765646278,-0.6195263953103374,-0.6155851141239206,-0.5921907976580163,-0.6402183380598824,-0.5935729557648302,-0.5772662923671306,-0.613463746321698,-0.5951207451056689,-0.5437427448574453,-0.558891139489909,-0.5556996262244259,-0.5462387264395754,-0.5725213155926515,-0.5427296852692962,-0.611596953170374,-0.5692670373401294,-0.6100975697704901,-0.6201484901830554,-0.6117353086204579,-0.5624493012049546,-0.5626270881388337,-0.5473376696463674,-0.5458259775303305],\"yaxis\":\"y\",\"type\":\"scatter\"}],                        {\"template\":{\"data\":{\"histogram2dcontour\":[{\"type\":\"histogram2dcontour\",\"colorbar\":{\"outlinewidth\":0,\"ticks\":\"\"},\"colorscale\":[[0.0,\"#0d0887\"],[0.1111111111111111,\"#46039f\"],[0.2222222222222222,\"#7201a8\"],[0.3333333333333333,\"#9c179e\"],[0.4444444444444444,\"#bd3786\"],[0.5555555555555556,\"#d8576b\"],[0.6666666666666666,\"#ed7953\"],[0.7777777777777778,\"#fb9f3a\"],[0.8888888888888888,\"#fdca26\"],[1.0,\"#f0f921\"]]}],\"choropleth\":[{\"type\":\"choropleth\",\"colorbar\":{\"outlinewidth\":0,\"ticks\":\"\"}}],\"histogram2d\":[{\"type\":\"histogram2d\",\"colorbar\":{\"outlinewidth\":0,\"ticks\":\"\"},\"colorscale\":[[0.0,\"#0d0887\"],[0.1111111111111111,\"#46039f\"],[0.2222222222222222,\"#7201a8\"],[0.3333333333333333,\"#9c179e\"],[0.4444444444444444,\"#bd3786\"],[0.5555555555555556,\"#d8576b\"],[0.6666666666666666,\"#ed7953\"],[0.7777777777777778,\"#fb9f3a\"],[0.8888888888888888,\"#fdca26\"],[1.0,\"#f0f921\"]]}],\"heatmap\":[{\"type\":\"heatmap\",\"colorbar\":{\"outlinewidth\":0,\"ticks\":\"\"},\"colorscale\":[[0.0,\"#0d0887\"],[0.1111111111111111,\"#46039f\"],[0.2222222222222222,\"#7201a8\"],[0.3333333333333333,\"#9c179e\"],[0.4444444444444444,\"#bd3786\"],[0.5555555555555556,\"#d8576b\"],[0.6666666666666666,\"#ed7953\"],[0.7777777777777778,\"#fb9f3a\"],[0.8888888888888888,\"#fdca26\"],[1.0,\"#f0f921\"]]}],\"heatmapgl\":[{\"type\":\"heatmapgl\",\"colorbar\":{\"outlinewidth\":0,\"ticks\":\"\"},\"colorscale\":[[0.0,\"#0d0887\"],[0.1111111111111111,\"#46039f\"],[0.2222222222222222,\"#7201a8\"],[0.3333333333333333,\"#9c179e\"],[0.4444444444444444,\"#bd3786\"],[0.5555555555555556,\"#d8576b\"],[0.6666666666666666,\"#ed7953\"],[0.7777777777777778,\"#fb9f3a\"],[0.8888888888888888,\"#fdca26\"],[1.0,\"#f0f921\"]]}],\"contourcarpet\":[{\"type\":\"contourcarpet\",\"colorbar\":{\"outlinewidth\":0,\"ticks\":\"\"}}],\"contour\":[{\"type\":\"contour\",\"colorbar\":{\"outlinewidth\":0,\"ticks\":\"\"},\"colorscale\":[[0.0,\"#0d0887\"],[0.1111111111111111,\"#46039f\"],[0.2222222222222222,\"#7201a8\"],[0.3333333333333333,\"#9c179e\"],[0.4444444444444444,\"#bd3786\"],[0.5555555555555556,\"#d8576b\"],[0.6666666666666666,\"#ed7953\"],[0.7777777777777778,\"#fb9f3a\"],[0.8888888888888888,\"#fdca26\"],[1.0,\"#f0f921\"]]}],\"surface\":[{\"type\":\"surface\",\"colorbar\":{\"outlinewidth\":0,\"ticks\":\"\"},\"colorscale\":[[0.0,\"#0d0887\"],[0.1111111111111111,\"#46039f\"],[0.2222222222222222,\"#7201a8\"],[0.3333333333333333,\"#9c179e\"],[0.4444444444444444,\"#bd3786\"],[0.5555555555555556,\"#d8576b\"],[0.6666666666666666,\"#ed7953\"],[0.7777777777777778,\"#fb9f3a\"],[0.8888888888888888,\"#fdca26\"],[1.0,\"#f0f921\"]]}],\"mesh3d\":[{\"type\":\"mesh3d\",\"colorbar\":{\"outlinewidth\":0,\"ticks\":\"\"}}],\"scatter\":[{\"fillpattern\":{\"fillmode\":\"overlay\",\"size\":10,\"solidity\":0.2},\"type\":\"scatter\"}],\"parcoords\":[{\"type\":\"parcoords\",\"line\":{\"colorbar\":{\"outlinewidth\":0,\"ticks\":\"\"}}}],\"scatterpolargl\":[{\"type\":\"scatterpolargl\",\"marker\":{\"colorbar\":{\"outlinewidth\":0,\"ticks\":\"\"}}}],\"bar\":[{\"error_x\":{\"color\":\"#2a3f5f\"},\"error_y\":{\"color\":\"#2a3f5f\"},\"marker\":{\"line\":{\"color\":\"#E5ECF6\",\"width\":0.5},\"pattern\":{\"fillmode\":\"overlay\",\"size\":10,\"solidity\":0.2}},\"type\":\"bar\"}],\"scattergeo\":[{\"type\":\"scattergeo\",\"marker\":{\"colorbar\":{\"outlinewidth\":0,\"ticks\":\"\"}}}],\"scatterpolar\":[{\"type\":\"scatterpolar\",\"marker\":{\"colorbar\":{\"outlinewidth\":0,\"ticks\":\"\"}}}],\"histogram\":[{\"marker\":{\"pattern\":{\"fillmode\":\"overlay\",\"size\":10,\"solidity\":0.2}},\"type\":\"histogram\"}],\"scattergl\":[{\"type\":\"scattergl\",\"marker\":{\"colorbar\":{\"outlinewidth\":0,\"ticks\":\"\"}}}],\"scatter3d\":[{\"type\":\"scatter3d\",\"line\":{\"colorbar\":{\"outlinewidth\":0,\"ticks\":\"\"}},\"marker\":{\"colorbar\":{\"outlinewidth\":0,\"ticks\":\"\"}}}],\"scattermapbox\":[{\"type\":\"scattermapbox\",\"marker\":{\"colorbar\":{\"outlinewidth\":0,\"ticks\":\"\"}}}],\"scatterternary\":[{\"type\":\"scatterternary\",\"marker\":{\"colorbar\":{\"outlinewidth\":0,\"ticks\":\"\"}}}],\"scattercarpet\":[{\"type\":\"scattercarpet\",\"marker\":{\"colorbar\":{\"outlinewidth\":0,\"ticks\":\"\"}}}],\"carpet\":[{\"aaxis\":{\"endlinecolor\":\"#2a3f5f\",\"gridcolor\":\"white\",\"linecolor\":\"white\",\"minorgridcolor\":\"white\",\"startlinecolor\":\"#2a3f5f\"},\"baxis\":{\"endlinecolor\":\"#2a3f5f\",\"gridcolor\":\"white\",\"linecolor\":\"white\",\"minorgridcolor\":\"white\",\"startlinecolor\":\"#2a3f5f\"},\"type\":\"carpet\"}],\"table\":[{\"cells\":{\"fill\":{\"color\":\"#EBF0F8\"},\"line\":{\"color\":\"white\"}},\"header\":{\"fill\":{\"color\":\"#C8D4E3\"},\"line\":{\"color\":\"white\"}},\"type\":\"table\"}],\"barpolar\":[{\"marker\":{\"line\":{\"color\":\"#E5ECF6\",\"width\":0.5},\"pattern\":{\"fillmode\":\"overlay\",\"size\":10,\"solidity\":0.2}},\"type\":\"barpolar\"}],\"pie\":[{\"automargin\":true,\"type\":\"pie\"}]},\"layout\":{\"autotypenumbers\":\"strict\",\"colorway\":[\"#636efa\",\"#EF553B\",\"#00cc96\",\"#ab63fa\",\"#FFA15A\",\"#19d3f3\",\"#FF6692\",\"#B6E880\",\"#FF97FF\",\"#FECB52\"],\"font\":{\"color\":\"#2a3f5f\"},\"hovermode\":\"closest\",\"hoverlabel\":{\"align\":\"left\"},\"paper_bgcolor\":\"white\",\"plot_bgcolor\":\"#E5ECF6\",\"polar\":{\"bgcolor\":\"#E5ECF6\",\"angularaxis\":{\"gridcolor\":\"white\",\"linecolor\":\"white\",\"ticks\":\"\"},\"radialaxis\":{\"gridcolor\":\"white\",\"linecolor\":\"white\",\"ticks\":\"\"}},\"ternary\":{\"bgcolor\":\"#E5ECF6\",\"aaxis\":{\"gridcolor\":\"white\",\"linecolor\":\"white\",\"ticks\":\"\"},\"baxis\":{\"gridcolor\":\"white\",\"linecolor\":\"white\",\"ticks\":\"\"},\"caxis\":{\"gridcolor\":\"white\",\"linecolor\":\"white\",\"ticks\":\"\"}},\"coloraxis\":{\"colorbar\":{\"outlinewidth\":0,\"ticks\":\"\"}},\"colorscale\":{\"sequential\":[[0.0,\"#0d0887\"],[0.1111111111111111,\"#46039f\"],[0.2222222222222222,\"#7201a8\"],[0.3333333333333333,\"#9c179e\"],[0.4444444444444444,\"#bd3786\"],[0.5555555555555556,\"#d8576b\"],[0.6666666666666666,\"#ed7953\"],[0.7777777777777778,\"#fb9f3a\"],[0.8888888888888888,\"#fdca26\"],[1.0,\"#f0f921\"]],\"sequentialminus\":[[0.0,\"#0d0887\"],[0.1111111111111111,\"#46039f\"],[0.2222222222222222,\"#7201a8\"],[0.3333333333333333,\"#9c179e\"],[0.4444444444444444,\"#bd3786\"],[0.5555555555555556,\"#d8576b\"],[0.6666666666666666,\"#ed7953\"],[0.7777777777777778,\"#fb9f3a\"],[0.8888888888888888,\"#fdca26\"],[1.0,\"#f0f921\"]],\"diverging\":[[0,\"#8e0152\"],[0.1,\"#c51b7d\"],[0.2,\"#de77ae\"],[0.3,\"#f1b6da\"],[0.4,\"#fde0ef\"],[0.5,\"#f7f7f7\"],[0.6,\"#e6f5d0\"],[0.7,\"#b8e186\"],[0.8,\"#7fbc41\"],[0.9,\"#4d9221\"],[1,\"#276419\"]]},\"xaxis\":{\"gridcolor\":\"white\",\"linecolor\":\"white\",\"ticks\":\"\",\"title\":{\"standoff\":15},\"zerolinecolor\":\"white\",\"automargin\":true,\"zerolinewidth\":2},\"yaxis\":{\"gridcolor\":\"white\",\"linecolor\":\"white\",\"ticks\":\"\",\"title\":{\"standoff\":15},\"zerolinecolor\":\"white\",\"automargin\":true,\"zerolinewidth\":2},\"scene\":{\"xaxis\":{\"backgroundcolor\":\"#E5ECF6\",\"gridcolor\":\"white\",\"linecolor\":\"white\",\"showbackground\":true,\"ticks\":\"\",\"zerolinecolor\":\"white\",\"gridwidth\":2},\"yaxis\":{\"backgroundcolor\":\"#E5ECF6\",\"gridcolor\":\"white\",\"linecolor\":\"white\",\"showbackground\":true,\"ticks\":\"\",\"zerolinecolor\":\"white\",\"gridwidth\":2},\"zaxis\":{\"backgroundcolor\":\"#E5ECF6\",\"gridcolor\":\"white\",\"linecolor\":\"white\",\"showbackground\":true,\"ticks\":\"\",\"zerolinecolor\":\"white\",\"gridwidth\":2}},\"shapedefaults\":{\"line\":{\"color\":\"#2a3f5f\"}},\"annotationdefaults\":{\"arrowcolor\":\"#2a3f5f\",\"arrowhead\":0,\"arrowwidth\":1},\"geo\":{\"bgcolor\":\"white\",\"landcolor\":\"#E5ECF6\",\"subunitcolor\":\"white\",\"showland\":true,\"showlakes\":true,\"lakecolor\":\"white\"},\"title\":{\"x\":0.05},\"mapbox\":{\"style\":\"light\"}}},\"xaxis\":{\"anchor\":\"y\",\"domain\":[0.0,1.0],\"title\":{\"text\":\"Iterations\"}},\"yaxis\":{\"anchor\":\"x\",\"domain\":[0.0,1.0],\"title\":{\"text\":\"Training Entropy Loss\"}},\"legend\":{\"tracegroupgap\":0},\"title\":{\"text\":\"Training Entropy Loss vs Iterations\"}},                        {\"responsive\": true}                    ).then(function(){\n",
       "                            \n",
       "var gd = document.getElementById('f4139cbf-78e8-433b-9ab6-f26de1cce908');\n",
       "var x = new MutationObserver(function (mutations, observer) {{\n",
       "        var display = window.getComputedStyle(gd).display;\n",
       "        if (!display || display === 'none') {{\n",
       "            console.log([gd, 'removed!']);\n",
       "            Plotly.purge(gd);\n",
       "            observer.disconnect();\n",
       "        }}\n",
       "}});\n",
       "\n",
       "// Listen for the removal of the full notebook cells\n",
       "var notebookContainer = gd.closest('#notebook-container');\n",
       "if (notebookContainer) {{\n",
       "    x.observe(notebookContainer, {childList: true});\n",
       "}}\n",
       "\n",
       "// Listen for the clearing of the current output cell\n",
       "var outputEl = gd.closest('.output');\n",
       "if (outputEl) {{\n",
       "    x.observe(outputEl, {childList: true});\n",
       "}}\n",
       "\n",
       "                        })                };                });            </script>        </div>"
      ]
     },
     "metadata": {},
     "output_type": "display_data"
    }
   ],
   "source": [
    "fig = px.line(df, x='time/iterations', y='train/entropy_loss', \n",
    "              title='Training Entropy Loss vs Iterations',\n",
    "              labels={'time/iterations': 'Iterations', 'train/entropy_loss': 'Training Entropy Loss'})\n",
    "fig.show()"
   ]
  },
  {
   "cell_type": "code",
   "execution_count": 7,
   "metadata": {},
   "outputs": [
    {
     "data": {
      "application/vnd.plotly.v1+json": {
       "config": {
        "plotlyServerURL": "https://plot.ly"
       },
       "data": [
        {
         "hovertemplate": "Iterations=%{x}<br>Training Policy Gradient Loss=%{y}<extra></extra>",
         "legendgroup": "",
         "line": {
          "color": "#636efa",
          "dash": "solid"
         },
         "marker": {
          "symbol": "circle"
         },
         "mode": "lines",
         "name": "",
         "orientation": "v",
         "showlegend": false,
         "type": "scatter",
         "x": [
          1,
          2,
          3,
          4,
          5,
          6,
          7,
          8,
          9,
          10,
          11,
          12,
          13,
          14,
          15,
          16,
          17,
          18,
          19,
          20,
          21,
          22,
          23,
          24,
          25,
          26,
          27,
          28,
          29,
          30,
          31,
          32,
          33,
          34,
          35,
          36,
          37,
          38,
          39,
          40,
          41,
          42,
          43,
          44,
          45,
          46,
          47,
          48,
          49,
          50,
          51,
          52,
          53,
          54,
          55,
          56,
          57,
          58,
          59,
          60,
          61,
          62,
          63,
          64,
          65,
          66,
          67,
          68,
          69,
          70,
          71,
          72,
          73,
          74,
          75,
          76,
          77,
          78,
          79,
          80,
          81,
          82,
          83,
          84,
          85,
          86,
          87,
          88,
          89,
          90,
          91,
          92,
          93,
          94,
          95,
          96,
          97,
          98,
          99,
          100,
          101,
          102,
          103,
          104,
          105,
          106,
          107,
          108,
          109,
          110,
          111,
          112,
          113,
          114,
          115,
          116,
          117,
          118,
          119,
          120,
          121,
          122,
          123,
          124,
          125,
          126,
          127,
          128,
          129,
          130,
          131,
          132,
          133,
          134,
          135,
          136,
          137,
          138,
          139,
          140,
          141,
          142,
          143,
          144,
          145,
          146,
          147,
          148,
          149,
          150,
          151,
          152,
          153,
          154,
          155,
          156,
          157,
          158,
          159,
          160,
          161,
          162,
          163,
          164,
          165,
          166,
          167,
          168,
          169,
          170,
          171,
          172,
          173,
          174,
          175,
          176,
          177,
          178,
          179,
          180,
          181,
          182,
          183,
          184,
          185,
          186,
          187,
          188,
          189,
          190,
          191,
          192,
          193,
          194,
          195,
          196,
          197,
          198,
          199,
          200,
          201,
          202,
          203,
          204,
          205,
          206,
          207,
          208,
          209,
          210,
          211,
          212,
          213,
          214,
          215,
          216,
          217,
          218,
          219,
          220,
          221,
          222,
          223,
          224,
          225,
          226,
          227,
          228,
          229,
          230,
          231,
          232,
          233,
          234,
          235,
          236,
          237,
          238,
          239,
          240,
          241,
          242,
          243,
          244,
          245,
          246,
          247,
          248,
          249,
          250,
          251,
          252,
          253,
          254,
          255,
          256,
          257,
          258,
          259,
          260,
          261,
          262,
          263,
          264,
          265,
          266,
          267,
          268,
          269,
          270,
          271,
          272,
          273,
          274,
          275,
          276,
          277,
          278,
          279,
          280,
          281,
          282,
          283,
          284,
          285,
          286,
          287,
          288,
          289,
          290,
          291,
          292,
          293,
          294,
          295,
          296,
          297,
          298,
          299,
          300,
          301,
          302,
          303,
          304,
          305,
          306,
          307,
          308,
          309,
          310,
          311,
          312,
          313,
          314,
          315,
          316,
          317,
          318,
          319,
          320,
          321,
          322,
          323,
          324,
          325,
          326,
          327,
          328,
          329,
          330,
          331,
          332,
          333,
          334,
          335,
          336,
          337,
          338,
          339,
          340,
          341,
          342,
          343,
          344,
          345,
          346,
          347,
          348,
          349,
          350,
          351,
          352,
          353,
          354,
          355,
          356,
          357,
          358,
          359,
          360,
          361,
          362,
          363,
          364,
          365,
          366,
          367,
          368,
          369,
          370,
          371,
          372,
          373,
          374,
          375,
          376,
          377,
          378,
          379,
          380,
          381,
          382,
          383,
          384,
          385,
          386,
          387,
          388,
          389,
          390,
          391
         ],
         "xaxis": "x",
         "y": [
          null,
          -0.0234997455421156,
          -0.0389791392289528,
          -0.0527917898743908,
          -0.0168629503915629,
          -0.0546914593161394,
          -0.0266577150688438,
          -0.0257439039827052,
          -0.0490489594454023,
          -0.0450661544236936,
          -0.0304076830543635,
          -0.0265421972098314,
          -0.0251916229889805,
          -0.0174206523918352,
          -0.05062900457051,
          -0.0221618264207791,
          -0.0205117896165271,
          -0.0290553855507217,
          -0.0255907707144312,
          -0.0166904943699288,
          -0.0226425400808996,
          -0.0217140344532405,
          -0.0228748941403561,
          -0.0173854586228117,
          -0.0139885752209617,
          -0.0227479096442645,
          -0.03124650465179,
          -0.0356380577400462,
          -0.0246109028732462,
          -0.0251347523308747,
          -0.0255285693177332,
          -0.0195789164559149,
          -0.0233940321025632,
          -0.0242397943584364,
          -0.0314005536223703,
          -0.0224174569744112,
          -0.0379061527521116,
          -0.0180228980105312,
          -0.0174518985307562,
          -0.0207213897510276,
          -0.0255528973366987,
          -0.0209262425290944,
          -0.0259258819576643,
          -0.0273076304525602,
          -0.0142673582212106,
          -0.0214786732239493,
          -0.0339738546504425,
          -0.0214924245409444,
          -0.027596488706331,
          -0.022985015737504,
          -0.020985832913963,
          -0.0239991437360004,
          -0.0183744631103763,
          -0.0189685532640093,
          -0.0215734415748253,
          -0.0228583080815345,
          -0.0280383703752401,
          -0.0271550383076828,
          -0.0290942290541958,
          -0.0244881632844529,
          -0.027603433906188,
          -0.0256838883930565,
          -0.0165740706999107,
          -0.0229745636303656,
          -0.0152899233242351,
          -0.0195477190978029,
          -0.0209374606849451,
          -0.0186205865235024,
          -0.0140644167777888,
          -0.0144748843039754,
          -0.0203664293500575,
          -0.0339758875619736,
          -0.0305726840701633,
          -0.0221836429836306,
          -0.0325356891308426,
          -0.0267693013304475,
          -0.0282454634828657,
          -0.0276635566440139,
          -0.026716883246748,
          -0.0199702675430065,
          -0.0256457841591327,
          -0.0201996208512961,
          -0.0219847321808629,
          -0.0274354368802354,
          -0.0381868090931675,
          -0.0267327426796934,
          -0.021800978120397,
          -0.0257516794224405,
          -0.0235951610065967,
          -0.0240119560075982,
          -0.0248597933752535,
          -0.0276798149517465,
          -0.0250480508962937,
          -0.0237767167794421,
          -0.0209521941299802,
          -0.0200937025210199,
          -0.0299850223151831,
          -0.0244936983312072,
          -0.0370136330774888,
          -0.034142282088942,
          -0.0272508592637071,
          -0.0437765063031595,
          -0.0228133022040613,
          -0.0311468448397742,
          -0.0188284630501584,
          -0.0313918850801807,
          -0.0221743399449527,
          -0.0354676465921026,
          -0.0281482404920097,
          -0.0287109263301924,
          -0.0205038207253285,
          -0.0234679717004837,
          -0.0151322040840265,
          -0.0213682587372507,
          -0.0205756101083049,
          -0.0260466226961095,
          -0.0314365245899049,
          -0.0217490577277203,
          -0.0247376722853611,
          -0.0172684039476735,
          -0.025220535761764,
          -0.0347931743866259,
          -0.0272576418654352,
          -0.0296299247621694,
          -0.0197954685208969,
          -0.0291651987571337,
          -0.0192045737969844,
          -0.0237448242272269,
          -0.0260826225458004,
          -0.0305267893524918,
          -0.012988797530852,
          -0.016509612034982,
          -0.0282956659088085,
          -0.0243216792191863,
          -0.0283141814397822,
          -0.0363317654060665,
          -0.0157553944402025,
          -0.0226154986173545,
          -0.0247602683205817,
          -0.0258217618281681,
          -0.0262693338814036,
          -0.0289955781828515,
          -0.0287869508562531,
          -0.0256930459850991,
          -0.02403783051559,
          -0.0164156709994131,
          -0.0287792574573056,
          -0.0179870252587231,
          -0.0214740445925902,
          -0.0238862912045685,
          -0.0292965568597234,
          -0.0267380377816152,
          -0.0269745832825719,
          -0.030912136551827,
          -0.0368641979058641,
          -0.0248849898681025,
          -0.0234551443017456,
          -0.034981404938541,
          -0.0386118753881116,
          -0.0245396280817355,
          -0.0244369712216818,
          -0.017989297447275,
          -0.0193748243296189,
          -0.0274581536733118,
          -0.0313042089408554,
          -0.0205862282073212,
          -0.0209481918774448,
          -0.0271174497095974,
          -0.026623897503426,
          -0.0260645159425621,
          -0.0354415555550076,
          -0.0230970600508347,
          -0.0289472230845907,
          -0.0249587185763327,
          -0.0190132167457098,
          -0.0217810606199539,
          -0.015481676126122,
          -0.0384338169572098,
          -0.0307307279717254,
          -0.019105468897275,
          -0.0344752217279165,
          -0.027119706203545,
          -0.0266207752259409,
          -0.03291435034965,
          -0.0168595166288772,
          -0.0223081228495478,
          -0.0316964209528426,
          -0.0294854802056458,
          -0.0316404075815323,
          -0.0245610281679546,
          -0.0285954979142843,
          -0.0252673000376186,
          -0.0207450750680436,
          -0.0217609766584549,
          -0.0249733342279796,
          -0.0219526638855919,
          -0.0266402706993782,
          -0.0245279421969219,
          -0.0294876545415415,
          -0.0221235193756001,
          -0.0305132617611282,
          -0.0289991585421375,
          -0.026862780535157,
          -0.0362532159958694,
          -0.0262750747337122,
          -0.0274919800295416,
          -0.0328771741974075,
          -0.0246104149754197,
          -0.0265153347727997,
          -0.0272636447962819,
          -0.023129740878115,
          -0.0260634656110293,
          -0.0184404089994738,
          -0.0304644400178707,
          -0.0303335797616455,
          -0.0219822371696257,
          -0.0194209450465374,
          -0.0303422146066926,
          -0.0305994158495498,
          -0.0289409218123182,
          -0.0217761890480081,
          -0.0219399743388445,
          -0.0227703419349078,
          -0.0308226626570103,
          -0.0296445042986306,
          -0.0217204765426383,
          -0.0236587234253723,
          -0.0219887769322667,
          -0.0190669792837676,
          -0.0228033869105274,
          -0.0210408787808167,
          -0.0211093564789431,
          -0.0266589416954957,
          -0.0203494019141847,
          -0.0241251382491706,
          -0.0216115733499464,
          -0.0279917839315506,
          -0.0202635411177955,
          -0.0222941081736886,
          -0.0265411577696795,
          -0.0220861922042483,
          -0.0232288201965275,
          -0.0175610268073796,
          -0.0262056077353918,
          -0.0299382536262252,
          -0.0288568658232785,
          -0.0298520808364022,
          -0.0216492840656428,
          -0.0228913089398702,
          -0.0229067437486567,
          -0.0246338129955499,
          -0.022005128213641,
          -0.0208259408929734,
          -0.0250687052995393,
          -0.0239544851100314,
          -0.0265886021986564,
          -0.0262976225618331,
          -0.0246372178405484,
          -0.0304802168597234,
          -0.0286384480343258,
          -0.0299066743968675,
          -0.0244867384220318,
          -0.0371033881252515,
          -0.0189486757214278,
          -0.0224511444452218,
          -0.0289407893615134,
          -0.0263544643942926,
          -0.0256909274576173,
          -0.0276248593904407,
          -0.0324134358124865,
          -0.0235734818774896,
          -0.0194472851355385,
          -0.0301615382311865,
          -0.0304310657079743,
          -0.0318087061185603,
          -0.0219691259141351,
          -0.0280230299128258,
          -0.0253176396073589,
          -0.0312596385030095,
          -0.0227023771394063,
          -0.0280809868532135,
          -0.0211927165670203,
          -0.0274417764485406,
          -0.0157112281035855,
          -0.026944025488774,
          -0.0239019781009119,
          -0.0174796819993692,
          -0.0194447378648571,
          -0.027216589495462,
          -0.0238045069352665,
          -0.0272729790071025,
          -0.0291193218098972,
          -0.031349496760716,
          -0.0392760300224229,
          -0.0197955918615965,
          -0.0299485725110571,
          -0.0205972425113335,
          -0.0233719447537926,
          -0.0261190949497783,
          -0.0299581716021445,
          -0.0217763703743306,
          -0.0271644813377254,
          -0.0295952812336812,
          -0.0291354417625067,
          -0.0233138857751328,
          -0.0283084753752821,
          -0.0345299887907458,
          -0.024662331019014,
          -0.0330195067154515,
          -0.031730419016579,
          -0.0280616860094596,
          -0.0195613811321284,
          -0.0193106567380406,
          -0.0230147616469669,
          -0.0335450359324265,
          -0.0185544417359778,
          -0.0203836524336414,
          -0.0228842792455301,
          -0.0288240615148727,
          -0.0264028947720362,
          -0.0248384078794818,
          -0.0259172262917369,
          -0.0398520889282129,
          -0.0260844109832153,
          -0.026624588050375,
          -0.0249318082210569,
          -0.0245549323137917,
          -0.0280465642227985,
          -0.0310150279619847,
          -0.0283382497989805,
          -0.0197485736057084,
          -0.0243834611133934,
          -0.0241018598626396,
          -0.0256333055614959,
          -0.0267250993936613,
          -0.0218085219770728,
          -0.0235432753589217,
          -0.0273287647973726,
          -0.0304658396523639,
          -0.0240538370432962,
          -0.0318423487613472,
          -0.0262919744207465,
          -0.0376517005582475,
          -0.025971635351622,
          -0.0277163844143312,
          -0.0260211615170192,
          -0.0224075192417027,
          -0.0341880493723389,
          -0.0283972168964586,
          -0.0186767074747573,
          -0.0302515025221509,
          -0.0256155474293336,
          -0.0216715271839348,
          -0.0311041397137159,
          -0.0287698097466394,
          -0.0267107757620882,
          -0.0304549994825113,
          -0.0210609381446071,
          -0.0259746299205289,
          -0.0251467558902125,
          -0.0343731499131536,
          -0.0215392253938868,
          -0.0213767459429315,
          -0.0357411705112705,
          -0.0289651031605899,
          -0.0265263972876709,
          -0.026067204952172,
          -0.0270342783410645,
          -0.0254718099538877,
          -0.0259525989863808,
          -0.0315901581505992,
          -0.0195047464878977,
          -0.0244187428498359,
          -0.0292514618410981,
          -0.0233431791146964,
          -0.0268962949703563,
          -0.028191557774456,
          -0.0318154636977851,
          -0.0271792064765274,
          -0.0139259284228804,
          -0.0275259096301548,
          -0.0310452759147059,
          -0.0324916908209464,
          -0.0246207475719226,
          -0.0219952700043601,
          -0.0321289499109601,
          -0.0306478334464676,
          -0.0255489989535514,
          -0.0290501823937423,
          -0.0263553163116739,
          -0.0247036529229565
         ],
         "yaxis": "y"
        }
       ],
       "layout": {
        "legend": {
         "tracegroupgap": 0
        },
        "template": {
         "data": {
          "bar": [
           {
            "error_x": {
             "color": "#2a3f5f"
            },
            "error_y": {
             "color": "#2a3f5f"
            },
            "marker": {
             "line": {
              "color": "#E5ECF6",
              "width": 0.5
             },
             "pattern": {
              "fillmode": "overlay",
              "size": 10,
              "solidity": 0.2
             }
            },
            "type": "bar"
           }
          ],
          "barpolar": [
           {
            "marker": {
             "line": {
              "color": "#E5ECF6",
              "width": 0.5
             },
             "pattern": {
              "fillmode": "overlay",
              "size": 10,
              "solidity": 0.2
             }
            },
            "type": "barpolar"
           }
          ],
          "carpet": [
           {
            "aaxis": {
             "endlinecolor": "#2a3f5f",
             "gridcolor": "white",
             "linecolor": "white",
             "minorgridcolor": "white",
             "startlinecolor": "#2a3f5f"
            },
            "baxis": {
             "endlinecolor": "#2a3f5f",
             "gridcolor": "white",
             "linecolor": "white",
             "minorgridcolor": "white",
             "startlinecolor": "#2a3f5f"
            },
            "type": "carpet"
           }
          ],
          "choropleth": [
           {
            "colorbar": {
             "outlinewidth": 0,
             "ticks": ""
            },
            "type": "choropleth"
           }
          ],
          "contour": [
           {
            "colorbar": {
             "outlinewidth": 0,
             "ticks": ""
            },
            "colorscale": [
             [
              0,
              "#0d0887"
             ],
             [
              0.1111111111111111,
              "#46039f"
             ],
             [
              0.2222222222222222,
              "#7201a8"
             ],
             [
              0.3333333333333333,
              "#9c179e"
             ],
             [
              0.4444444444444444,
              "#bd3786"
             ],
             [
              0.5555555555555556,
              "#d8576b"
             ],
             [
              0.6666666666666666,
              "#ed7953"
             ],
             [
              0.7777777777777778,
              "#fb9f3a"
             ],
             [
              0.8888888888888888,
              "#fdca26"
             ],
             [
              1,
              "#f0f921"
             ]
            ],
            "type": "contour"
           }
          ],
          "contourcarpet": [
           {
            "colorbar": {
             "outlinewidth": 0,
             "ticks": ""
            },
            "type": "contourcarpet"
           }
          ],
          "heatmap": [
           {
            "colorbar": {
             "outlinewidth": 0,
             "ticks": ""
            },
            "colorscale": [
             [
              0,
              "#0d0887"
             ],
             [
              0.1111111111111111,
              "#46039f"
             ],
             [
              0.2222222222222222,
              "#7201a8"
             ],
             [
              0.3333333333333333,
              "#9c179e"
             ],
             [
              0.4444444444444444,
              "#bd3786"
             ],
             [
              0.5555555555555556,
              "#d8576b"
             ],
             [
              0.6666666666666666,
              "#ed7953"
             ],
             [
              0.7777777777777778,
              "#fb9f3a"
             ],
             [
              0.8888888888888888,
              "#fdca26"
             ],
             [
              1,
              "#f0f921"
             ]
            ],
            "type": "heatmap"
           }
          ],
          "heatmapgl": [
           {
            "colorbar": {
             "outlinewidth": 0,
             "ticks": ""
            },
            "colorscale": [
             [
              0,
              "#0d0887"
             ],
             [
              0.1111111111111111,
              "#46039f"
             ],
             [
              0.2222222222222222,
              "#7201a8"
             ],
             [
              0.3333333333333333,
              "#9c179e"
             ],
             [
              0.4444444444444444,
              "#bd3786"
             ],
             [
              0.5555555555555556,
              "#d8576b"
             ],
             [
              0.6666666666666666,
              "#ed7953"
             ],
             [
              0.7777777777777778,
              "#fb9f3a"
             ],
             [
              0.8888888888888888,
              "#fdca26"
             ],
             [
              1,
              "#f0f921"
             ]
            ],
            "type": "heatmapgl"
           }
          ],
          "histogram": [
           {
            "marker": {
             "pattern": {
              "fillmode": "overlay",
              "size": 10,
              "solidity": 0.2
             }
            },
            "type": "histogram"
           }
          ],
          "histogram2d": [
           {
            "colorbar": {
             "outlinewidth": 0,
             "ticks": ""
            },
            "colorscale": [
             [
              0,
              "#0d0887"
             ],
             [
              0.1111111111111111,
              "#46039f"
             ],
             [
              0.2222222222222222,
              "#7201a8"
             ],
             [
              0.3333333333333333,
              "#9c179e"
             ],
             [
              0.4444444444444444,
              "#bd3786"
             ],
             [
              0.5555555555555556,
              "#d8576b"
             ],
             [
              0.6666666666666666,
              "#ed7953"
             ],
             [
              0.7777777777777778,
              "#fb9f3a"
             ],
             [
              0.8888888888888888,
              "#fdca26"
             ],
             [
              1,
              "#f0f921"
             ]
            ],
            "type": "histogram2d"
           }
          ],
          "histogram2dcontour": [
           {
            "colorbar": {
             "outlinewidth": 0,
             "ticks": ""
            },
            "colorscale": [
             [
              0,
              "#0d0887"
             ],
             [
              0.1111111111111111,
              "#46039f"
             ],
             [
              0.2222222222222222,
              "#7201a8"
             ],
             [
              0.3333333333333333,
              "#9c179e"
             ],
             [
              0.4444444444444444,
              "#bd3786"
             ],
             [
              0.5555555555555556,
              "#d8576b"
             ],
             [
              0.6666666666666666,
              "#ed7953"
             ],
             [
              0.7777777777777778,
              "#fb9f3a"
             ],
             [
              0.8888888888888888,
              "#fdca26"
             ],
             [
              1,
              "#f0f921"
             ]
            ],
            "type": "histogram2dcontour"
           }
          ],
          "mesh3d": [
           {
            "colorbar": {
             "outlinewidth": 0,
             "ticks": ""
            },
            "type": "mesh3d"
           }
          ],
          "parcoords": [
           {
            "line": {
             "colorbar": {
              "outlinewidth": 0,
              "ticks": ""
             }
            },
            "type": "parcoords"
           }
          ],
          "pie": [
           {
            "automargin": true,
            "type": "pie"
           }
          ],
          "scatter": [
           {
            "fillpattern": {
             "fillmode": "overlay",
             "size": 10,
             "solidity": 0.2
            },
            "type": "scatter"
           }
          ],
          "scatter3d": [
           {
            "line": {
             "colorbar": {
              "outlinewidth": 0,
              "ticks": ""
             }
            },
            "marker": {
             "colorbar": {
              "outlinewidth": 0,
              "ticks": ""
             }
            },
            "type": "scatter3d"
           }
          ],
          "scattercarpet": [
           {
            "marker": {
             "colorbar": {
              "outlinewidth": 0,
              "ticks": ""
             }
            },
            "type": "scattercarpet"
           }
          ],
          "scattergeo": [
           {
            "marker": {
             "colorbar": {
              "outlinewidth": 0,
              "ticks": ""
             }
            },
            "type": "scattergeo"
           }
          ],
          "scattergl": [
           {
            "marker": {
             "colorbar": {
              "outlinewidth": 0,
              "ticks": ""
             }
            },
            "type": "scattergl"
           }
          ],
          "scattermapbox": [
           {
            "marker": {
             "colorbar": {
              "outlinewidth": 0,
              "ticks": ""
             }
            },
            "type": "scattermapbox"
           }
          ],
          "scatterpolar": [
           {
            "marker": {
             "colorbar": {
              "outlinewidth": 0,
              "ticks": ""
             }
            },
            "type": "scatterpolar"
           }
          ],
          "scatterpolargl": [
           {
            "marker": {
             "colorbar": {
              "outlinewidth": 0,
              "ticks": ""
             }
            },
            "type": "scatterpolargl"
           }
          ],
          "scatterternary": [
           {
            "marker": {
             "colorbar": {
              "outlinewidth": 0,
              "ticks": ""
             }
            },
            "type": "scatterternary"
           }
          ],
          "surface": [
           {
            "colorbar": {
             "outlinewidth": 0,
             "ticks": ""
            },
            "colorscale": [
             [
              0,
              "#0d0887"
             ],
             [
              0.1111111111111111,
              "#46039f"
             ],
             [
              0.2222222222222222,
              "#7201a8"
             ],
             [
              0.3333333333333333,
              "#9c179e"
             ],
             [
              0.4444444444444444,
              "#bd3786"
             ],
             [
              0.5555555555555556,
              "#d8576b"
             ],
             [
              0.6666666666666666,
              "#ed7953"
             ],
             [
              0.7777777777777778,
              "#fb9f3a"
             ],
             [
              0.8888888888888888,
              "#fdca26"
             ],
             [
              1,
              "#f0f921"
             ]
            ],
            "type": "surface"
           }
          ],
          "table": [
           {
            "cells": {
             "fill": {
              "color": "#EBF0F8"
             },
             "line": {
              "color": "white"
             }
            },
            "header": {
             "fill": {
              "color": "#C8D4E3"
             },
             "line": {
              "color": "white"
             }
            },
            "type": "table"
           }
          ]
         },
         "layout": {
          "annotationdefaults": {
           "arrowcolor": "#2a3f5f",
           "arrowhead": 0,
           "arrowwidth": 1
          },
          "autotypenumbers": "strict",
          "coloraxis": {
           "colorbar": {
            "outlinewidth": 0,
            "ticks": ""
           }
          },
          "colorscale": {
           "diverging": [
            [
             0,
             "#8e0152"
            ],
            [
             0.1,
             "#c51b7d"
            ],
            [
             0.2,
             "#de77ae"
            ],
            [
             0.3,
             "#f1b6da"
            ],
            [
             0.4,
             "#fde0ef"
            ],
            [
             0.5,
             "#f7f7f7"
            ],
            [
             0.6,
             "#e6f5d0"
            ],
            [
             0.7,
             "#b8e186"
            ],
            [
             0.8,
             "#7fbc41"
            ],
            [
             0.9,
             "#4d9221"
            ],
            [
             1,
             "#276419"
            ]
           ],
           "sequential": [
            [
             0,
             "#0d0887"
            ],
            [
             0.1111111111111111,
             "#46039f"
            ],
            [
             0.2222222222222222,
             "#7201a8"
            ],
            [
             0.3333333333333333,
             "#9c179e"
            ],
            [
             0.4444444444444444,
             "#bd3786"
            ],
            [
             0.5555555555555556,
             "#d8576b"
            ],
            [
             0.6666666666666666,
             "#ed7953"
            ],
            [
             0.7777777777777778,
             "#fb9f3a"
            ],
            [
             0.8888888888888888,
             "#fdca26"
            ],
            [
             1,
             "#f0f921"
            ]
           ],
           "sequentialminus": [
            [
             0,
             "#0d0887"
            ],
            [
             0.1111111111111111,
             "#46039f"
            ],
            [
             0.2222222222222222,
             "#7201a8"
            ],
            [
             0.3333333333333333,
             "#9c179e"
            ],
            [
             0.4444444444444444,
             "#bd3786"
            ],
            [
             0.5555555555555556,
             "#d8576b"
            ],
            [
             0.6666666666666666,
             "#ed7953"
            ],
            [
             0.7777777777777778,
             "#fb9f3a"
            ],
            [
             0.8888888888888888,
             "#fdca26"
            ],
            [
             1,
             "#f0f921"
            ]
           ]
          },
          "colorway": [
           "#636efa",
           "#EF553B",
           "#00cc96",
           "#ab63fa",
           "#FFA15A",
           "#19d3f3",
           "#FF6692",
           "#B6E880",
           "#FF97FF",
           "#FECB52"
          ],
          "font": {
           "color": "#2a3f5f"
          },
          "geo": {
           "bgcolor": "white",
           "lakecolor": "white",
           "landcolor": "#E5ECF6",
           "showlakes": true,
           "showland": true,
           "subunitcolor": "white"
          },
          "hoverlabel": {
           "align": "left"
          },
          "hovermode": "closest",
          "mapbox": {
           "style": "light"
          },
          "paper_bgcolor": "white",
          "plot_bgcolor": "#E5ECF6",
          "polar": {
           "angularaxis": {
            "gridcolor": "white",
            "linecolor": "white",
            "ticks": ""
           },
           "bgcolor": "#E5ECF6",
           "radialaxis": {
            "gridcolor": "white",
            "linecolor": "white",
            "ticks": ""
           }
          },
          "scene": {
           "xaxis": {
            "backgroundcolor": "#E5ECF6",
            "gridcolor": "white",
            "gridwidth": 2,
            "linecolor": "white",
            "showbackground": true,
            "ticks": "",
            "zerolinecolor": "white"
           },
           "yaxis": {
            "backgroundcolor": "#E5ECF6",
            "gridcolor": "white",
            "gridwidth": 2,
            "linecolor": "white",
            "showbackground": true,
            "ticks": "",
            "zerolinecolor": "white"
           },
           "zaxis": {
            "backgroundcolor": "#E5ECF6",
            "gridcolor": "white",
            "gridwidth": 2,
            "linecolor": "white",
            "showbackground": true,
            "ticks": "",
            "zerolinecolor": "white"
           }
          },
          "shapedefaults": {
           "line": {
            "color": "#2a3f5f"
           }
          },
          "ternary": {
           "aaxis": {
            "gridcolor": "white",
            "linecolor": "white",
            "ticks": ""
           },
           "baxis": {
            "gridcolor": "white",
            "linecolor": "white",
            "ticks": ""
           },
           "bgcolor": "#E5ECF6",
           "caxis": {
            "gridcolor": "white",
            "linecolor": "white",
            "ticks": ""
           }
          },
          "title": {
           "x": 0.05
          },
          "xaxis": {
           "automargin": true,
           "gridcolor": "white",
           "linecolor": "white",
           "ticks": "",
           "title": {
            "standoff": 15
           },
           "zerolinecolor": "white",
           "zerolinewidth": 2
          },
          "yaxis": {
           "automargin": true,
           "gridcolor": "white",
           "linecolor": "white",
           "ticks": "",
           "title": {
            "standoff": 15
           },
           "zerolinecolor": "white",
           "zerolinewidth": 2
          }
         }
        },
        "title": {
         "text": "Training Policy Gradient Loss vs Iterations"
        },
        "xaxis": {
         "anchor": "y",
         "domain": [
          0,
          1
         ],
         "title": {
          "text": "Iterations"
         }
        },
        "yaxis": {
         "anchor": "x",
         "domain": [
          0,
          1
         ],
         "title": {
          "text": "Training Policy Gradient Loss"
         }
        }
       }
      },
      "text/html": [
       "<div>                            <div id=\"64f64188-0a0b-4aa6-9234-34d886a7c5d4\" class=\"plotly-graph-div\" style=\"height:525px; width:100%;\"></div>            <script type=\"text/javascript\">                require([\"plotly\"], function(Plotly) {                    window.PLOTLYENV=window.PLOTLYENV || {};                                    if (document.getElementById(\"64f64188-0a0b-4aa6-9234-34d886a7c5d4\")) {                    Plotly.newPlot(                        \"64f64188-0a0b-4aa6-9234-34d886a7c5d4\",                        [{\"hovertemplate\":\"Iterations=%{x}\\u003cbr\\u003eTraining Policy Gradient Loss=%{y}\\u003cextra\\u003e\\u003c\\u002fextra\\u003e\",\"legendgroup\":\"\",\"line\":{\"color\":\"#636efa\",\"dash\":\"solid\"},\"marker\":{\"symbol\":\"circle\"},\"mode\":\"lines\",\"name\":\"\",\"orientation\":\"v\",\"showlegend\":false,\"x\":[1,2,3,4,5,6,7,8,9,10,11,12,13,14,15,16,17,18,19,20,21,22,23,24,25,26,27,28,29,30,31,32,33,34,35,36,37,38,39,40,41,42,43,44,45,46,47,48,49,50,51,52,53,54,55,56,57,58,59,60,61,62,63,64,65,66,67,68,69,70,71,72,73,74,75,76,77,78,79,80,81,82,83,84,85,86,87,88,89,90,91,92,93,94,95,96,97,98,99,100,101,102,103,104,105,106,107,108,109,110,111,112,113,114,115,116,117,118,119,120,121,122,123,124,125,126,127,128,129,130,131,132,133,134,135,136,137,138,139,140,141,142,143,144,145,146,147,148,149,150,151,152,153,154,155,156,157,158,159,160,161,162,163,164,165,166,167,168,169,170,171,172,173,174,175,176,177,178,179,180,181,182,183,184,185,186,187,188,189,190,191,192,193,194,195,196,197,198,199,200,201,202,203,204,205,206,207,208,209,210,211,212,213,214,215,216,217,218,219,220,221,222,223,224,225,226,227,228,229,230,231,232,233,234,235,236,237,238,239,240,241,242,243,244,245,246,247,248,249,250,251,252,253,254,255,256,257,258,259,260,261,262,263,264,265,266,267,268,269,270,271,272,273,274,275,276,277,278,279,280,281,282,283,284,285,286,287,288,289,290,291,292,293,294,295,296,297,298,299,300,301,302,303,304,305,306,307,308,309,310,311,312,313,314,315,316,317,318,319,320,321,322,323,324,325,326,327,328,329,330,331,332,333,334,335,336,337,338,339,340,341,342,343,344,345,346,347,348,349,350,351,352,353,354,355,356,357,358,359,360,361,362,363,364,365,366,367,368,369,370,371,372,373,374,375,376,377,378,379,380,381,382,383,384,385,386,387,388,389,390,391],\"xaxis\":\"x\",\"y\":[null,-0.0234997455421156,-0.0389791392289528,-0.0527917898743908,-0.0168629503915629,-0.0546914593161394,-0.0266577150688438,-0.0257439039827052,-0.0490489594454023,-0.0450661544236936,-0.0304076830543635,-0.0265421972098314,-0.0251916229889805,-0.0174206523918352,-0.05062900457051,-0.0221618264207791,-0.0205117896165271,-0.0290553855507217,-0.0255907707144312,-0.0166904943699288,-0.0226425400808996,-0.0217140344532405,-0.0228748941403561,-0.0173854586228117,-0.0139885752209617,-0.0227479096442645,-0.03124650465179,-0.0356380577400462,-0.0246109028732462,-0.0251347523308747,-0.0255285693177332,-0.0195789164559149,-0.0233940321025632,-0.0242397943584364,-0.0314005536223703,-0.0224174569744112,-0.0379061527521116,-0.0180228980105312,-0.0174518985307562,-0.0207213897510276,-0.0255528973366987,-0.0209262425290944,-0.0259258819576643,-0.0273076304525602,-0.0142673582212106,-0.0214786732239493,-0.0339738546504425,-0.0214924245409444,-0.027596488706331,-0.022985015737504,-0.020985832913963,-0.0239991437360004,-0.0183744631103763,-0.0189685532640093,-0.0215734415748253,-0.0228583080815345,-0.0280383703752401,-0.0271550383076828,-0.0290942290541958,-0.0244881632844529,-0.027603433906188,-0.0256838883930565,-0.0165740706999107,-0.0229745636303656,-0.0152899233242351,-0.0195477190978029,-0.0209374606849451,-0.0186205865235024,-0.0140644167777888,-0.0144748843039754,-0.0203664293500575,-0.0339758875619736,-0.0305726840701633,-0.0221836429836306,-0.0325356891308426,-0.0267693013304475,-0.0282454634828657,-0.0276635566440139,-0.026716883246748,-0.0199702675430065,-0.0256457841591327,-0.0201996208512961,-0.0219847321808629,-0.0274354368802354,-0.0381868090931675,-0.0267327426796934,-0.021800978120397,-0.0257516794224405,-0.0235951610065967,-0.0240119560075982,-0.0248597933752535,-0.0276798149517465,-0.0250480508962937,-0.0237767167794421,-0.0209521941299802,-0.0200937025210199,-0.0299850223151831,-0.0244936983312072,-0.0370136330774888,-0.034142282088942,-0.0272508592637071,-0.0437765063031595,-0.0228133022040613,-0.0311468448397742,-0.0188284630501584,-0.0313918850801807,-0.0221743399449527,-0.0354676465921026,-0.0281482404920097,-0.0287109263301924,-0.0205038207253285,-0.0234679717004837,-0.0151322040840265,-0.0213682587372507,-0.0205756101083049,-0.0260466226961095,-0.0314365245899049,-0.0217490577277203,-0.0247376722853611,-0.0172684039476735,-0.025220535761764,-0.0347931743866259,-0.0272576418654352,-0.0296299247621694,-0.0197954685208969,-0.0291651987571337,-0.0192045737969844,-0.0237448242272269,-0.0260826225458004,-0.0305267893524918,-0.012988797530852,-0.016509612034982,-0.0282956659088085,-0.0243216792191863,-0.0283141814397822,-0.0363317654060665,-0.0157553944402025,-0.0226154986173545,-0.0247602683205817,-0.0258217618281681,-0.0262693338814036,-0.0289955781828515,-0.0287869508562531,-0.0256930459850991,-0.02403783051559,-0.0164156709994131,-0.0287792574573056,-0.0179870252587231,-0.0214740445925902,-0.0238862912045685,-0.0292965568597234,-0.0267380377816152,-0.0269745832825719,-0.030912136551827,-0.0368641979058641,-0.0248849898681025,-0.0234551443017456,-0.034981404938541,-0.0386118753881116,-0.0245396280817355,-0.0244369712216818,-0.017989297447275,-0.0193748243296189,-0.0274581536733118,-0.0313042089408554,-0.0205862282073212,-0.0209481918774448,-0.0271174497095974,-0.026623897503426,-0.0260645159425621,-0.0354415555550076,-0.0230970600508347,-0.0289472230845907,-0.0249587185763327,-0.0190132167457098,-0.0217810606199539,-0.015481676126122,-0.0384338169572098,-0.0307307279717254,-0.019105468897275,-0.0344752217279165,-0.027119706203545,-0.0266207752259409,-0.03291435034965,-0.0168595166288772,-0.0223081228495478,-0.0316964209528426,-0.0294854802056458,-0.0316404075815323,-0.0245610281679546,-0.0285954979142843,-0.0252673000376186,-0.0207450750680436,-0.0217609766584549,-0.0249733342279796,-0.0219526638855919,-0.0266402706993782,-0.0245279421969219,-0.0294876545415415,-0.0221235193756001,-0.0305132617611282,-0.0289991585421375,-0.026862780535157,-0.0362532159958694,-0.0262750747337122,-0.0274919800295416,-0.0328771741974075,-0.0246104149754197,-0.0265153347727997,-0.0272636447962819,-0.023129740878115,-0.0260634656110293,-0.0184404089994738,-0.0304644400178707,-0.0303335797616455,-0.0219822371696257,-0.0194209450465374,-0.0303422146066926,-0.0305994158495498,-0.0289409218123182,-0.0217761890480081,-0.0219399743388445,-0.0227703419349078,-0.0308226626570103,-0.0296445042986306,-0.0217204765426383,-0.0236587234253723,-0.0219887769322667,-0.0190669792837676,-0.0228033869105274,-0.0210408787808167,-0.0211093564789431,-0.0266589416954957,-0.0203494019141847,-0.0241251382491706,-0.0216115733499464,-0.0279917839315506,-0.0202635411177955,-0.0222941081736886,-0.0265411577696795,-0.0220861922042483,-0.0232288201965275,-0.0175610268073796,-0.0262056077353918,-0.0299382536262252,-0.0288568658232785,-0.0298520808364022,-0.0216492840656428,-0.0228913089398702,-0.0229067437486567,-0.0246338129955499,-0.022005128213641,-0.0208259408929734,-0.0250687052995393,-0.0239544851100314,-0.0265886021986564,-0.0262976225618331,-0.0246372178405484,-0.0304802168597234,-0.0286384480343258,-0.0299066743968675,-0.0244867384220318,-0.0371033881252515,-0.0189486757214278,-0.0224511444452218,-0.0289407893615134,-0.0263544643942926,-0.0256909274576173,-0.0276248593904407,-0.0324134358124865,-0.0235734818774896,-0.0194472851355385,-0.0301615382311865,-0.0304310657079743,-0.0318087061185603,-0.0219691259141351,-0.0280230299128258,-0.0253176396073589,-0.0312596385030095,-0.0227023771394063,-0.0280809868532135,-0.0211927165670203,-0.0274417764485406,-0.0157112281035855,-0.026944025488774,-0.0239019781009119,-0.0174796819993692,-0.0194447378648571,-0.027216589495462,-0.0238045069352665,-0.0272729790071025,-0.0291193218098972,-0.031349496760716,-0.0392760300224229,-0.0197955918615965,-0.0299485725110571,-0.0205972425113335,-0.0233719447537926,-0.0261190949497783,-0.0299581716021445,-0.0217763703743306,-0.0271644813377254,-0.0295952812336812,-0.0291354417625067,-0.0233138857751328,-0.0283084753752821,-0.0345299887907458,-0.024662331019014,-0.0330195067154515,-0.031730419016579,-0.0280616860094596,-0.0195613811321284,-0.0193106567380406,-0.0230147616469669,-0.0335450359324265,-0.0185544417359778,-0.0203836524336414,-0.0228842792455301,-0.0288240615148727,-0.0264028947720362,-0.0248384078794818,-0.0259172262917369,-0.0398520889282129,-0.0260844109832153,-0.026624588050375,-0.0249318082210569,-0.0245549323137917,-0.0280465642227985,-0.0310150279619847,-0.0283382497989805,-0.0197485736057084,-0.0243834611133934,-0.0241018598626396,-0.0256333055614959,-0.0267250993936613,-0.0218085219770728,-0.0235432753589217,-0.0273287647973726,-0.0304658396523639,-0.0240538370432962,-0.0318423487613472,-0.0262919744207465,-0.0376517005582475,-0.025971635351622,-0.0277163844143312,-0.0260211615170192,-0.0224075192417027,-0.0341880493723389,-0.0283972168964586,-0.0186767074747573,-0.0302515025221509,-0.0256155474293336,-0.0216715271839348,-0.0311041397137159,-0.0287698097466394,-0.0267107757620882,-0.0304549994825113,-0.0210609381446071,-0.0259746299205289,-0.0251467558902125,-0.0343731499131536,-0.0215392253938868,-0.0213767459429315,-0.0357411705112705,-0.0289651031605899,-0.0265263972876709,-0.026067204952172,-0.0270342783410645,-0.0254718099538877,-0.0259525989863808,-0.0315901581505992,-0.0195047464878977,-0.0244187428498359,-0.0292514618410981,-0.0233431791146964,-0.0268962949703563,-0.028191557774456,-0.0318154636977851,-0.0271792064765274,-0.0139259284228804,-0.0275259096301548,-0.0310452759147059,-0.0324916908209464,-0.0246207475719226,-0.0219952700043601,-0.0321289499109601,-0.0306478334464676,-0.0255489989535514,-0.0290501823937423,-0.0263553163116739,-0.0247036529229565],\"yaxis\":\"y\",\"type\":\"scatter\"}],                        {\"template\":{\"data\":{\"histogram2dcontour\":[{\"type\":\"histogram2dcontour\",\"colorbar\":{\"outlinewidth\":0,\"ticks\":\"\"},\"colorscale\":[[0.0,\"#0d0887\"],[0.1111111111111111,\"#46039f\"],[0.2222222222222222,\"#7201a8\"],[0.3333333333333333,\"#9c179e\"],[0.4444444444444444,\"#bd3786\"],[0.5555555555555556,\"#d8576b\"],[0.6666666666666666,\"#ed7953\"],[0.7777777777777778,\"#fb9f3a\"],[0.8888888888888888,\"#fdca26\"],[1.0,\"#f0f921\"]]}],\"choropleth\":[{\"type\":\"choropleth\",\"colorbar\":{\"outlinewidth\":0,\"ticks\":\"\"}}],\"histogram2d\":[{\"type\":\"histogram2d\",\"colorbar\":{\"outlinewidth\":0,\"ticks\":\"\"},\"colorscale\":[[0.0,\"#0d0887\"],[0.1111111111111111,\"#46039f\"],[0.2222222222222222,\"#7201a8\"],[0.3333333333333333,\"#9c179e\"],[0.4444444444444444,\"#bd3786\"],[0.5555555555555556,\"#d8576b\"],[0.6666666666666666,\"#ed7953\"],[0.7777777777777778,\"#fb9f3a\"],[0.8888888888888888,\"#fdca26\"],[1.0,\"#f0f921\"]]}],\"heatmap\":[{\"type\":\"heatmap\",\"colorbar\":{\"outlinewidth\":0,\"ticks\":\"\"},\"colorscale\":[[0.0,\"#0d0887\"],[0.1111111111111111,\"#46039f\"],[0.2222222222222222,\"#7201a8\"],[0.3333333333333333,\"#9c179e\"],[0.4444444444444444,\"#bd3786\"],[0.5555555555555556,\"#d8576b\"],[0.6666666666666666,\"#ed7953\"],[0.7777777777777778,\"#fb9f3a\"],[0.8888888888888888,\"#fdca26\"],[1.0,\"#f0f921\"]]}],\"heatmapgl\":[{\"type\":\"heatmapgl\",\"colorbar\":{\"outlinewidth\":0,\"ticks\":\"\"},\"colorscale\":[[0.0,\"#0d0887\"],[0.1111111111111111,\"#46039f\"],[0.2222222222222222,\"#7201a8\"],[0.3333333333333333,\"#9c179e\"],[0.4444444444444444,\"#bd3786\"],[0.5555555555555556,\"#d8576b\"],[0.6666666666666666,\"#ed7953\"],[0.7777777777777778,\"#fb9f3a\"],[0.8888888888888888,\"#fdca26\"],[1.0,\"#f0f921\"]]}],\"contourcarpet\":[{\"type\":\"contourcarpet\",\"colorbar\":{\"outlinewidth\":0,\"ticks\":\"\"}}],\"contour\":[{\"type\":\"contour\",\"colorbar\":{\"outlinewidth\":0,\"ticks\":\"\"},\"colorscale\":[[0.0,\"#0d0887\"],[0.1111111111111111,\"#46039f\"],[0.2222222222222222,\"#7201a8\"],[0.3333333333333333,\"#9c179e\"],[0.4444444444444444,\"#bd3786\"],[0.5555555555555556,\"#d8576b\"],[0.6666666666666666,\"#ed7953\"],[0.7777777777777778,\"#fb9f3a\"],[0.8888888888888888,\"#fdca26\"],[1.0,\"#f0f921\"]]}],\"surface\":[{\"type\":\"surface\",\"colorbar\":{\"outlinewidth\":0,\"ticks\":\"\"},\"colorscale\":[[0.0,\"#0d0887\"],[0.1111111111111111,\"#46039f\"],[0.2222222222222222,\"#7201a8\"],[0.3333333333333333,\"#9c179e\"],[0.4444444444444444,\"#bd3786\"],[0.5555555555555556,\"#d8576b\"],[0.6666666666666666,\"#ed7953\"],[0.7777777777777778,\"#fb9f3a\"],[0.8888888888888888,\"#fdca26\"],[1.0,\"#f0f921\"]]}],\"mesh3d\":[{\"type\":\"mesh3d\",\"colorbar\":{\"outlinewidth\":0,\"ticks\":\"\"}}],\"scatter\":[{\"fillpattern\":{\"fillmode\":\"overlay\",\"size\":10,\"solidity\":0.2},\"type\":\"scatter\"}],\"parcoords\":[{\"type\":\"parcoords\",\"line\":{\"colorbar\":{\"outlinewidth\":0,\"ticks\":\"\"}}}],\"scatterpolargl\":[{\"type\":\"scatterpolargl\",\"marker\":{\"colorbar\":{\"outlinewidth\":0,\"ticks\":\"\"}}}],\"bar\":[{\"error_x\":{\"color\":\"#2a3f5f\"},\"error_y\":{\"color\":\"#2a3f5f\"},\"marker\":{\"line\":{\"color\":\"#E5ECF6\",\"width\":0.5},\"pattern\":{\"fillmode\":\"overlay\",\"size\":10,\"solidity\":0.2}},\"type\":\"bar\"}],\"scattergeo\":[{\"type\":\"scattergeo\",\"marker\":{\"colorbar\":{\"outlinewidth\":0,\"ticks\":\"\"}}}],\"scatterpolar\":[{\"type\":\"scatterpolar\",\"marker\":{\"colorbar\":{\"outlinewidth\":0,\"ticks\":\"\"}}}],\"histogram\":[{\"marker\":{\"pattern\":{\"fillmode\":\"overlay\",\"size\":10,\"solidity\":0.2}},\"type\":\"histogram\"}],\"scattergl\":[{\"type\":\"scattergl\",\"marker\":{\"colorbar\":{\"outlinewidth\":0,\"ticks\":\"\"}}}],\"scatter3d\":[{\"type\":\"scatter3d\",\"line\":{\"colorbar\":{\"outlinewidth\":0,\"ticks\":\"\"}},\"marker\":{\"colorbar\":{\"outlinewidth\":0,\"ticks\":\"\"}}}],\"scattermapbox\":[{\"type\":\"scattermapbox\",\"marker\":{\"colorbar\":{\"outlinewidth\":0,\"ticks\":\"\"}}}],\"scatterternary\":[{\"type\":\"scatterternary\",\"marker\":{\"colorbar\":{\"outlinewidth\":0,\"ticks\":\"\"}}}],\"scattercarpet\":[{\"type\":\"scattercarpet\",\"marker\":{\"colorbar\":{\"outlinewidth\":0,\"ticks\":\"\"}}}],\"carpet\":[{\"aaxis\":{\"endlinecolor\":\"#2a3f5f\",\"gridcolor\":\"white\",\"linecolor\":\"white\",\"minorgridcolor\":\"white\",\"startlinecolor\":\"#2a3f5f\"},\"baxis\":{\"endlinecolor\":\"#2a3f5f\",\"gridcolor\":\"white\",\"linecolor\":\"white\",\"minorgridcolor\":\"white\",\"startlinecolor\":\"#2a3f5f\"},\"type\":\"carpet\"}],\"table\":[{\"cells\":{\"fill\":{\"color\":\"#EBF0F8\"},\"line\":{\"color\":\"white\"}},\"header\":{\"fill\":{\"color\":\"#C8D4E3\"},\"line\":{\"color\":\"white\"}},\"type\":\"table\"}],\"barpolar\":[{\"marker\":{\"line\":{\"color\":\"#E5ECF6\",\"width\":0.5},\"pattern\":{\"fillmode\":\"overlay\",\"size\":10,\"solidity\":0.2}},\"type\":\"barpolar\"}],\"pie\":[{\"automargin\":true,\"type\":\"pie\"}]},\"layout\":{\"autotypenumbers\":\"strict\",\"colorway\":[\"#636efa\",\"#EF553B\",\"#00cc96\",\"#ab63fa\",\"#FFA15A\",\"#19d3f3\",\"#FF6692\",\"#B6E880\",\"#FF97FF\",\"#FECB52\"],\"font\":{\"color\":\"#2a3f5f\"},\"hovermode\":\"closest\",\"hoverlabel\":{\"align\":\"left\"},\"paper_bgcolor\":\"white\",\"plot_bgcolor\":\"#E5ECF6\",\"polar\":{\"bgcolor\":\"#E5ECF6\",\"angularaxis\":{\"gridcolor\":\"white\",\"linecolor\":\"white\",\"ticks\":\"\"},\"radialaxis\":{\"gridcolor\":\"white\",\"linecolor\":\"white\",\"ticks\":\"\"}},\"ternary\":{\"bgcolor\":\"#E5ECF6\",\"aaxis\":{\"gridcolor\":\"white\",\"linecolor\":\"white\",\"ticks\":\"\"},\"baxis\":{\"gridcolor\":\"white\",\"linecolor\":\"white\",\"ticks\":\"\"},\"caxis\":{\"gridcolor\":\"white\",\"linecolor\":\"white\",\"ticks\":\"\"}},\"coloraxis\":{\"colorbar\":{\"outlinewidth\":0,\"ticks\":\"\"}},\"colorscale\":{\"sequential\":[[0.0,\"#0d0887\"],[0.1111111111111111,\"#46039f\"],[0.2222222222222222,\"#7201a8\"],[0.3333333333333333,\"#9c179e\"],[0.4444444444444444,\"#bd3786\"],[0.5555555555555556,\"#d8576b\"],[0.6666666666666666,\"#ed7953\"],[0.7777777777777778,\"#fb9f3a\"],[0.8888888888888888,\"#fdca26\"],[1.0,\"#f0f921\"]],\"sequentialminus\":[[0.0,\"#0d0887\"],[0.1111111111111111,\"#46039f\"],[0.2222222222222222,\"#7201a8\"],[0.3333333333333333,\"#9c179e\"],[0.4444444444444444,\"#bd3786\"],[0.5555555555555556,\"#d8576b\"],[0.6666666666666666,\"#ed7953\"],[0.7777777777777778,\"#fb9f3a\"],[0.8888888888888888,\"#fdca26\"],[1.0,\"#f0f921\"]],\"diverging\":[[0,\"#8e0152\"],[0.1,\"#c51b7d\"],[0.2,\"#de77ae\"],[0.3,\"#f1b6da\"],[0.4,\"#fde0ef\"],[0.5,\"#f7f7f7\"],[0.6,\"#e6f5d0\"],[0.7,\"#b8e186\"],[0.8,\"#7fbc41\"],[0.9,\"#4d9221\"],[1,\"#276419\"]]},\"xaxis\":{\"gridcolor\":\"white\",\"linecolor\":\"white\",\"ticks\":\"\",\"title\":{\"standoff\":15},\"zerolinecolor\":\"white\",\"automargin\":true,\"zerolinewidth\":2},\"yaxis\":{\"gridcolor\":\"white\",\"linecolor\":\"white\",\"ticks\":\"\",\"title\":{\"standoff\":15},\"zerolinecolor\":\"white\",\"automargin\":true,\"zerolinewidth\":2},\"scene\":{\"xaxis\":{\"backgroundcolor\":\"#E5ECF6\",\"gridcolor\":\"white\",\"linecolor\":\"white\",\"showbackground\":true,\"ticks\":\"\",\"zerolinecolor\":\"white\",\"gridwidth\":2},\"yaxis\":{\"backgroundcolor\":\"#E5ECF6\",\"gridcolor\":\"white\",\"linecolor\":\"white\",\"showbackground\":true,\"ticks\":\"\",\"zerolinecolor\":\"white\",\"gridwidth\":2},\"zaxis\":{\"backgroundcolor\":\"#E5ECF6\",\"gridcolor\":\"white\",\"linecolor\":\"white\",\"showbackground\":true,\"ticks\":\"\",\"zerolinecolor\":\"white\",\"gridwidth\":2}},\"shapedefaults\":{\"line\":{\"color\":\"#2a3f5f\"}},\"annotationdefaults\":{\"arrowcolor\":\"#2a3f5f\",\"arrowhead\":0,\"arrowwidth\":1},\"geo\":{\"bgcolor\":\"white\",\"landcolor\":\"#E5ECF6\",\"subunitcolor\":\"white\",\"showland\":true,\"showlakes\":true,\"lakecolor\":\"white\"},\"title\":{\"x\":0.05},\"mapbox\":{\"style\":\"light\"}}},\"xaxis\":{\"anchor\":\"y\",\"domain\":[0.0,1.0],\"title\":{\"text\":\"Iterations\"}},\"yaxis\":{\"anchor\":\"x\",\"domain\":[0.0,1.0],\"title\":{\"text\":\"Training Policy Gradient Loss\"}},\"legend\":{\"tracegroupgap\":0},\"title\":{\"text\":\"Training Policy Gradient Loss vs Iterations\"}},                        {\"responsive\": true}                    ).then(function(){\n",
       "                            \n",
       "var gd = document.getElementById('64f64188-0a0b-4aa6-9234-34d886a7c5d4');\n",
       "var x = new MutationObserver(function (mutations, observer) {{\n",
       "        var display = window.getComputedStyle(gd).display;\n",
       "        if (!display || display === 'none') {{\n",
       "            console.log([gd, 'removed!']);\n",
       "            Plotly.purge(gd);\n",
       "            observer.disconnect();\n",
       "        }}\n",
       "}});\n",
       "\n",
       "// Listen for the removal of the full notebook cells\n",
       "var notebookContainer = gd.closest('#notebook-container');\n",
       "if (notebookContainer) {{\n",
       "    x.observe(notebookContainer, {childList: true});\n",
       "}}\n",
       "\n",
       "// Listen for the clearing of the current output cell\n",
       "var outputEl = gd.closest('.output');\n",
       "if (outputEl) {{\n",
       "    x.observe(outputEl, {childList: true});\n",
       "}}\n",
       "\n",
       "                        })                };                });            </script>        </div>"
      ]
     },
     "metadata": {},
     "output_type": "display_data"
    }
   ],
   "source": [
    "fig = px.line(df, x='time/iterations', y='train/policy_gradient_loss', \n",
    "              title='Training Policy Gradient Loss vs Iterations',\n",
    "              labels={'time/iterations': 'Iterations', 'train/policy_gradient_loss': 'Training Policy Gradient Loss'})\n",
    "fig.show()"
   ]
  },
  {
   "cell_type": "code",
   "execution_count": 8,
   "metadata": {},
   "outputs": [
    {
     "data": {
      "application/vnd.plotly.v1+json": {
       "config": {
        "plotlyServerURL": "https://plot.ly"
       },
       "data": [
        {
         "hovertemplate": "Iterations=%{x}<br>Training Explained Variance=%{y}<extra></extra>",
         "legendgroup": "",
         "line": {
          "color": "#636efa",
          "dash": "solid"
         },
         "marker": {
          "symbol": "circle"
         },
         "mode": "lines",
         "name": "",
         "orientation": "v",
         "showlegend": false,
         "type": "scatter",
         "x": [
          1,
          2,
          3,
          4,
          5,
          6,
          7,
          8,
          9,
          10,
          11,
          12,
          13,
          14,
          15,
          16,
          17,
          18,
          19,
          20,
          21,
          22,
          23,
          24,
          25,
          26,
          27,
          28,
          29,
          30,
          31,
          32,
          33,
          34,
          35,
          36,
          37,
          38,
          39,
          40,
          41,
          42,
          43,
          44,
          45,
          46,
          47,
          48,
          49,
          50,
          51,
          52,
          53,
          54,
          55,
          56,
          57,
          58,
          59,
          60,
          61,
          62,
          63,
          64,
          65,
          66,
          67,
          68,
          69,
          70,
          71,
          72,
          73,
          74,
          75,
          76,
          77,
          78,
          79,
          80,
          81,
          82,
          83,
          84,
          85,
          86,
          87,
          88,
          89,
          90,
          91,
          92,
          93,
          94,
          95,
          96,
          97,
          98,
          99,
          100,
          101,
          102,
          103,
          104,
          105,
          106,
          107,
          108,
          109,
          110,
          111,
          112,
          113,
          114,
          115,
          116,
          117,
          118,
          119,
          120,
          121,
          122,
          123,
          124,
          125,
          126,
          127,
          128,
          129,
          130,
          131,
          132,
          133,
          134,
          135,
          136,
          137,
          138,
          139,
          140,
          141,
          142,
          143,
          144,
          145,
          146,
          147,
          148,
          149,
          150,
          151,
          152,
          153,
          154,
          155,
          156,
          157,
          158,
          159,
          160,
          161,
          162,
          163,
          164,
          165,
          166,
          167,
          168,
          169,
          170,
          171,
          172,
          173,
          174,
          175,
          176,
          177,
          178,
          179,
          180,
          181,
          182,
          183,
          184,
          185,
          186,
          187,
          188,
          189,
          190,
          191,
          192,
          193,
          194,
          195,
          196,
          197,
          198,
          199,
          200,
          201,
          202,
          203,
          204,
          205,
          206,
          207,
          208,
          209,
          210,
          211,
          212,
          213,
          214,
          215,
          216,
          217,
          218,
          219,
          220,
          221,
          222,
          223,
          224,
          225,
          226,
          227,
          228,
          229,
          230,
          231,
          232,
          233,
          234,
          235,
          236,
          237,
          238,
          239,
          240,
          241,
          242,
          243,
          244,
          245,
          246,
          247,
          248,
          249,
          250,
          251,
          252,
          253,
          254,
          255,
          256,
          257,
          258,
          259,
          260,
          261,
          262,
          263,
          264,
          265,
          266,
          267,
          268,
          269,
          270,
          271,
          272,
          273,
          274,
          275,
          276,
          277,
          278,
          279,
          280,
          281,
          282,
          283,
          284,
          285,
          286,
          287,
          288,
          289,
          290,
          291,
          292,
          293,
          294,
          295,
          296,
          297,
          298,
          299,
          300,
          301,
          302,
          303,
          304,
          305,
          306,
          307,
          308,
          309,
          310,
          311,
          312,
          313,
          314,
          315,
          316,
          317,
          318,
          319,
          320,
          321,
          322,
          323,
          324,
          325,
          326,
          327,
          328,
          329,
          330,
          331,
          332,
          333,
          334,
          335,
          336,
          337,
          338,
          339,
          340,
          341,
          342,
          343,
          344,
          345,
          346,
          347,
          348,
          349,
          350,
          351,
          352,
          353,
          354,
          355,
          356,
          357,
          358,
          359,
          360,
          361,
          362,
          363,
          364,
          365,
          366,
          367,
          368,
          369,
          370,
          371,
          372,
          373,
          374,
          375,
          376,
          377,
          378,
          379,
          380,
          381,
          382,
          383,
          384,
          385,
          386,
          387,
          388,
          389,
          390,
          391
         ],
         "xaxis": "x",
         "y": [
          null,
          -0.0003979206085205,
          0.2167984843254089,
          0.3353107571601867,
          0.0963971614837646,
          0.3086898326873779,
          0.2713978886604309,
          0.3890378475189209,
          0.2219143509864807,
          0.3688090443611145,
          0.0941917896270752,
          0.2262203097343444,
          0.3312367796897888,
          0.1719578504562378,
          0.0595418810844421,
          0.2647847533226013,
          0.4844902157783508,
          0.3652465343475342,
          0.2194191217422485,
          0.5055394470691681,
          0.5236538648605347,
          0.3775784373283386,
          0.4928819537162781,
          0.1744406819343567,
          0.6506046652793884,
          0.6009542346000671,
          0.6633291244506836,
          0.7425987720489502,
          0.5083071887493134,
          0.5384291708469391,
          0.5589316487312317,
          0.5869792401790619,
          0.5720830857753754,
          0.6327219307422638,
          0.6162563860416412,
          0.371623694896698,
          0.5339715480804443,
          0.5050859749317169,
          0.682758092880249,
          0.72996786236763,
          0.6029098331928253,
          0.4958506226539612,
          0.6368132531642914,
          0.7498270273208618,
          0.5171226859092712,
          0.503408282995224,
          0.2830730676651001,
          0.5213115215301514,
          0.6355023980140686,
          0.5115379989147186,
          0.3946156501770019,
          0.6068203747272491,
          0.4149026274681091,
          0.5015143156051636,
          0.5694071650505066,
          0.5748104453086853,
          0.639641672372818,
          0.4010213613510132,
          0.605470597743988,
          0.6204226613044739,
          0.6556531488895416,
          0.611626923084259,
          0.6762105226516724,
          0.5401968359947205,
          0.6936810612678528,
          0.7029550671577454,
          0.5620889067649841,
          0.5737622976303101,
          0.559078723192215,
          0.5632692575454712,
          0.5417720973491669,
          0.6946813464164734,
          0.6693775951862335,
          0.7412337958812714,
          0.7289566099643707,
          0.7143993377685547,
          0.7631031572818756,
          0.7357085347175598,
          0.7299633324146271,
          0.5128471255302429,
          0.7347679734230042,
          0.700152188539505,
          0.7012822329998016,
          0.8029971122741699,
          0.7461660802364349,
          0.7896650582551956,
          0.436978280544281,
          0.7211922109127045,
          0.7305083274841309,
          0.7660096138715744,
          0.8295703530311584,
          0.8278369903564453,
          0.8379077613353729,
          0.8418563157320023,
          0.7810184955596924,
          0.8534582704305649,
          0.8114977777004242,
          0.8642368912696838,
          0.8412500470876694,
          0.8854304477572441,
          0.816941648721695,
          0.8490149825811386,
          0.795350968837738,
          0.7567121833562851,
          0.6873874664306641,
          0.7254229485988617,
          0.6494123339653015,
          0.7325607538223267,
          0.7250410616397858,
          0.6925612390041351,
          0.6039636135101318,
          0.8249038904905319,
          0.7998230457305908,
          0.5349443852901459,
          0.5756821036338806,
          0.7358195781707764,
          0.8728998154401779,
          0.666198194026947,
          0.6525841653347015,
          0.5386655926704407,
          0.8272050023078918,
          0.8792384564876556,
          0.7828135043382645,
          0.6790908575057983,
          0.8750820979475975,
          0.8700517863035202,
          0.7602587938308716,
          0.7846465408802032,
          0.7985142171382904,
          0.7716710418462753,
          0.8154364377260208,
          0.611723929643631,
          0.8632000833749771,
          0.8499575704336166,
          0.8730559796094894,
          0.8377947211265564,
          0.8006539940834045,
          0.7447115182876587,
          0.8826495110988617,
          0.9140603989362716,
          0.8580743968486786,
          0.8726992756128311,
          0.8892971277236938,
          0.8422764390707016,
          0.8756569102406502,
          0.8639311343431473,
          0.9062357097864152,
          0.907923437654972,
          0.8618920147418976,
          0.894977018237114,
          0.8620789498090744,
          0.8176272660493851,
          0.8686442077159882,
          0.8540682345628738,
          0.8120199143886566,
          0.8118453472852707,
          0.8413787186145782,
          0.8578040450811386,
          0.8930151090025902,
          0.8959581926465034,
          0.8840274512767792,
          0.8440136015415192,
          0.90318663418293,
          0.8841017484664917,
          0.8998099863529205,
          0.891743890941143,
          0.9186750948429108,
          0.8810047060251236,
          0.9206121489405632,
          0.8761718198657036,
          0.874978706240654,
          0.9163393303751944,
          0.9118296429514884,
          0.8784526437520981,
          0.8964361250400543,
          0.9235577136278152,
          0.8454597443342209,
          0.8584483712911606,
          0.9169888347387314,
          0.7845678627490997,
          0.846998006105423,
          0.8834727928042412,
          0.8446122109889984,
          0.8711128830909729,
          0.7943001985549927,
          0.8929820880293846,
          0.9325337186455728,
          0.9010383859276772,
          0.8981733471155167,
          0.9186272248625756,
          0.903075821697712,
          0.8659854382276535,
          0.9109243750572203,
          0.8963849321007729,
          0.9115354269742966,
          0.8978145346045494,
          0.9024793952703476,
          0.8940183222293854,
          0.892487607896328,
          0.8977182134985924,
          0.8821360841393471,
          0.8999847695231438,
          0.8785903230309486,
          0.8739570379257202,
          0.9084580168128014,
          0.9231038764119148,
          0.910111017525196,
          0.8792240917682648,
          0.8843795508146286,
          0.8807345107197762,
          0.8999017849564552,
          0.8928640112280846,
          0.8905238583683968,
          0.9004242792725563,
          0.8945444151759148,
          0.8221934139728546,
          0.8793359473347664,
          0.8651715368032455,
          0.8988558650016785,
          0.8174966722726822,
          0.873576283454895,
          0.8949594125151634,
          0.810026153922081,
          0.8629767894744873,
          0.878140777349472,
          0.853498637676239,
          0.8740899413824081,
          0.9009140580892564,
          0.8743727207183838,
          0.9012336730957032,
          0.8871011659502983,
          0.9271033406257628,
          0.891226515173912,
          0.8738994598388672,
          0.9218787625432014,
          0.9070853143930436,
          0.915733776986599,
          0.933475747704506,
          0.9307968840003014,
          0.9304540604352952,
          0.9281191453337668,
          0.9261429533362388,
          0.932041361927986,
          0.921261303126812,
          0.933249682188034,
          0.7373613715171814,
          0.8808769732713699,
          0.8547745198011398,
          0.8959237039089203,
          0.8653005659580231,
          0.9057991355657578,
          0.8867600783705711,
          0.902055650949478,
          0.8725300431251526,
          0.8921748772263527,
          0.909056082367897,
          0.8506813943386078,
          0.8751287013292313,
          0.8974987417459488,
          0.8947506099939346,
          0.9098982438445092,
          0.7179100215435028,
          0.9040535241365432,
          0.9127085134387016,
          0.8851274624466896,
          0.8840484395623207,
          0.8967523872852325,
          0.9025842547416688,
          0.9112752676010132,
          0.8407808393239975,
          0.8910843804478645,
          0.8311008512973785,
          0.8820473551750183,
          0.856809601187706,
          0.8525334745645523,
          0.8722250759601593,
          0.8668415695428848,
          0.8955685645341873,
          0.8357684761285782,
          0.7914224117994308,
          0.8519960790872574,
          0.8653017431497574,
          0.8252644389867783,
          0.8053244650363922,
          0.8797915354371071,
          0.9021769762039183,
          0.8196951746940613,
          0.7325171828269958,
          0.8969635888934135,
          0.8649572134017944,
          0.7953484505414963,
          0.8392670303583145,
          0.8593857437372208,
          0.86014823615551,
          0.8566824793815613,
          0.8515362739562988,
          0.8772190511226654,
          0.8833524882793427,
          0.9034108147025108,
          0.8864978030323982,
          0.9124255999922752,
          0.8328983932733536,
          0.807032898068428,
          0.8204492181539536,
          0.8586791604757309,
          0.749243289232254,
          0.8466890454292297,
          0.8698282986879349,
          0.8866642042994499,
          0.8870983272790909,
          0.8532804101705551,
          0.8412356078624725,
          0.7492163777351379,
          0.8676591366529465,
          0.7576161324977875,
          0.6966645419597626,
          0.808404415845871,
          0.7523186355829239,
          0.8213269412517548,
          0.7552401423454285,
          0.8351558148860931,
          0.8731594532728195,
          0.8403903096914291,
          0.7801573127508163,
          0.8697549104690552,
          0.887379452586174,
          0.7892859429121017,
          0.8633246868848801,
          0.909802995622158,
          0.776392862200737,
          0.7189641892910004,
          0.8346226513385773,
          0.6771182417869568,
          0.8186536729335785,
          0.8567347079515457,
          0.7193290889263153,
          0.740344226360321,
          0.6654427945613861,
          0.363709032535553,
          0.4868918657302856,
          0.4459156990051269,
          0.6509616076946259,
          0.5646732747554779,
          0.7232365310192108,
          0.7778315246105194,
          0.7272956371307373,
          0.8335058689117432,
          0.8411435484886169,
          0.8373278230428696,
          0.7703638821840286,
          0.8771412298083305,
          0.6812261044979095,
          0.7704620510339737,
          0.828150600194931,
          0.8722326904535294,
          0.827458918094635,
          0.8314754664897919,
          0.8949444890022278,
          0.8785511553287506,
          0.8782868385314941,
          0.8904952555894852,
          0.7822741121053696,
          0.8904937207698822,
          0.9072453007102012,
          0.9053575322031976,
          0.897113747894764,
          0.8958351612091064,
          0.8972143158316612,
          0.8867807313799858,
          0.8030769675970078,
          0.8962483257055283,
          0.872222438454628,
          0.8974472656846046,
          0.8398018479347229,
          0.8781735301017761,
          0.8153803050518036,
          0.8440076112747192,
          0.8912832960486412,
          0.8410104513168335,
          0.8603595793247223,
          0.8113944381475449,
          0.5237787961959839,
          0.7991066724061966,
          0.7159026265144348,
          0.7860011607408524,
          0.8236341923475266,
          0.7400485575199127,
          0.8616705238819122,
          0.6177950799465179,
          0.7541846930980682,
          0.7635842561721802
         ],
         "yaxis": "y"
        }
       ],
       "layout": {
        "legend": {
         "tracegroupgap": 0
        },
        "template": {
         "data": {
          "bar": [
           {
            "error_x": {
             "color": "#2a3f5f"
            },
            "error_y": {
             "color": "#2a3f5f"
            },
            "marker": {
             "line": {
              "color": "#E5ECF6",
              "width": 0.5
             },
             "pattern": {
              "fillmode": "overlay",
              "size": 10,
              "solidity": 0.2
             }
            },
            "type": "bar"
           }
          ],
          "barpolar": [
           {
            "marker": {
             "line": {
              "color": "#E5ECF6",
              "width": 0.5
             },
             "pattern": {
              "fillmode": "overlay",
              "size": 10,
              "solidity": 0.2
             }
            },
            "type": "barpolar"
           }
          ],
          "carpet": [
           {
            "aaxis": {
             "endlinecolor": "#2a3f5f",
             "gridcolor": "white",
             "linecolor": "white",
             "minorgridcolor": "white",
             "startlinecolor": "#2a3f5f"
            },
            "baxis": {
             "endlinecolor": "#2a3f5f",
             "gridcolor": "white",
             "linecolor": "white",
             "minorgridcolor": "white",
             "startlinecolor": "#2a3f5f"
            },
            "type": "carpet"
           }
          ],
          "choropleth": [
           {
            "colorbar": {
             "outlinewidth": 0,
             "ticks": ""
            },
            "type": "choropleth"
           }
          ],
          "contour": [
           {
            "colorbar": {
             "outlinewidth": 0,
             "ticks": ""
            },
            "colorscale": [
             [
              0,
              "#0d0887"
             ],
             [
              0.1111111111111111,
              "#46039f"
             ],
             [
              0.2222222222222222,
              "#7201a8"
             ],
             [
              0.3333333333333333,
              "#9c179e"
             ],
             [
              0.4444444444444444,
              "#bd3786"
             ],
             [
              0.5555555555555556,
              "#d8576b"
             ],
             [
              0.6666666666666666,
              "#ed7953"
             ],
             [
              0.7777777777777778,
              "#fb9f3a"
             ],
             [
              0.8888888888888888,
              "#fdca26"
             ],
             [
              1,
              "#f0f921"
             ]
            ],
            "type": "contour"
           }
          ],
          "contourcarpet": [
           {
            "colorbar": {
             "outlinewidth": 0,
             "ticks": ""
            },
            "type": "contourcarpet"
           }
          ],
          "heatmap": [
           {
            "colorbar": {
             "outlinewidth": 0,
             "ticks": ""
            },
            "colorscale": [
             [
              0,
              "#0d0887"
             ],
             [
              0.1111111111111111,
              "#46039f"
             ],
             [
              0.2222222222222222,
              "#7201a8"
             ],
             [
              0.3333333333333333,
              "#9c179e"
             ],
             [
              0.4444444444444444,
              "#bd3786"
             ],
             [
              0.5555555555555556,
              "#d8576b"
             ],
             [
              0.6666666666666666,
              "#ed7953"
             ],
             [
              0.7777777777777778,
              "#fb9f3a"
             ],
             [
              0.8888888888888888,
              "#fdca26"
             ],
             [
              1,
              "#f0f921"
             ]
            ],
            "type": "heatmap"
           }
          ],
          "heatmapgl": [
           {
            "colorbar": {
             "outlinewidth": 0,
             "ticks": ""
            },
            "colorscale": [
             [
              0,
              "#0d0887"
             ],
             [
              0.1111111111111111,
              "#46039f"
             ],
             [
              0.2222222222222222,
              "#7201a8"
             ],
             [
              0.3333333333333333,
              "#9c179e"
             ],
             [
              0.4444444444444444,
              "#bd3786"
             ],
             [
              0.5555555555555556,
              "#d8576b"
             ],
             [
              0.6666666666666666,
              "#ed7953"
             ],
             [
              0.7777777777777778,
              "#fb9f3a"
             ],
             [
              0.8888888888888888,
              "#fdca26"
             ],
             [
              1,
              "#f0f921"
             ]
            ],
            "type": "heatmapgl"
           }
          ],
          "histogram": [
           {
            "marker": {
             "pattern": {
              "fillmode": "overlay",
              "size": 10,
              "solidity": 0.2
             }
            },
            "type": "histogram"
           }
          ],
          "histogram2d": [
           {
            "colorbar": {
             "outlinewidth": 0,
             "ticks": ""
            },
            "colorscale": [
             [
              0,
              "#0d0887"
             ],
             [
              0.1111111111111111,
              "#46039f"
             ],
             [
              0.2222222222222222,
              "#7201a8"
             ],
             [
              0.3333333333333333,
              "#9c179e"
             ],
             [
              0.4444444444444444,
              "#bd3786"
             ],
             [
              0.5555555555555556,
              "#d8576b"
             ],
             [
              0.6666666666666666,
              "#ed7953"
             ],
             [
              0.7777777777777778,
              "#fb9f3a"
             ],
             [
              0.8888888888888888,
              "#fdca26"
             ],
             [
              1,
              "#f0f921"
             ]
            ],
            "type": "histogram2d"
           }
          ],
          "histogram2dcontour": [
           {
            "colorbar": {
             "outlinewidth": 0,
             "ticks": ""
            },
            "colorscale": [
             [
              0,
              "#0d0887"
             ],
             [
              0.1111111111111111,
              "#46039f"
             ],
             [
              0.2222222222222222,
              "#7201a8"
             ],
             [
              0.3333333333333333,
              "#9c179e"
             ],
             [
              0.4444444444444444,
              "#bd3786"
             ],
             [
              0.5555555555555556,
              "#d8576b"
             ],
             [
              0.6666666666666666,
              "#ed7953"
             ],
             [
              0.7777777777777778,
              "#fb9f3a"
             ],
             [
              0.8888888888888888,
              "#fdca26"
             ],
             [
              1,
              "#f0f921"
             ]
            ],
            "type": "histogram2dcontour"
           }
          ],
          "mesh3d": [
           {
            "colorbar": {
             "outlinewidth": 0,
             "ticks": ""
            },
            "type": "mesh3d"
           }
          ],
          "parcoords": [
           {
            "line": {
             "colorbar": {
              "outlinewidth": 0,
              "ticks": ""
             }
            },
            "type": "parcoords"
           }
          ],
          "pie": [
           {
            "automargin": true,
            "type": "pie"
           }
          ],
          "scatter": [
           {
            "fillpattern": {
             "fillmode": "overlay",
             "size": 10,
             "solidity": 0.2
            },
            "type": "scatter"
           }
          ],
          "scatter3d": [
           {
            "line": {
             "colorbar": {
              "outlinewidth": 0,
              "ticks": ""
             }
            },
            "marker": {
             "colorbar": {
              "outlinewidth": 0,
              "ticks": ""
             }
            },
            "type": "scatter3d"
           }
          ],
          "scattercarpet": [
           {
            "marker": {
             "colorbar": {
              "outlinewidth": 0,
              "ticks": ""
             }
            },
            "type": "scattercarpet"
           }
          ],
          "scattergeo": [
           {
            "marker": {
             "colorbar": {
              "outlinewidth": 0,
              "ticks": ""
             }
            },
            "type": "scattergeo"
           }
          ],
          "scattergl": [
           {
            "marker": {
             "colorbar": {
              "outlinewidth": 0,
              "ticks": ""
             }
            },
            "type": "scattergl"
           }
          ],
          "scattermapbox": [
           {
            "marker": {
             "colorbar": {
              "outlinewidth": 0,
              "ticks": ""
             }
            },
            "type": "scattermapbox"
           }
          ],
          "scatterpolar": [
           {
            "marker": {
             "colorbar": {
              "outlinewidth": 0,
              "ticks": ""
             }
            },
            "type": "scatterpolar"
           }
          ],
          "scatterpolargl": [
           {
            "marker": {
             "colorbar": {
              "outlinewidth": 0,
              "ticks": ""
             }
            },
            "type": "scatterpolargl"
           }
          ],
          "scatterternary": [
           {
            "marker": {
             "colorbar": {
              "outlinewidth": 0,
              "ticks": ""
             }
            },
            "type": "scatterternary"
           }
          ],
          "surface": [
           {
            "colorbar": {
             "outlinewidth": 0,
             "ticks": ""
            },
            "colorscale": [
             [
              0,
              "#0d0887"
             ],
             [
              0.1111111111111111,
              "#46039f"
             ],
             [
              0.2222222222222222,
              "#7201a8"
             ],
             [
              0.3333333333333333,
              "#9c179e"
             ],
             [
              0.4444444444444444,
              "#bd3786"
             ],
             [
              0.5555555555555556,
              "#d8576b"
             ],
             [
              0.6666666666666666,
              "#ed7953"
             ],
             [
              0.7777777777777778,
              "#fb9f3a"
             ],
             [
              0.8888888888888888,
              "#fdca26"
             ],
             [
              1,
              "#f0f921"
             ]
            ],
            "type": "surface"
           }
          ],
          "table": [
           {
            "cells": {
             "fill": {
              "color": "#EBF0F8"
             },
             "line": {
              "color": "white"
             }
            },
            "header": {
             "fill": {
              "color": "#C8D4E3"
             },
             "line": {
              "color": "white"
             }
            },
            "type": "table"
           }
          ]
         },
         "layout": {
          "annotationdefaults": {
           "arrowcolor": "#2a3f5f",
           "arrowhead": 0,
           "arrowwidth": 1
          },
          "autotypenumbers": "strict",
          "coloraxis": {
           "colorbar": {
            "outlinewidth": 0,
            "ticks": ""
           }
          },
          "colorscale": {
           "diverging": [
            [
             0,
             "#8e0152"
            ],
            [
             0.1,
             "#c51b7d"
            ],
            [
             0.2,
             "#de77ae"
            ],
            [
             0.3,
             "#f1b6da"
            ],
            [
             0.4,
             "#fde0ef"
            ],
            [
             0.5,
             "#f7f7f7"
            ],
            [
             0.6,
             "#e6f5d0"
            ],
            [
             0.7,
             "#b8e186"
            ],
            [
             0.8,
             "#7fbc41"
            ],
            [
             0.9,
             "#4d9221"
            ],
            [
             1,
             "#276419"
            ]
           ],
           "sequential": [
            [
             0,
             "#0d0887"
            ],
            [
             0.1111111111111111,
             "#46039f"
            ],
            [
             0.2222222222222222,
             "#7201a8"
            ],
            [
             0.3333333333333333,
             "#9c179e"
            ],
            [
             0.4444444444444444,
             "#bd3786"
            ],
            [
             0.5555555555555556,
             "#d8576b"
            ],
            [
             0.6666666666666666,
             "#ed7953"
            ],
            [
             0.7777777777777778,
             "#fb9f3a"
            ],
            [
             0.8888888888888888,
             "#fdca26"
            ],
            [
             1,
             "#f0f921"
            ]
           ],
           "sequentialminus": [
            [
             0,
             "#0d0887"
            ],
            [
             0.1111111111111111,
             "#46039f"
            ],
            [
             0.2222222222222222,
             "#7201a8"
            ],
            [
             0.3333333333333333,
             "#9c179e"
            ],
            [
             0.4444444444444444,
             "#bd3786"
            ],
            [
             0.5555555555555556,
             "#d8576b"
            ],
            [
             0.6666666666666666,
             "#ed7953"
            ],
            [
             0.7777777777777778,
             "#fb9f3a"
            ],
            [
             0.8888888888888888,
             "#fdca26"
            ],
            [
             1,
             "#f0f921"
            ]
           ]
          },
          "colorway": [
           "#636efa",
           "#EF553B",
           "#00cc96",
           "#ab63fa",
           "#FFA15A",
           "#19d3f3",
           "#FF6692",
           "#B6E880",
           "#FF97FF",
           "#FECB52"
          ],
          "font": {
           "color": "#2a3f5f"
          },
          "geo": {
           "bgcolor": "white",
           "lakecolor": "white",
           "landcolor": "#E5ECF6",
           "showlakes": true,
           "showland": true,
           "subunitcolor": "white"
          },
          "hoverlabel": {
           "align": "left"
          },
          "hovermode": "closest",
          "mapbox": {
           "style": "light"
          },
          "paper_bgcolor": "white",
          "plot_bgcolor": "#E5ECF6",
          "polar": {
           "angularaxis": {
            "gridcolor": "white",
            "linecolor": "white",
            "ticks": ""
           },
           "bgcolor": "#E5ECF6",
           "radialaxis": {
            "gridcolor": "white",
            "linecolor": "white",
            "ticks": ""
           }
          },
          "scene": {
           "xaxis": {
            "backgroundcolor": "#E5ECF6",
            "gridcolor": "white",
            "gridwidth": 2,
            "linecolor": "white",
            "showbackground": true,
            "ticks": "",
            "zerolinecolor": "white"
           },
           "yaxis": {
            "backgroundcolor": "#E5ECF6",
            "gridcolor": "white",
            "gridwidth": 2,
            "linecolor": "white",
            "showbackground": true,
            "ticks": "",
            "zerolinecolor": "white"
           },
           "zaxis": {
            "backgroundcolor": "#E5ECF6",
            "gridcolor": "white",
            "gridwidth": 2,
            "linecolor": "white",
            "showbackground": true,
            "ticks": "",
            "zerolinecolor": "white"
           }
          },
          "shapedefaults": {
           "line": {
            "color": "#2a3f5f"
           }
          },
          "ternary": {
           "aaxis": {
            "gridcolor": "white",
            "linecolor": "white",
            "ticks": ""
           },
           "baxis": {
            "gridcolor": "white",
            "linecolor": "white",
            "ticks": ""
           },
           "bgcolor": "#E5ECF6",
           "caxis": {
            "gridcolor": "white",
            "linecolor": "white",
            "ticks": ""
           }
          },
          "title": {
           "x": 0.05
          },
          "xaxis": {
           "automargin": true,
           "gridcolor": "white",
           "linecolor": "white",
           "ticks": "",
           "title": {
            "standoff": 15
           },
           "zerolinecolor": "white",
           "zerolinewidth": 2
          },
          "yaxis": {
           "automargin": true,
           "gridcolor": "white",
           "linecolor": "white",
           "ticks": "",
           "title": {
            "standoff": 15
           },
           "zerolinecolor": "white",
           "zerolinewidth": 2
          }
         }
        },
        "title": {
         "text": "Training Explained Variance vs Iterations"
        },
        "xaxis": {
         "anchor": "y",
         "domain": [
          0,
          1
         ],
         "title": {
          "text": "Iterations"
         }
        },
        "yaxis": {
         "anchor": "x",
         "domain": [
          0,
          1
         ],
         "title": {
          "text": "Training Explained Variance"
         }
        }
       }
      },
      "text/html": [
       "<div>                            <div id=\"5144a054-09f7-4ea3-822a-f561a4751f39\" class=\"plotly-graph-div\" style=\"height:525px; width:100%;\"></div>            <script type=\"text/javascript\">                require([\"plotly\"], function(Plotly) {                    window.PLOTLYENV=window.PLOTLYENV || {};                                    if (document.getElementById(\"5144a054-09f7-4ea3-822a-f561a4751f39\")) {                    Plotly.newPlot(                        \"5144a054-09f7-4ea3-822a-f561a4751f39\",                        [{\"hovertemplate\":\"Iterations=%{x}\\u003cbr\\u003eTraining Explained Variance=%{y}\\u003cextra\\u003e\\u003c\\u002fextra\\u003e\",\"legendgroup\":\"\",\"line\":{\"color\":\"#636efa\",\"dash\":\"solid\"},\"marker\":{\"symbol\":\"circle\"},\"mode\":\"lines\",\"name\":\"\",\"orientation\":\"v\",\"showlegend\":false,\"x\":[1,2,3,4,5,6,7,8,9,10,11,12,13,14,15,16,17,18,19,20,21,22,23,24,25,26,27,28,29,30,31,32,33,34,35,36,37,38,39,40,41,42,43,44,45,46,47,48,49,50,51,52,53,54,55,56,57,58,59,60,61,62,63,64,65,66,67,68,69,70,71,72,73,74,75,76,77,78,79,80,81,82,83,84,85,86,87,88,89,90,91,92,93,94,95,96,97,98,99,100,101,102,103,104,105,106,107,108,109,110,111,112,113,114,115,116,117,118,119,120,121,122,123,124,125,126,127,128,129,130,131,132,133,134,135,136,137,138,139,140,141,142,143,144,145,146,147,148,149,150,151,152,153,154,155,156,157,158,159,160,161,162,163,164,165,166,167,168,169,170,171,172,173,174,175,176,177,178,179,180,181,182,183,184,185,186,187,188,189,190,191,192,193,194,195,196,197,198,199,200,201,202,203,204,205,206,207,208,209,210,211,212,213,214,215,216,217,218,219,220,221,222,223,224,225,226,227,228,229,230,231,232,233,234,235,236,237,238,239,240,241,242,243,244,245,246,247,248,249,250,251,252,253,254,255,256,257,258,259,260,261,262,263,264,265,266,267,268,269,270,271,272,273,274,275,276,277,278,279,280,281,282,283,284,285,286,287,288,289,290,291,292,293,294,295,296,297,298,299,300,301,302,303,304,305,306,307,308,309,310,311,312,313,314,315,316,317,318,319,320,321,322,323,324,325,326,327,328,329,330,331,332,333,334,335,336,337,338,339,340,341,342,343,344,345,346,347,348,349,350,351,352,353,354,355,356,357,358,359,360,361,362,363,364,365,366,367,368,369,370,371,372,373,374,375,376,377,378,379,380,381,382,383,384,385,386,387,388,389,390,391],\"xaxis\":\"x\",\"y\":[null,-0.0003979206085205,0.2167984843254089,0.3353107571601867,0.0963971614837646,0.3086898326873779,0.2713978886604309,0.3890378475189209,0.2219143509864807,0.3688090443611145,0.0941917896270752,0.2262203097343444,0.3312367796897888,0.1719578504562378,0.0595418810844421,0.2647847533226013,0.4844902157783508,0.3652465343475342,0.2194191217422485,0.5055394470691681,0.5236538648605347,0.3775784373283386,0.4928819537162781,0.1744406819343567,0.6506046652793884,0.6009542346000671,0.6633291244506836,0.7425987720489502,0.5083071887493134,0.5384291708469391,0.5589316487312317,0.5869792401790619,0.5720830857753754,0.6327219307422638,0.6162563860416412,0.371623694896698,0.5339715480804443,0.5050859749317169,0.682758092880249,0.72996786236763,0.6029098331928253,0.4958506226539612,0.6368132531642914,0.7498270273208618,0.5171226859092712,0.503408282995224,0.2830730676651001,0.5213115215301514,0.6355023980140686,0.5115379989147186,0.3946156501770019,0.6068203747272491,0.4149026274681091,0.5015143156051636,0.5694071650505066,0.5748104453086853,0.639641672372818,0.4010213613510132,0.605470597743988,0.6204226613044739,0.6556531488895416,0.611626923084259,0.6762105226516724,0.5401968359947205,0.6936810612678528,0.7029550671577454,0.5620889067649841,0.5737622976303101,0.559078723192215,0.5632692575454712,0.5417720973491669,0.6946813464164734,0.6693775951862335,0.7412337958812714,0.7289566099643707,0.7143993377685547,0.7631031572818756,0.7357085347175598,0.7299633324146271,0.5128471255302429,0.7347679734230042,0.700152188539505,0.7012822329998016,0.8029971122741699,0.7461660802364349,0.7896650582551956,0.436978280544281,0.7211922109127045,0.7305083274841309,0.7660096138715744,0.8295703530311584,0.8278369903564453,0.8379077613353729,0.8418563157320023,0.7810184955596924,0.8534582704305649,0.8114977777004242,0.8642368912696838,0.8412500470876694,0.8854304477572441,0.816941648721695,0.8490149825811386,0.795350968837738,0.7567121833562851,0.6873874664306641,0.7254229485988617,0.6494123339653015,0.7325607538223267,0.7250410616397858,0.6925612390041351,0.6039636135101318,0.8249038904905319,0.7998230457305908,0.5349443852901459,0.5756821036338806,0.7358195781707764,0.8728998154401779,0.666198194026947,0.6525841653347015,0.5386655926704407,0.8272050023078918,0.8792384564876556,0.7828135043382645,0.6790908575057983,0.8750820979475975,0.8700517863035202,0.7602587938308716,0.7846465408802032,0.7985142171382904,0.7716710418462753,0.8154364377260208,0.611723929643631,0.8632000833749771,0.8499575704336166,0.8730559796094894,0.8377947211265564,0.8006539940834045,0.7447115182876587,0.8826495110988617,0.9140603989362716,0.8580743968486786,0.8726992756128311,0.8892971277236938,0.8422764390707016,0.8756569102406502,0.8639311343431473,0.9062357097864152,0.907923437654972,0.8618920147418976,0.894977018237114,0.8620789498090744,0.8176272660493851,0.8686442077159882,0.8540682345628738,0.8120199143886566,0.8118453472852707,0.8413787186145782,0.8578040450811386,0.8930151090025902,0.8959581926465034,0.8840274512767792,0.8440136015415192,0.90318663418293,0.8841017484664917,0.8998099863529205,0.891743890941143,0.9186750948429108,0.8810047060251236,0.9206121489405632,0.8761718198657036,0.874978706240654,0.9163393303751944,0.9118296429514884,0.8784526437520981,0.8964361250400543,0.9235577136278152,0.8454597443342209,0.8584483712911606,0.9169888347387314,0.7845678627490997,0.846998006105423,0.8834727928042412,0.8446122109889984,0.8711128830909729,0.7943001985549927,0.8929820880293846,0.9325337186455728,0.9010383859276772,0.8981733471155167,0.9186272248625756,0.903075821697712,0.8659854382276535,0.9109243750572203,0.8963849321007729,0.9115354269742966,0.8978145346045494,0.9024793952703476,0.8940183222293854,0.892487607896328,0.8977182134985924,0.8821360841393471,0.8999847695231438,0.8785903230309486,0.8739570379257202,0.9084580168128014,0.9231038764119148,0.910111017525196,0.8792240917682648,0.8843795508146286,0.8807345107197762,0.8999017849564552,0.8928640112280846,0.8905238583683968,0.9004242792725563,0.8945444151759148,0.8221934139728546,0.8793359473347664,0.8651715368032455,0.8988558650016785,0.8174966722726822,0.873576283454895,0.8949594125151634,0.810026153922081,0.8629767894744873,0.878140777349472,0.853498637676239,0.8740899413824081,0.9009140580892564,0.8743727207183838,0.9012336730957032,0.8871011659502983,0.9271033406257628,0.891226515173912,0.8738994598388672,0.9218787625432014,0.9070853143930436,0.915733776986599,0.933475747704506,0.9307968840003014,0.9304540604352952,0.9281191453337668,0.9261429533362388,0.932041361927986,0.921261303126812,0.933249682188034,0.7373613715171814,0.8808769732713699,0.8547745198011398,0.8959237039089203,0.8653005659580231,0.9057991355657578,0.8867600783705711,0.902055650949478,0.8725300431251526,0.8921748772263527,0.909056082367897,0.8506813943386078,0.8751287013292313,0.8974987417459488,0.8947506099939346,0.9098982438445092,0.7179100215435028,0.9040535241365432,0.9127085134387016,0.8851274624466896,0.8840484395623207,0.8967523872852325,0.9025842547416688,0.9112752676010132,0.8407808393239975,0.8910843804478645,0.8311008512973785,0.8820473551750183,0.856809601187706,0.8525334745645523,0.8722250759601593,0.8668415695428848,0.8955685645341873,0.8357684761285782,0.7914224117994308,0.8519960790872574,0.8653017431497574,0.8252644389867783,0.8053244650363922,0.8797915354371071,0.9021769762039183,0.8196951746940613,0.7325171828269958,0.8969635888934135,0.8649572134017944,0.7953484505414963,0.8392670303583145,0.8593857437372208,0.86014823615551,0.8566824793815613,0.8515362739562988,0.8772190511226654,0.8833524882793427,0.9034108147025108,0.8864978030323982,0.9124255999922752,0.8328983932733536,0.807032898068428,0.8204492181539536,0.8586791604757309,0.749243289232254,0.8466890454292297,0.8698282986879349,0.8866642042994499,0.8870983272790909,0.8532804101705551,0.8412356078624725,0.7492163777351379,0.8676591366529465,0.7576161324977875,0.6966645419597626,0.808404415845871,0.7523186355829239,0.8213269412517548,0.7552401423454285,0.8351558148860931,0.8731594532728195,0.8403903096914291,0.7801573127508163,0.8697549104690552,0.887379452586174,0.7892859429121017,0.8633246868848801,0.909802995622158,0.776392862200737,0.7189641892910004,0.8346226513385773,0.6771182417869568,0.8186536729335785,0.8567347079515457,0.7193290889263153,0.740344226360321,0.6654427945613861,0.363709032535553,0.4868918657302856,0.4459156990051269,0.6509616076946259,0.5646732747554779,0.7232365310192108,0.7778315246105194,0.7272956371307373,0.8335058689117432,0.8411435484886169,0.8373278230428696,0.7703638821840286,0.8771412298083305,0.6812261044979095,0.7704620510339737,0.828150600194931,0.8722326904535294,0.827458918094635,0.8314754664897919,0.8949444890022278,0.8785511553287506,0.8782868385314941,0.8904952555894852,0.7822741121053696,0.8904937207698822,0.9072453007102012,0.9053575322031976,0.897113747894764,0.8958351612091064,0.8972143158316612,0.8867807313799858,0.8030769675970078,0.8962483257055283,0.872222438454628,0.8974472656846046,0.8398018479347229,0.8781735301017761,0.8153803050518036,0.8440076112747192,0.8912832960486412,0.8410104513168335,0.8603595793247223,0.8113944381475449,0.5237787961959839,0.7991066724061966,0.7159026265144348,0.7860011607408524,0.8236341923475266,0.7400485575199127,0.8616705238819122,0.6177950799465179,0.7541846930980682,0.7635842561721802],\"yaxis\":\"y\",\"type\":\"scatter\"}],                        {\"template\":{\"data\":{\"histogram2dcontour\":[{\"type\":\"histogram2dcontour\",\"colorbar\":{\"outlinewidth\":0,\"ticks\":\"\"},\"colorscale\":[[0.0,\"#0d0887\"],[0.1111111111111111,\"#46039f\"],[0.2222222222222222,\"#7201a8\"],[0.3333333333333333,\"#9c179e\"],[0.4444444444444444,\"#bd3786\"],[0.5555555555555556,\"#d8576b\"],[0.6666666666666666,\"#ed7953\"],[0.7777777777777778,\"#fb9f3a\"],[0.8888888888888888,\"#fdca26\"],[1.0,\"#f0f921\"]]}],\"choropleth\":[{\"type\":\"choropleth\",\"colorbar\":{\"outlinewidth\":0,\"ticks\":\"\"}}],\"histogram2d\":[{\"type\":\"histogram2d\",\"colorbar\":{\"outlinewidth\":0,\"ticks\":\"\"},\"colorscale\":[[0.0,\"#0d0887\"],[0.1111111111111111,\"#46039f\"],[0.2222222222222222,\"#7201a8\"],[0.3333333333333333,\"#9c179e\"],[0.4444444444444444,\"#bd3786\"],[0.5555555555555556,\"#d8576b\"],[0.6666666666666666,\"#ed7953\"],[0.7777777777777778,\"#fb9f3a\"],[0.8888888888888888,\"#fdca26\"],[1.0,\"#f0f921\"]]}],\"heatmap\":[{\"type\":\"heatmap\",\"colorbar\":{\"outlinewidth\":0,\"ticks\":\"\"},\"colorscale\":[[0.0,\"#0d0887\"],[0.1111111111111111,\"#46039f\"],[0.2222222222222222,\"#7201a8\"],[0.3333333333333333,\"#9c179e\"],[0.4444444444444444,\"#bd3786\"],[0.5555555555555556,\"#d8576b\"],[0.6666666666666666,\"#ed7953\"],[0.7777777777777778,\"#fb9f3a\"],[0.8888888888888888,\"#fdca26\"],[1.0,\"#f0f921\"]]}],\"heatmapgl\":[{\"type\":\"heatmapgl\",\"colorbar\":{\"outlinewidth\":0,\"ticks\":\"\"},\"colorscale\":[[0.0,\"#0d0887\"],[0.1111111111111111,\"#46039f\"],[0.2222222222222222,\"#7201a8\"],[0.3333333333333333,\"#9c179e\"],[0.4444444444444444,\"#bd3786\"],[0.5555555555555556,\"#d8576b\"],[0.6666666666666666,\"#ed7953\"],[0.7777777777777778,\"#fb9f3a\"],[0.8888888888888888,\"#fdca26\"],[1.0,\"#f0f921\"]]}],\"contourcarpet\":[{\"type\":\"contourcarpet\",\"colorbar\":{\"outlinewidth\":0,\"ticks\":\"\"}}],\"contour\":[{\"type\":\"contour\",\"colorbar\":{\"outlinewidth\":0,\"ticks\":\"\"},\"colorscale\":[[0.0,\"#0d0887\"],[0.1111111111111111,\"#46039f\"],[0.2222222222222222,\"#7201a8\"],[0.3333333333333333,\"#9c179e\"],[0.4444444444444444,\"#bd3786\"],[0.5555555555555556,\"#d8576b\"],[0.6666666666666666,\"#ed7953\"],[0.7777777777777778,\"#fb9f3a\"],[0.8888888888888888,\"#fdca26\"],[1.0,\"#f0f921\"]]}],\"surface\":[{\"type\":\"surface\",\"colorbar\":{\"outlinewidth\":0,\"ticks\":\"\"},\"colorscale\":[[0.0,\"#0d0887\"],[0.1111111111111111,\"#46039f\"],[0.2222222222222222,\"#7201a8\"],[0.3333333333333333,\"#9c179e\"],[0.4444444444444444,\"#bd3786\"],[0.5555555555555556,\"#d8576b\"],[0.6666666666666666,\"#ed7953\"],[0.7777777777777778,\"#fb9f3a\"],[0.8888888888888888,\"#fdca26\"],[1.0,\"#f0f921\"]]}],\"mesh3d\":[{\"type\":\"mesh3d\",\"colorbar\":{\"outlinewidth\":0,\"ticks\":\"\"}}],\"scatter\":[{\"fillpattern\":{\"fillmode\":\"overlay\",\"size\":10,\"solidity\":0.2},\"type\":\"scatter\"}],\"parcoords\":[{\"type\":\"parcoords\",\"line\":{\"colorbar\":{\"outlinewidth\":0,\"ticks\":\"\"}}}],\"scatterpolargl\":[{\"type\":\"scatterpolargl\",\"marker\":{\"colorbar\":{\"outlinewidth\":0,\"ticks\":\"\"}}}],\"bar\":[{\"error_x\":{\"color\":\"#2a3f5f\"},\"error_y\":{\"color\":\"#2a3f5f\"},\"marker\":{\"line\":{\"color\":\"#E5ECF6\",\"width\":0.5},\"pattern\":{\"fillmode\":\"overlay\",\"size\":10,\"solidity\":0.2}},\"type\":\"bar\"}],\"scattergeo\":[{\"type\":\"scattergeo\",\"marker\":{\"colorbar\":{\"outlinewidth\":0,\"ticks\":\"\"}}}],\"scatterpolar\":[{\"type\":\"scatterpolar\",\"marker\":{\"colorbar\":{\"outlinewidth\":0,\"ticks\":\"\"}}}],\"histogram\":[{\"marker\":{\"pattern\":{\"fillmode\":\"overlay\",\"size\":10,\"solidity\":0.2}},\"type\":\"histogram\"}],\"scattergl\":[{\"type\":\"scattergl\",\"marker\":{\"colorbar\":{\"outlinewidth\":0,\"ticks\":\"\"}}}],\"scatter3d\":[{\"type\":\"scatter3d\",\"line\":{\"colorbar\":{\"outlinewidth\":0,\"ticks\":\"\"}},\"marker\":{\"colorbar\":{\"outlinewidth\":0,\"ticks\":\"\"}}}],\"scattermapbox\":[{\"type\":\"scattermapbox\",\"marker\":{\"colorbar\":{\"outlinewidth\":0,\"ticks\":\"\"}}}],\"scatterternary\":[{\"type\":\"scatterternary\",\"marker\":{\"colorbar\":{\"outlinewidth\":0,\"ticks\":\"\"}}}],\"scattercarpet\":[{\"type\":\"scattercarpet\",\"marker\":{\"colorbar\":{\"outlinewidth\":0,\"ticks\":\"\"}}}],\"carpet\":[{\"aaxis\":{\"endlinecolor\":\"#2a3f5f\",\"gridcolor\":\"white\",\"linecolor\":\"white\",\"minorgridcolor\":\"white\",\"startlinecolor\":\"#2a3f5f\"},\"baxis\":{\"endlinecolor\":\"#2a3f5f\",\"gridcolor\":\"white\",\"linecolor\":\"white\",\"minorgridcolor\":\"white\",\"startlinecolor\":\"#2a3f5f\"},\"type\":\"carpet\"}],\"table\":[{\"cells\":{\"fill\":{\"color\":\"#EBF0F8\"},\"line\":{\"color\":\"white\"}},\"header\":{\"fill\":{\"color\":\"#C8D4E3\"},\"line\":{\"color\":\"white\"}},\"type\":\"table\"}],\"barpolar\":[{\"marker\":{\"line\":{\"color\":\"#E5ECF6\",\"width\":0.5},\"pattern\":{\"fillmode\":\"overlay\",\"size\":10,\"solidity\":0.2}},\"type\":\"barpolar\"}],\"pie\":[{\"automargin\":true,\"type\":\"pie\"}]},\"layout\":{\"autotypenumbers\":\"strict\",\"colorway\":[\"#636efa\",\"#EF553B\",\"#00cc96\",\"#ab63fa\",\"#FFA15A\",\"#19d3f3\",\"#FF6692\",\"#B6E880\",\"#FF97FF\",\"#FECB52\"],\"font\":{\"color\":\"#2a3f5f\"},\"hovermode\":\"closest\",\"hoverlabel\":{\"align\":\"left\"},\"paper_bgcolor\":\"white\",\"plot_bgcolor\":\"#E5ECF6\",\"polar\":{\"bgcolor\":\"#E5ECF6\",\"angularaxis\":{\"gridcolor\":\"white\",\"linecolor\":\"white\",\"ticks\":\"\"},\"radialaxis\":{\"gridcolor\":\"white\",\"linecolor\":\"white\",\"ticks\":\"\"}},\"ternary\":{\"bgcolor\":\"#E5ECF6\",\"aaxis\":{\"gridcolor\":\"white\",\"linecolor\":\"white\",\"ticks\":\"\"},\"baxis\":{\"gridcolor\":\"white\",\"linecolor\":\"white\",\"ticks\":\"\"},\"caxis\":{\"gridcolor\":\"white\",\"linecolor\":\"white\",\"ticks\":\"\"}},\"coloraxis\":{\"colorbar\":{\"outlinewidth\":0,\"ticks\":\"\"}},\"colorscale\":{\"sequential\":[[0.0,\"#0d0887\"],[0.1111111111111111,\"#46039f\"],[0.2222222222222222,\"#7201a8\"],[0.3333333333333333,\"#9c179e\"],[0.4444444444444444,\"#bd3786\"],[0.5555555555555556,\"#d8576b\"],[0.6666666666666666,\"#ed7953\"],[0.7777777777777778,\"#fb9f3a\"],[0.8888888888888888,\"#fdca26\"],[1.0,\"#f0f921\"]],\"sequentialminus\":[[0.0,\"#0d0887\"],[0.1111111111111111,\"#46039f\"],[0.2222222222222222,\"#7201a8\"],[0.3333333333333333,\"#9c179e\"],[0.4444444444444444,\"#bd3786\"],[0.5555555555555556,\"#d8576b\"],[0.6666666666666666,\"#ed7953\"],[0.7777777777777778,\"#fb9f3a\"],[0.8888888888888888,\"#fdca26\"],[1.0,\"#f0f921\"]],\"diverging\":[[0,\"#8e0152\"],[0.1,\"#c51b7d\"],[0.2,\"#de77ae\"],[0.3,\"#f1b6da\"],[0.4,\"#fde0ef\"],[0.5,\"#f7f7f7\"],[0.6,\"#e6f5d0\"],[0.7,\"#b8e186\"],[0.8,\"#7fbc41\"],[0.9,\"#4d9221\"],[1,\"#276419\"]]},\"xaxis\":{\"gridcolor\":\"white\",\"linecolor\":\"white\",\"ticks\":\"\",\"title\":{\"standoff\":15},\"zerolinecolor\":\"white\",\"automargin\":true,\"zerolinewidth\":2},\"yaxis\":{\"gridcolor\":\"white\",\"linecolor\":\"white\",\"ticks\":\"\",\"title\":{\"standoff\":15},\"zerolinecolor\":\"white\",\"automargin\":true,\"zerolinewidth\":2},\"scene\":{\"xaxis\":{\"backgroundcolor\":\"#E5ECF6\",\"gridcolor\":\"white\",\"linecolor\":\"white\",\"showbackground\":true,\"ticks\":\"\",\"zerolinecolor\":\"white\",\"gridwidth\":2},\"yaxis\":{\"backgroundcolor\":\"#E5ECF6\",\"gridcolor\":\"white\",\"linecolor\":\"white\",\"showbackground\":true,\"ticks\":\"\",\"zerolinecolor\":\"white\",\"gridwidth\":2},\"zaxis\":{\"backgroundcolor\":\"#E5ECF6\",\"gridcolor\":\"white\",\"linecolor\":\"white\",\"showbackground\":true,\"ticks\":\"\",\"zerolinecolor\":\"white\",\"gridwidth\":2}},\"shapedefaults\":{\"line\":{\"color\":\"#2a3f5f\"}},\"annotationdefaults\":{\"arrowcolor\":\"#2a3f5f\",\"arrowhead\":0,\"arrowwidth\":1},\"geo\":{\"bgcolor\":\"white\",\"landcolor\":\"#E5ECF6\",\"subunitcolor\":\"white\",\"showland\":true,\"showlakes\":true,\"lakecolor\":\"white\"},\"title\":{\"x\":0.05},\"mapbox\":{\"style\":\"light\"}}},\"xaxis\":{\"anchor\":\"y\",\"domain\":[0.0,1.0],\"title\":{\"text\":\"Iterations\"}},\"yaxis\":{\"anchor\":\"x\",\"domain\":[0.0,1.0],\"title\":{\"text\":\"Training Explained Variance\"}},\"legend\":{\"tracegroupgap\":0},\"title\":{\"text\":\"Training Explained Variance vs Iterations\"}},                        {\"responsive\": true}                    ).then(function(){\n",
       "                            \n",
       "var gd = document.getElementById('5144a054-09f7-4ea3-822a-f561a4751f39');\n",
       "var x = new MutationObserver(function (mutations, observer) {{\n",
       "        var display = window.getComputedStyle(gd).display;\n",
       "        if (!display || display === 'none') {{\n",
       "            console.log([gd, 'removed!']);\n",
       "            Plotly.purge(gd);\n",
       "            observer.disconnect();\n",
       "        }}\n",
       "}});\n",
       "\n",
       "// Listen for the removal of the full notebook cells\n",
       "var notebookContainer = gd.closest('#notebook-container');\n",
       "if (notebookContainer) {{\n",
       "    x.observe(notebookContainer, {childList: true});\n",
       "}}\n",
       "\n",
       "// Listen for the clearing of the current output cell\n",
       "var outputEl = gd.closest('.output');\n",
       "if (outputEl) {{\n",
       "    x.observe(outputEl, {childList: true});\n",
       "}}\n",
       "\n",
       "                        })                };                });            </script>        </div>"
      ]
     },
     "metadata": {},
     "output_type": "display_data"
    }
   ],
   "source": [
    "fig = px.line(df, x='time/iterations', y='train/explained_variance', \n",
    "              title='Training Explained Variance vs Iterations',\n",
    "              labels={'time/iterations': 'Iterations', 'train/explained_variance': 'Training Explained Variance'})\n",
    "fig.show()"
   ]
  },
  {
   "cell_type": "markdown",
   "metadata": {},
   "source": [
    "# Policy Evaluation"
   ]
  },
  {
   "cell_type": "code",
   "execution_count": 14,
   "metadata": {},
   "outputs": [],
   "source": [
    "model = PPO.load(\"../Models/PPO/PPO_model_6\")"
   ]
  },
  {
   "cell_type": "code",
   "execution_count": 16,
   "metadata": {},
   "outputs": [
    {
     "name": "stdout",
     "output_type": "stream",
     "text": [
      "Mean Reward: 532.83 ± 266.25\n"
     ]
    }
   ],
   "source": [
    "num_eval_episodes = 100\n",
    "mean_reward, std_reward = evaluate_policy(model, env, n_eval_episodes=num_eval_episodes)\n",
    "print(f\"Mean Reward: {mean_reward:.2f} ± {std_reward:.2f}\")"
   ]
  },
  {
   "cell_type": "markdown",
   "metadata": {},
   "source": [
    "# Testing"
   ]
  },
  {
   "cell_type": "code",
   "execution_count": 18,
   "metadata": {},
   "outputs": [
    {
     "name": "stdout",
     "output_type": "stream",
     "text": [
      "Total reward: 312\n"
     ]
    }
   ],
   "source": [
    "model = PPO.load(\"../Models/PPO/PPO_model_6\")\n",
    "envir = TreasureHuntEnv(size=9, max_steps=200, lives=3, render_mode=\"human\")\n",
    "\n",
    "obs, _ = envir.reset()\n",
    "\n",
    "done = False\n",
    "total_reward = 0\n",
    "\n",
    "while not done:\n",
    "    action, _states = model.predict(obs, deterministic=True) \n",
    "    action = int(action)  \n",
    "    obs, reward, done, _, _ = envir.step(action)  \n",
    "    total_reward += reward\n",
    "    envir.render()  \n",
    "    time.sleep(0.3)\n",
    "env.close()\n",
    "print(f\"Total reward: {total_reward}\")"
   ]
  }
 ],
 "metadata": {
  "kernelspec": {
   "display_name": "base",
   "language": "python",
   "name": "python3"
  },
  "language_info": {
   "codemirror_mode": {
    "name": "ipython",
    "version": 3
   },
   "file_extension": ".py",
   "mimetype": "text/x-python",
   "name": "python",
   "nbconvert_exporter": "python",
   "pygments_lexer": "ipython3",
   "version": "3.12.7"
  }
 },
 "nbformat": 4,
 "nbformat_minor": 2
}
